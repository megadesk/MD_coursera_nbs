{
 "cells": [
  {
   "cell_type": "markdown",
   "metadata": {},
   "source": [
    "<img src=\"https://cf-courses-data.s3.us.cloud-object-storage.appdomain.cloud/IBMDeveloperSkillsNetwork-DL0120EN-SkillsNetwork/images/IDSN-logo.png\" width=\"300\" alt=\"cognitiveclass.ai logo\">\n",
    "\n",
    "<h1 align=\"center\"><font size=\"5\">RECURRENT NETWORKS and LSTM IN DEEP LEARNING</font></h1>\n"
   ]
  },
  {
   "cell_type": "markdown",
   "metadata": {},
   "source": [
    "Estimated time needed: **30** minutes\n"
   ]
  },
  {
   "cell_type": "markdown",
   "metadata": {},
   "source": [
    "<h2>Applying Recurrent Neural Networks/LSTM for Language Modeling</h2>\n",
    "Hello and welcome to this part. In this notebook, we will go over the topic of Language Modelling, and create a Recurrent Neural Network model based on the Long Short-Term Memory unit to train and benchmark on the Penn Treebank dataset. By the end of this notebook, you should be able to understand how TensorFlow builds and executes a RNN model for Language Modelling.\n"
   ]
  },
  {
   "cell_type": "markdown",
   "metadata": {},
   "source": [
    "<h2>The Objective</h2>\n",
    "By now, you should have an understanding of how Recurrent Networks work -- a specialized model to process sequential data by keeping track of the \"state\" or context. In this notebook, we go over a TensorFlow code snippet for creating a model focused on <b>Language Modelling</b> -- a very relevant task that is the cornerstone of many different linguistic problems such as <b>Speech Recognition, Machine Translation and Image Captioning</b>. For this, we will be using the Penn Treebank dataset, which is an often-used dataset for benchmarking Language Modelling models.\n"
   ]
  },
  {
   "cell_type": "markdown",
   "metadata": {},
   "source": [
    "\n",
    "<h2>Table of Contents</h2>\n",
    "<ol>\n",
    "    <li><a href=\"#language_modelling\">What exactly is Language Modelling?</a></li>\n",
    "    <li><a href=\"#treebank_dataset\">The Penn Treebank dataset</a></li>\n",
    "    <li><a href=\"#word_embedding\">Word Embedding</a></li>\n",
    "    <li><a href=\"#building_lstm_model\">Building the LSTM model for Language Modeling</a></li>\n",
    "    <li><a href=\"#ltsm\">LTSM</a></li>\n",
    "</ol>\n",
    "<p></p>\n",
    "</div>\n",
    "<br>\n"
   ]
  },
  {
   "cell_type": "markdown",
   "metadata": {},
   "source": [
    "--------\n"
   ]
  },
  {
   "cell_type": "markdown",
   "metadata": {},
   "source": [
    "<a id=\"language_modelling\"></a>\n",
    "<h2>What exactly is Language Modelling?</h2>\n",
    "Language Modelling, to put it simply, <b>is the task of assigning probabilities to sequences of words</b>. This means that, given a context of one or a sequence of words in the language the model was trained on, the model should provide the next most probable words or sequence of words that follows from the given sequence of words the sentence. Language Modelling is one of the most important tasks in Natural Language Processing.\n",
    "\n",
    "<img src=\"https://ibm.box.com/shared/static/1d1i5gub6wljby2vani2vzxp0xsph702.png\" width=\"1080\">\n",
    "<center><i>Example of a sentence being predicted</i></center>\n",
    "<br><br>\n",
    "In this example, one can see the predictions for the next word of a sentence, given the context \"This is an\". As you can see, this boils down to a sequential data analysis task -- you are given a word or a sequence of words (the input data), and, given the context (the state), you need to find out what is the next word (the prediction). This kind of analysis is very important for language-related tasks such as <b>Speech Recognition, Machine Translation, Image Captioning, Text Correction</b> and many other very relevant problems. \n",
    "\n",
    "<img src=\"https://ibm.box.com/shared/static/az39idf9ipfdpc5ugifpgxnydelhyf3i.png\" width=\"1080\">\n",
    "<center><i>The above example is a schema of an RNN in execution</i></center>\n",
    "<br><br>\n",
    "As the above image shows, Recurrent Network models fit this problem like a glove. Alongside LSTM and its capacity to maintain the model's state for over one thousand time steps, we have all the tools we need to undertake this problem. The goal for this notebook is to create a model that can reach <b>low levels of perplexity</b> on our desired dataset.\n",
    "\n",
    "For Language Modelling problems, <b>perplexity</b> is the way to gauge efficiency. Perplexity is simply a measure of how well a probabilistic model is able to predict its sample. A higher-level way to explain this would be saying that <b>low perplexity means a higher degree of trust in the predictions the model makes</b>. Therefore, the lower perplexity is, the better.\n"
   ]
  },
  {
   "cell_type": "markdown",
   "metadata": {},
   "source": [
    "<a id=\"treebank_dataset\"></a>\n",
    "<h2>The Penn Treebank dataset</h2>\n",
    "Historically, datasets big enough for Natural Language Processing are hard to come by. This is in part due to the necessity of the sentences to be broken down and tagged with a certain degree of correctness -- or else the models trained on it won't be able to be correct at all. This means that we need a <b>large amount of data, annotated by or at least corrected by humans</b>. This is, of course, not an easy task at all.\n",
    "\n",
    "The Penn Treebank, or PTB for short, is a dataset maintained by the University of Pennsylvania. It is <i>huge</i> -- there are over <b>four million and eight hundred thousand</b> annotated words in it, all corrected by humans. It is composed of many different sources, from abstracts of Department of Energy papers to texts from the Library of America. Since it is verifiably correct and of such a huge size, the Penn Treebank is commonly used as a benchmark dataset for Language Modelling.\n",
    "\n",
    "The dataset is divided in different kinds of annotations, such as Piece-of-Speech, Syntactic and Semantic skeletons. For this example, we will simply use a sample of clean, non-annotated words (with the exception of one tag --<code>&lt;unk&gt;</code>\n",
    ", which is used for rare words such as uncommon proper nouns) for our model. This means that we just want to predict what the next words would be, not what they mean in context or their classes on a given sentence.\n",
    "\n",
    "<center>Example of text from the dataset we are going to use, <b>ptb.train</b></center>\n",
    "<br><br>\n",
    "\n",
    "<div class=\"alert alert-block alert-info\" style=\"margin-top: 20px\">\n",
    "    <center>the percentage of lung cancer deaths among the workers at the west <code>&lt;unk&gt;</code> mass. paper factory appears to be the highest for any asbestos workers studied in western industrialized countries he said \n",
    " the plant which is owned by <code>&lt;unk&gt;</code> & <code>&lt;unk&gt;</code> co. was under contract with <code>&lt;unk&gt;</code> to make the cigarette filters \n",
    " the finding probably will support those who argue that the U.S. should regulate the class of asbestos including <code>&lt;unk&gt;</code> more <code>&lt;unk&gt;</code> than the common kind of asbestos <code>&lt;unk&gt;</code> found in most schools and other buildings dr. <code>&lt;unk&gt;</code> said</center>\n",
    "</div>\n"
   ]
  },
  {
   "cell_type": "markdown",
   "metadata": {},
   "source": [
    "<a id=\"word_embedding\"></a>\n",
    "<h2>Word Embeddings</h2><br/>\n",
    "\n",
    "For better processing, in this example, we will make use of <a href=\"https://www.tensorflow.org/tutorials/word2vec/?utm_medium=Exinfluencer&utm_source=Exinfluencer&utm_content=000026UJ&utm_term=10006555&utm_id=NA-SkillsNetwork-Channel-SkillsNetworkCoursesIBMDeveloperSkillsNetworkDL0120ENSkillsNetwork954-2023-01-01\"><b>word embeddings</b></a>, which is <b>a way of representing sentence structures or words as n-dimensional vectors (where n is a reasonably high number, such as 200 or 500) of real numbers</b>. Basically, we will assign each word a randomly-initialized vector, and input those into the network to be processed. After a number of iterations, these vectors are expected to assume values that help the network to correctly predict what it needs to -- in our case, the probable next word in the sentence. This is shown to be a very effective task in Natural Language Processing, and is a commonplace practice.\n",
    "<br><br>\n",
    "<font size=\"4\"><strong>\n",
    "$$Vec(\"Example\") = [0.02, 0.00, 0.00, 0.92, 0.30, \\ldots]$$\n",
    "</strong></font>\n",
    "<br>\n",
    "Word Embedding tends to group up similarly used words <i>reasonably</i> close together in the vectorial space. For example, if we use T-SNE (a dimensional reduction visualization algorithm) to flatten the dimensions of our vectors into a 2-dimensional space and plot these words in a 2-dimensional space, we might see something like this:\n",
    "\n",
    "<img src=\"https://ibm.box.com/shared/static/bqhc5dg879gcoabzhxra1w8rkg3od1cu.png\" width=\"800\">\n",
    "<center><i>T-SNE Mockup with clusters marked for easier visualization</i></center>\n",
    "<br><br>\n",
    "As you can see, words that are frequently used together, in place of each other, or in the same places as them tend to be grouped together -- being closer together the higher they are correlated. For example, \"None\" is pretty semantically close to \"Zero\", while a phrase that uses \"Italy\", you could probably also fit \"Germany\" in it, with little damage to the sentence structure. The vectorial \"closeness\" for similar words like this is a great indicator of a well-built model.\n",
    "\n",
    "<hr>\n",
    " \n"
   ]
  },
  {
   "cell_type": "markdown",
   "metadata": {},
   "source": [
    "We need to import the necessary modules for our code. We need <b><code>numpy</code></b> and <b><code>tensorflow</code></b>, obviously. Additionally, we can import directly the <b><code>tensorflow.models.rnn</code></b> model, which includes the function for building RNNs, and <b><code>tensorflow.models.rnn.ptb.reader</code></b> which is the helper module for getting the input data from the dataset we just downloaded.\n",
    "\n",
    "If you want to learn more take a look at https://github.com/tensorflow/models/blob/master/tutorials/rnn/ptb/reader.py\n"
   ]
  },
  {
   "cell_type": "code",
   "execution_count": 8,
   "metadata": {},
   "outputs": [
    {
     "name": "stdout",
     "output_type": "stream",
     "text": [
      "Requirement already satisfied: tensorflow==2.9.0 in /home/jupyterlab/conda/envs/python/lib/python3.7/site-packages (2.9.0)\n",
      "Requirement already satisfied: absl-py>=1.0.0 in /home/jupyterlab/conda/envs/python/lib/python3.7/site-packages (from tensorflow==2.9.0) (1.4.0)\n",
      "Requirement already satisfied: astunparse>=1.6.0 in /home/jupyterlab/conda/envs/python/lib/python3.7/site-packages (from tensorflow==2.9.0) (1.6.3)\n",
      "Requirement already satisfied: flatbuffers<2,>=1.12 in /home/jupyterlab/conda/envs/python/lib/python3.7/site-packages (from tensorflow==2.9.0) (1.12)\n",
      "Requirement already satisfied: gast<=0.4.0,>=0.2.1 in /home/jupyterlab/conda/envs/python/lib/python3.7/site-packages (from tensorflow==2.9.0) (0.4.0)\n",
      "Requirement already satisfied: google-pasta>=0.1.1 in /home/jupyterlab/conda/envs/python/lib/python3.7/site-packages (from tensorflow==2.9.0) (0.2.0)\n",
      "Requirement already satisfied: grpcio<2.0,>=1.24.3 in /home/jupyterlab/conda/envs/python/lib/python3.7/site-packages (from tensorflow==2.9.0) (1.48.1)\n",
      "Requirement already satisfied: h5py>=2.9.0 in /home/jupyterlab/conda/envs/python/lib/python3.7/site-packages (from tensorflow==2.9.0) (3.8.0)\n",
      "Requirement already satisfied: keras<2.10.0,>=2.9.0rc0 in /home/jupyterlab/conda/envs/python/lib/python3.7/site-packages (from tensorflow==2.9.0) (2.9.0)\n",
      "Requirement already satisfied: keras-preprocessing>=1.1.1 in /home/jupyterlab/conda/envs/python/lib/python3.7/site-packages (from tensorflow==2.9.0) (1.1.2)\n",
      "Requirement already satisfied: libclang>=13.0.0 in /home/jupyterlab/conda/envs/python/lib/python3.7/site-packages (from tensorflow==2.9.0) (16.0.6)\n",
      "Requirement already satisfied: numpy>=1.20 in /home/jupyterlab/conda/envs/python/lib/python3.7/site-packages (from tensorflow==2.9.0) (1.21.4)\n",
      "Requirement already satisfied: opt-einsum>=2.3.2 in /home/jupyterlab/conda/envs/python/lib/python3.7/site-packages (from tensorflow==2.9.0) (3.3.0)\n",
      "Requirement already satisfied: packaging in /home/jupyterlab/conda/envs/python/lib/python3.7/site-packages (from tensorflow==2.9.0) (23.1)\n",
      "Requirement already satisfied: protobuf>=3.9.2 in /home/jupyterlab/conda/envs/python/lib/python3.7/site-packages (from tensorflow==2.9.0) (3.19.6)\n",
      "Requirement already satisfied: setuptools in /home/jupyterlab/conda/envs/python/lib/python3.7/site-packages (from tensorflow==2.9.0) (67.7.2)\n",
      "Requirement already satisfied: six>=1.12.0 in /home/jupyterlab/conda/envs/python/lib/python3.7/site-packages (from tensorflow==2.9.0) (1.16.0)\n",
      "Requirement already satisfied: tensorboard<2.10,>=2.9 in /home/jupyterlab/conda/envs/python/lib/python3.7/site-packages (from tensorflow==2.9.0) (2.9.1)\n",
      "Requirement already satisfied: tensorflow-io-gcs-filesystem>=0.23.1 in /home/jupyterlab/conda/envs/python/lib/python3.7/site-packages (from tensorflow==2.9.0) (0.34.0)\n",
      "Requirement already satisfied: tensorflow-estimator<2.10.0,>=2.9.0rc0 in /home/jupyterlab/conda/envs/python/lib/python3.7/site-packages (from tensorflow==2.9.0) (2.9.0)\n",
      "Requirement already satisfied: termcolor>=1.1.0 in /home/jupyterlab/conda/envs/python/lib/python3.7/site-packages (from tensorflow==2.9.0) (2.3.0)\n",
      "Requirement already satisfied: typing-extensions>=3.6.6 in /home/jupyterlab/conda/envs/python/lib/python3.7/site-packages (from tensorflow==2.9.0) (4.5.0)\n",
      "Requirement already satisfied: wrapt>=1.11.0 in /home/jupyterlab/conda/envs/python/lib/python3.7/site-packages (from tensorflow==2.9.0) (1.14.1)\n",
      "Requirement already satisfied: wheel<1.0,>=0.23.0 in /home/jupyterlab/conda/envs/python/lib/python3.7/site-packages (from astunparse>=1.6.0->tensorflow==2.9.0) (0.40.0)\n",
      "Requirement already satisfied: google-auth<3,>=1.6.3 in /home/jupyterlab/conda/envs/python/lib/python3.7/site-packages (from tensorboard<2.10,>=2.9->tensorflow==2.9.0) (2.26.2)\n",
      "Requirement already satisfied: google-auth-oauthlib<0.5,>=0.4.1 in /home/jupyterlab/conda/envs/python/lib/python3.7/site-packages (from tensorboard<2.10,>=2.9->tensorflow==2.9.0) (0.4.6)\n",
      "Requirement already satisfied: markdown>=2.6.8 in /home/jupyterlab/conda/envs/python/lib/python3.7/site-packages (from tensorboard<2.10,>=2.9->tensorflow==2.9.0) (3.4.3)\n",
      "Requirement already satisfied: requests<3,>=2.21.0 in /home/jupyterlab/conda/envs/python/lib/python3.7/site-packages (from tensorboard<2.10,>=2.9->tensorflow==2.9.0) (2.29.0)\n",
      "Requirement already satisfied: tensorboard-data-server<0.7.0,>=0.6.0 in /home/jupyterlab/conda/envs/python/lib/python3.7/site-packages (from tensorboard<2.10,>=2.9->tensorflow==2.9.0) (0.6.1)\n",
      "Requirement already satisfied: tensorboard-plugin-wit>=1.6.0 in /home/jupyterlab/conda/envs/python/lib/python3.7/site-packages (from tensorboard<2.10,>=2.9->tensorflow==2.9.0) (1.8.1)\n",
      "Requirement already satisfied: werkzeug>=1.0.1 in /home/jupyterlab/conda/envs/python/lib/python3.7/site-packages (from tensorboard<2.10,>=2.9->tensorflow==2.9.0) (2.2.3)\n",
      "Requirement already satisfied: cachetools<6.0,>=2.0.0 in /home/jupyterlab/conda/envs/python/lib/python3.7/site-packages (from google-auth<3,>=1.6.3->tensorboard<2.10,>=2.9->tensorflow==2.9.0) (5.3.2)\n",
      "Requirement already satisfied: pyasn1-modules>=0.2.1 in /home/jupyterlab/conda/envs/python/lib/python3.7/site-packages (from google-auth<3,>=1.6.3->tensorboard<2.10,>=2.9->tensorflow==2.9.0) (0.3.0)\n",
      "Requirement already satisfied: rsa<5,>=3.1.4 in /home/jupyterlab/conda/envs/python/lib/python3.7/site-packages (from google-auth<3,>=1.6.3->tensorboard<2.10,>=2.9->tensorflow==2.9.0) (4.9)\n",
      "Requirement already satisfied: requests-oauthlib>=0.7.0 in /home/jupyterlab/conda/envs/python/lib/python3.7/site-packages (from google-auth-oauthlib<0.5,>=0.4.1->tensorboard<2.10,>=2.9->tensorflow==2.9.0) (1.3.1)\n",
      "Requirement already satisfied: importlib-metadata>=4.4 in /home/jupyterlab/conda/envs/python/lib/python3.7/site-packages (from markdown>=2.6.8->tensorboard<2.10,>=2.9->tensorflow==2.9.0) (4.11.4)\n",
      "Requirement already satisfied: charset-normalizer<4,>=2 in /home/jupyterlab/conda/envs/python/lib/python3.7/site-packages (from requests<3,>=2.21.0->tensorboard<2.10,>=2.9->tensorflow==2.9.0) (3.1.0)\n",
      "Requirement already satisfied: idna<4,>=2.5 in /home/jupyterlab/conda/envs/python/lib/python3.7/site-packages (from requests<3,>=2.21.0->tensorboard<2.10,>=2.9->tensorflow==2.9.0) (3.4)\n",
      "Requirement already satisfied: urllib3<1.27,>=1.21.1 in /home/jupyterlab/conda/envs/python/lib/python3.7/site-packages (from requests<3,>=2.21.0->tensorboard<2.10,>=2.9->tensorflow==2.9.0) (1.26.15)\n",
      "Requirement already satisfied: certifi>=2017.4.17 in /home/jupyterlab/conda/envs/python/lib/python3.7/site-packages (from requests<3,>=2.21.0->tensorboard<2.10,>=2.9->tensorflow==2.9.0) (2023.5.7)\n",
      "Requirement already satisfied: MarkupSafe>=2.1.1 in /home/jupyterlab/conda/envs/python/lib/python3.7/site-packages (from werkzeug>=1.0.1->tensorboard<2.10,>=2.9->tensorflow==2.9.0) (2.1.1)\n",
      "Requirement already satisfied: zipp>=0.5 in /home/jupyterlab/conda/envs/python/lib/python3.7/site-packages (from importlib-metadata>=4.4->markdown>=2.6.8->tensorboard<2.10,>=2.9->tensorflow==2.9.0) (3.15.0)\n",
      "Requirement already satisfied: pyasn1<0.6.0,>=0.4.6 in /home/jupyterlab/conda/envs/python/lib/python3.7/site-packages (from pyasn1-modules>=0.2.1->google-auth<3,>=1.6.3->tensorboard<2.10,>=2.9->tensorflow==2.9.0) (0.5.0)\n",
      "Requirement already satisfied: oauthlib>=3.0.0 in /home/jupyterlab/conda/envs/python/lib/python3.7/site-packages (from requests-oauthlib>=0.7.0->google-auth-oauthlib<0.5,>=0.4.1->tensorboard<2.10,>=2.9->tensorflow==2.9.0) (3.2.2)\n",
      "Requirement already satisfied: numpy==1.21.4 in /home/jupyterlab/conda/envs/python/lib/python3.7/site-packages (1.21.4)\n"
     ]
    }
   ],
   "source": [
    "!pip install tensorflow==2.9.0\n",
    "!pip install numpy==1.21.4\n"
   ]
  },
  {
   "cell_type": "code",
   "execution_count": 9,
   "metadata": {},
   "outputs": [],
   "source": [
    "import time\n",
    "import numpy as np\n",
    "import tensorflow as tf\n",
    "if not tf.__version__ == '2.9.0':\n",
    "    print(tf.__version__)\n",
    "    raise ValueError('please upgrade to TensorFlow 2.9.0, or restart your Kernel (Kernel->Restart & Clear Output)')"
   ]
  },
  {
   "cell_type": "markdown",
   "metadata": {},
   "source": [
    "IMPORTANT! => Please restart the kernel by clicking on \"Kernel\"->\"Restart and Clear Outout\" and wait until all output disapears. Then your changes are beeing picked up\n"
   ]
  },
  {
   "cell_type": "code",
   "execution_count": 10,
   "metadata": {},
   "outputs": [],
   "source": [
    "!mkdir data\n",
    "!mkdir data/ptb\n",
    "!wget -q -O data/ptb/reader.py https://cf-courses-data.s3.us.cloud-object-storage.appdomain.cloud/IBMDeveloperSkillsNetwork-DL0120EN-SkillsNetwork/labs/Week3/data/ptb/reader.py\n",
    "!cp data/ptb/reader.py .\n",
    "\n"
   ]
  },
  {
   "cell_type": "code",
   "execution_count": 11,
   "metadata": {},
   "outputs": [],
   "source": [
    "# Copyright 2015 The TensorFlow Authors. All Rights Reserved.\n",
    "#\n",
    "# Licensed under the Apache License, Version 2.0 (the \"License\");\n",
    "# you may not use this file except in compliance with the License.\n",
    "# You may obtain a copy of the License at\n",
    "#\n",
    "#     http://www.apache.org/licenses/LICENSE-2.0\n",
    "#\n",
    "# Unless required by applicable law or agreed to in writing, software\n",
    "# distributed under the License is distributed on an \"AS IS\" BASIS,\n",
    "# WITHOUT WARRANTIES OR CONDITIONS OF ANY KIND, either express or implied.\n",
    "# See the License for the specific language governing permissions and\n",
    "# limitations under the License.\n",
    "# ==============================================================================\n",
    "\n",
    "\n",
    "\"\"\"Utilities for parsing PTB text files.\"\"\"\n",
    "from __future__ import absolute_import\n",
    "from __future__ import division\n",
    "from __future__ import print_function\n",
    "\n",
    "import collections\n",
    "import os\n",
    "\n",
    "import numpy as np\n",
    "import tensorflow as tf\n",
    "\n",
    "\n",
    "def _read_words(filename):\n",
    "  with tf.io.gfile.GFile(filename, \"r\") as f:\n",
    "    return f.read().replace(\"\\n\", \"<eos>\").split()\n",
    "\n",
    "\n",
    "def _build_vocab(filename):\n",
    "  data = _read_words(filename)\n",
    "\n",
    "  counter = collections.Counter(data)\n",
    "  count_pairs = sorted(counter.items(), key=lambda x: (-x[1], x[0]))\n",
    "\n",
    "  words, _ = list(zip(*count_pairs))\n",
    "  word_to_id = dict(zip(words, range(len(words))))\n",
    "\n",
    "  return word_to_id\n",
    "\n",
    "\n",
    "def _file_to_word_ids(filename, word_to_id):\n",
    "  data = _read_words(filename)\n",
    "  return [word_to_id[word] for word in data if word in word_to_id]\n",
    "\n",
    "\n",
    "def ptb_raw_data(data_path=None):\n",
    "  \"\"\"Load PTB raw data from data directory \"data_path\".\n",
    "\n",
    "  Reads PTB text files, converts strings to integer ids,\n",
    "  and performs mini-batching of the inputs.\n",
    "\n",
    "  The PTB dataset comes from Tomas Mikolov's webpage:\n",
    "\n",
    "  http://www.fit.vutbr.cz/~imikolov/rnnlm/simple-examples.tgz\n",
    "\n",
    "  Args:\n",
    "    data_path: string path to the directory where simple-examples.tgz has\n",
    "      been extracted.\n",
    "\n",
    "  Returns:\n",
    "    tuple (train_data, valid_data, test_data, vocabulary)\n",
    "    where each of the data objects can be passed to PTBIterator.\n",
    "  \"\"\"\n",
    "\n",
    "  train_path = os.path.join(data_path, \"ptb.train.txt\")\n",
    "  valid_path = os.path.join(data_path, \"ptb.valid.txt\")\n",
    "  test_path = os.path.join(data_path, \"ptb.test.txt\")\n",
    "\n",
    "  word_to_id = _build_vocab(train_path)\n",
    "  train_data = _file_to_word_ids(train_path, word_to_id)\n",
    "  valid_data = _file_to_word_ids(valid_path, word_to_id)\n",
    "  test_data = _file_to_word_ids(test_path, word_to_id)\n",
    "  vocabulary = len(word_to_id)\n",
    "  return train_data, valid_data, test_data, vocabulary, word_to_id\n",
    "\n",
    "\n",
    "def ptb_iterator(raw_data, batch_size, num_steps):\n",
    "  \"\"\"Iterate on the raw PTB data.\n",
    "\n",
    "  This generates batch_size pointers into the raw PTB data, and allows\n",
    "  minibatch iteration along these pointers.\n",
    "\n",
    "  Args:\n",
    "    raw_data: one of the raw data outputs from ptb_raw_data.\n",
    "    batch_size: int, the batch size.\n",
    "    num_steps: int, the number of unrolls.\n",
    "\n",
    "  Yields:\n",
    "    Pairs of the batched data, each a matrix of shape [batch_size, num_steps].\n",
    "    The second element of the tuple is the same data time-shifted to the\n",
    "    right by one.\n",
    "\n",
    "  Raises:\n",
    "    ValueError: if batch_size or num_steps are too high.\n",
    "  \"\"\"\n",
    "  raw_data = np.array(raw_data, dtype=np.int32)\n",
    "\n",
    "  data_len = len(raw_data)\n",
    "  batch_len = data_len // batch_size\n",
    "  data = np.zeros([batch_size, batch_len], dtype=np.int32)\n",
    "  for i in range(batch_size):\n",
    "    data[i] = raw_data[batch_len * i:batch_len * (i + 1)]\n",
    "\n",
    "  epoch_size = (batch_len - 1) // num_steps\n",
    "\n",
    "  if epoch_size == 0:\n",
    "    raise ValueError(\"epoch_size == 0, decrease batch_size or num_steps\")\n",
    "\n",
    "  for i in range(epoch_size):\n",
    "    x = data[:, i*num_steps:(i+1)*num_steps]\n",
    "    y = data[:, i*num_steps+1:(i+1)*num_steps+1]\n",
    "    yield (x, y)"
   ]
  },
  {
   "cell_type": "markdown",
   "metadata": {},
   "source": [
    "<a id=\"building_lstm_model\"></a>\n",
    "<h2>Building the LSTM model for Language Modeling</h2>\n",
    "Now that we know exactly what we are doing, we can start building our model using TensorFlow. The very first thing we need to do is download and extract the <code>simple-examples</code> dataset, which can be done by executing the code cell below.\n"
   ]
  },
  {
   "cell_type": "code",
   "execution_count": 12,
   "metadata": {},
   "outputs": [
    {
     "name": "stdout",
     "output_type": "stream",
     "text": [
      "--2024-01-11 20:43:55--  http://www.fit.vutbr.cz/~imikolov/rnnlm/simple-examples.tgz\n",
      "Resolving www.fit.vutbr.cz (www.fit.vutbr.cz)... 147.229.9.23, 147.229.9.23\n",
      "Connecting to www.fit.vutbr.cz (www.fit.vutbr.cz)|147.229.9.23|:80... connected.\n",
      "HTTP request sent, awaiting response... 200 OK\n",
      "Length: 34869662 (33M) [application/x-gtar]\n",
      "Saving to: ‘simple-examples.tgz.1’\n",
      "\n",
      "simple-examples.tgz 100%[===================>]  33.25M  8.63MB/s    in 4.0s    \n",
      "\n",
      "2024-01-11 20:44:00 (8.24 MB/s) - ‘simple-examples.tgz.1’ saved [34869662/34869662]\n",
      "\n"
     ]
    }
   ],
   "source": [
    "!wget http://www.fit.vutbr.cz/~imikolov/rnnlm/simple-examples.tgz \n",
    "!tar xzf simple-examples.tgz -C data/"
   ]
  },
  {
   "cell_type": "markdown",
   "metadata": {},
   "source": [
    "Additionally, for the sake of making it easy to play around with the model's hyperparameters, we can declare them beforehand. Feel free to change these -- you will see a difference in performance each time you change those!  \n"
   ]
  },
  {
   "cell_type": "code",
   "execution_count": 13,
   "metadata": {},
   "outputs": [],
   "source": [
    "#Initial weight scale\n",
    "init_scale = 0.1\n",
    "#Initial learning rate\n",
    "learning_rate = 1.0\n",
    "#Maximum permissible norm for the gradient (For gradient clipping -- another measure against Exploding Gradients)\n",
    "max_grad_norm = 5\n",
    "#The number of layers in our model\n",
    "num_layers = 2\n",
    "#The total number of recurrence steps, also known as the number of layers when our RNN is \"unfolded\"\n",
    "num_steps = 20\n",
    "#The number of processing units (neurons) in the hidden layers\n",
    "hidden_size_l1 = 256\n",
    "hidden_size_l2 = 128\n",
    "#The maximum number of epochs trained with the initial learning rate\n",
    "max_epoch_decay_lr = 4\n",
    "#The total number of epochs in training\n",
    "max_epoch = 15\n",
    "#The probability for keeping data in the Dropout Layer (This is an optimization, but is outside our scope for this notebook!)\n",
    "#At 1, we ignore the Dropout Layer wrapping.\n",
    "keep_prob = 1\n",
    "#The decay for the learning rate\n",
    "decay = 0.5\n",
    "#The size for each batch of data\n",
    "batch_size = 30\n",
    "#The size of our vocabulary\n",
    "vocab_size = 10000\n",
    "embeding_vector_size= 200\n",
    "#Training flag to separate training from testing\n",
    "is_training = 1\n",
    "#Data directory for our dataset\n",
    "data_dir = \"data/simple-examples/data/\""
   ]
  },
  {
   "cell_type": "markdown",
   "metadata": {},
   "source": [
    "Some clarifications for LSTM architecture based on the arguments:\n",
    "\n",
    "Network structure:\n",
    "<ul>\n",
    "    <li>In this network, the number of LSTM cells are 2. To give the model more expressive power, we can add multiple layers of LSTMs to process the data. The output of the first layer will become the input of the second and so on.\n",
    "    </li>\n",
    "    <li>The recurrence steps is 20, that is, when our RNN is \"Unfolded\", the recurrence step is 20.</li>   \n",
    "    <li>the structure is like:\n",
    "        <ul>\n",
    "            <li>200 input units -> [200x200] Weight -> 200 Hidden units (first layer) -> [200x200] Weight matrix  -> 200 Hidden units (second layer) ->  [200] weight Matrix -> 200 unit output</li>\n",
    "        </ul>\n",
    "    </li>\n",
    "</ul>\n",
    "<br>\n",
    "\n",
    "Input layer: \n",
    "<ul>\n",
    "    <li>The network has 200 input units.</li>\n",
    "    <li>Suppose each word is represented by an embedding vector of dimensionality e=200. The input layer of each cell will have 200 linear units. These e=200 linear units are connected to each of the h=200 LSTM units in the hidden layer (assuming there is only one hidden layer, though our case has 2 layers).\n",
    "    </li>\n",
    "    <li>The input shape is [batch_size, num_steps], that is [30x20]. It will turn into [30x20x200] after embedding, and then 20x[30x200]\n",
    "    </li>\n",
    "</ul>\n",
    "<br>\n",
    "\n",
    "Hidden layer:\n",
    "<ul>\n",
    "    <li>Each LSTM has 200 hidden units which is equivalent to the dimensionality of the embedding words and output.</li>\n",
    "</ul>\n",
    "<br>\n"
   ]
  },
  {
   "cell_type": "markdown",
   "metadata": {},
   "source": [
    "There is a lot to be done and a ton of information to process at the same time, so go over this code slowly. It may seem complex at first, but if you try to apply what you just learned about language modelling to the code you see, you should be able to understand it.\n",
    "\n",
    "This code is adapted from the <a href=\"https://github.com/tensorflow/models\">PTBModel</a> example bundled with the TensorFlow source code.\n",
    "\n",
    "\n",
    "<h3>Training data</h3>\n",
    "The story starts from data:\n",
    "<ul>\n",
    "    <li>Train data is a list of words, of size 929589, represented by numbers, e.g. [9971, 9972, 9974, 9975,...]</li>\n",
    "    <li>We read data as mini-batch of size b=30. Assume the size of each sentence is 20 words (num_steps = 20). Then it will take $$floor(\\frac{N}{b \\times h})+1=1548$$ iterations for the learner to go through all sentences once. Where N is the size of the list of words, b is batch size, and h is size of each sentence. So, the number of iterators is 1548\n",
    "    </li>\n",
    "    <li>Each batch data is read from train dataset of size 600, and shape of [30x20]</li>\n",
    "</ul>\n"
   ]
  },
  {
   "cell_type": "code",
   "execution_count": 14,
   "metadata": {},
   "outputs": [],
   "source": [
    "# Reads the data and separates it into training data, validation data and testing data\n",
    "raw_data = ptb_raw_data(data_dir)\n",
    "train_data, valid_data, test_data, vocab, word_to_id = raw_data"
   ]
  },
  {
   "cell_type": "code",
   "execution_count": 15,
   "metadata": {},
   "outputs": [
    {
     "data": {
      "text/plain": [
       "929589"
      ]
     },
     "execution_count": 15,
     "metadata": {},
     "output_type": "execute_result"
    }
   ],
   "source": [
    "len(train_data)"
   ]
  },
  {
   "cell_type": "code",
   "execution_count": 16,
   "metadata": {},
   "outputs": [
    {
     "name": "stdout",
     "output_type": "stream",
     "text": [
      "['aer', 'banknote', 'berlitz', 'calloway', 'centrust', 'cluett', 'fromstein', 'gitano', 'guterman', 'hydro-quebec', 'ipo', 'kia', 'memotec', 'mlx', 'nahb', 'punts', 'rake', 'regatta', 'rubens', 'sim', 'snack-food', 'ssangyong', 'swapo', 'wachter', '<eos>', 'pierre', '<unk>', 'N', 'years', 'old', 'will', 'join', 'the', 'board', 'as', 'a', 'nonexecutive', 'director', 'nov.', 'N', '<eos>', 'mr.', '<unk>', 'is', 'chairman', 'of', '<unk>', 'n.v.', 'the', 'dutch', 'publishing', 'group', '<eos>', 'rudolph', '<unk>', 'N', 'years', 'old', 'and', 'former', 'chairman', 'of', 'consolidated', 'gold', 'fields', 'plc', 'was', 'named', 'a', 'nonexecutive', 'director', 'of', 'this', 'british', 'industrial', 'conglomerate', '<eos>', 'a', 'form', 'of', 'asbestos', 'once', 'used', 'to', 'make', 'kent', 'cigarette', 'filters', 'has', 'caused', 'a', 'high', 'percentage', 'of', 'cancer', 'deaths', 'among', 'a', 'group', 'of']\n"
     ]
    }
   ],
   "source": [
    "def id_to_word(id_list):\n",
    "    line = []\n",
    "    for w in id_list:\n",
    "        for word, wid in word_to_id.items():\n",
    "            if wid == w:\n",
    "                line.append(word)\n",
    "    return line            \n",
    "                \n",
    "\n",
    "print(id_to_word(train_data[0:100]))"
   ]
  },
  {
   "cell_type": "markdown",
   "metadata": {},
   "source": [
    "Lets just read one mini-batch now and feed our network:\n"
   ]
  },
  {
   "cell_type": "code",
   "execution_count": 17,
   "metadata": {},
   "outputs": [],
   "source": [
    "itera = ptb_iterator(train_data, batch_size, num_steps)\n",
    "first_touple = itera.__next__()\n",
    "_input_data = first_touple[0]\n",
    "_targets = first_touple[1]"
   ]
  },
  {
   "cell_type": "code",
   "execution_count": 18,
   "metadata": {},
   "outputs": [
    {
     "data": {
      "text/plain": [
       "(30, 20)"
      ]
     },
     "execution_count": 18,
     "metadata": {},
     "output_type": "execute_result"
    }
   ],
   "source": [
    "_input_data.shape"
   ]
  },
  {
   "cell_type": "code",
   "execution_count": 19,
   "metadata": {},
   "outputs": [
    {
     "data": {
      "text/plain": [
       "(30, 20)"
      ]
     },
     "execution_count": 19,
     "metadata": {},
     "output_type": "execute_result"
    }
   ],
   "source": [
    "_targets.shape"
   ]
  },
  {
   "cell_type": "markdown",
   "metadata": {},
   "source": [
    "Lets look at 3 sentences of our input x:\n"
   ]
  },
  {
   "cell_type": "code",
   "execution_count": 20,
   "metadata": {},
   "outputs": [
    {
     "data": {
      "text/plain": [
       "array([[9970, 9971, 9972, 9974, 9975, 9976, 9980, 9981, 9982, 9983, 9984,\n",
       "        9986, 9987, 9988, 9989, 9991, 9992, 9993, 9994, 9995],\n",
       "       [2654,    6,  334, 2886,    4,    1,  233,  711,  834,   11,  130,\n",
       "         123,    7,  514,    2,   63,   10,  514,    8,  605],\n",
       "       [   0, 1071,    4,    0,  185,   24,  368,   20,   31, 3109,  954,\n",
       "          12,    3,   21,    2, 2915,    2,   12,    3,   21]],\n",
       "      dtype=int32)"
      ]
     },
     "execution_count": 20,
     "metadata": {},
     "output_type": "execute_result"
    }
   ],
   "source": [
    "_input_data[0:3]"
   ]
  },
  {
   "cell_type": "code",
   "execution_count": 21,
   "metadata": {},
   "outputs": [
    {
     "name": "stdout",
     "output_type": "stream",
     "text": [
      "['aer', 'banknote', 'berlitz', 'calloway', 'centrust', 'cluett', 'fromstein', 'gitano', 'guterman', 'hydro-quebec', 'ipo', 'kia', 'memotec', 'mlx', 'nahb', 'punts', 'rake', 'regatta', 'rubens', 'sim']\n"
     ]
    }
   ],
   "source": [
    "print(id_to_word(_input_data[0,:]))"
   ]
  },
  {
   "cell_type": "markdown",
   "metadata": {},
   "source": [
    "<h3>Embeddings</h3>\n",
    "We have to convert the words in our dataset to vectors of numbers. The traditional approach is to use one-hot encoding method that is usually used for converting categorical values to numerical values. However, One-hot encoded vectors are high-dimensional, sparse and in a big dataset, computationally inefficient. So, we use word2vec approach. It is, in fact, a layer in our LSTM network, where the word IDs will be represented as a dense representation before feeding to the LSTM. \n",
    "\n",
    "The embedded vectors also get updated during the training process of the deep neural network.\n",
    "We create the embeddings for our input data. <b>embedding_vocab</b> is matrix of [10000x200] for all 10000 unique words.\n"
   ]
  },
  {
   "cell_type": "markdown",
   "metadata": {},
   "source": [
    "<b>embedding_lookup()</b> finds the embedded values for our batch of 30x20 words. It  goes to each row of <code>input_data</code>, and for each word in the row/sentence, finds the correspond vector in <code>embedding_dic<code>. <br>\n",
    "It creates a [30x20x200] tensor, so, the first element of <b>inputs</b> (the first sentence), is a matrix of 20x200, which each row of it, is vector representing a word in the sentence.\n"
   ]
  },
  {
   "cell_type": "code",
   "execution_count": 22,
   "metadata": {},
   "outputs": [],
   "source": [
    "embedding_layer = tf.keras.layers.Embedding(vocab_size, embeding_vector_size,batch_input_shape=(batch_size, num_steps),trainable=True,name=\"embedding_vocab\")  "
   ]
  },
  {
   "cell_type": "code",
   "execution_count": 23,
   "metadata": {},
   "outputs": [
    {
     "name": "stderr",
     "output_type": "stream",
     "text": [
      "2024-01-11 20:44:13.477262: W tensorflow/stream_executor/platform/default/dso_loader.cc:64] Could not load dynamic library 'libcuda.so.1'; dlerror: libcuda.so.1: cannot open shared object file: No such file or directory\n",
      "2024-01-11 20:44:13.477359: W tensorflow/stream_executor/cuda/cuda_driver.cc:269] failed call to cuInit: UNKNOWN ERROR (303)\n",
      "2024-01-11 20:44:13.477495: I tensorflow/stream_executor/cuda/cuda_diagnostics.cc:156] kernel driver does not appear to be running on this host (jupyterlab-benlewisbiol): /proc/driver/nvidia/version does not exist\n",
      "2024-01-11 20:44:13.478831: I tensorflow/core/platform/cpu_feature_guard.cc:193] This TensorFlow binary is optimized with oneAPI Deep Neural Network Library (oneDNN) to use the following CPU instructions in performance-critical operations:  AVX2 AVX512F AVX512_VNNI FMA\n",
      "To enable them in other operations, rebuild TensorFlow with the appropriate compiler flags.\n"
     ]
    },
    {
     "data": {
      "text/plain": [
       "<tf.Tensor: shape=(30, 20, 200), dtype=float32, numpy=\n",
       "array([[[-0.01018056, -0.04457369,  0.04141476, ..., -0.04239057,\n",
       "         -0.02675273,  0.04045517],\n",
       "        [ 0.04898692, -0.03347166,  0.04165697, ..., -0.00756479,\n",
       "         -0.04266879,  0.01040465],\n",
       "        [ 0.03272421,  0.01175227, -0.02486765, ..., -0.01826078,\n",
       "         -0.00731716,  0.00646812],\n",
       "        ...,\n",
       "        [-0.0427666 ,  0.04435885, -0.03176396, ...,  0.00900156,\n",
       "         -0.00128942, -0.02214841],\n",
       "        [ 0.01647088,  0.0244485 ,  0.02714828, ..., -0.00774954,\n",
       "         -0.02995275, -0.03612803],\n",
       "        [ 0.00977892,  0.00711228,  0.0431647 , ..., -0.04158757,\n",
       "         -0.01573182, -0.00322961]],\n",
       "\n",
       "       [[-0.01480336,  0.0062912 , -0.00582402, ..., -0.03992881,\n",
       "         -0.02250695, -0.02495958],\n",
       "        [-0.03568093, -0.01367702, -0.01256013, ...,  0.04731378,\n",
       "         -0.00719874, -0.02157844],\n",
       "        [ 0.01085571, -0.03648193, -0.00554342, ...,  0.01765558,\n",
       "         -0.01795508, -0.02037005],\n",
       "        ...,\n",
       "        [ 0.0424525 ,  0.04337725, -0.03416841, ..., -0.0145834 ,\n",
       "          0.00027857,  0.04874084],\n",
       "        [ 0.03348139,  0.03600681,  0.03249582, ...,  0.03780153,\n",
       "         -0.01808298,  0.01658524],\n",
       "        [ 0.00046615,  0.03538967, -0.03374708, ...,  0.00580175,\n",
       "          0.02062747,  0.00704125]],\n",
       "\n",
       "       [[-0.03627907,  0.0251745 , -0.00501555, ...,  0.0252176 ,\n",
       "          0.0002776 , -0.01683692],\n",
       "        [-0.00380947, -0.04986302, -0.03137201, ..., -0.03038651,\n",
       "          0.02630344, -0.01034925],\n",
       "        [ 0.01627475,  0.00782602, -0.0451766 , ..., -0.04417682,\n",
       "          0.01134232, -0.00670266],\n",
       "        ...,\n",
       "        [-0.01481223, -0.0494453 , -0.0088712 , ..., -0.0096451 ,\n",
       "         -0.01591554,  0.00972881],\n",
       "        [ 0.01731673, -0.0242185 , -0.02222028, ...,  0.01418258,\n",
       "         -0.00477983,  0.03222286],\n",
       "        [ 0.03474995,  0.01048442,  0.02691102, ..., -0.02639377,\n",
       "         -0.00296605, -0.01963398]],\n",
       "\n",
       "       ...,\n",
       "\n",
       "       [[-0.02472801, -0.0484686 ,  0.03534135, ..., -0.01122216,\n",
       "          0.02541513,  0.00755477],\n",
       "        [ 0.0236703 , -0.03902073, -0.02664696, ...,  0.04917647,\n",
       "         -0.02966878, -0.00352334],\n",
       "        [ 0.04785022,  0.02779711, -0.01788516, ...,  0.01385107,\n",
       "         -0.03218368,  0.02348174],\n",
       "        ...,\n",
       "        [-0.0164515 ,  0.01685591,  0.02772847, ..., -0.03748295,\n",
       "         -0.01335877,  0.00163945],\n",
       "        [ 0.04378268,  0.02992293, -0.02898817, ..., -0.04352827,\n",
       "         -0.04742006,  0.02418419],\n",
       "        [ 0.03207869,  0.04141363,  0.02150725, ..., -0.0479304 ,\n",
       "         -0.00036327,  0.02053838]],\n",
       "\n",
       "       [[ 0.01700744, -0.03042752,  0.04845797, ...,  0.00531938,\n",
       "          0.02176579,  0.00896315],\n",
       "        [ 0.02940891,  0.01939858, -0.01118662, ..., -0.04068757,\n",
       "          0.0236111 ,  0.00741309],\n",
       "        [ 0.01627475,  0.00782602, -0.0451766 , ..., -0.04417682,\n",
       "          0.01134232, -0.00670266],\n",
       "        ...,\n",
       "        [ 0.01705134,  0.00463086,  0.01895987, ..., -0.04313372,\n",
       "          0.00272761, -0.03140219],\n",
       "        [-0.03568093, -0.01367702, -0.01256013, ...,  0.04731378,\n",
       "         -0.00719874, -0.02157844],\n",
       "        [ 0.01489735, -0.01099866, -0.01600357, ..., -0.01430656,\n",
       "          0.00340345, -0.02183343]],\n",
       "\n",
       "       [[ 0.03270477,  0.04628586,  0.01880694, ..., -0.02247967,\n",
       "         -0.00118876,  0.04439763],\n",
       "        [ 0.03380949, -0.04211359,  0.03262867, ..., -0.00954004,\n",
       "         -0.01454648, -0.041254  ],\n",
       "        [-0.04165471, -0.02072486, -0.02579839, ...,  0.04939843,\n",
       "         -0.03669102, -0.04775728],\n",
       "        ...,\n",
       "        [-0.02095275, -0.00738846, -0.0288465 , ..., -0.01433928,\n",
       "         -0.01094434,  0.02980417],\n",
       "        [-0.040147  ,  0.03429328,  0.02411317, ..., -0.03123332,\n",
       "         -0.02964363, -0.01068096],\n",
       "        [-0.00183468,  0.00570823,  0.01708334, ..., -0.02225616,\n",
       "          0.03522816, -0.01375397]]], dtype=float32)>"
      ]
     },
     "execution_count": 23,
     "metadata": {},
     "output_type": "execute_result"
    }
   ],
   "source": [
    "# Define where to get the data for our embeddings from\n",
    "inputs = embedding_layer(_input_data)\n",
    "inputs"
   ]
  },
  {
   "cell_type": "markdown",
   "metadata": {},
   "source": [
    "<h3>Constructing Recurrent Neural Networks</h3>\n"
   ]
  },
  {
   "cell_type": "markdown",
   "metadata": {},
   "source": [
    "In this step, we create the stacked LSTM using <b>tf.keras.layers.StackedRNNCells</b>, which is a 2 layer LSTM network:\n"
   ]
  },
  {
   "cell_type": "code",
   "execution_count": 24,
   "metadata": {},
   "outputs": [],
   "source": [
    "lstm_cell_l1 = tf.keras.layers.LSTMCell(hidden_size_l1)\n",
    "lstm_cell_l2 = tf.keras.layers.LSTMCell(hidden_size_l2)"
   ]
  },
  {
   "cell_type": "code",
   "execution_count": 25,
   "metadata": {},
   "outputs": [],
   "source": [
    "stacked_lstm = tf.keras.layers.StackedRNNCells([lstm_cell_l1, lstm_cell_l2])"
   ]
  },
  {
   "cell_type": "markdown",
   "metadata": {},
   "source": [
    "<b>tf.keras.layers.RNN</b> creates a recurrent neural network using <b>stacked_lstm</b>. \n",
    "\n",
    "The input should be a Tensor of shape: [batch_size, max_time, embedding_vector_size], in our case it would be (30, 20, 200)\n"
   ]
  },
  {
   "cell_type": "code",
   "execution_count": 26,
   "metadata": {},
   "outputs": [],
   "source": [
    "layer  =  tf.keras.layers.RNN(stacked_lstm,[batch_size, num_steps],return_state=False,stateful=True,trainable=True)"
   ]
  },
  {
   "cell_type": "markdown",
   "metadata": {},
   "source": [
    "Also, we initialize the states of the nework:\n",
    "\n",
    "<h4>_initial_state</h4>\n",
    "\n",
    "For each LSTM, there are 2 state matrices, c\\_state and m\\_state.  c_state and m_state represent \"Memory State\" and \"Cell State\". Each hidden layer, has a vector of size 30, which keeps the states. so, for 200 hidden units in each LSTM, we have a matrix of size [30x200]\n"
   ]
  },
  {
   "cell_type": "code",
   "execution_count": 27,
   "metadata": {},
   "outputs": [],
   "source": [
    "init_state = tf.Variable(tf.zeros([batch_size,embeding_vector_size]),trainable=False)"
   ]
  },
  {
   "cell_type": "code",
   "execution_count": 28,
   "metadata": {},
   "outputs": [],
   "source": [
    "layer.inital_state = init_state"
   ]
  },
  {
   "cell_type": "code",
   "execution_count": 29,
   "metadata": {},
   "outputs": [
    {
     "data": {
      "text/plain": [
       "<tf.Variable 'Variable:0' shape=(30, 200) dtype=float32, numpy=\n",
       "array([[0., 0., 0., ..., 0., 0., 0.],\n",
       "       [0., 0., 0., ..., 0., 0., 0.],\n",
       "       [0., 0., 0., ..., 0., 0., 0.],\n",
       "       ...,\n",
       "       [0., 0., 0., ..., 0., 0., 0.],\n",
       "       [0., 0., 0., ..., 0., 0., 0.],\n",
       "       [0., 0., 0., ..., 0., 0., 0.]], dtype=float32)>"
      ]
     },
     "execution_count": 29,
     "metadata": {},
     "output_type": "execute_result"
    }
   ],
   "source": [
    "layer.inital_state"
   ]
  },
  {
   "cell_type": "markdown",
   "metadata": {},
   "source": [
    "so, lets look at the outputs. The output of the stackedLSTM comes from 128 hidden_layer, and in each time step(=20), one of them get activated. we use the linear activation to map the 128 hidden layer to a [30X20 matrix]\n"
   ]
  },
  {
   "cell_type": "code",
   "execution_count": 30,
   "metadata": {},
   "outputs": [],
   "source": [
    "outputs = layer(inputs)"
   ]
  },
  {
   "cell_type": "code",
   "execution_count": 31,
   "metadata": {},
   "outputs": [
    {
     "data": {
      "text/plain": [
       "<tf.Tensor: shape=(30, 20, 128), dtype=float32, numpy=\n",
       "array([[[-1.14415225e-03, -1.36601971e-04, -1.84241647e-03, ...,\n",
       "         -7.49069499e-04,  5.62980189e-04,  4.64240176e-04],\n",
       "        [-1.24789635e-03,  4.47205588e-04, -2.25775968e-03, ...,\n",
       "         -2.30323477e-03,  1.67382415e-03,  9.47210821e-04],\n",
       "        [-1.65520888e-03, -3.16585560e-04, -2.02954281e-03, ...,\n",
       "         -8.83965578e-04,  3.19935614e-03,  4.91278071e-04],\n",
       "        ...,\n",
       "        [-2.89483462e-03, -5.28967248e-05,  6.07772358e-03, ...,\n",
       "         -6.57461071e-03,  1.26481114e-03, -7.92824384e-03],\n",
       "        [-1.97528792e-03,  3.82511425e-05,  6.76865084e-03, ...,\n",
       "         -4.88660671e-03,  1.26519403e-03, -7.80169433e-03],\n",
       "        [-1.22919702e-03, -2.63916518e-05,  6.21696375e-03, ...,\n",
       "         -4.06487100e-03,  1.91679283e-03, -7.02173775e-03]],\n",
       "\n",
       "       [[-7.30636471e-04,  1.05485693e-03,  4.25091450e-04, ...,\n",
       "         -4.06163745e-04, -6.98530494e-05,  9.02269909e-04],\n",
       "        [-1.77553715e-03,  9.42809565e-04, -1.24553009e-03, ...,\n",
       "         -1.13232061e-03, -2.03715434e-04,  1.40915392e-03],\n",
       "        [-2.22988939e-03,  1.32776564e-03, -2.52245576e-03, ...,\n",
       "         -1.20055210e-03, -2.13969708e-03,  1.80187880e-03],\n",
       "        ...,\n",
       "        [-1.56861823e-03, -1.89779283e-04,  3.65090370e-03, ...,\n",
       "          2.22605467e-03,  2.59640720e-03, -4.13120026e-03],\n",
       "        [-3.02674994e-03, -1.43044384e-03,  4.15600464e-03, ...,\n",
       "          3.54255480e-03,  2.19441252e-03, -4.76070167e-03],\n",
       "        [-3.94030148e-03, -2.22744746e-03,  3.43516795e-03, ...,\n",
       "          3.16258147e-03,  1.50227407e-03, -5.70109487e-03]],\n",
       "\n",
       "       [[ 9.91661291e-05, -9.82124824e-04,  9.51250404e-05, ...,\n",
       "         -7.24316167e-04,  2.75346159e-04, -7.52313470e-04],\n",
       "        [-1.34914613e-03, -1.41076103e-03, -1.33363809e-03, ...,\n",
       "         -1.73299352e-03,  3.23127431e-04, -8.87051225e-04],\n",
       "        [-3.31730931e-03, -3.38955761e-05, -9.07782349e-04, ...,\n",
       "         -2.05650204e-03, -7.32642540e-04, -3.95698007e-04],\n",
       "        ...,\n",
       "        [ 3.39694147e-04, -2.87996983e-04,  1.00127200e-03, ...,\n",
       "          3.81026533e-04,  1.55118364e-03,  3.83191067e-03],\n",
       "        [-4.42620978e-04, -1.31345389e-03,  1.14939896e-04, ...,\n",
       "         -2.63178750e-04,  1.99263846e-03,  4.93152346e-03],\n",
       "        [-5.65246330e-04, -2.60974513e-03,  6.65580621e-04, ...,\n",
       "         -8.44488910e-04,  4.13992070e-03,  6.28849678e-03]],\n",
       "\n",
       "       ...,\n",
       "\n",
       "       [[ 2.35117390e-03, -1.17394549e-03,  1.01488165e-03, ...,\n",
       "          1.06489717e-03, -6.76005147e-04,  1.65715476e-03],\n",
       "        [ 3.59431584e-03, -1.38095266e-03,  2.80242274e-03, ...,\n",
       "          1.60380977e-03,  6.97074924e-04,  7.92466919e-04],\n",
       "        [ 3.55914957e-03,  8.72382720e-04,  3.82543728e-03, ...,\n",
       "          2.75205099e-03,  1.59228558e-03,  1.85193075e-03],\n",
       "        ...,\n",
       "        [ 1.23834622e-03, -1.38113403e-03, -2.73665949e-03, ...,\n",
       "          2.68381368e-03,  2.73579441e-04,  8.91408138e-03],\n",
       "        [ 1.71350350e-03, -1.31368323e-03, -2.50255642e-03, ...,\n",
       "          2.89991894e-03,  4.61891497e-04,  8.08602199e-03],\n",
       "        [ 1.63334887e-03, -3.41289473e-04, -2.84897024e-03, ...,\n",
       "          4.80445428e-03,  1.04416080e-03,  5.73912309e-03]],\n",
       "\n",
       "       [[ 1.32681438e-04,  6.81827078e-05,  8.55232298e-04, ...,\n",
       "         -4.90163104e-04,  1.65509991e-03, -3.96659569e-04],\n",
       "        [ 1.43956917e-03, -7.44067074e-04,  2.58955033e-03, ...,\n",
       "         -5.41778863e-04,  2.17893836e-03, -8.57545019e-05],\n",
       "        [ 9.65996354e-04,  2.66844843e-04,  4.31834534e-03, ...,\n",
       "         -6.62416627e-04,  1.42775918e-03,  7.49354018e-04],\n",
       "        ...,\n",
       "        [-5.97829698e-03,  3.22420336e-03, -1.17866660e-03, ...,\n",
       "          5.87224402e-03,  2.97289784e-03, -2.74768099e-03],\n",
       "        [-6.74151490e-03,  2.04117340e-03, -3.50517826e-03, ...,\n",
       "          4.85599367e-03,  3.69240413e-03, -4.15343232e-03],\n",
       "        [-6.16481900e-03,  9.44147061e-04, -5.74764051e-03, ...,\n",
       "          4.23845788e-03,  3.95099306e-03, -5.13195805e-03]],\n",
       "\n",
       "       [[ 3.24020133e-04,  5.92369761e-04,  4.44922480e-04, ...,\n",
       "         -1.17042182e-04,  1.22854195e-03,  1.46862131e-03],\n",
       "        [ 1.30315893e-03,  3.63377854e-04,  1.21129712e-03, ...,\n",
       "         -9.30412847e-04,  2.43169349e-03,  3.58143216e-03],\n",
       "        [ 1.24043482e-03, -7.95796688e-04,  1.40457484e-03, ...,\n",
       "         -1.97198847e-03,  2.93358043e-03,  4.12338506e-03],\n",
       "        ...,\n",
       "        [ 7.15358474e-04, -2.32857699e-03, -9.19665035e-04, ...,\n",
       "         -4.70093684e-03, -3.41444684e-04,  1.73924759e-03],\n",
       "        [-3.53168725e-04, -1.22950738e-03, -1.42335275e-03, ...,\n",
       "         -4.75641713e-03,  3.42842570e-04,  1.11664273e-03],\n",
       "        [-4.34678805e-04, -3.44132981e-03, -3.29415919e-03, ...,\n",
       "         -5.27503062e-03,  2.14474089e-03,  8.69296375e-04]]],\n",
       "      dtype=float32)>"
      ]
     },
     "execution_count": 31,
     "metadata": {},
     "output_type": "execute_result"
    }
   ],
   "source": [
    "outputs"
   ]
  },
  {
   "cell_type": "markdown",
   "metadata": {},
   "source": [
    "<h2>Dense layer</h2>\n",
    "We now create densely-connected neural network layer that would reshape the outputs tensor from  [30 x 20 x 128] to [30 x 20 x 10000].\n"
   ]
  },
  {
   "cell_type": "code",
   "execution_count": 32,
   "metadata": {},
   "outputs": [],
   "source": [
    "dense = tf.keras.layers.Dense(vocab_size)"
   ]
  },
  {
   "cell_type": "code",
   "execution_count": 33,
   "metadata": {},
   "outputs": [],
   "source": [
    "logits_outputs  = dense(outputs)"
   ]
  },
  {
   "cell_type": "code",
   "execution_count": 34,
   "metadata": {},
   "outputs": [
    {
     "name": "stdout",
     "output_type": "stream",
     "text": [
      "shape of the output from dense layer:  (30, 20, 10000)\n"
     ]
    }
   ],
   "source": [
    "print(\"shape of the output from dense layer: \", logits_outputs.shape) #(batch_size, sequence_length, vocab_size)"
   ]
  },
  {
   "cell_type": "markdown",
   "metadata": {},
   "source": [
    "<h2>Activation layer</h2>\n",
    "\n",
    "\n",
    "A softmax activation layers is also then applied to derive the probability of the output being in any of the multiclass(10000 in this case) possibilities. \n"
   ]
  },
  {
   "cell_type": "code",
   "execution_count": 35,
   "metadata": {},
   "outputs": [],
   "source": [
    "activation = tf.keras.layers.Activation('softmax')"
   ]
  },
  {
   "cell_type": "code",
   "execution_count": 36,
   "metadata": {},
   "outputs": [],
   "source": [
    "output_words_prob = activation(logits_outputs)"
   ]
  },
  {
   "cell_type": "code",
   "execution_count": 37,
   "metadata": {},
   "outputs": [
    {
     "name": "stdout",
     "output_type": "stream",
     "text": [
      "shape of the output from the activation layer:  (30, 20, 10000)\n"
     ]
    }
   ],
   "source": [
    "print(\"shape of the output from the activation layer: \", output_words_prob.shape) #(batch_size, sequence_length, vocab_size)"
   ]
  },
  {
   "cell_type": "markdown",
   "metadata": {},
   "source": [
    "Lets look at the probability of observing words for t=0 to t=20:\n"
   ]
  },
  {
   "cell_type": "code",
   "execution_count": 38,
   "metadata": {},
   "outputs": [
    {
     "name": "stdout",
     "output_type": "stream",
     "text": [
      "The probability of observing words in t=0 to t=20 tf.Tensor(\n",
      "[[9.99989134e-05 9.99952535e-05 1.00000827e-04 ... 9.99933036e-05\n",
      "  1.00006779e-04 1.00002566e-04]\n",
      " [9.99878830e-05 9.99926924e-05 1.00005163e-04 ... 9.99902986e-05\n",
      "  1.00007128e-04 1.00005229e-04]\n",
      " [9.99691474e-05 9.99892218e-05 1.00009129e-04 ... 9.99860058e-05\n",
      "  1.00016216e-04 1.00010882e-04]\n",
      " ...\n",
      " [1.00048455e-04 9.99198382e-05 9.99653566e-05 ... 1.00050172e-04\n",
      "  9.99608092e-05 1.00051446e-04]\n",
      " [1.00026664e-04 9.99324329e-05 9.99770855e-05 ... 1.00040153e-04\n",
      "  9.99821423e-05 1.00019075e-04]\n",
      " [1.00016099e-04 9.99665353e-05 1.00002289e-04 ... 1.00024161e-04\n",
      "  1.00006553e-04 1.00012265e-04]], shape=(20, 10000), dtype=float32)\n"
     ]
    }
   ],
   "source": [
    "print(\"The probability of observing words in t=0 to t=20\", output_words_prob[0,0:num_steps])"
   ]
  },
  {
   "cell_type": "markdown",
   "metadata": {},
   "source": [
    "<h3>Prediction</h3>\n",
    "What is the word correspond to the probability output? Lets use the maximum probability:\n"
   ]
  },
  {
   "cell_type": "code",
   "execution_count": 39,
   "metadata": {},
   "outputs": [
    {
     "data": {
      "text/plain": [
       "array([6038, 9839, 9839, 4591, 4387, 4591,  525,  525,  525,  525,  525,\n",
       "        525,  525, 3739, 6100, 6100, 6100, 2874, 4874, 2874])"
      ]
     },
     "execution_count": 39,
     "metadata": {},
     "output_type": "execute_result"
    }
   ],
   "source": [
    "np.argmax(output_words_prob[0,0:num_steps], axis=1)"
   ]
  },
  {
   "cell_type": "markdown",
   "metadata": {},
   "source": [
    "So, what is the ground truth for the first word of first sentence? You can get it from target tensor, if you want to find the embedding vector: \n"
   ]
  },
  {
   "cell_type": "code",
   "execution_count": 40,
   "metadata": {},
   "outputs": [
    {
     "data": {
      "text/plain": [
       "array([9971, 9972, 9974, 9975, 9976, 9980, 9981, 9982, 9983, 9984, 9986,\n",
       "       9987, 9988, 9989, 9991, 9992, 9993, 9994, 9995, 9996], dtype=int32)"
      ]
     },
     "execution_count": 40,
     "metadata": {},
     "output_type": "execute_result"
    }
   ],
   "source": [
    "_targets[0]"
   ]
  },
  {
   "cell_type": "markdown",
   "metadata": {},
   "source": [
    "<h4>Objective function</h4>\n",
    "\n",
    "\n",
    "How similar the predicted words are to the target words?\n",
    "\n",
    "\n",
    "Now we have to define our objective function, to calculate the similarity of predicted values to ground truth, and then, penalize the model with the error. Our objective is to minimize loss function, that is, to minimize the average negative log probability of the target words:\n",
    "\n",
    "$$\\text{loss} = -\\frac{1}{N}\\sum_{i=1}^{N} \\ln p_{\\text{target}_i}$$\n",
    "\n",
    "This function is already implemented and available in TensorFlow through *tf.keras.losses.sparse_categorical_crossentropy*. It calculates the categorical cross-entropy loss for <b>logits</b> and the <b>target</b> sequence.  \n",
    "\n",
    "The arguments of this function are:  \n",
    "<ul>\n",
    "    <li>logits: List of 2D Tensors of shape [batch_size x num_decoder_symbols].</li>  \n",
    "    <li>targets: List of 1D batch-sized int32 Tensors of the same length as logits.</li>   \n",
    "</ul>\n"
   ]
  },
  {
   "cell_type": "code",
   "execution_count": 41,
   "metadata": {},
   "outputs": [],
   "source": [
    "def crossentropy(y_true, y_pred):\n",
    "    return tf.keras.losses.sparse_categorical_crossentropy(y_true, y_pred)"
   ]
  },
  {
   "cell_type": "code",
   "execution_count": 42,
   "metadata": {},
   "outputs": [],
   "source": [
    "loss  = crossentropy(_targets, output_words_prob)"
   ]
  },
  {
   "cell_type": "markdown",
   "metadata": {},
   "source": [
    "Lets look at the first 10 values of loss:\n"
   ]
  },
  {
   "cell_type": "code",
   "execution_count": 43,
   "metadata": {},
   "outputs": [
    {
     "data": {
      "text/plain": [
       "<tf.Tensor: shape=(10,), dtype=float32, numpy=\n",
       "array([9.210259, 9.210204, 9.210541, 9.210436, 9.210632, 9.21    ,\n",
       "       9.211255, 9.210157, 9.211236, 9.210189], dtype=float32)>"
      ]
     },
     "execution_count": 43,
     "metadata": {},
     "output_type": "execute_result"
    }
   ],
   "source": [
    "loss[0,:10]"
   ]
  },
  {
   "cell_type": "markdown",
   "metadata": {},
   "source": [
    "Now, we define cost as average of the losses:\n"
   ]
  },
  {
   "cell_type": "code",
   "execution_count": 44,
   "metadata": {},
   "outputs": [
    {
     "data": {
      "text/plain": [
       "<tf.Tensor: shape=(), dtype=float32, numpy=184.20729>"
      ]
     },
     "execution_count": 44,
     "metadata": {},
     "output_type": "execute_result"
    }
   ],
   "source": [
    "cost = tf.reduce_sum(loss / batch_size)\n",
    "cost"
   ]
  },
  {
   "cell_type": "markdown",
   "metadata": {},
   "source": [
    "<h3>Training</h3>\n",
    "\n",
    "To do training for our network, we have to take the following steps:\n",
    "<ol>\n",
    "    <li>Define the optimizer.</li>\n",
    "    <li>Assemble layers to build model.</li>\n",
    "    <li>Calculate the gradients based on the loss function.</li>\n",
    "    <li>Apply the optimizer to the variables/gradients tuple.</li>\n",
    "</ol>\n"
   ]
  },
  {
   "cell_type": "markdown",
   "metadata": {},
   "source": [
    "<h4>1. Define Optimizer</h4>\n",
    "\n"
   ]
  },
  {
   "cell_type": "code",
   "execution_count": 45,
   "metadata": {},
   "outputs": [
    {
     "name": "stderr",
     "output_type": "stream",
     "text": [
      "/home/jupyterlab/conda/envs/python/lib/python3.7/site-packages/keras/optimizers/optimizer_v2/gradient_descent.py:108: UserWarning: The `lr` argument is deprecated, use `learning_rate` instead.\n",
      "  super(SGD, self).__init__(name, **kwargs)\n"
     ]
    }
   ],
   "source": [
    "# Create a variable for the learning rate\n",
    "lr = tf.Variable(0.0, trainable=False)\n",
    "optimizer = tf.keras.optimizers.SGD(lr=lr, clipnorm=max_grad_norm)"
   ]
  },
  {
   "cell_type": "markdown",
   "metadata": {},
   "source": [
    "<h4>2. Assemble layers to build model.</h4>\n"
   ]
  },
  {
   "cell_type": "code",
   "execution_count": 46,
   "metadata": {},
   "outputs": [
    {
     "name": "stdout",
     "output_type": "stream",
     "text": [
      "Model: \"sequential\"\n",
      "_________________________________________________________________\n",
      " Layer (type)                Output Shape              Param #   \n",
      "=================================================================\n",
      " embedding_vocab (Embedding)  (30, 20, 200)            2000000   \n",
      "                                                                 \n",
      " rnn (RNN)                   (30, 20, 128)             671088    \n",
      "                                                                 \n",
      " dense (Dense)               (30, 20, 10000)           1290000   \n",
      "                                                                 \n",
      " activation (Activation)     (30, 20, 10000)           0         \n",
      "                                                                 \n",
      "=================================================================\n",
      "Total params: 3,961,088\n",
      "Trainable params: 3,955,088\n",
      "Non-trainable params: 6,000\n",
      "_________________________________________________________________\n"
     ]
    }
   ],
   "source": [
    "model = tf.keras.Sequential()\n",
    "model.add(embedding_layer)\n",
    "model.add(layer)\n",
    "model.add(dense)\n",
    "model.add(activation)\n",
    "model.compile(loss=crossentropy, optimizer=optimizer)\n",
    "model.summary()"
   ]
  },
  {
   "cell_type": "markdown",
   "metadata": {},
   "source": [
    "\n",
    "<h4>2. Trainable Variables</h4>\n"
   ]
  },
  {
   "cell_type": "markdown",
   "metadata": {},
   "source": [
    "Defining a variable, if you passed <i>trainable=True</i>, the variable constructor automatically adds new variables to the graph collection <b>GraphKeys.TRAINABLE_VARIABLES</b>. Now, using <i>tf.trainable_variables()</i> you can get all variables created with <b>trainable=True</b>.\n"
   ]
  },
  {
   "cell_type": "code",
   "execution_count": 47,
   "metadata": {},
   "outputs": [],
   "source": [
    "# Get all TensorFlow variables marked as \"trainable\" (i.e. all of them except _lr, which we just created)\n",
    "tvars = model.trainable_variables"
   ]
  },
  {
   "cell_type": "markdown",
   "metadata": {},
   "source": [
    "Note: we can find the name and scope of all variables:\n"
   ]
  },
  {
   "cell_type": "code",
   "execution_count": 48,
   "metadata": {},
   "outputs": [
    {
     "data": {
      "text/plain": [
       "['embedding_vocab/embeddings:0',\n",
       " 'rnn/stacked_rnn_cells/lstm_cell/kernel:0',\n",
       " 'rnn/stacked_rnn_cells/lstm_cell/recurrent_kernel:0',\n",
       " 'rnn/stacked_rnn_cells/lstm_cell/bias:0',\n",
       " 'rnn/stacked_rnn_cells/lstm_cell_1/kernel:0',\n",
       " 'rnn/stacked_rnn_cells/lstm_cell_1/recurrent_kernel:0',\n",
       " 'rnn/stacked_rnn_cells/lstm_cell_1/bias:0',\n",
       " 'dense/kernel:0',\n",
       " 'dense/bias:0']"
      ]
     },
     "execution_count": 48,
     "metadata": {},
     "output_type": "execute_result"
    }
   ],
   "source": [
    "[v.name for v in tvars] "
   ]
  },
  {
   "cell_type": "markdown",
   "metadata": {},
   "source": [
    "<h4>3. Calculate the gradients based on the loss function</h4>\n"
   ]
  },
  {
   "cell_type": "markdown",
   "metadata": {},
   "source": [
    "**Gradient**: The gradient of a function is the slope of its derivative (line), or in other words, the rate of change of a function. It's a vector (a direction to move) that points in the direction of greatest increase of the function, and calculated by the <b>derivative</b> operation.\n"
   ]
  },
  {
   "cell_type": "markdown",
   "metadata": {},
   "source": [
    "First lets recall the gradient function using an toy example:\n",
    "$$ z = \\left(2x^2 + 3xy\\right)$$\n"
   ]
  },
  {
   "cell_type": "code",
   "execution_count": 49,
   "metadata": {},
   "outputs": [],
   "source": [
    "x = tf.constant(1.0)\n",
    "y =  tf.constant(2.0)\n",
    "with tf.GradientTape(persistent=True) as g:\n",
    "    g.watch(x)\n",
    "    g.watch(y)\n",
    "    func_test = 2 * x * x + 3 * x * y"
   ]
  },
  {
   "cell_type": "markdown",
   "metadata": {},
   "source": [
    "The <b>tf.gradients()</b> function allows you to compute the symbolic gradient of one tensor with respect to one or more other tensors—including variables. <b>tf.gradients(func, xs)</b> constructs symbolic partial derivatives of sum of <b>func</b> w.r.t. <i>x</i> in <b>xs</b>. \n",
    "\n",
    "Now, lets look at the derivitive w.r.t. <b>var_x</b>:\n",
    "$$ \\frac{\\partial \\:}{\\partial \\:x}\\left(2x^2 + 3xy\\right) = 4x + 3y $$\n"
   ]
  },
  {
   "cell_type": "code",
   "execution_count": 50,
   "metadata": {},
   "outputs": [
    {
     "name": "stdout",
     "output_type": "stream",
     "text": [
      "tf.Tensor(10.0, shape=(), dtype=float32)\n"
     ]
    }
   ],
   "source": [
    "var_grad = g.gradient(func_test, x) # Will compute to 10.0\n",
    "print(var_grad)"
   ]
  },
  {
   "cell_type": "markdown",
   "metadata": {},
   "source": [
    "the derivative w.r.t. <b>var_y</b>:\n",
    "$$ \\frac{\\partial \\:}{\\partial \\:y}\\left(2x^2 + 3xy\\right) = 3x $$\n"
   ]
  },
  {
   "cell_type": "code",
   "execution_count": 51,
   "metadata": {},
   "outputs": [
    {
     "name": "stdout",
     "output_type": "stream",
     "text": [
      "tf.Tensor(3.0, shape=(), dtype=float32)\n"
     ]
    }
   ],
   "source": [
    "var_grad = g.gradient(func_test, y) # Will compute to 3.0\n",
    "print(var_grad)"
   ]
  },
  {
   "cell_type": "markdown",
   "metadata": {},
   "source": [
    "Now, we can look at gradients w.r.t all variables:\n"
   ]
  },
  {
   "cell_type": "code",
   "execution_count": 52,
   "metadata": {},
   "outputs": [],
   "source": [
    "with tf.GradientTape() as tape:\n",
    "    # Forward pass.\n",
    "    output_words_prob = model(_input_data)\n",
    "    # Loss value for this batch.\n",
    "    loss  = crossentropy(_targets, output_words_prob)\n",
    "    cost = tf.reduce_sum(loss,axis=0) / batch_size"
   ]
  },
  {
   "cell_type": "code",
   "execution_count": 53,
   "metadata": {},
   "outputs": [],
   "source": [
    "# Get gradients of loss wrt the trainable variables.\n",
    "grad_t_list = tape.gradient(cost, tvars)"
   ]
  },
  {
   "cell_type": "code",
   "execution_count": 54,
   "metadata": {},
   "outputs": [
    {
     "name": "stdout",
     "output_type": "stream",
     "text": [
      "[<tensorflow.python.framework.indexed_slices.IndexedSlices object at 0x7f1dc0d3c610>, <tf.Tensor: shape=(200, 1024), dtype=float32, numpy=\n",
      "array([[ 5.4528709e-07, -1.1583959e-06,  3.3554608e-07, ...,\n",
      "        -4.9604289e-08, -2.2195388e-07, -5.0276145e-07],\n",
      "       [-8.3317622e-07,  1.6867547e-06, -5.9665655e-07, ...,\n",
      "        -1.9883299e-07,  7.5589547e-08, -3.1236837e-07],\n",
      "       [ 1.8106739e-08,  7.4730201e-07,  3.0593719e-07, ...,\n",
      "        -5.6437280e-08,  2.4068714e-07, -3.3837873e-07],\n",
      "       ...,\n",
      "       [ 5.7846012e-07, -2.5520191e-07, -1.1939288e-07, ...,\n",
      "        -2.3021977e-07,  2.6828070e-07,  2.0489921e-07],\n",
      "       [ 6.2485231e-07, -1.6928486e-06,  1.1156394e-06, ...,\n",
      "         1.0965577e-07,  2.0378549e-07,  1.9177105e-07],\n",
      "       [ 7.4074512e-07, -1.2250123e-06,  6.8427795e-08, ...,\n",
      "        -1.5088750e-07, -5.7117127e-08,  1.9676457e-07]], dtype=float32)>, <tf.Tensor: shape=(256, 1024), dtype=float32, numpy=\n",
      "array([[ 1.20085787e-07, -2.08016630e-07,  9.82968658e-08, ...,\n",
      "        -5.41073533e-08,  1.18024332e-07,  2.48605723e-08],\n",
      "       [ 5.06157249e-09,  1.46874100e-07,  1.74520363e-08, ...,\n",
      "        -7.14086212e-09, -1.17145120e-07,  5.22203045e-08],\n",
      "       [ 5.68065559e-08, -7.86763223e-08,  9.66941371e-08, ...,\n",
      "        -6.24529761e-10,  1.68583938e-07, -1.45149471e-07],\n",
      "       ...,\n",
      "       [-8.23772268e-08,  9.27016401e-08, -8.63120349e-08, ...,\n",
      "         3.39400827e-07,  1.79075130e-07, -1.26720693e-07],\n",
      "       [-4.77646864e-08,  2.41039970e-07, -8.65676029e-08, ...,\n",
      "         9.28918311e-08, -1.31517908e-09, -9.02233879e-08],\n",
      "       [ 8.44210319e-08,  1.34769522e-07, -1.14876556e-07, ...,\n",
      "        -5.55703750e-08, -1.11340455e-07,  8.14944485e-08]], dtype=float32)>, <tf.Tensor: shape=(1024,), dtype=float32, numpy=\n",
      "array([-5.7667858e-06,  2.8305863e-05, -1.0718221e-05, ...,\n",
      "        1.8085688e-05,  6.8556610e-06,  2.7260908e-06], dtype=float32)>, <tf.Tensor: shape=(256, 512), dtype=float32, numpy=\n",
      "array([[-2.2625885e-07, -9.9083088e-09,  1.0350499e-08, ...,\n",
      "        -1.9362480e-07, -2.7950242e-07, -1.1349654e-07],\n",
      "       [ 7.1273405e-08,  2.0145090e-07,  7.8491674e-08, ...,\n",
      "        -6.5989539e-08,  1.2979547e-07, -1.3162301e-07],\n",
      "       [ 7.0988300e-08, -1.5787782e-07, -3.2437487e-08, ...,\n",
      "        -1.8712126e-07,  1.2476846e-07,  3.4502126e-08],\n",
      "       ...,\n",
      "       [ 7.9024304e-08, -3.2854720e-07, -1.6077581e-07, ...,\n",
      "         3.4383760e-07, -4.7660137e-08,  6.5887804e-08],\n",
      "       [-1.7305258e-07,  8.7108504e-08,  5.2517990e-09, ...,\n",
      "         1.7961591e-07, -1.5821436e-07, -2.7531036e-07],\n",
      "       [-2.0654639e-07, -2.6071842e-07,  7.3487342e-08, ...,\n",
      "        -2.3525705e-07, -2.1406119e-07, -9.7793873e-08]], dtype=float32)>, <tf.Tensor: shape=(128, 512), dtype=float32, numpy=\n",
      "array([[-3.46303068e-07,  3.32523200e-08, -1.30399478e-08, ...,\n",
      "         7.01118736e-08,  1.35533668e-07, -1.01818067e-07],\n",
      "       [-1.44775612e-07,  3.37718802e-07, -3.06151975e-08, ...,\n",
      "        -1.72900329e-07,  1.15086301e-07, -8.75241355e-08],\n",
      "       [ 1.62335532e-08, -1.11808617e-07,  6.51839400e-08, ...,\n",
      "        -6.57635866e-08,  1.02778635e-07, -2.43877771e-08],\n",
      "       ...,\n",
      "       [-2.78795298e-08, -9.98230476e-08, -5.68208236e-08, ...,\n",
      "        -5.47736363e-07,  4.04876808e-08, -3.37737447e-08],\n",
      "       [-1.76153762e-07,  1.74552113e-07,  9.94366260e-08, ...,\n",
      "        -3.57980468e-07,  5.87065301e-07,  8.01352229e-09],\n",
      "       [-2.18869786e-07, -1.07464928e-07, -3.12802690e-08, ...,\n",
      "         5.37813349e-08,  1.79875279e-08, -1.70227068e-07]], dtype=float32)>, <tf.Tensor: shape=(512,), dtype=float32, numpy=\n",
      "array([ 1.40482261e-05,  1.31227962e-05,  1.88102495e-05,  3.04894347e-05,\n",
      "        2.97589868e-05, -1.32241366e-05,  3.29581144e-06,  5.34848368e-07,\n",
      "        2.51487345e-05,  2.48088054e-05, -3.42418425e-05, -5.55796396e-05,\n",
      "       -3.11126096e-05,  1.11727481e-04,  2.98530722e-05, -2.47695352e-05,\n",
      "       -2.48022116e-06, -3.63515210e-06, -1.33725562e-05, -6.10598509e-05,\n",
      "        1.67285507e-05,  1.32422001e-05, -1.70871263e-05, -2.92176665e-05,\n",
      "        4.91360261e-05, -2.90744356e-06,  4.53123648e-05, -6.67376480e-06,\n",
      "        5.94866906e-05,  9.10237941e-06,  1.84924447e-05,  1.78033788e-05,\n",
      "       -9.86781379e-06, -5.86994138e-05, -2.29010875e-05,  1.21241010e-06,\n",
      "       -8.09777885e-06, -3.50918272e-05, -2.19679623e-06,  2.68744516e-05,\n",
      "        4.52855602e-06, -2.63644488e-05, -1.01325131e-05,  8.02930390e-06,\n",
      "       -6.08104019e-05,  1.33656540e-05,  1.31665183e-06, -8.27521035e-06,\n",
      "       -1.53651763e-05,  1.52185057e-05, -1.72267792e-05,  3.25471956e-05,\n",
      "       -2.47020307e-05,  1.79042763e-06, -2.50027788e-05,  1.33415788e-05,\n",
      "        2.83681693e-05, -6.16164471e-05,  1.96038854e-05,  1.78098562e-05,\n",
      "        1.41369062e-04, -1.77776510e-05, -2.12909472e-05, -3.15167345e-05,\n",
      "        2.31803824e-05, -6.76938726e-07,  2.43149134e-05,  2.13188559e-05,\n",
      "       -3.95795214e-05,  4.39164705e-06,  1.37471152e-05,  3.76906246e-05,\n",
      "       -1.72617983e-05, -3.56139499e-05, -3.59066107e-05, -2.15162036e-05,\n",
      "        2.39325527e-06, -2.10353937e-05,  9.35518619e-05, -2.55500818e-05,\n",
      "        6.23860615e-05,  1.14117029e-05, -1.08164659e-05, -1.29246519e-06,\n",
      "       -1.65927104e-05,  3.42611202e-06, -2.40495247e-05,  4.93708467e-06,\n",
      "        1.41486335e-05, -3.53629875e-05, -3.23371714e-05, -4.74810531e-06,\n",
      "       -4.52889726e-05, -1.61730004e-05, -3.95172246e-05,  2.75662715e-05,\n",
      "       -8.60597356e-06,  3.27064918e-05,  1.61032585e-05, -3.08027047e-05,\n",
      "       -1.75282330e-05,  6.72523311e-06, -2.63974598e-05,  6.64188155e-06,\n",
      "       -6.75016963e-06,  6.60071746e-05,  5.32490703e-05,  3.38240352e-06,\n",
      "        5.10381142e-07, -1.91018808e-06, -8.21586727e-05, -2.25511849e-05,\n",
      "        2.35146636e-05, -1.33893104e-06,  4.44539364e-05, -2.50294433e-05,\n",
      "        5.03902338e-05,  4.19602547e-05,  5.61937995e-05,  4.43639728e-05,\n",
      "        2.74727718e-05,  6.83096778e-06, -1.84699074e-05, -3.65299311e-05,\n",
      "        2.26751217e-05, -3.22259621e-05,  4.08606757e-05, -6.87636111e-06,\n",
      "        3.74044175e-05,  4.33547320e-05,  1.93943779e-05,  4.06126273e-05,\n",
      "        2.60209090e-05, -5.02514886e-05,  6.36490449e-06,  1.00779580e-05,\n",
      "       -2.60264983e-06,  1.11683703e-05, -2.72847228e-05, -5.52692400e-05,\n",
      "       -3.73659204e-05,  1.71158390e-04,  9.51669062e-05, -5.34405408e-05,\n",
      "       -5.34256742e-06, -1.15618423e-05, -2.68239055e-05, -7.90772465e-05,\n",
      "        6.87852162e-06,  8.82584209e-06, -1.20064651e-05, -4.19819116e-05,\n",
      "        8.11932696e-05, -4.28170606e-05,  6.05411005e-05,  6.85285386e-06,\n",
      "        1.04818304e-04,  2.34400795e-05,  4.34317226e-05,  1.26058058e-06,\n",
      "       -1.99000569e-05, -6.52068557e-05, -2.41550351e-05, -4.91590981e-08,\n",
      "        5.46537376e-06, -5.37387095e-05, -2.82451547e-05,  4.22366757e-05,\n",
      "        1.21072590e-05, -1.29238224e-05, -4.72743704e-05,  2.90559619e-05,\n",
      "       -7.65251170e-05,  2.01393086e-05, -3.99234632e-05, -9.96377094e-06,\n",
      "       -3.02842927e-05,  2.33213759e-05,  5.99578925e-06,  1.76069516e-05,\n",
      "       -6.25631219e-05, -5.39743560e-05,  1.47706123e-05,  3.01239452e-05,\n",
      "        4.28007406e-05, -8.76279228e-05,  1.72043110e-05,  3.69611007e-05,\n",
      "        2.28737626e-04, -2.19909034e-05, -3.21410880e-05, -4.07983680e-05,\n",
      "        4.42504279e-05, -2.99371859e-05,  1.74529960e-05,  3.63507752e-05,\n",
      "       -3.01063083e-05,  2.56347557e-05,  1.30722765e-06,  5.39453358e-05,\n",
      "       -4.63085671e-05, -4.40108561e-05, -1.92511816e-05, -3.44182336e-05,\n",
      "       -2.42475562e-05,  1.29808177e-06,  1.29701948e-04, -1.69622981e-05,\n",
      "        7.97002285e-05,  2.16221633e-05, -8.27906115e-06, -1.26392524e-06,\n",
      "       -1.58352268e-05,  1.42415229e-06, -2.31612357e-05, -2.04998742e-05,\n",
      "        4.32700290e-07, -3.43111969e-05, -3.85402091e-05, -1.47676483e-05,\n",
      "       -8.54385726e-05,  2.32670209e-06, -4.64226796e-05,  1.15828630e-06,\n",
      "       -1.20179739e-05,  3.34735087e-05, -2.09627797e-05, -4.96505745e-05,\n",
      "       -1.10202072e-05,  3.56517630e-05, -3.24085922e-05, -3.70876796e-06,\n",
      "       -1.43537500e-05,  9.66695370e-05,  9.33579358e-05, -1.08311469e-05,\n",
      "       -1.61893895e-05, -1.03838865e-05, -1.18542928e-04, -4.56888592e-05,\n",
      "        2.10067301e-05, -3.70696966e-08,  7.55220753e-05, -3.99251294e-05,\n",
      "        3.89891648e-05,  5.00033493e-05,  6.72957685e-05,  7.41929834e-05,\n",
      "        3.97906479e-05,  3.49208058e-05, -3.40716178e-05, -5.33483617e-05,\n",
      "        2.15974233e-05, -4.59852818e-05,  6.31787552e-05, -2.17467405e-05,\n",
      "       -2.07041427e-02,  3.78423855e-02,  3.12231258e-02, -1.85112357e-02,\n",
      "        3.31947282e-02,  2.57063285e-03,  3.19376737e-02, -5.87516725e-02,\n",
      "       -2.00365502e-02, -7.52844848e-03, -7.00709689e-03,  2.38765329e-02,\n",
      "        2.86129769e-02,  4.09082621e-02, -8.27884674e-03, -2.26521194e-02,\n",
      "       -1.18248537e-02, -5.29019115e-03,  8.58681090e-03,  1.45574203e-02,\n",
      "        7.94205256e-03,  1.01803336e-02,  9.96394828e-03, -1.16594657e-02,\n",
      "       -1.01675004e-01,  2.28069816e-02, -1.75483152e-02,  4.09067869e-02,\n",
      "        5.74568287e-02,  2.57000849e-02,  2.06027851e-02,  6.49691559e-04,\n",
      "        1.42815961e-02,  5.05846590e-02, -1.71665493e-02,  2.22949646e-02,\n",
      "       -1.33032482e-02,  7.04270825e-02,  8.35294463e-03, -4.15469557e-02,\n",
      "       -1.32852048e-03,  6.47330424e-03,  4.17549536e-02,  5.22962362e-02,\n",
      "        1.47634642e-02, -1.39422435e-03,  7.09210485e-02, -2.24401895e-02,\n",
      "        9.84312128e-03, -1.48074776e-02,  6.24406431e-03, -1.28992265e-02,\n",
      "        4.47357297e-02,  2.21520755e-03, -1.34998634e-02, -1.17958058e-02,\n",
      "       -1.55465128e-02, -4.75817174e-02, -2.21551992e-02,  4.26386483e-03,\n",
      "        8.27064887e-02, -6.91472068e-02, -2.56454926e-02,  2.19930219e-03,\n",
      "        1.19445836e-02,  2.65289657e-02, -9.24048480e-03, -3.02042477e-02,\n",
      "        2.56528035e-02, -1.82149112e-02, -3.88845727e-02, -1.72226727e-02,\n",
      "        1.77854039e-02,  2.84472555e-02,  2.36673336e-02, -2.66934820e-02,\n",
      "        1.77305136e-02, -4.40381728e-02,  4.61862795e-02,  2.04579066e-02,\n",
      "       -3.84119526e-02,  7.28241820e-03, -1.04179829e-02, -9.95951332e-03,\n",
      "       -1.26287844e-02,  2.86523551e-02,  4.13784347e-02, -2.00108066e-02,\n",
      "       -5.58578316e-03, -3.16427611e-02, -2.45039333e-02, -3.09089236e-02,\n",
      "        1.60303134e-02, -1.05955210e-02, -4.83071506e-02, -7.05538504e-03,\n",
      "        1.22959623e-02,  3.88791692e-03, -3.54651846e-02,  4.12714332e-02,\n",
      "       -6.64786436e-03,  9.10275150e-04, -2.85560749e-02,  1.50711313e-02,\n",
      "       -5.81285693e-02, -2.48226821e-02,  1.97927058e-02,  6.65968377e-03,\n",
      "       -4.61223535e-04,  1.50408857e-02, -5.01119643e-02, -1.12620387e-02,\n",
      "        2.55567282e-02,  2.89940671e-03, -5.39529771e-02,  1.89796109e-02,\n",
      "        4.01636213e-02,  2.92980322e-03,  3.92121151e-02, -3.08290850e-02,\n",
      "        1.61405541e-02,  2.05307081e-03, -2.02586632e-02,  2.12292862e-03,\n",
      "       -1.33319944e-02, -5.62888086e-02,  2.13989709e-02, -7.52538443e-03,\n",
      "        2.41131365e-05,  6.47227716e-06,  2.02383453e-05,  3.72340292e-05,\n",
      "        3.63077961e-05, -2.18386795e-05,  1.00637590e-06,  9.65913841e-07,\n",
      "        2.89308591e-05,  1.95461089e-05, -4.01934303e-05, -6.63750252e-05,\n",
      "       -2.65620256e-05,  1.34102549e-04,  5.57721323e-05, -4.09301938e-05,\n",
      "       -4.26782753e-06,  3.07999653e-06, -2.40189038e-05, -6.46841945e-05,\n",
      "        1.74499419e-05,  1.85640365e-05, -2.96906583e-05, -3.15667603e-05,\n",
      "        6.07444272e-05, -2.22725921e-05,  4.93551051e-05,  2.73097066e-06,\n",
      "        6.61886661e-05,  3.57467434e-06,  1.68422521e-05,  2.38819612e-05,\n",
      "       -8.45757313e-06, -6.54950854e-05, -2.24251125e-05,  3.10613541e-06,\n",
      "       -1.39971808e-05, -2.97701517e-05, -3.04073183e-07,  3.68527617e-05,\n",
      "        7.75353874e-06, -2.76034443e-05, -1.57058639e-05,  1.43988682e-05,\n",
      "       -5.51812736e-05,  2.03827658e-05, -1.24712187e-07, -3.48911271e-06,\n",
      "       -1.66237805e-05,  1.04764658e-05, -2.09887130e-05,  3.23744935e-05,\n",
      "       -4.06772160e-05, -1.34920047e-05, -1.77664479e-05,  1.16957272e-05,\n",
      "        3.45724002e-05, -6.78557335e-05,  1.94260101e-05,  2.59598419e-05,\n",
      "        1.66151265e-04, -1.56574661e-05, -3.08765993e-05, -3.67516986e-05,\n",
      "        1.75333753e-05, -1.50801134e-06,  2.42101887e-05,  3.09067036e-05,\n",
      "       -3.82522448e-05,  6.02869522e-06,  5.50458117e-06,  3.71985770e-05,\n",
      "       -2.09217251e-05, -3.87291911e-05, -3.86638931e-05, -1.76992435e-05,\n",
      "       -4.67855898e-07, -1.61120697e-05,  1.01950449e-04, -2.42025108e-05,\n",
      "        8.31857760e-05,  1.87184341e-05, -1.06993530e-05, -2.39807059e-06,\n",
      "       -2.87884413e-05,  1.25714141e-05, -2.87486837e-05,  5.80311826e-06,\n",
      "        8.28947668e-06, -4.61218369e-05, -3.64740372e-05, -5.92874767e-06,\n",
      "       -6.47124762e-05, -5.43700662e-06, -4.36415794e-05,  2.68665844e-05,\n",
      "       -6.17577871e-06,  2.76172250e-05,  1.04979299e-05, -3.21901352e-05,\n",
      "       -1.52958473e-05,  1.26140631e-05, -1.83671327e-05, -3.68534347e-06,\n",
      "       -1.48823665e-05,  7.15576825e-05,  6.12491785e-05, -8.03327566e-07,\n",
      "       -7.34498417e-06,  4.40689109e-06, -8.40703942e-05, -2.70831842e-05,\n",
      "        3.55407719e-05, -2.93689754e-06,  4.28586172e-05, -2.52974642e-05,\n",
      "        5.68829018e-05,  4.52759268e-05,  5.33114471e-05,  6.04536544e-05,\n",
      "        4.18226191e-05,  9.05670822e-06, -2.42060505e-05, -3.31917618e-05,\n",
      "        1.99787282e-05, -3.69493828e-05,  5.25262440e-05, -4.36361688e-06],\n",
      "      dtype=float32)>, <tf.Tensor: shape=(128, 10000), dtype=float32, numpy=\n",
      "array([[-2.4498033e-04, -2.9430774e-04,  2.7040765e-04, ...,\n",
      "        -1.0836717e-06, -1.0822530e-06, -1.0836266e-06],\n",
      "       [-1.0191235e-03, -1.6992394e-04, -9.8163332e-04, ...,\n",
      "         1.5454322e-06,  1.5446831e-06,  1.5410764e-06],\n",
      "       [ 7.8337872e-04, -6.6404586e-04,  3.4066098e-04, ...,\n",
      "        -8.0851527e-07, -8.0840294e-07, -8.0941544e-07],\n",
      "       ...,\n",
      "       [ 7.0785190e-04,  3.0714669e-04, -8.7678840e-04, ...,\n",
      "         4.3205318e-08,  4.3114085e-08,  4.4448427e-08],\n",
      "       [-2.0843451e-03, -3.3560046e-03, -2.2326142e-03, ...,\n",
      "         4.2213387e-06,  4.2213937e-06,  4.2206871e-06],\n",
      "       [ 1.4653804e-03,  3.9708306e-04,  4.3046381e-04, ...,\n",
      "        -1.5014559e-06, -1.5026629e-06, -1.5020503e-06]], dtype=float32)>, <tf.Tensor: shape=(10000,), dtype=float32, numpy=\n",
      "array([-0.79799837, -1.031332  , -1.0313314 , ...,  0.00200018,\n",
      "        0.00200028,  0.00200016], dtype=float32)>]\n"
     ]
    }
   ],
   "source": [
    "print(grad_t_list)"
   ]
  },
  {
   "cell_type": "markdown",
   "metadata": {},
   "source": [
    "\n",
    "\n",
    "\n",
    "now, we have a list of tensors, t-list. We can use it to find clipped tensors. <b>clip_by_global_norm</b> clips values of multiple tensors by the ratio of the sum of their norms.\n",
    "\n",
    "<b>clip_by_global_norm</b> get <i>t-list</i> as input and returns 2 things:\n",
    "<ul>\n",
    "    <li>a list of clipped tensors, so called <i>list_clipped</i></li> \n",
    "    <li>the global norm (global_norm) of all tensors in t_list</li> \n",
    "</ul>\n"
   ]
  },
  {
   "cell_type": "code",
   "execution_count": 55,
   "metadata": {},
   "outputs": [
    {
     "data": {
      "text/plain": [
       "[<tensorflow.python.framework.indexed_slices.IndexedSlices at 0x7f1dc07fd410>,\n",
       " <tf.Tensor: shape=(200, 1024), dtype=float32, numpy=\n",
       " array([[ 5.4528709e-07, -1.1583959e-06,  3.3554608e-07, ...,\n",
       "         -4.9604289e-08, -2.2195388e-07, -5.0276145e-07],\n",
       "        [-8.3317622e-07,  1.6867547e-06, -5.9665655e-07, ...,\n",
       "         -1.9883299e-07,  7.5589547e-08, -3.1236837e-07],\n",
       "        [ 1.8106739e-08,  7.4730201e-07,  3.0593719e-07, ...,\n",
       "         -5.6437280e-08,  2.4068714e-07, -3.3837873e-07],\n",
       "        ...,\n",
       "        [ 5.7846012e-07, -2.5520191e-07, -1.1939288e-07, ...,\n",
       "         -2.3021977e-07,  2.6828070e-07,  2.0489921e-07],\n",
       "        [ 6.2485231e-07, -1.6928486e-06,  1.1156394e-06, ...,\n",
       "          1.0965577e-07,  2.0378549e-07,  1.9177105e-07],\n",
       "        [ 7.4074512e-07, -1.2250123e-06,  6.8427795e-08, ...,\n",
       "         -1.5088750e-07, -5.7117127e-08,  1.9676457e-07]], dtype=float32)>,\n",
       " <tf.Tensor: shape=(256, 1024), dtype=float32, numpy=\n",
       " array([[ 1.20085787e-07, -2.08016630e-07,  9.82968658e-08, ...,\n",
       "         -5.41073533e-08,  1.18024332e-07,  2.48605723e-08],\n",
       "        [ 5.06157249e-09,  1.46874100e-07,  1.74520363e-08, ...,\n",
       "         -7.14086212e-09, -1.17145120e-07,  5.22203045e-08],\n",
       "        [ 5.68065559e-08, -7.86763223e-08,  9.66941371e-08, ...,\n",
       "         -6.24529761e-10,  1.68583938e-07, -1.45149471e-07],\n",
       "        ...,\n",
       "        [-8.23772268e-08,  9.27016401e-08, -8.63120349e-08, ...,\n",
       "          3.39400827e-07,  1.79075130e-07, -1.26720693e-07],\n",
       "        [-4.77646864e-08,  2.41039970e-07, -8.65676029e-08, ...,\n",
       "          9.28918311e-08, -1.31517908e-09, -9.02233879e-08],\n",
       "        [ 8.44210319e-08,  1.34769522e-07, -1.14876556e-07, ...,\n",
       "         -5.55703750e-08, -1.11340455e-07,  8.14944485e-08]], dtype=float32)>,\n",
       " <tf.Tensor: shape=(1024,), dtype=float32, numpy=\n",
       " array([-5.7667858e-06,  2.8305863e-05, -1.0718221e-05, ...,\n",
       "         1.8085688e-05,  6.8556610e-06,  2.7260908e-06], dtype=float32)>,\n",
       " <tf.Tensor: shape=(256, 512), dtype=float32, numpy=\n",
       " array([[-2.2625885e-07, -9.9083088e-09,  1.0350499e-08, ...,\n",
       "         -1.9362480e-07, -2.7950242e-07, -1.1349654e-07],\n",
       "        [ 7.1273405e-08,  2.0145090e-07,  7.8491674e-08, ...,\n",
       "         -6.5989539e-08,  1.2979547e-07, -1.3162301e-07],\n",
       "        [ 7.0988300e-08, -1.5787782e-07, -3.2437487e-08, ...,\n",
       "         -1.8712126e-07,  1.2476846e-07,  3.4502126e-08],\n",
       "        ...,\n",
       "        [ 7.9024304e-08, -3.2854720e-07, -1.6077581e-07, ...,\n",
       "          3.4383760e-07, -4.7660137e-08,  6.5887804e-08],\n",
       "        [-1.7305258e-07,  8.7108504e-08,  5.2517990e-09, ...,\n",
       "          1.7961591e-07, -1.5821436e-07, -2.7531036e-07],\n",
       "        [-2.0654639e-07, -2.6071842e-07,  7.3487342e-08, ...,\n",
       "         -2.3525705e-07, -2.1406119e-07, -9.7793873e-08]], dtype=float32)>,\n",
       " <tf.Tensor: shape=(128, 512), dtype=float32, numpy=\n",
       " array([[-3.46303068e-07,  3.32523200e-08, -1.30399478e-08, ...,\n",
       "          7.01118736e-08,  1.35533668e-07, -1.01818067e-07],\n",
       "        [-1.44775612e-07,  3.37718802e-07, -3.06151975e-08, ...,\n",
       "         -1.72900329e-07,  1.15086301e-07, -8.75241355e-08],\n",
       "        [ 1.62335532e-08, -1.11808617e-07,  6.51839400e-08, ...,\n",
       "         -6.57635866e-08,  1.02778635e-07, -2.43877771e-08],\n",
       "        ...,\n",
       "        [-2.78795298e-08, -9.98230476e-08, -5.68208236e-08, ...,\n",
       "         -5.47736363e-07,  4.04876808e-08, -3.37737447e-08],\n",
       "        [-1.76153762e-07,  1.74552113e-07,  9.94366260e-08, ...,\n",
       "         -3.57980468e-07,  5.87065301e-07,  8.01352229e-09],\n",
       "        [-2.18869786e-07, -1.07464928e-07, -3.12802690e-08, ...,\n",
       "          5.37813349e-08,  1.79875279e-08, -1.70227068e-07]], dtype=float32)>,\n",
       " <tf.Tensor: shape=(512,), dtype=float32, numpy=\n",
       " array([ 1.40482261e-05,  1.31227962e-05,  1.88102495e-05,  3.04894347e-05,\n",
       "         2.97589868e-05, -1.32241366e-05,  3.29581144e-06,  5.34848368e-07,\n",
       "         2.51487345e-05,  2.48088054e-05, -3.42418425e-05, -5.55796396e-05,\n",
       "        -3.11126096e-05,  1.11727481e-04,  2.98530722e-05, -2.47695352e-05,\n",
       "        -2.48022116e-06, -3.63515210e-06, -1.33725562e-05, -6.10598509e-05,\n",
       "         1.67285507e-05,  1.32422001e-05, -1.70871263e-05, -2.92176665e-05,\n",
       "         4.91360261e-05, -2.90744356e-06,  4.53123648e-05, -6.67376480e-06,\n",
       "         5.94866906e-05,  9.10237941e-06,  1.84924447e-05,  1.78033788e-05,\n",
       "        -9.86781379e-06, -5.86994138e-05, -2.29010875e-05,  1.21241010e-06,\n",
       "        -8.09777885e-06, -3.50918272e-05, -2.19679623e-06,  2.68744516e-05,\n",
       "         4.52855602e-06, -2.63644488e-05, -1.01325131e-05,  8.02930390e-06,\n",
       "        -6.08104019e-05,  1.33656540e-05,  1.31665183e-06, -8.27521035e-06,\n",
       "        -1.53651763e-05,  1.52185057e-05, -1.72267792e-05,  3.25471956e-05,\n",
       "        -2.47020307e-05,  1.79042763e-06, -2.50027788e-05,  1.33415788e-05,\n",
       "         2.83681693e-05, -6.16164471e-05,  1.96038854e-05,  1.78098562e-05,\n",
       "         1.41369062e-04, -1.77776510e-05, -2.12909472e-05, -3.15167345e-05,\n",
       "         2.31803824e-05, -6.76938726e-07,  2.43149134e-05,  2.13188559e-05,\n",
       "        -3.95795214e-05,  4.39164705e-06,  1.37471152e-05,  3.76906246e-05,\n",
       "        -1.72617983e-05, -3.56139499e-05, -3.59066107e-05, -2.15162036e-05,\n",
       "         2.39325527e-06, -2.10353937e-05,  9.35518619e-05, -2.55500818e-05,\n",
       "         6.23860615e-05,  1.14117029e-05, -1.08164659e-05, -1.29246519e-06,\n",
       "        -1.65927104e-05,  3.42611202e-06, -2.40495247e-05,  4.93708467e-06,\n",
       "         1.41486335e-05, -3.53629875e-05, -3.23371714e-05, -4.74810531e-06,\n",
       "        -4.52889726e-05, -1.61730004e-05, -3.95172246e-05,  2.75662715e-05,\n",
       "        -8.60597356e-06,  3.27064918e-05,  1.61032585e-05, -3.08027047e-05,\n",
       "        -1.75282330e-05,  6.72523311e-06, -2.63974598e-05,  6.64188155e-06,\n",
       "        -6.75016963e-06,  6.60071746e-05,  5.32490703e-05,  3.38240352e-06,\n",
       "         5.10381142e-07, -1.91018808e-06, -8.21586727e-05, -2.25511849e-05,\n",
       "         2.35146636e-05, -1.33893104e-06,  4.44539364e-05, -2.50294433e-05,\n",
       "         5.03902338e-05,  4.19602547e-05,  5.61937995e-05,  4.43639728e-05,\n",
       "         2.74727718e-05,  6.83096778e-06, -1.84699074e-05, -3.65299311e-05,\n",
       "         2.26751217e-05, -3.22259621e-05,  4.08606757e-05, -6.87636111e-06,\n",
       "         3.74044175e-05,  4.33547320e-05,  1.93943779e-05,  4.06126273e-05,\n",
       "         2.60209090e-05, -5.02514886e-05,  6.36490449e-06,  1.00779580e-05,\n",
       "        -2.60264983e-06,  1.11683703e-05, -2.72847228e-05, -5.52692400e-05,\n",
       "        -3.73659204e-05,  1.71158390e-04,  9.51669062e-05, -5.34405408e-05,\n",
       "        -5.34256742e-06, -1.15618423e-05, -2.68239055e-05, -7.90772465e-05,\n",
       "         6.87852162e-06,  8.82584209e-06, -1.20064651e-05, -4.19819116e-05,\n",
       "         8.11932696e-05, -4.28170606e-05,  6.05411005e-05,  6.85285386e-06,\n",
       "         1.04818304e-04,  2.34400795e-05,  4.34317226e-05,  1.26058058e-06,\n",
       "        -1.99000569e-05, -6.52068557e-05, -2.41550351e-05, -4.91590981e-08,\n",
       "         5.46537376e-06, -5.37387095e-05, -2.82451547e-05,  4.22366757e-05,\n",
       "         1.21072590e-05, -1.29238224e-05, -4.72743704e-05,  2.90559619e-05,\n",
       "        -7.65251170e-05,  2.01393086e-05, -3.99234632e-05, -9.96377094e-06,\n",
       "        -3.02842927e-05,  2.33213759e-05,  5.99578925e-06,  1.76069516e-05,\n",
       "        -6.25631219e-05, -5.39743560e-05,  1.47706123e-05,  3.01239452e-05,\n",
       "         4.28007406e-05, -8.76279228e-05,  1.72043110e-05,  3.69611007e-05,\n",
       "         2.28737626e-04, -2.19909034e-05, -3.21410880e-05, -4.07983680e-05,\n",
       "         4.42504279e-05, -2.99371859e-05,  1.74529960e-05,  3.63507752e-05,\n",
       "        -3.01063083e-05,  2.56347557e-05,  1.30722765e-06,  5.39453358e-05,\n",
       "        -4.63085671e-05, -4.40108561e-05, -1.92511816e-05, -3.44182336e-05,\n",
       "        -2.42475562e-05,  1.29808177e-06,  1.29701948e-04, -1.69622981e-05,\n",
       "         7.97002285e-05,  2.16221633e-05, -8.27906115e-06, -1.26392524e-06,\n",
       "        -1.58352268e-05,  1.42415229e-06, -2.31612357e-05, -2.04998742e-05,\n",
       "         4.32700290e-07, -3.43111969e-05, -3.85402091e-05, -1.47676483e-05,\n",
       "        -8.54385726e-05,  2.32670209e-06, -4.64226796e-05,  1.15828630e-06,\n",
       "        -1.20179739e-05,  3.34735087e-05, -2.09627797e-05, -4.96505745e-05,\n",
       "        -1.10202072e-05,  3.56517630e-05, -3.24085922e-05, -3.70876796e-06,\n",
       "        -1.43537500e-05,  9.66695370e-05,  9.33579358e-05, -1.08311469e-05,\n",
       "        -1.61893895e-05, -1.03838865e-05, -1.18542928e-04, -4.56888592e-05,\n",
       "         2.10067301e-05, -3.70696966e-08,  7.55220753e-05, -3.99251294e-05,\n",
       "         3.89891648e-05,  5.00033493e-05,  6.72957685e-05,  7.41929834e-05,\n",
       "         3.97906479e-05,  3.49208058e-05, -3.40716178e-05, -5.33483617e-05,\n",
       "         2.15974233e-05, -4.59852818e-05,  6.31787552e-05, -2.17467405e-05,\n",
       "        -2.07041427e-02,  3.78423855e-02,  3.12231258e-02, -1.85112357e-02,\n",
       "         3.31947282e-02,  2.57063285e-03,  3.19376737e-02, -5.87516725e-02,\n",
       "        -2.00365502e-02, -7.52844848e-03, -7.00709689e-03,  2.38765329e-02,\n",
       "         2.86129769e-02,  4.09082621e-02, -8.27884674e-03, -2.26521194e-02,\n",
       "        -1.18248537e-02, -5.29019115e-03,  8.58681090e-03,  1.45574203e-02,\n",
       "         7.94205256e-03,  1.01803336e-02,  9.96394828e-03, -1.16594657e-02,\n",
       "        -1.01675004e-01,  2.28069816e-02, -1.75483152e-02,  4.09067869e-02,\n",
       "         5.74568287e-02,  2.57000849e-02,  2.06027851e-02,  6.49691559e-04,\n",
       "         1.42815961e-02,  5.05846590e-02, -1.71665493e-02,  2.22949646e-02,\n",
       "        -1.33032482e-02,  7.04270825e-02,  8.35294463e-03, -4.15469557e-02,\n",
       "        -1.32852048e-03,  6.47330424e-03,  4.17549536e-02,  5.22962362e-02,\n",
       "         1.47634642e-02, -1.39422435e-03,  7.09210485e-02, -2.24401895e-02,\n",
       "         9.84312128e-03, -1.48074776e-02,  6.24406431e-03, -1.28992265e-02,\n",
       "         4.47357297e-02,  2.21520755e-03, -1.34998634e-02, -1.17958058e-02,\n",
       "        -1.55465128e-02, -4.75817174e-02, -2.21551992e-02,  4.26386483e-03,\n",
       "         8.27064887e-02, -6.91472068e-02, -2.56454926e-02,  2.19930219e-03,\n",
       "         1.19445836e-02,  2.65289657e-02, -9.24048480e-03, -3.02042477e-02,\n",
       "         2.56528035e-02, -1.82149112e-02, -3.88845727e-02, -1.72226727e-02,\n",
       "         1.77854039e-02,  2.84472555e-02,  2.36673336e-02, -2.66934820e-02,\n",
       "         1.77305136e-02, -4.40381728e-02,  4.61862795e-02,  2.04579066e-02,\n",
       "        -3.84119526e-02,  7.28241820e-03, -1.04179829e-02, -9.95951332e-03,\n",
       "        -1.26287844e-02,  2.86523551e-02,  4.13784347e-02, -2.00108066e-02,\n",
       "        -5.58578316e-03, -3.16427611e-02, -2.45039333e-02, -3.09089236e-02,\n",
       "         1.60303134e-02, -1.05955210e-02, -4.83071506e-02, -7.05538504e-03,\n",
       "         1.22959623e-02,  3.88791692e-03, -3.54651846e-02,  4.12714332e-02,\n",
       "        -6.64786436e-03,  9.10275150e-04, -2.85560749e-02,  1.50711313e-02,\n",
       "        -5.81285693e-02, -2.48226821e-02,  1.97927058e-02,  6.65968377e-03,\n",
       "        -4.61223535e-04,  1.50408857e-02, -5.01119643e-02, -1.12620387e-02,\n",
       "         2.55567282e-02,  2.89940671e-03, -5.39529771e-02,  1.89796109e-02,\n",
       "         4.01636213e-02,  2.92980322e-03,  3.92121151e-02, -3.08290850e-02,\n",
       "         1.61405541e-02,  2.05307081e-03, -2.02586632e-02,  2.12292862e-03,\n",
       "        -1.33319944e-02, -5.62888086e-02,  2.13989709e-02, -7.52538443e-03,\n",
       "         2.41131365e-05,  6.47227716e-06,  2.02383453e-05,  3.72340292e-05,\n",
       "         3.63077961e-05, -2.18386795e-05,  1.00637590e-06,  9.65913841e-07,\n",
       "         2.89308591e-05,  1.95461089e-05, -4.01934303e-05, -6.63750252e-05,\n",
       "        -2.65620256e-05,  1.34102549e-04,  5.57721323e-05, -4.09301938e-05,\n",
       "        -4.26782753e-06,  3.07999653e-06, -2.40189038e-05, -6.46841945e-05,\n",
       "         1.74499419e-05,  1.85640365e-05, -2.96906583e-05, -3.15667603e-05,\n",
       "         6.07444272e-05, -2.22725921e-05,  4.93551051e-05,  2.73097066e-06,\n",
       "         6.61886661e-05,  3.57467434e-06,  1.68422521e-05,  2.38819612e-05,\n",
       "        -8.45757313e-06, -6.54950854e-05, -2.24251125e-05,  3.10613541e-06,\n",
       "        -1.39971808e-05, -2.97701517e-05, -3.04073183e-07,  3.68527617e-05,\n",
       "         7.75353874e-06, -2.76034443e-05, -1.57058639e-05,  1.43988682e-05,\n",
       "        -5.51812736e-05,  2.03827658e-05, -1.24712187e-07, -3.48911271e-06,\n",
       "        -1.66237805e-05,  1.04764658e-05, -2.09887130e-05,  3.23744935e-05,\n",
       "        -4.06772160e-05, -1.34920047e-05, -1.77664479e-05,  1.16957272e-05,\n",
       "         3.45724002e-05, -6.78557335e-05,  1.94260101e-05,  2.59598419e-05,\n",
       "         1.66151265e-04, -1.56574661e-05, -3.08765993e-05, -3.67516986e-05,\n",
       "         1.75333753e-05, -1.50801134e-06,  2.42101887e-05,  3.09067036e-05,\n",
       "        -3.82522448e-05,  6.02869522e-06,  5.50458117e-06,  3.71985770e-05,\n",
       "        -2.09217251e-05, -3.87291911e-05, -3.86638931e-05, -1.76992435e-05,\n",
       "        -4.67855898e-07, -1.61120697e-05,  1.01950449e-04, -2.42025108e-05,\n",
       "         8.31857760e-05,  1.87184341e-05, -1.06993530e-05, -2.39807059e-06,\n",
       "        -2.87884413e-05,  1.25714141e-05, -2.87486837e-05,  5.80311826e-06,\n",
       "         8.28947668e-06, -4.61218369e-05, -3.64740372e-05, -5.92874767e-06,\n",
       "        -6.47124762e-05, -5.43700662e-06, -4.36415794e-05,  2.68665844e-05,\n",
       "        -6.17577871e-06,  2.76172250e-05,  1.04979299e-05, -3.21901352e-05,\n",
       "        -1.52958473e-05,  1.26140631e-05, -1.83671327e-05, -3.68534347e-06,\n",
       "        -1.48823665e-05,  7.15576825e-05,  6.12491785e-05, -8.03327566e-07,\n",
       "        -7.34498417e-06,  4.40689109e-06, -8.40703942e-05, -2.70831842e-05,\n",
       "         3.55407719e-05, -2.93689754e-06,  4.28586172e-05, -2.52974642e-05,\n",
       "         5.68829018e-05,  4.52759268e-05,  5.33114471e-05,  6.04536544e-05,\n",
       "         4.18226191e-05,  9.05670822e-06, -2.42060505e-05, -3.31917618e-05,\n",
       "         1.99787282e-05, -3.69493828e-05,  5.25262440e-05, -4.36361688e-06],\n",
       "       dtype=float32)>,\n",
       " <tf.Tensor: shape=(128, 10000), dtype=float32, numpy=\n",
       " array([[-2.4498033e-04, -2.9430774e-04,  2.7040765e-04, ...,\n",
       "         -1.0836717e-06, -1.0822530e-06, -1.0836266e-06],\n",
       "        [-1.0191235e-03, -1.6992394e-04, -9.8163332e-04, ...,\n",
       "          1.5454322e-06,  1.5446831e-06,  1.5410764e-06],\n",
       "        [ 7.8337872e-04, -6.6404586e-04,  3.4066098e-04, ...,\n",
       "         -8.0851527e-07, -8.0840294e-07, -8.0941544e-07],\n",
       "        ...,\n",
       "        [ 7.0785190e-04,  3.0714669e-04, -8.7678840e-04, ...,\n",
       "          4.3205318e-08,  4.3114085e-08,  4.4448427e-08],\n",
       "        [-2.0843451e-03, -3.3560046e-03, -2.2326142e-03, ...,\n",
       "          4.2213387e-06,  4.2213937e-06,  4.2206871e-06],\n",
       "        [ 1.4653804e-03,  3.9708306e-04,  4.3046381e-04, ...,\n",
       "         -1.5014559e-06, -1.5026629e-06, -1.5020503e-06]], dtype=float32)>,\n",
       " <tf.Tensor: shape=(10000,), dtype=float32, numpy=\n",
       " array([-0.79799837, -1.031332  , -1.0313314 , ...,  0.00200018,\n",
       "         0.00200028,  0.00200016], dtype=float32)>]"
      ]
     },
     "execution_count": 55,
     "metadata": {},
     "output_type": "execute_result"
    }
   ],
   "source": [
    "# Define the gradient clipping threshold\n",
    "grads, _ = tf.clip_by_global_norm(grad_t_list, max_grad_norm)\n",
    "grads"
   ]
  },
  {
   "cell_type": "markdown",
   "metadata": {},
   "source": [
    "<h4> 4.Apply the optimizer to the variables/gradients tuple. </h4>\n"
   ]
  },
  {
   "cell_type": "code",
   "execution_count": 56,
   "metadata": {},
   "outputs": [],
   "source": [
    "# Create the training TensorFlow Operation through our optimizer\n",
    "train_op = optimizer.apply_gradients(zip(grads, tvars))"
   ]
  },
  {
   "cell_type": "markdown",
   "metadata": {},
   "source": [
    "<a id=\"ltsm\"></a>\n",
    "<h2>LSTM</h2>\n"
   ]
  },
  {
   "cell_type": "markdown",
   "metadata": {},
   "source": [
    "We learned how the model is build step by step. Noe, let's then create a Class that represents our model. This class needs a few things:\n",
    "<ul>\n",
    "    <li>We have to create the model in accordance with our defined hyperparameters</li>\n",
    "    <li>We have to create the LSTM cell structure and connect them with our RNN structure</li>\n",
    "    <li>We have to create the word embeddings and point them to the input data</li>\n",
    "    <li>We have to create the input structure for our RNN</li>\n",
    "    <li>We need to create a logistic structure to return the probability of our words</li>\n",
    "    <li>We need to create the loss and cost functions for our optimizer to work, and then create the optimizer</li>\n",
    "    <li>And finally, we need to create a training operation that can be run to actually train our model</li>\n",
    "</ul>\n"
   ]
  },
  {
   "cell_type": "code",
   "execution_count": 57,
   "metadata": {},
   "outputs": [],
   "source": [
    "class PTBModel(object):\n",
    "\n",
    "\n",
    "    def __init__(self):\n",
    "        ######################################\n",
    "        # Setting parameters for ease of use #\n",
    "        ######################################\n",
    "        self.batch_size = batch_size\n",
    "        self.num_steps = num_steps\n",
    "        self.hidden_size_l1 = hidden_size_l1\n",
    "        self.hidden_size_l2 = hidden_size_l2\n",
    "        self.vocab_size = vocab_size\n",
    "        self.embeding_vector_size = embeding_vector_size\n",
    "        # Create a variable for the learning rate\n",
    "        self._lr = 1.0\n",
    "        \n",
    "        ###############################################################################\n",
    "        # Initializing the model using keras Sequential API  #\n",
    "        ###############################################################################\n",
    "        \n",
    "        self._model = tf.keras.models.Sequential()\n",
    "        \n",
    "        ####################################################################\n",
    "        # Creating the word embeddings layer and adding it to the sequence #\n",
    "        ####################################################################\n",
    "        with tf.device(\"/cpu:0\"):\n",
    "            # Create the embeddings for our input data. Size is hidden size.\n",
    "            self._embedding_layer = tf.keras.layers.Embedding(self.vocab_size, self.embeding_vector_size,batch_input_shape=(self.batch_size, self.num_steps),trainable=True,name=\"embedding_vocab\")  #[10000x200]\n",
    "            self._model.add(self._embedding_layer)\n",
    "            \n",
    "\n",
    "        ##########################################################################\n",
    "        # Creating the LSTM cell structure and connect it with the RNN structure #\n",
    "        ##########################################################################\n",
    "        # Create the LSTM Cells. \n",
    "        # This creates only the structure for the LSTM and has to be associated with a RNN unit still.\n",
    "        # The argument  of LSTMCell is size of hidden layer, that is, the number of hidden units of the LSTM (inside A). \n",
    "        # LSTM cell processes one word at a time and computes probabilities of the possible continuations of the sentence.\n",
    "        lstm_cell_l1 = tf.keras.layers.LSTMCell(hidden_size_l1)\n",
    "        lstm_cell_l2 = tf.keras.layers.LSTMCell(hidden_size_l2)\n",
    "        \n",
    "\n",
    "        \n",
    "        # By taking in the LSTM cells as parameters, the StackedRNNCells function junctions the LSTM units to the RNN units.\n",
    "        # RNN cell composed sequentially of stacked simple cells.\n",
    "        stacked_lstm = tf.keras.layers.StackedRNNCells([lstm_cell_l1, lstm_cell_l2])\n",
    "\n",
    "\n",
    "        \n",
    "\n",
    "        ############################################\n",
    "        # Creating the input structure for our RNN #\n",
    "        ############################################\n",
    "        # Input structure is 20x[30x200]\n",
    "        # Considering each word is represended by a 200 dimentional vector, and we have 30 batchs, we create 30 word-vectors of size [30xx2000]\n",
    "        # The input structure is fed from the embeddings, which are filled in by the input data\n",
    "        # Feeding a batch of b sentences to a RNN:\n",
    "        # In step 1,  first word of each of the b sentences (in a batch) is input in parallel.  \n",
    "        # In step 2,  second word of each of the b sentences is input in parallel. \n",
    "        # The parallelism is only for efficiency.  \n",
    "        # Each sentence in a batch is handled in parallel, but the network sees one word of a sentence at a time and does the computations accordingly. \n",
    "        # All the computations involving the words of all sentences in a batch at a given time step are done in parallel. \n",
    "\n",
    "        ########################################################################################################\n",
    "        # Instantiating our RNN model and setting stateful to True to feed forward the state to the next layer #\n",
    "        ########################################################################################################\n",
    "        \n",
    "        self._RNNlayer  =  tf.keras.layers.RNN(stacked_lstm,[batch_size, num_steps],return_state=False,stateful=True,trainable=True)\n",
    "        \n",
    "        # Define the initial state, i.e., the model state for the very first data point\n",
    "        # It initialize the state of the LSTM memory. The memory state of the network is initialized with a vector of zeros and gets updated after reading each word.\n",
    "        self._initial_state = tf.Variable(tf.zeros([batch_size,embeding_vector_size]),trainable=False)\n",
    "        self._RNNlayer.inital_state = self._initial_state\n",
    "    \n",
    "        ############################################\n",
    "        # Adding RNN layer to keras sequential API #\n",
    "        ############################################        \n",
    "        self._model.add(self._RNNlayer)\n",
    "        \n",
    "        #self._model.add(tf.keras.layers.LSTM(hidden_size_l1,return_sequences=True,stateful=True))\n",
    "        #self._model.add(tf.keras.layers.LSTM(hidden_size_l2,return_sequences=True))\n",
    "        \n",
    "        \n",
    "        ####################################################################################################\n",
    "        # Instantiating a Dense layer that connects the output to the vocab_size  and adding layer to model#\n",
    "        ####################################################################################################\n",
    "        self._dense = tf.keras.layers.Dense(self.vocab_size)\n",
    "        self._model.add(self._dense)\n",
    " \n",
    "        \n",
    "        ####################################################################################################\n",
    "        # Adding softmax activation layer and deriving probability to each class and adding layer to model #\n",
    "        ####################################################################################################\n",
    "        self._activation = tf.keras.layers.Activation('softmax')\n",
    "        self._model.add(self._activation)\n",
    "\n",
    "        ##########################################################\n",
    "        # Instantiating the stochastic gradient decent optimizer #\n",
    "        ########################################################## \n",
    "        self._optimizer = tf.keras.optimizers.SGD(lr=self._lr, clipnorm=max_grad_norm)\n",
    "        \n",
    "        \n",
    "        ##############################################################################\n",
    "        # Compiling and summarizing the model stacked using the keras sequential API #\n",
    "        ##############################################################################\n",
    "        self._model.compile(loss=self.crossentropy, optimizer=self._optimizer)\n",
    "        self._model.summary()\n",
    "\n",
    "\n",
    "    def crossentropy(self,y_true, y_pred):\n",
    "        return tf.keras.losses.sparse_categorical_crossentropy(y_true, y_pred)\n",
    "\n",
    "    def train_batch(self,_input_data,_targets):\n",
    "        #################################################\n",
    "        # Creating the Training Operation for our Model #\n",
    "        #################################################\n",
    "        # Create a variable for the learning rate\n",
    "        self._lr = tf.Variable(0.0, trainable=False)\n",
    "        # Get all TensorFlow variables marked as \"trainable\" (i.e. all of them except _lr, which we just created)\n",
    "        tvars = self._model.trainable_variables\n",
    "        # Define the gradient clipping threshold\n",
    "        with tf.GradientTape() as tape:\n",
    "            # Forward pass.\n",
    "            output_words_prob = self._model(_input_data)\n",
    "            # Loss value for this batch.\n",
    "            loss  = self.crossentropy(_targets, output_words_prob)\n",
    "            # average across batch and reduce sum\n",
    "            cost = tf.reduce_sum(loss/ self.batch_size)\n",
    "        # Get gradients of loss wrt the trainable variables.\n",
    "        grad_t_list = tape.gradient(cost, tvars)\n",
    "        # Define the gradient clipping threshold\n",
    "        grads, _ = tf.clip_by_global_norm(grad_t_list, max_grad_norm)\n",
    "        # Create the training TensorFlow Operation through our optimizer\n",
    "        train_op = self._optimizer.apply_gradients(zip(grads, tvars))\n",
    "        return cost\n",
    "        \n",
    "    def test_batch(self,_input_data,_targets):\n",
    "        #################################################\n",
    "        # Creating the Testing Operation for our Model #\n",
    "        #################################################\n",
    "        output_words_prob = self._model(_input_data)\n",
    "        loss  = self.crossentropy(_targets, output_words_prob)\n",
    "        # average across batch and reduce sum\n",
    "        cost = tf.reduce_sum(loss/ self.batch_size)\n",
    "\n",
    "        return cost\n",
    "    @classmethod\n",
    "    def instance(cls) : \n",
    "        return PTBModel()"
   ]
  },
  {
   "cell_type": "markdown",
   "metadata": {},
   "source": [
    "With that, the actual structure of our Recurrent Neural Network with Long Short-Term Memory is finished. What remains for us to do is to actually create the methods to run through time -- that is, the <code>run_epoch</code> method to be run at each epoch and a <code>main</code> script which ties all of this together.\n",
    "\n",
    "What our <code>run_epoch</code> method should do is take our input data and feed it to the relevant operations. This will return at the very least the current result for the cost function.\n"
   ]
  },
  {
   "cell_type": "code",
   "execution_count": 58,
   "metadata": {},
   "outputs": [],
   "source": [
    "\n",
    "########################################################################################################################\n",
    "# run_one_epoch takes as parameters  the model instance, the data to be fed, training or testing mode and verbose info #\n",
    "########################################################################################################################\n",
    "def run_one_epoch(m, data,is_training=True,verbose=False):\n",
    "\n",
    "    #Define the epoch size based on the length of the data, batch size and the number of steps\n",
    "    epoch_size = ((len(data) // m.batch_size) - 1) // m.num_steps\n",
    "    start_time = time.time()\n",
    "    costs = 0.\n",
    "    iters = 0\n",
    "    \n",
    "    m._model.reset_states()\n",
    "    \n",
    "    #For each step and data point\n",
    "    for step, (x, y) in enumerate(ptb_iterator(data, m.batch_size, m.num_steps)):\n",
    "        \n",
    "        #Evaluate and return cost, state by running cost, final_state and the function passed as parameter\n",
    "        #y = tf.keras.utils.to_categorical(y, num_classes=vocab_size)\n",
    "        if is_training : \n",
    "            loss=  m.train_batch(x, y)\n",
    "        else :\n",
    "            loss = m.test_batch(x, y)\n",
    "                                   \n",
    "\n",
    "        #Add returned cost to costs (which keeps track of the total costs for this epoch)\n",
    "        costs += loss\n",
    "        \n",
    "        #Add number of steps to iteration counter\n",
    "        iters += m.num_steps\n",
    "\n",
    "        if verbose and step % (epoch_size // 10) == 10:\n",
    "            print(\"Itr %d of %d, perplexity: %.3f speed: %.0f wps\" % (step , epoch_size, np.exp(costs / iters), iters * m.batch_size / (time.time() - start_time)))\n",
    "        \n",
    "\n",
    "\n",
    "    # Returns the Perplexity rating for us to keep track of how the model is evolving\n",
    "    return np.exp(costs / iters)\n"
   ]
  },
  {
   "cell_type": "markdown",
   "metadata": {},
   "source": [
    "Now, we create the <code>main</code> method to tie everything together. The code here reads the data from the directory, using the <code>reader</code> helper module, and then trains and evaluates the model on both a testing and a validating subset of data.\n"
   ]
  },
  {
   "cell_type": "code",
   "execution_count": 59,
   "metadata": {},
   "outputs": [],
   "source": [
    "# Reads the data and separates it into training data, validation data and testing data\n",
    "raw_data = ptb_raw_data(data_dir)\n",
    "train_data, valid_data, test_data, _, _ = raw_data"
   ]
  },
  {
   "cell_type": "code",
   "execution_count": null,
   "metadata": {},
   "outputs": [
    {
     "name": "stdout",
     "output_type": "stream",
     "text": [
      "Model: \"sequential_1\"\n",
      "_________________________________________________________________\n",
      " Layer (type)                Output Shape              Param #   \n",
      "=================================================================\n",
      " embedding_vocab (Embedding)  (30, 20, 200)            2000000   \n",
      "                                                                 \n",
      " rnn_1 (RNN)                 (30, 20, 128)             671088    \n",
      "                                                                 \n",
      " dense_1 (Dense)             (30, 20, 10000)           1290000   \n",
      "                                                                 \n",
      " activation_1 (Activation)   (30, 20, 10000)           0         \n",
      "                                                                 \n",
      "=================================================================\n",
      "Total params: 3,961,088\n",
      "Trainable params: 3,955,088\n",
      "Non-trainable params: 6,000\n",
      "_________________________________________________________________\n",
      "Epoch 1 : Learning rate: 1.000\n",
      "Itr 10 of 1549, perplexity: 4853.764 speed: 1110 wps\n",
      "Itr 164 of 1549, perplexity: 1085.670 speed: 1160 wps\n",
      "Itr 318 of 1549, perplexity: 832.945 speed: 1165 wps\n",
      "Itr 472 of 1549, perplexity: 695.601 speed: 1171 wps\n",
      "Itr 626 of 1549, perplexity: 597.583 speed: 1174 wps\n",
      "Itr 780 of 1549, perplexity: 534.611 speed: 1174 wps\n",
      "Itr 934 of 1549, perplexity: 484.102 speed: 1176 wps\n",
      "Itr 1088 of 1549, perplexity: 445.711 speed: 1176 wps\n",
      "Itr 1242 of 1549, perplexity: 415.938 speed: 1174 wps\n",
      "Itr 1396 of 1549, perplexity: 388.034 speed: 1174 wps\n",
      "Epoch 1 : Train Perplexity: 365.642\n",
      "Epoch 1 : Valid Perplexity: 217.934\n",
      "Epoch 2 : Learning rate: 1.000\n",
      "Itr 10 of 1549, perplexity: 239.794 speed: 1150 wps\n",
      "Itr 164 of 1549, perplexity: 215.431 speed: 1172 wps\n",
      "Itr 318 of 1549, perplexity: 205.952 speed: 1171 wps\n",
      "Itr 472 of 1549, perplexity: 197.372 speed: 1179 wps\n",
      "Itr 626 of 1549, perplexity: 188.176 speed: 1183 wps\n",
      "Itr 780 of 1549, perplexity: 184.541 speed: 1182 wps\n",
      "Itr 934 of 1549, perplexity: 180.547 speed: 1181 wps\n",
      "Itr 1088 of 1549, perplexity: 177.041 speed: 1180 wps\n",
      "Itr 1242 of 1549, perplexity: 174.579 speed: 1180 wps\n",
      "Itr 1396 of 1549, perplexity: 170.409 speed: 1180 wps\n"
     ]
    }
   ],
   "source": [
    "# Instantiates the PTBModel class\n",
    "m=PTBModel.instance()   \n",
    "K = tf.keras.backend \n",
    "for i in range(max_epoch):\n",
    "    # Define the decay for this epoch\n",
    "    lr_decay = decay ** max(i - max_epoch_decay_lr, 0.0)\n",
    "    dcr = learning_rate * lr_decay\n",
    "    m._lr = dcr\n",
    "    K.set_value(m._model.optimizer.learning_rate,m._lr)\n",
    "    print(\"Epoch %d : Learning rate: %.3f\" % (i + 1, m._model.optimizer.learning_rate))\n",
    "    # Run the loop for this epoch in the training mode\n",
    "    train_perplexity = run_one_epoch(m, train_data,is_training=True,verbose=True)\n",
    "    print(\"Epoch %d : Train Perplexity: %.3f\" % (i + 1, train_perplexity))\n",
    "        \n",
    "    # Run the loop for this epoch in the validation mode\n",
    "    valid_perplexity = run_one_epoch(m, valid_data,is_training=False,verbose=False)\n",
    "    print(\"Epoch %d : Valid Perplexity: %.3f\" % (i + 1, valid_perplexity))\n",
    "    \n",
    "# Run the loop in the testing mode to see how effective was our training\n",
    "test_perplexity = run_one_epoch(m, test_data,is_training=False,verbose=False)\n",
    "print(\"Test Perplexity: %.3f\" % test_perplexity)\n",
    "\n"
   ]
  },
  {
   "cell_type": "markdown",
   "metadata": {},
   "source": [
    "As you can see, the model's perplexity rating drops very quickly after a few iterations. As was elaborated before, <b>lower Perplexity means that the model is more certain about its prediction</b>. As such, we can be sure that this model is performing well!\n"
   ]
  },
  {
   "cell_type": "markdown",
   "metadata": {},
   "source": [
    "-------\n"
   ]
  },
  {
   "cell_type": "markdown",
   "metadata": {},
   "source": [
    "This is the end of the <b>Applying Recurrent Neural Networks to Text Processing</b> notebook. Hopefully you now have a better understanding of Recurrent Neural Networks and how to implement one utilizing TensorFlow. Thank you for reading this notebook, and good luck on your studies.\n"
   ]
  },
  {
   "cell_type": "markdown",
   "metadata": {},
   "source": [
    "## Want to learn more?\n",
    "\n",
    "Also, you can use __Watson Studio__ to run these notebooks faster with bigger datasets.__Watson Studio__ is IBM’s leading cloud solution for data scientists, built by data scientists. With Jupyter notebooks, RStudio, Apache Spark and popular libraries pre-packaged in the cloud, __Watson Studio__ enables data scientists to collaborate on their projects without having to install anything. Join the fast-growing community of __Watson Studio__ users today with a free account at [Watson Studio](https://cocl.us/ML0120EN_DSX).This is the end of this lesson. Thank you for reading this notebook, and good luck on your studies.\n"
   ]
  },
  {
   "cell_type": "markdown",
   "metadata": {},
   "source": [
    "### Thanks for completing this lesson!\n",
    "\n",
    "Notebook created by <a href=\"https://br.linkedin.com/in/walter-gomes-de-amorim-junior-624726121?utm_medium=Exinfluencer&utm_source=Exinfluencer&utm_content=000026UJ&utm_term=10006555&utm_id=NA-SkillsNetwork-Channel-SkillsNetworkCoursesIBMDeveloperSkillsNetworkDL0120ENSkillsNetwork954-2023-01-01\">Walter Gomes de Amorim Junior</a>, <a href = \"https://linkedin.com/in/saeedaghabozorgi\"> Saeed Aghabozorgi </a></h4>\n",
    "\n",
    "\n",
    "Updated to TF 2.X by  <a href=\"https://www.linkedin.com/in/samaya-madhavan?utm_medium=Exinfluencer&utm_source=Exinfluencer&utm_content=000026UJ&utm_term=10006555&utm_id=NA-SkillsNetwork-Channel-SkillsNetworkCoursesIBMDeveloperSkillsNetworkDL0120ENSkillsNetwork954-2023-01-01\"> Samaya Madhavan </a>\n"
   ]
  },
  {
   "cell_type": "markdown",
   "metadata": {},
   "source": [
    "<hr>\n",
    "\n",
    "Copyright &copy; 2018 [Cognitive Class](https://cocl.us/DX0108EN_CC). This notebook and its source code are released under the terms of the [MIT License](https://bigdatauniversity.com/mit-license/?utm_medium=Exinfluencer&utm_source=Exinfluencer&utm_content=000026UJ&utm_term=10006555&utm_id=NA-SkillsNetwork-Channel-SkillsNetworkCoursesIBMDeveloperSkillsNetworkDL0120ENSkillsNetwork954-2023-01-01).\n"
   ]
  },
  {
   "cell_type": "code",
   "execution_count": null,
   "metadata": {},
   "outputs": [],
   "source": []
  },
  {
   "cell_type": "code",
   "execution_count": null,
   "metadata": {},
   "outputs": [],
   "source": []
  },
  {
   "cell_type": "code",
   "execution_count": null,
   "metadata": {},
   "outputs": [],
   "source": []
  },
  {
   "cell_type": "code",
   "execution_count": null,
   "metadata": {},
   "outputs": [],
   "source": []
  },
  {
   "cell_type": "code",
   "execution_count": null,
   "metadata": {},
   "outputs": [],
   "source": []
  },
  {
   "cell_type": "code",
   "execution_count": null,
   "metadata": {},
   "outputs": [],
   "source": []
  },
  {
   "cell_type": "code",
   "execution_count": null,
   "metadata": {},
   "outputs": [],
   "source": []
  },
  {
   "cell_type": "code",
   "execution_count": null,
   "metadata": {},
   "outputs": [],
   "source": []
  },
  {
   "cell_type": "code",
   "execution_count": null,
   "metadata": {},
   "outputs": [],
   "source": []
  },
  {
   "cell_type": "code",
   "execution_count": null,
   "metadata": {},
   "outputs": [],
   "source": []
  },
  {
   "cell_type": "code",
   "execution_count": null,
   "metadata": {},
   "outputs": [],
   "source": []
  },
  {
   "cell_type": "code",
   "execution_count": null,
   "metadata": {},
   "outputs": [],
   "source": []
  },
  {
   "cell_type": "code",
   "execution_count": null,
   "metadata": {},
   "outputs": [],
   "source": []
  },
  {
   "cell_type": "code",
   "execution_count": null,
   "metadata": {},
   "outputs": [],
   "source": []
  }
 ],
 "metadata": {
  "kernelspec": {
   "display_name": "Python",
   "language": "python",
   "name": "conda-env-python-py"
  },
  "language_info": {
   "codemirror_mode": {
    "name": "ipython",
    "version": 3
   },
   "file_extension": ".py",
   "mimetype": "text/x-python",
   "name": "python",
   "nbconvert_exporter": "python",
   "pygments_lexer": "ipython3",
   "version": "3.7.12"
  }
 },
 "nbformat": 4,
 "nbformat_minor": 4
}
