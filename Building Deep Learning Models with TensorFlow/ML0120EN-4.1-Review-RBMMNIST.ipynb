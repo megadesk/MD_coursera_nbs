{
 "cells": [
  {
   "cell_type": "markdown",
   "metadata": {},
   "source": [
    "<img src=\"https://cf-courses-data.s3.us.cloud-object-storage.appdomain.cloud/IBMDeveloperSkillsNetwork-DL0120EN-SkillsNetwork/images/IDSN-logo.png\" width=\"300\" alt=\"cognitiveclass.ai logo\">\n",
    "\n",
    "<h1 align=\"center\"><font size=\"5\">RESTRICTED BOLTZMANN MACHINES</font></h1>\n"
   ]
  },
  {
   "cell_type": "markdown",
   "metadata": {},
   "source": [
    "Estimated time needed: **25** minutes\n"
   ]
  },
  {
   "cell_type": "markdown",
   "metadata": {},
   "source": [
    "<h3>Introduction</h3>\n",
    "<b>Restricted Boltzmann Machine (RBM):</b>  RBMs are shallow neural nets that learn to reconstruct data by themselves in an unsupervised fashion.  \n",
    "\n",
    "\n",
    "<h4>Why are RBMs important?</h4>\n",
    "An RBM are a basic form of autoencoder.  It can automatically extract <b>meaningful</b> features from a given input.\n",
    "\n",
    "\n",
    "<h4>How does it work?</h4>\n",
    "RBM is a 2 layer neural network. Simply, RBM takes the inputs and translates those into a set of binary values that represents them in the hidden layer. Then, these numbers can be translated back to reconstruct the inputs. Through several forward and backward passes, the RBM will be trained, and a trained RBM can reveal which features are the most important ones when detecting patterns.   \n",
    "\n",
    "\n",
    "<h4>What are the applications of an RBM?</h4>\n",
    "RBM is useful for <a href='http://www.cs.utoronto.ca/~hinton/absps/netflixICML.pdf'>  Collaborative Filtering</a>, dimensionality reduction, classification, regression, feature learning, topic modeling and even <b>Deep Belief Networks</b>.\n",
    "\n",
    "<h4>Is RBM a generative or Discriminative model?</h4>\n",
    "RBM is a generative model. Let me explain it by first, see what is different between discriminative and generative models: \n",
    "\n",
    "<b>Discriminative:</b> Consider a classification problem where we want to learn to distinguish between Sedan cars (y = 1) and SUV cars (y = 0), based on some features of cars. Given a training set, an algorithm like logistic regression tries to find a straight line, or <i>decision boundary</i>, that separates the suv and sedan.  \n",
    "\n",
    "<b>Generative:</b> looking at cars, we can build a model of what Sedan cars look like. Then, looking at SUVs, we can build a separate model of what SUV cars look like. Finally, to classify a new car, we can match the new car against the Sedan model, and match it against the SUV model, to see whether the new car looks more like the SUV or Sedan. \n",
    "\n",
    "Generative Models specify a probability distribution over a dataset of input vectors. We can carry out both supervised and unsupervised tasks with generative models:\n",
    "<ul>\n",
    "    <li>In an unsupervised task, we try to form a model for $P(x)$, where $P$ is the probability given $x$ as an input vector.</li>\n",
    "    <li>In the supervised task, we first form a model for $P(x|y)$, where $P$ is the probability of $x$ given $y$(the label for $x$). For example, if $y = 0$ indicates that a car is an SUV, and $y = 1$ indicates that a car is a sedan, then $p(x|y = 0)$ models the distribution of SUV features, and $p(x|y = 1)$ models the distribution of sedan features. If we manage to find $P(x|y)$ and $P(y)$, then we can use <b>Bayes rule</b> to estimate $P(y|x)$, because:   \n",
    "        $$p(y|x) = \\frac{p(x|y)p(y)}{p(x)}$$</li>\n",
    "</ul>\n",
    "Now the question is, can we build a generative model, and then use it to create synthetic data by directly sampling from the modeled probability distributions? Lets see. \n"
   ]
  },
  {
   "cell_type": "markdown",
   "metadata": {},
   "source": [
    "<h2>Table of Contents</h2>\n",
    "<ol>\n",
    "    <li><a href=\"#ref1\">Initialization</a></li>\n",
    "    <li><a href=\"#ref2\">RBM layers</a></li>\n",
    "    <li><a href=\"#ref3\">What RBM can do after training?</a></li>\n",
    "    <li><a href=\"#ref4\">How to train the model?</a></li>\n",
    "    <li><a href=\"#ref5\">Learned features</a></li>\n",
    "</ol>\n",
    "<p></p>\n",
    "</div>\n",
    "<br>\n",
    "\n",
    "<hr>\n"
   ]
  },
  {
   "cell_type": "markdown",
   "metadata": {},
   "source": [
    "<a id=\"ref1\"></a>\n",
    "<h3>Initialization</h3>\n",
    "\n",
    "First, we have to load the utility file which contains different utility functions that are not connected\n",
    "in any way to the networks presented in the tutorials, but rather help in\n",
    "processing the outputs into a more understandable way.\n"
   ]
  },
  {
   "cell_type": "code",
   "execution_count": 1,
   "metadata": {},
   "outputs": [],
   "source": [
    "import urllib.request\n",
    "with urllib.request.urlopen(\"https://cf-courses-data.s3.us.cloud-object-storage.appdomain.cloud/IBMDeveloperSkillsNetwork-DL0120EN-SkillsNetwork/labs/Week4/data/utils.py\") as url:\n",
    "    response = url.read()\n",
    "target = open('utils.py', 'w')\n",
    "target.write(response.decode('utf-8'))\n",
    "target.close()"
   ]
  },
  {
   "cell_type": "markdown",
   "metadata": {},
   "source": [
    "<h2>Installing TensorFlow </h2>\n",
    "\n",
    "We will installing TensorFlow version 2.9.0 and its required prerequistes.  Also installing pillow...\n"
   ]
  },
  {
   "cell_type": "code",
   "execution_count": 2,
   "metadata": {},
   "outputs": [
    {
     "name": "stdout",
     "output_type": "stream",
     "text": [
      "Collecting grpcio==1.24.3\n",
      "  Downloading grpcio-1.24.3-cp37-cp37m-manylinux2010_x86_64.whl (2.2 MB)\n",
      "\u001b[2K     \u001b[90m━━━━━━━━━━━━━━━━━━━━━━━━━━━━━━━━━━━━━━━━\u001b[0m \u001b[32m2.2/2.2 MB\u001b[0m \u001b[31m48.7 MB/s\u001b[0m eta \u001b[36m0:00:00\u001b[0m00:01\u001b[0m\n",
      "\u001b[?25hRequirement already satisfied: six>=1.5.2 in /home/jupyterlab/conda/envs/python/lib/python3.7/site-packages (from grpcio==1.24.3) (1.16.0)\n",
      "Installing collected packages: grpcio\n",
      "  Attempting uninstall: grpcio\n",
      "    Found existing installation: grpcio 1.48.1\n",
      "    Uninstalling grpcio-1.48.1:\n",
      "      Successfully uninstalled grpcio-1.48.1\n",
      "Successfully installed grpcio-1.24.3\n",
      "Requirement already satisfied: tensorflow==2.9.0 in /home/jupyterlab/conda/envs/python/lib/python3.7/site-packages (2.9.0)\n",
      "Requirement already satisfied: absl-py>=1.0.0 in /home/jupyterlab/conda/envs/python/lib/python3.7/site-packages (from tensorflow==2.9.0) (1.4.0)\n",
      "Requirement already satisfied: astunparse>=1.6.0 in /home/jupyterlab/conda/envs/python/lib/python3.7/site-packages (from tensorflow==2.9.0) (1.6.3)\n",
      "Requirement already satisfied: flatbuffers<2,>=1.12 in /home/jupyterlab/conda/envs/python/lib/python3.7/site-packages (from tensorflow==2.9.0) (1.12)\n",
      "Requirement already satisfied: gast<=0.4.0,>=0.2.1 in /home/jupyterlab/conda/envs/python/lib/python3.7/site-packages (from tensorflow==2.9.0) (0.4.0)\n",
      "Requirement already satisfied: google-pasta>=0.1.1 in /home/jupyterlab/conda/envs/python/lib/python3.7/site-packages (from tensorflow==2.9.0) (0.2.0)\n",
      "Requirement already satisfied: grpcio<2.0,>=1.24.3 in /home/jupyterlab/conda/envs/python/lib/python3.7/site-packages (from tensorflow==2.9.0) (1.24.3)\n",
      "Requirement already satisfied: h5py>=2.9.0 in /home/jupyterlab/conda/envs/python/lib/python3.7/site-packages (from tensorflow==2.9.0) (3.8.0)\n",
      "Requirement already satisfied: keras<2.10.0,>=2.9.0rc0 in /home/jupyterlab/conda/envs/python/lib/python3.7/site-packages (from tensorflow==2.9.0) (2.9.0)\n",
      "Requirement already satisfied: keras-preprocessing>=1.1.1 in /home/jupyterlab/conda/envs/python/lib/python3.7/site-packages (from tensorflow==2.9.0) (1.1.2)\n",
      "Requirement already satisfied: libclang>=13.0.0 in /home/jupyterlab/conda/envs/python/lib/python3.7/site-packages (from tensorflow==2.9.0) (16.0.6)\n",
      "Requirement already satisfied: numpy>=1.20 in /home/jupyterlab/conda/envs/python/lib/python3.7/site-packages (from tensorflow==2.9.0) (1.21.4)\n",
      "Requirement already satisfied: opt-einsum>=2.3.2 in /home/jupyterlab/conda/envs/python/lib/python3.7/site-packages (from tensorflow==2.9.0) (3.3.0)\n",
      "Requirement already satisfied: packaging in /home/jupyterlab/conda/envs/python/lib/python3.7/site-packages (from tensorflow==2.9.0) (23.1)\n",
      "Requirement already satisfied: protobuf>=3.9.2 in /home/jupyterlab/conda/envs/python/lib/python3.7/site-packages (from tensorflow==2.9.0) (3.19.6)\n",
      "Requirement already satisfied: setuptools in /home/jupyterlab/conda/envs/python/lib/python3.7/site-packages (from tensorflow==2.9.0) (67.7.2)\n",
      "Requirement already satisfied: six>=1.12.0 in /home/jupyterlab/conda/envs/python/lib/python3.7/site-packages (from tensorflow==2.9.0) (1.16.0)\n",
      "Requirement already satisfied: tensorboard<2.10,>=2.9 in /home/jupyterlab/conda/envs/python/lib/python3.7/site-packages (from tensorflow==2.9.0) (2.9.1)\n",
      "Requirement already satisfied: tensorflow-io-gcs-filesystem>=0.23.1 in /home/jupyterlab/conda/envs/python/lib/python3.7/site-packages (from tensorflow==2.9.0) (0.34.0)\n",
      "Requirement already satisfied: tensorflow-estimator<2.10.0,>=2.9.0rc0 in /home/jupyterlab/conda/envs/python/lib/python3.7/site-packages (from tensorflow==2.9.0) (2.9.0)\n",
      "Requirement already satisfied: termcolor>=1.1.0 in /home/jupyterlab/conda/envs/python/lib/python3.7/site-packages (from tensorflow==2.9.0) (2.3.0)\n",
      "Requirement already satisfied: typing-extensions>=3.6.6 in /home/jupyterlab/conda/envs/python/lib/python3.7/site-packages (from tensorflow==2.9.0) (4.5.0)\n",
      "Requirement already satisfied: wrapt>=1.11.0 in /home/jupyterlab/conda/envs/python/lib/python3.7/site-packages (from tensorflow==2.9.0) (1.14.1)\n",
      "Requirement already satisfied: wheel<1.0,>=0.23.0 in /home/jupyterlab/conda/envs/python/lib/python3.7/site-packages (from astunparse>=1.6.0->tensorflow==2.9.0) (0.40.0)\n",
      "Requirement already satisfied: google-auth<3,>=1.6.3 in /home/jupyterlab/conda/envs/python/lib/python3.7/site-packages (from tensorboard<2.10,>=2.9->tensorflow==2.9.0) (2.26.2)\n",
      "Requirement already satisfied: google-auth-oauthlib<0.5,>=0.4.1 in /home/jupyterlab/conda/envs/python/lib/python3.7/site-packages (from tensorboard<2.10,>=2.9->tensorflow==2.9.0) (0.4.6)\n",
      "Requirement already satisfied: markdown>=2.6.8 in /home/jupyterlab/conda/envs/python/lib/python3.7/site-packages (from tensorboard<2.10,>=2.9->tensorflow==2.9.0) (3.4.3)\n",
      "Requirement already satisfied: requests<3,>=2.21.0 in /home/jupyterlab/conda/envs/python/lib/python3.7/site-packages (from tensorboard<2.10,>=2.9->tensorflow==2.9.0) (2.29.0)\n",
      "Requirement already satisfied: tensorboard-data-server<0.7.0,>=0.6.0 in /home/jupyterlab/conda/envs/python/lib/python3.7/site-packages (from tensorboard<2.10,>=2.9->tensorflow==2.9.0) (0.6.1)\n",
      "Requirement already satisfied: tensorboard-plugin-wit>=1.6.0 in /home/jupyterlab/conda/envs/python/lib/python3.7/site-packages (from tensorboard<2.10,>=2.9->tensorflow==2.9.0) (1.8.1)\n",
      "Requirement already satisfied: werkzeug>=1.0.1 in /home/jupyterlab/conda/envs/python/lib/python3.7/site-packages (from tensorboard<2.10,>=2.9->tensorflow==2.9.0) (2.2.3)\n",
      "Requirement already satisfied: cachetools<6.0,>=2.0.0 in /home/jupyterlab/conda/envs/python/lib/python3.7/site-packages (from google-auth<3,>=1.6.3->tensorboard<2.10,>=2.9->tensorflow==2.9.0) (5.3.2)\n",
      "Requirement already satisfied: pyasn1-modules>=0.2.1 in /home/jupyterlab/conda/envs/python/lib/python3.7/site-packages (from google-auth<3,>=1.6.3->tensorboard<2.10,>=2.9->tensorflow==2.9.0) (0.3.0)\n",
      "Requirement already satisfied: rsa<5,>=3.1.4 in /home/jupyterlab/conda/envs/python/lib/python3.7/site-packages (from google-auth<3,>=1.6.3->tensorboard<2.10,>=2.9->tensorflow==2.9.0) (4.9)\n",
      "Requirement already satisfied: requests-oauthlib>=0.7.0 in /home/jupyterlab/conda/envs/python/lib/python3.7/site-packages (from google-auth-oauthlib<0.5,>=0.4.1->tensorboard<2.10,>=2.9->tensorflow==2.9.0) (1.3.1)\n",
      "Requirement already satisfied: importlib-metadata>=4.4 in /home/jupyterlab/conda/envs/python/lib/python3.7/site-packages (from markdown>=2.6.8->tensorboard<2.10,>=2.9->tensorflow==2.9.0) (4.11.4)\n",
      "Requirement already satisfied: charset-normalizer<4,>=2 in /home/jupyterlab/conda/envs/python/lib/python3.7/site-packages (from requests<3,>=2.21.0->tensorboard<2.10,>=2.9->tensorflow==2.9.0) (3.1.0)\n",
      "Requirement already satisfied: idna<4,>=2.5 in /home/jupyterlab/conda/envs/python/lib/python3.7/site-packages (from requests<3,>=2.21.0->tensorboard<2.10,>=2.9->tensorflow==2.9.0) (3.4)\n",
      "Requirement already satisfied: urllib3<1.27,>=1.21.1 in /home/jupyterlab/conda/envs/python/lib/python3.7/site-packages (from requests<3,>=2.21.0->tensorboard<2.10,>=2.9->tensorflow==2.9.0) (1.26.15)\n",
      "Requirement already satisfied: certifi>=2017.4.17 in /home/jupyterlab/conda/envs/python/lib/python3.7/site-packages (from requests<3,>=2.21.0->tensorboard<2.10,>=2.9->tensorflow==2.9.0) (2023.5.7)\n",
      "Requirement already satisfied: MarkupSafe>=2.1.1 in /home/jupyterlab/conda/envs/python/lib/python3.7/site-packages (from werkzeug>=1.0.1->tensorboard<2.10,>=2.9->tensorflow==2.9.0) (2.1.1)\n",
      "Requirement already satisfied: zipp>=0.5 in /home/jupyterlab/conda/envs/python/lib/python3.7/site-packages (from importlib-metadata>=4.4->markdown>=2.6.8->tensorboard<2.10,>=2.9->tensorflow==2.9.0) (3.15.0)\n",
      "Requirement already satisfied: pyasn1<0.6.0,>=0.4.6 in /home/jupyterlab/conda/envs/python/lib/python3.7/site-packages (from pyasn1-modules>=0.2.1->google-auth<3,>=1.6.3->tensorboard<2.10,>=2.9->tensorflow==2.9.0) (0.5.0)\n",
      "Requirement already satisfied: oauthlib>=3.0.0 in /home/jupyterlab/conda/envs/python/lib/python3.7/site-packages (from requests-oauthlib>=0.7.0->google-auth-oauthlib<0.5,>=0.4.1->tensorboard<2.10,>=2.9->tensorflow==2.9.0) (3.2.2)\n",
      "Requirement already satisfied: pillow==8.1.0 in /home/jupyterlab/conda/envs/python/lib/python3.7/site-packages (8.1.0)\n"
     ]
    }
   ],
   "source": [
    "!pip install grpcio==1.24.3\n",
    "!pip install tensorflow==2.9.0\n",
    "!pip install pillow==8.1.0"
   ]
  },
  {
   "cell_type": "markdown",
   "metadata": {},
   "source": [
    "**Restart kernel for latest version of TensorFlow to be activated, then continue to the next section.**\n"
   ]
  },
  {
   "cell_type": "markdown",
   "metadata": {},
   "source": [
    "<b>Notice:</b> This notebook has been created with TensorFlow version 2.9.0, and might not work with other versions. Therefore we check:\n"
   ]
  },
  {
   "cell_type": "code",
   "execution_count": 3,
   "metadata": {},
   "outputs": [
    {
     "name": "stderr",
     "output_type": "stream",
     "text": [
      "2024-01-12 00:03:37.562380: I tensorflow/core/util/util.cc:169] oneDNN custom operations are on. You may see slightly different numerical results due to floating-point round-off errors from different computation orders. To turn them off, set the environment variable `TF_ENABLE_ONEDNN_OPTS=0`.\n",
      "2024-01-12 00:03:37.567660: W tensorflow/stream_executor/platform/default/dso_loader.cc:64] Could not load dynamic library 'libcudart.so.11.0'; dlerror: libcudart.so.11.0: cannot open shared object file: No such file or directory\n",
      "2024-01-12 00:03:37.567691: I tensorflow/stream_executor/cuda/cudart_stub.cc:29] Ignore above cudart dlerror if you do not have a GPU set up on your machine.\n"
     ]
    }
   ],
   "source": [
    "import tensorflow as tf\n",
    "from IPython.display import Markdown, display\n",
    "\n",
    "def printmd(string):\n",
    "    display(Markdown('# <span style=\"color:red\">'+string+'</span>'))\n",
    "\n",
    "\n",
    "if not tf.__version__ == '2.9.0':\n",
    "    printmd('<<<<<!!!!! ERROR !!!! please upgrade to TensorFlow 2.9.0, or restart your Kernel (Kernel->Restart & Clear Output)>>>>>')"
   ]
  },
  {
   "cell_type": "markdown",
   "metadata": {},
   "source": [
    "Now, we load in all the packages that we use to create the net including the TensorFlow package:\n"
   ]
  },
  {
   "cell_type": "code",
   "execution_count": 4,
   "metadata": {},
   "outputs": [],
   "source": [
    "import tensorflow as tf\n",
    "import numpy as np\n",
    "\n",
    "from PIL import Image\n",
    "from utils import tile_raster_images\n",
    "import matplotlib.pyplot as plt\n",
    "%matplotlib inline"
   ]
  },
  {
   "cell_type": "markdown",
   "metadata": {},
   "source": [
    "<hr>\n"
   ]
  },
  {
   "cell_type": "markdown",
   "metadata": {},
   "source": [
    "<a id=\"ref2\"></a>\n",
    "<h3>RBM layers</h3>\n",
    "\n",
    "An RBM has two layers. The first layer of the RBM is called the <b>visible</b> (or input layer). Imagine that our toy example, has only vectors with 7 values, so the visible layer must have $V=7$ input nodes. \n",
    "The second layer is the <b>hidden</b> layer, which has $H$ neurons in our case. Each hidden node takes on values of either 0 or 1 (i.e., $h_i = 1$ or $h_i$ = 0), with a probability that is a logistic function of the inputs it receives from the other $V$ visible units, called for example, $p(h_i = 1)$. For our toy sample, we'll use 2 nodes in the hidden layer, so $H = 2$.\n",
    "\n",
    "<center><img src=\"https://ibm.box.com/shared/static/eu26opvcefgls6vnwuo29uwp0nudmokh.png\" alt=\"RBM Model\" style=\"width: 400px;\"></center>\n"
   ]
  },
  {
   "cell_type": "markdown",
   "metadata": {},
   "source": [
    "     \n",
    "\n",
    "Each node in the first layer also has a <b>bias</b>. We will denote the bias as $v_{bias}$, and this single value is shared among the $V$ visible units.\n",
    "\n",
    "The <b>bias</b> of the second is defined similarly as $h_{bias}$, and this single value among the $H$ hidden units.\n"
   ]
  },
  {
   "cell_type": "code",
   "execution_count": 5,
   "metadata": {},
   "outputs": [
    {
     "name": "stderr",
     "output_type": "stream",
     "text": [
      "2024-01-12 00:03:46.147103: W tensorflow/stream_executor/platform/default/dso_loader.cc:64] Could not load dynamic library 'libcuda.so.1'; dlerror: libcuda.so.1: cannot open shared object file: No such file or directory\n",
      "2024-01-12 00:03:46.147180: W tensorflow/stream_executor/cuda/cuda_driver.cc:269] failed call to cuInit: UNKNOWN ERROR (303)\n",
      "2024-01-12 00:03:46.147255: I tensorflow/stream_executor/cuda/cuda_diagnostics.cc:156] kernel driver does not appear to be running on this host (jupyterlab-benlewisbiol): /proc/driver/nvidia/version does not exist\n",
      "2024-01-12 00:03:46.147801: I tensorflow/core/platform/cpu_feature_guard.cc:193] This TensorFlow binary is optimized with oneAPI Deep Neural Network Library (oneDNN) to use the following CPU instructions in performance-critical operations:  AVX2 AVX512F AVX512_VNNI FMA\n",
      "To enable them in other operations, rebuild TensorFlow with the appropriate compiler flags.\n"
     ]
    }
   ],
   "source": [
    "v_bias = tf.Variable(tf.zeros([7]), tf.float32)\n",
    "h_bias = tf.Variable(tf.zeros([2]), tf.float32)"
   ]
  },
  {
   "cell_type": "markdown",
   "metadata": {},
   "source": [
    "We have to define weights among the input layer and hidden layer nodes. In the weight matrix, the number of rows are equal to the input nodes, and the number of columns are equal to the output nodes. We define a tensor $\\mathbf{W}$ of shape = (7,2), where the number of visible neurons = 7, and the number of hidden neurons = 2. \n"
   ]
  },
  {
   "cell_type": "code",
   "execution_count": 6,
   "metadata": {},
   "outputs": [],
   "source": [
    "W = tf.constant(np.random.normal(loc=0.0, scale=1.0, size=(7, 2)).astype(np.float32))"
   ]
  },
  {
   "cell_type": "markdown",
   "metadata": {},
   "source": [
    "<hr>\n"
   ]
  },
  {
   "cell_type": "markdown",
   "metadata": {},
   "source": [
    "<a id=\"ref3\"></a>\n",
    "<h3>What RBM can do after training?</h3>\n",
    "Think of RBM as a model that has been trained based on images of a dataset of many SUV and sedan cars. Also, imagine that the RBM network has only two hidden nodes, where one node encodes the weight and, and the other encodes the size.  \n",
    "In a sense, the different configurations represent different cars, where one is an SUV and the other is Sedan.  In a training process, through many forward and backward passes, the RBM adjust its weights to send a stronger signal to either the SUV node (0, 1) or the sedan node (1, 0) in the hidden layer, given the pixels of images. Now, given an SUV in hidden layer, which distribution of pixels should we expect? RBM can give you 2 things. First, it encodes your images in hidden layer. Second, it gives you the probability of observing a case, given some hidden values.\n",
    "\n",
    "\n",
    "<h3>The Inference Process</h3>\n",
    "\n",
    "RBM has two phases:\n",
    "<ul>\n",
    "    <li>Forward Pass</li>  \n",
    "    <li>Backward Pass or Reconstruction</li>\n",
    "</ul>\n",
    "\n",
    "<b>Phase 1) Forward pass:</b>  \n",
    "\n",
    "Input one training sample (one image) $\\mathbf{x}$ through all visible nodes, and pass it to all hidden nodes. Processing happens in each node in the hidden layer. This computation begins by making stochastic decisions about whether to transmit that input or not (i.e. to determine the state of each hidden layer).  First, the probability vector is computed using the input feature vector $\\mathbf{x}$, the weight matrix $\\mathbf{W}$, and the bias term $h_{bias}$, as \n",
    "\n",
    "\n",
    "$$p({h_j}|\\mathbf x)= \\sigma( \\sum_{i=1}^V W_{ij} x_i + h_{bias} )$$, \n",
    "\n",
    "where $\\sigma(z) = (1+e^{-z})^{-1}$ is the logistic function.\n",
    "\n",
    "\n",
    "So, what does $p({h_j})$ represent? It is the <b>probability distribution</b> of the hidden units. That is, RBM uses inputs $x_i$ to make predictions about hidden node activations. For example, imagine that the hidden node activation values are [0.51 0.84] for the first training item. It tells you that the conditional probability for each hidden neuron for Phase 1 is: \n",
    "\n",
    "$$p(h_{1} = 1|\\mathbf{v}) = 0.51$$\n",
    "$$p(h_{2} = 1|\\mathbf{v}) = 0.84$$\n",
    "\n",
    "As a result, for each row in the training set, vector of probabilities is generated.  In TensorFlow, this is referred to as a `tensor` with a shape of (1,2). \n",
    "\n",
    "We then turn unit $j$ with probability $p(h_{j}|\\mathbf{v})$, and turn it off with probability $1 - p(h_{j}|\\mathbf{v})$ by generating a uniform random number vector $\\mathbf{\\xi}$, and comparing it to the activation probability as \n",
    "\n",
    "<center>If $\\xi_j>p(h_{j}|\\mathbf{v})$, then $h_j=1$, else $h_j=0$.</center>\n",
    "\n",
    "\n",
    "Therefore, the conditional probability of a configuration of $\\mathbf{h}$ given $\\mathbf{v}$ (for a training sample) is:\n",
    "\n",
    "$$p(\\mathbf{h} \\mid \\mathbf{v}) = \\prod_{j=1}^H p(h_j \\mid \\mathbf{v})$$\n",
    "\n",
    "\n",
    "where $H$ is the number of hidden units.\n",
    "\n"
   ]
  },
  {
   "cell_type": "markdown",
   "metadata": {},
   "source": [
    "Before we go further, let's look at a toy example for one case out of all input. Assume that we have a trained RBM, and a very simple input vector, such as [1.0, 0.0, 0.0, 1.0, 0.0, 0.0, 0.0].   \n",
    "Let's see what the output of forward pass would look like:\n"
   ]
  },
  {
   "cell_type": "code",
   "execution_count": 7,
   "metadata": {},
   "outputs": [
    {
     "name": "stdout",
     "output_type": "stream",
     "text": [
      "Input:  tf.Tensor([[1. 0. 0. 1. 0. 0. 0.]], shape=(1, 7), dtype=float32)\n",
      "hb:  tf.Tensor([0.1 0.1], shape=(2,), dtype=float32)\n",
      "w:  tf.Tensor(\n",
      "[[ 1.2199507   0.8347312 ]\n",
      " [ 0.19615664  0.39806578]\n",
      " [-1.1567774   0.4064779 ]\n",
      " [ 0.5560671   0.07506395]\n",
      " [-0.6341109   0.37699634]\n",
      " [ 0.1863797  -0.2020751 ]\n",
      " [ 0.7437825   1.4056154 ]], shape=(7, 2), dtype=float32)\n",
      "p(h|v):  tf.Tensor([[0.86715305 0.7329801 ]], shape=(1, 2), dtype=float32)\n",
      "h0 states: tf.Tensor([[1. 1.]], shape=(1, 2), dtype=float32)\n"
     ]
    }
   ],
   "source": [
    "X = tf.constant([[1.0, 0.0, 0.0, 1.0, 0.0, 0.0, 0.0]], tf.float32)\n",
    "\n",
    "v_state = X\n",
    "print (\"Input: \", v_state)\n",
    "\n",
    "h_bias = tf.constant([0.1, 0.1])\n",
    "print (\"hb: \", h_bias)\n",
    "print (\"w: \", W)\n",
    "\n",
    "# Calculate the probabilities of turning the hidden units on:\n",
    "h_prob = tf.nn.sigmoid(tf.matmul(v_state, W) + h_bias)  #probabilities of the hidden units\n",
    "print (\"p(h|v): \", h_prob)\n",
    "\n",
    "# Draw samples from the distribution:\n",
    "h_state = tf.nn.relu(tf.sign(h_prob - tf.random.uniform(tf.shape(h_prob)))) #states\n",
    "print (\"h0 states:\", h_state)"
   ]
  },
  {
   "cell_type": "markdown",
   "metadata": {},
   "source": [
    "<b>Phase 2) Backward Pass (Reconstruction):</b>\n",
    "The RBM reconstructs data by making several forward and backward passes between the visible and hidden layers.\n",
    "\n",
    "So, in the second phase (i.e. reconstruction phase), the samples from the hidden layer (i.e. $\\mathbf h$) becomes the input in the backward pass. The same weight matrix and visible layer biases are used to passed to the sigmoid function. The reproduced output is a reconstruction which is an approximation of the original input.\n"
   ]
  },
  {
   "cell_type": "code",
   "execution_count": 8,
   "metadata": {},
   "outputs": [
    {
     "name": "stdout",
     "output_type": "stream",
     "text": [
      "b:  tf.Tensor([0.1 0.2 0.1 0.1 0.1 0.2 0.1], shape=(7,), dtype=float32)\n",
      "p(vi∣h):  tf.Tensor(\n",
      "[[0.89610547 0.6887372  0.3429221  0.6750534  0.46080193 0.5459461\n",
      "  0.9045986 ]], shape=(1, 7), dtype=float32)\n",
      "v probability states:  tf.Tensor([[1. 1. 1. 0. 1. 1. 1.]], shape=(1, 7), dtype=float32)\n"
     ]
    }
   ],
   "source": [
    "vb = tf.constant([0.1, 0.2, 0.1, 0.1, 0.1, 0.2, 0.1])\n",
    "print (\"b: \", vb)\n",
    "v_prob = tf.nn.sigmoid(tf.matmul(h_state, tf.transpose(W)) + vb)\n",
    "print (\"p(vi∣h): \", v_prob)\n",
    "v_state = tf.nn.relu(tf.sign(v_prob - tf.random.uniform(tf.shape(v_prob))))\n",
    "print (\"v probability states: \", v_state)"
   ]
  },
  {
   "cell_type": "markdown",
   "metadata": {},
   "source": [
    "RBM learns a probability distribution over the input, and then, after being trained, the RBM can generate new samples from the learned probability distribution. As you know, <b>probability distribution</b>, is a mathematical function that provides the probabilities of occurrence of different possible outcomes in an experiment.\n",
    "\n",
    "The (conditional) probability distribution over the visible units v is given by\n",
    "\n",
    "$$p(\\mathbf{v} \\mid \\mathbf{h}) = \\prod_{i=1}^V p(v_i \\mid \\mathbf{h}),$$\n",
    "\n",
    "\n",
    "where,\n",
    "\n",
    "$$p(v_i \\mid \\mathbf{h}) = \\sigma\\left(\\sum_{j=1}^H W_{ji} h_j + v_{bias} \\right)$$\n",
    "\n",
    "so, given current state of hidden units and weights, what is the probability of generating [1. 0. 0. 1. 0. 0. 0.] in reconstruction phase, based on the above <b>probability distribution</b> function?\n"
   ]
  },
  {
   "cell_type": "code",
   "execution_count": 9,
   "metadata": {},
   "outputs": [
    {
     "name": "stdout",
     "output_type": "stream",
     "text": [
      "input X: [[1. 0. 0. 1. 0. 0. 0.]]\n",
      "probablity vector: [0.89610547 0.6887372  0.3429221  0.6750534  0.46080193 0.5459461\n",
      " 0.9045986 ]\n",
      "probability of generating X:  0.0028896937\n"
     ]
    }
   ],
   "source": [
    "inp = X\n",
    "print(\"input X:\" , inp.numpy())\n",
    "\n",
    "print(\"probablity vector:\" , v_prob[0].numpy())\n",
    "v_probability = 1\n",
    "\n",
    "for elm, p in zip(inp[0],v_prob[0]) :\n",
    "    if elm ==1:\n",
    "        v_probability *= p\n",
    "    else:\n",
    "        v_probability *= (1-p)\n",
    "\n",
    "print(\"probability of generating X: \" , v_probability.numpy())"
   ]
  },
  {
   "cell_type": "markdown",
   "metadata": {},
   "source": [
    "How similar are vectors $\\mathbf{x}$ and $\\mathbf{v}$? Of course, the reconstructed values most likely will not look anything like the input vector, because our network has not been trained yet. Our objective is to train the model in such a way that the input vector and reconstructed vector to be same. Therefore, based on how different the input values look to the ones that we just reconstructed, the weights are adjusted. \n"
   ]
  },
  {
   "cell_type": "markdown",
   "metadata": {},
   "source": [
    "<hr>\n"
   ]
  },
  {
   "cell_type": "markdown",
   "metadata": {},
   "source": [
    "\n",
    "<h2>MNIST</h2>\n"
   ]
  },
  {
   "cell_type": "markdown",
   "metadata": {},
   "source": [
    "We will be using the MNIST dataset to practice the usage of RBMs. The following cell loads the MNIST dataset.\n"
   ]
  },
  {
   "cell_type": "code",
   "execution_count": 10,
   "metadata": {},
   "outputs": [
    {
     "name": "stdout",
     "output_type": "stream",
     "text": [
      "Downloading data from https://storage.googleapis.com/tensorflow/tf-keras-datasets/mnist.npz\n",
      "11490434/11490434 [==============================] - 0s 0us/step\n"
     ]
    }
   ],
   "source": [
    "#loading training and test data\n",
    "mnist = tf.keras.datasets.mnist\n",
    "(trX, trY), (teX, teY) = mnist.load_data()\n",
    "\n",
    "# showing an example of the Flatten class and operation\n",
    "from tensorflow.keras.layers import Flatten\n",
    "flatten = Flatten(dtype='float32')\n",
    "trX = flatten(trX/255.0)\n",
    "trY = flatten(trY/255.0)"
   ]
  },
  {
   "cell_type": "markdown",
   "metadata": {},
   "source": [
    "Lets look at the dimension of the images.\n"
   ]
  },
  {
   "cell_type": "markdown",
   "metadata": {},
   "source": [
    "MNIST images have 784 pixels, so the visible layer must have 784 input nodes.  For our case, we'll use 50 nodes in the hidden layer, so i = 50.\n"
   ]
  },
  {
   "cell_type": "code",
   "execution_count": 11,
   "metadata": {},
   "outputs": [],
   "source": [
    "vb = tf.Variable(tf.zeros([784]), tf.float32)\n",
    "hb = tf.Variable(tf.zeros([50]), tf.float32)"
   ]
  },
  {
   "cell_type": "markdown",
   "metadata": {},
   "source": [
    "Let $\\mathbf W$ be the Tensor of 784x50 (784 - number of visible neurons, 50 - number of hidden neurons) that represents weights between the neurons. \n"
   ]
  },
  {
   "cell_type": "code",
   "execution_count": 12,
   "metadata": {},
   "outputs": [],
   "source": [
    "W = tf.Variable(tf.zeros([784,50]), tf.float32)"
   ]
  },
  {
   "cell_type": "markdown",
   "metadata": {},
   "source": [
    "Lets define the visible layer:\n"
   ]
  },
  {
   "cell_type": "code",
   "execution_count": 13,
   "metadata": {},
   "outputs": [
    {
     "data": {
      "text/plain": [
       "<tf.Tensor: shape=(1, 50), dtype=float32, numpy=\n",
       "array([[0., 0., 0., 0., 0., 0., 0., 0., 0., 0., 0., 0., 0., 0., 0., 0.,\n",
       "        0., 0., 0., 0., 0., 0., 0., 0., 0., 0., 0., 0., 0., 0., 0., 0.,\n",
       "        0., 0., 0., 0., 0., 0., 0., 0., 0., 0., 0., 0., 0., 0., 0., 0.,\n",
       "        0., 0.]], dtype=float32)>"
      ]
     },
     "execution_count": 13,
     "metadata": {},
     "output_type": "execute_result"
    }
   ],
   "source": [
    "v0_state = tf.Variable(tf.zeros([784]), tf.float32)\n",
    "\n",
    "#testing to see if the matrix product works\n",
    "tf.matmul( [v0_state], W)"
   ]
  },
  {
   "cell_type": "markdown",
   "metadata": {},
   "source": [
    "Now, we can define hidden layer:\n"
   ]
  },
  {
   "cell_type": "code",
   "execution_count": 14,
   "metadata": {},
   "outputs": [
    {
     "name": "stdout",
     "output_type": "stream",
     "text": [
      "h0_state shape:  tf.Tensor([ 1 50], shape=(2,), dtype=int32)\n",
      "first 15 hidden states:  tf.Tensor([1. 1. 0. 1. 0. 0. 0. 1. 1. 0. 1. 0. 0. 0. 0.], shape=(15,), dtype=float32)\n"
     ]
    }
   ],
   "source": [
    "#computing the hidden nodes probability vector and checking shape\n",
    "h0_prob = tf.nn.sigmoid(tf.matmul([v0_state], W) + hb)  #probabilities of the hidden units\n",
    "print(\"h0_state shape: \" , tf.shape(h0_prob))\n",
    "\n",
    "#defining a function to return only the generated hidden states \n",
    "def hidden_layer(v0_state, W, hb):\n",
    "    h0_prob = tf.nn.sigmoid(tf.matmul([v0_state], W) + hb)  #probabilities of the hidden units\n",
    "    h0_state = tf.nn.relu(tf.sign(h0_prob - tf.random.uniform(tf.shape(h0_prob)))) #sample_h_given_X\n",
    "    return h0_state\n",
    "\n",
    "\n",
    "h0_state = hidden_layer(v0_state, W, hb)\n",
    "print(\"first 15 hidden states: \", h0_state[0][0:15])"
   ]
  },
  {
   "cell_type": "markdown",
   "metadata": {},
   "source": [
    "Now, we define reconstruction part:\n"
   ]
  },
  {
   "cell_type": "code",
   "execution_count": 15,
   "metadata": {},
   "outputs": [
    {
     "name": "stdout",
     "output_type": "stream",
     "text": [
      "hidden state shape:  (1, 50)\n",
      "v0 state shape:   (784,)\n",
      "v1 state shape:   (784,)\n"
     ]
    }
   ],
   "source": [
    "def reconstructed_output(h0_state, W, vb):\n",
    "    v1_prob = tf.nn.sigmoid(tf.matmul(h0_state, tf.transpose(W)) + vb) \n",
    "    v1_state = tf.nn.relu(tf.sign(v1_prob - tf.random.uniform(tf.shape(v1_prob)))) #sample_v_given_h\n",
    "    return v1_state[0]\n",
    "\n",
    "v1_state = reconstructed_output(h0_state, W, vb)\n",
    "print(\"hidden state shape: \", h0_state.shape)\n",
    "print(\"v0 state shape:  \", v0_state.shape)\n",
    "print(\"v1 state shape:  \", v1_state.shape)"
   ]
  },
  {
   "cell_type": "markdown",
   "metadata": {},
   "source": [
    "<h3>What is the objective function?</h3>\n",
    "\n",
    "<b>Goal</b>: Maximize the likelihood of our data being drawn from that distribution\n",
    "\n",
    "<b>Calculate error:</b>  \n",
    "In each epoch, we compute the \"error\" as a sum of the squared difference between step 1 and step n,\n",
    "e.g the error shows the difference between the data and its reconstruction.\n",
    "\n",
    "<b>Note:</b> tf.reduce_mean computes the mean of elements across dimensions of a tensor.\n"
   ]
  },
  {
   "cell_type": "code",
   "execution_count": 16,
   "metadata": {},
   "outputs": [
    {
     "name": "stdout",
     "output_type": "stream",
     "text": [
      "error 0.502551\n"
     ]
    }
   ],
   "source": [
    "def error(v0_state, v1_state):\n",
    "    return tf.reduce_mean(tf.square(v0_state - v1_state))\n",
    "\n",
    "err = tf.reduce_mean(tf.square(v0_state - v1_state))\n",
    "print(\"error\" , err.numpy())"
   ]
  },
  {
   "cell_type": "markdown",
   "metadata": {},
   "source": [
    "<a id=\"ref4\"></a>\n",
    "<h3>Training the Model</h3>\n",
    "<b>Warning...</b> The following part is math-heavy, but you can skip it if you just want to run the cells in the next section.\n",
    "\n",
    "As mentioned, we want to give a high probability to the input data we train on. So, in order to train an RBM, we have to maximize the product of probabilities assigned to all rows $\\mathbf{v}$ (images) in the training set $\\mathbf{V}$ (a matrix, where each row of it is treated as a visible vector $\\mathbf{v}$)\n",
    "\n",
    "$$\\arg \\max_W \\prod_{\\mathbf{v}\\in\\mathbf{V}_T} p(\\mathbf{v})$$\n",
    "\n",
    "\n",
    "which is equivalent to maximizing the expectation of the log probability, given as\n",
    "\n",
    "$$\\arg\\max_W\\left[ \\mathbb{E} \\left(\\prod_{\\mathbf v\\in \\mathbf V}\\text{log} \\left(p(\\mathbf v)\\right) \\right) \\right].$$\n",
    "\n",
    "\n",
    "So, we have to update the weights $W_{ij}$  to increase $p(\\mathbf{v})$ for all $\\mathbf{v}$ in our training data during training. So we have to calculate the derivative:\n",
    "\n",
    "\n",
    "$$\\frac{\\partial \\log p(\\mathbf v)}{\\partial W_{ij}}$$\n",
    "\n",
    "This cannot be easily done by typical <b>gradient descent (SGD)</b>, so we can use another approach, which has 2 steps:\n",
    "<ol>\n",
    "    <li>Gibbs Sampling</li>\n",
    "    <li>Contrastive Divergence</li>\n",
    "</ol>    \n",
    "    \n",
    "<h3>Gibbs Sampling</h3>   \n",
    "\n",
    "<h4>Gibbs Sampling Step 1</h4> \n",
    "Given an input vector $\\mathbf{v}$, we are using $p(\\mathbf{h}|\\mathbf{v})$ to predict the hidden values $\\mathbf{h}$. \n",
    "  $$p({h_j}|\\mathbf v)= \\sigma\\left(\\sum_{i=1}^V W_{ij} v_i + h_{bias} \\right)$$\n",
    "The samples are generated from this distribution by generating the uniform random variate vector $\\mathbf{\\xi} \\sim U[0,1]$ of length $H$ and comparing to the computed probabilities as\n",
    "\n",
    "\n",
    "<center>If $\\xi_j>p(h_{j}|\\mathbf{v})$, then $h_j=1$, else $h_j=0$.</center>\n",
    "\n",
    "\n",
    "<h4>Gibbs Sampling Step 2</h4> \n",
    "Then, knowing the hidden values, we use $p(\\mathbf v| \\mathbf h)$ for reconstructing of new input values v. \n",
    "\n",
    "   $$p({v_i}|\\mathbf h)= \\sigma\\left(\\sum_{j=1}^H W^{T}_{ij} h_j + v_{bias} \\right)$$\n",
    "\n",
    "\n",
    "The samples are generated from this distribution by generating a uniform random variate vector $\\mathbf{\\xi} \\sim U[0,1]$ of length $V$ and comparing to the computed probabilities as\n",
    "\n",
    "<center>If $\\xi_i>p(v_{i}|\\mathbf{h})$, then $v_i=1$, else $v_i=0$.</center>\n",
    "\n",
    "Let vectors $\\mathbf v_k$ and $\\mathbf h_k$ be for the $k$th iteration.  In general, the $kth$ state is generrated as: \n",
    "\n",
    "\n",
    "    \n",
    "<b>Iteration</b> $k$: \n",
    "\n",
    "$$\\mathbf v_{k-1} \\Rightarrow p(\\mathbf h_{k-1}|\\mathbf v_{k-1})\\Rightarrow \\mathbf h_{k-1}\\Rightarrow p(\\mathbf v_{k}|\\mathbf h_{k-1})\\Rightarrow \\mathbf v_k$$       \n",
    "    \n",
    "<h3>Contrastive Divergence (CD-k)</h3>\n",
    "The update of the weight matrix is done during the Contrastive Divergence step. \n",
    "\n",
    "Vectors v0 and vk are used to calculate the activation probabilities for hidden values h0 and hk. The difference between the outer products of those probabilities with input vectors v0 and vk results in the update matrix:\n",
    "\n",
    "\n",
    "$$\\Delta \\mathbf W_k =\\mathbf v_k \\otimes \\mathbf h_k - \\mathbf v_{k-1} \\otimes \\mathbf h_{k-1}$$\n",
    "\n",
    "Contrastive Divergence is actually matrix of values that is computed and used to adjust values of the $\\mathbf W$ matrix. Changing $\\mathbf W$ incrementally leads to training of the  $\\mathbf W$ values. Then, on each step (epoch), $\\mathbf W$ is updated using the following:\n",
    "\n",
    "$$\\mathbf W_k = \\mathbf W_{k-1} + \\alpha * \\Delta \\mathbf W_k$$\n",
    "\n",
    "\n",
    "\n",
    "Reconstruction steps:\n",
    "<ul>\n",
    "    <li> Get one data point from data set, like <i>x</i>, and pass it through the following steps:</li>\n",
    "    \n",
    "<b>Iteration</b> $k=1$: \n",
    "    \n",
    "Sampling (starting with input image)\n",
    "    $$\\mathbf x = \\mathbf v_0 \\Rightarrow p(\\mathbf h_0|\\mathbf v_0)\\Rightarrow \\mathbf h_0 \\Rightarrow p(\\mathbf v_1|\\mathbf h_0)\\Rightarrow \\mathbf v_1$$   \n",
    "    followed by the CD-k step\n",
    "$$\\Delta \\mathbf W_1 =\\mathbf v_1 \\otimes \\mathbf h_1 - \\mathbf v_{0} \\otimes \\mathbf h_{0}$$     \n",
    "$$\\mathbf W_1 = \\mathbf W_{0} + \\alpha * \\Delta \\mathbf W_1$$ \n",
    " \n",
    "<li> $\\mathbf v_1$ is the reconstruction of $\\mathbf x$ sent to the next iteration).</li>\n",
    "\n",
    "<b>Iteration</b> $k=2$: \n",
    "\n",
    "Sampling (starting with $\\mathbf v_1$)\n",
    "\n",
    "$$\\mathbf v_1 \\Rightarrow p(\\mathbf h_1|\\mathbf v_1)\\Rightarrow \\mathbf h_1\\Rightarrow p(\\mathbf v_2|\\mathbf h_1)\\Rightarrow \\mathbf v_2$$   \n",
    "\n",
    "followed by the CD-k step\n",
    "$$\\Delta \\mathbf W_2 =\\mathbf v_2 \\otimes \\mathbf h_2 - \\mathbf v_{1} \\otimes \\mathbf h_{1}$$     \n",
    "$$\\mathbf W_2 = \\mathbf W_{1} + \\alpha * \\Delta \\mathbf W_2$$ \n",
    "\n",
    "<li> $\\mathbf v_2$ is the reconstruction of $\\mathbf v_1$ sent to the next iteration).</li>    \n",
    "      \n",
    "<b>Iteration</b> $k=K$:\n",
    "    \n",
    "Sampling (starting with $\\mathbf v_{K-1}$)\n",
    "\n",
    "$$\\mathbf v_{K-1} \\Rightarrow p(\\mathbf h_{K-1}|\\mathbf v_{K-1})\\Rightarrow \\mathbf h_{K-1}\\Rightarrow p(\\mathbf v_K|\\mathbf h_{K-1})\\Rightarrow \\mathbf v_K$$   \n",
    "\n",
    "followed by the CD-k step\n",
    "$$\\Delta \\mathbf W_K =\\mathbf v_K \\otimes \\mathbf h_K - \\mathbf v_{K-1} \\otimes \\mathbf h_{K-1}$$     \n",
    "$$\\mathbf W_K = \\mathbf W_{K-1} + \\alpha * \\Delta \\mathbf W_K$$ \n",
    "    \n",
    "<b>What is $\\alpha$?</b>  \n",
    "Here, alpha is some small step size, and is also known as the \"learning rate\".\n"
   ]
  },
  {
   "cell_type": "markdown",
   "metadata": {},
   "source": [
    "$K$ is adjustable, and good performance can be achieved with $K=1$, so that we just take one set of sampling steps per image.\n"
   ]
  },
  {
   "cell_type": "code",
   "execution_count": 17,
   "metadata": {},
   "outputs": [],
   "source": [
    "h1_prob = tf.nn.sigmoid(tf.matmul([v1_state], W) + hb)\n",
    "h1_state = tf.nn.relu(tf.sign(h1_prob - tf.random.uniform(tf.shape(h1_prob)))) #sample_h_given_X"
   ]
  },
  {
   "cell_type": "markdown",
   "metadata": {},
   "source": [
    "Lets look at the error of the first run:\n"
   ]
  },
  {
   "cell_type": "code",
   "execution_count": 18,
   "metadata": {},
   "outputs": [
    {
     "name": "stdout",
     "output_type": "stream",
     "text": [
      "error:  tf.Tensor(0.502551, shape=(), dtype=float32)\n"
     ]
    }
   ],
   "source": [
    "print(\"error: \", error(v0_state, v1_state))"
   ]
  },
  {
   "cell_type": "code",
   "execution_count": 19,
   "metadata": {},
   "outputs": [
    {
     "name": "stdout",
     "output_type": "stream",
     "text": [
      "Epoch: 0 batch #: 1  of 300 sample #: 199 reconstruction error: 0.179094\n",
      "Epoch: 0 batch #: 2  of 300 sample #: 199 reconstruction error: 0.231370\n",
      "Epoch: 0 batch #: 3  of 300 sample #: 199 reconstruction error: 0.126162\n",
      "Epoch: 0 batch #: 4  of 300 sample #: 199 reconstruction error: 0.114492\n",
      "Epoch: 0 batch #: 5  of 300 sample #: 199 reconstruction error: 0.113433\n",
      "Epoch: 0 batch #: 6  of 300 sample #: 199 reconstruction error: 0.202305\n",
      "Epoch: 0 batch #: 7  of 300 sample #: 199 reconstruction error: 0.096332\n",
      "Epoch: 0 batch #: 8  of 300 sample #: 199 reconstruction error: 0.109730\n",
      "Epoch: 0 batch #: 9  of 300 sample #: 199 reconstruction error: 0.101568\n",
      "Epoch: 0 batch #: 10  of 300 sample #: 199 reconstruction error: 0.175256\n",
      "Epoch: 0 batch #: 11  of 300 sample #: 199 reconstruction error: 0.092636\n",
      "Epoch: 0 batch #: 12  of 300 sample #: 199 reconstruction error: 0.140372\n",
      "Epoch: 0 batch #: 13  of 300 sample #: 199 reconstruction error: 0.066414\n",
      "Epoch: 0 batch #: 14  of 300 sample #: 199 reconstruction error: 0.110656\n",
      "Epoch: 0 batch #: 15  of 300 sample #: 199 reconstruction error: 0.097370\n",
      "Epoch: 0 batch #: 16  of 300 sample #: 199 reconstruction error: 0.098874\n",
      "Epoch: 0 batch #: 17  of 300 sample #: 199 reconstruction error: 0.074202\n",
      "Epoch: 0 batch #: 18  of 300 sample #: 199 reconstruction error: 0.123456\n",
      "Epoch: 0 batch #: 19  of 300 sample #: 199 reconstruction error: 0.133748\n",
      "Epoch: 0 batch #: 20  of 300 sample #: 199 reconstruction error: 0.142948\n",
      "Epoch: 0 batch #: 21  of 300 sample #: 199 reconstruction error: 0.091274\n",
      "Epoch: 0 batch #: 22  of 300 sample #: 199 reconstruction error: 0.085802\n",
      "Epoch: 0 batch #: 23  of 300 sample #: 199 reconstruction error: 0.115467\n",
      "Epoch: 0 batch #: 24  of 300 sample #: 199 reconstruction error: 0.131577\n",
      "Epoch: 0 batch #: 25  of 300 sample #: 199 reconstruction error: 0.086544\n",
      "Epoch: 0 batch #: 26  of 300 sample #: 199 reconstruction error: 0.101573\n",
      "Epoch: 0 batch #: 27  of 300 sample #: 199 reconstruction error: 0.098724\n",
      "Epoch: 0 batch #: 28  of 300 sample #: 199 reconstruction error: 0.070825\n",
      "Epoch: 0 batch #: 29  of 300 sample #: 199 reconstruction error: 0.093888\n",
      "Epoch: 0 batch #: 30  of 300 sample #: 199 reconstruction error: 0.079730\n",
      "Epoch: 0 batch #: 31  of 300 sample #: 199 reconstruction error: 0.084961\n",
      "Epoch: 0 batch #: 32  of 300 sample #: 199 reconstruction error: 0.120149\n",
      "Epoch: 0 batch #: 33  of 300 sample #: 199 reconstruction error: 0.068251\n",
      "Epoch: 0 batch #: 34  of 300 sample #: 199 reconstruction error: 0.070228\n",
      "Epoch: 0 batch #: 35  of 300 sample #: 199 reconstruction error: 0.077851\n",
      "Epoch: 0 batch #: 36  of 300 sample #: 199 reconstruction error: 0.099445\n",
      "Epoch: 0 batch #: 37  of 300 sample #: 199 reconstruction error: 0.058207\n",
      "Epoch: 0 batch #: 38  of 300 sample #: 199 reconstruction error: 0.065506\n",
      "Epoch: 0 batch #: 39  of 300 sample #: 199 reconstruction error: 0.088320\n",
      "Epoch: 0 batch #: 40  of 300 sample #: 199 reconstruction error: 0.116411\n",
      "Epoch: 0 batch #: 41  of 300 sample #: 199 reconstruction error: 0.096900\n",
      "Epoch: 0 batch #: 42  of 300 sample #: 199 reconstruction error: 0.044656\n",
      "Epoch: 0 batch #: 43  of 300 sample #: 199 reconstruction error: 0.121987\n",
      "Epoch: 0 batch #: 44  of 300 sample #: 199 reconstruction error: 0.065873\n",
      "Epoch: 0 batch #: 45  of 300 sample #: 199 reconstruction error: 0.055650\n",
      "Epoch: 0 batch #: 46  of 300 sample #: 199 reconstruction error: 0.032962\n",
      "Epoch: 0 batch #: 47  of 300 sample #: 199 reconstruction error: 0.038840\n",
      "Epoch: 0 batch #: 48  of 300 sample #: 199 reconstruction error: 0.041772\n",
      "Epoch: 0 batch #: 49  of 300 sample #: 199 reconstruction error: 0.142420\n",
      "Epoch: 0 batch #: 50  of 300 sample #: 199 reconstruction error: 0.054404\n",
      "Epoch: 0 batch #: 51  of 300 sample #: 199 reconstruction error: 0.060660\n",
      "Epoch: 0 batch #: 52  of 300 sample #: 199 reconstruction error: 0.036751\n",
      "Epoch: 0 batch #: 53  of 300 sample #: 199 reconstruction error: 0.117972\n",
      "Epoch: 0 batch #: 54  of 300 sample #: 199 reconstruction error: 0.068536\n",
      "Epoch: 0 batch #: 55  of 300 sample #: 199 reconstruction error: 0.105263\n",
      "Epoch: 0 batch #: 56  of 300 sample #: 199 reconstruction error: 0.066820\n",
      "Epoch: 0 batch #: 57  of 300 sample #: 199 reconstruction error: 0.048009\n",
      "Epoch: 0 batch #: 58  of 300 sample #: 199 reconstruction error: 0.064338\n",
      "Epoch: 0 batch #: 59  of 300 sample #: 199 reconstruction error: 0.064319\n",
      "Epoch: 0 batch #: 60  of 300 sample #: 199 reconstruction error: 0.100707\n",
      "Epoch: 0 batch #: 61  of 300 sample #: 199 reconstruction error: 0.073809\n",
      "Epoch: 0 batch #: 62  of 300 sample #: 199 reconstruction error: 0.076547\n",
      "Epoch: 0 batch #: 63  of 300 sample #: 199 reconstruction error: 0.047618\n",
      "Epoch: 0 batch #: 64  of 300 sample #: 199 reconstruction error: 0.102584\n",
      "Epoch: 0 batch #: 65  of 300 sample #: 199 reconstruction error: 0.093158\n",
      "Epoch: 0 batch #: 66  of 300 sample #: 199 reconstruction error: 0.046280\n",
      "Epoch: 0 batch #: 67  of 300 sample #: 199 reconstruction error: 0.047009\n",
      "Epoch: 0 batch #: 68  of 300 sample #: 199 reconstruction error: 0.052709\n",
      "Epoch: 0 batch #: 69  of 300 sample #: 199 reconstruction error: 0.059513\n",
      "Epoch: 0 batch #: 70  of 300 sample #: 199 reconstruction error: 0.093427\n",
      "Epoch: 0 batch #: 71  of 300 sample #: 199 reconstruction error: 0.095028\n",
      "Epoch: 0 batch #: 72  of 300 sample #: 199 reconstruction error: 0.067418\n",
      "Epoch: 0 batch #: 73  of 300 sample #: 199 reconstruction error: 0.089905\n",
      "Epoch: 0 batch #: 74  of 300 sample #: 199 reconstruction error: 0.090568\n",
      "Epoch: 0 batch #: 75  of 300 sample #: 199 reconstruction error: 0.051179\n",
      "Epoch: 0 batch #: 76  of 300 sample #: 199 reconstruction error: 0.086004\n",
      "Epoch: 0 batch #: 77  of 300 sample #: 199 reconstruction error: 0.104760\n",
      "Epoch: 0 batch #: 78  of 300 sample #: 199 reconstruction error: 0.112833\n",
      "Epoch: 0 batch #: 79  of 300 sample #: 199 reconstruction error: 0.126109\n",
      "Epoch: 0 batch #: 80  of 300 sample #: 199 reconstruction error: 0.029190\n",
      "Epoch: 0 batch #: 81  of 300 sample #: 199 reconstruction error: 0.046613\n",
      "Epoch: 0 batch #: 82  of 300 sample #: 199 reconstruction error: 0.039955\n",
      "Epoch: 0 batch #: 83  of 300 sample #: 199 reconstruction error: 0.082442\n",
      "Epoch: 0 batch #: 84  of 300 sample #: 199 reconstruction error: 0.085071\n",
      "Epoch: 0 batch #: 85  of 300 sample #: 199 reconstruction error: 0.050515\n",
      "Epoch: 0 batch #: 86  of 300 sample #: 199 reconstruction error: 0.099534\n",
      "Epoch: 0 batch #: 87  of 300 sample #: 199 reconstruction error: 0.086445\n",
      "Epoch: 0 batch #: 88  of 300 sample #: 199 reconstruction error: 0.037731\n",
      "Epoch: 0 batch #: 89  of 300 sample #: 199 reconstruction error: 0.068032\n",
      "Epoch: 0 batch #: 90  of 300 sample #: 199 reconstruction error: 0.072999\n",
      "Epoch: 0 batch #: 91  of 300 sample #: 199 reconstruction error: 0.061016\n",
      "Epoch: 0 batch #: 92  of 300 sample #: 199 reconstruction error: 0.062237\n",
      "Epoch: 0 batch #: 93  of 300 sample #: 199 reconstruction error: 0.117258\n",
      "Epoch: 0 batch #: 94  of 300 sample #: 199 reconstruction error: 0.133483\n",
      "Epoch: 0 batch #: 95  of 300 sample #: 199 reconstruction error: 0.068397\n",
      "Epoch: 0 batch #: 96  of 300 sample #: 199 reconstruction error: 0.040115\n",
      "Epoch: 0 batch #: 97  of 300 sample #: 199 reconstruction error: 0.105775\n",
      "Epoch: 0 batch #: 98  of 300 sample #: 199 reconstruction error: 0.087789\n",
      "Epoch: 0 batch #: 99  of 300 sample #: 199 reconstruction error: 0.068555\n",
      "Epoch: 0 batch #: 100  of 300 sample #: 199 reconstruction error: 0.104801\n",
      "Epoch: 0 batch #: 101  of 300 sample #: 199 reconstruction error: 0.077634\n",
      "Epoch: 0 batch #: 102  of 300 sample #: 199 reconstruction error: 0.077920\n",
      "Epoch: 0 batch #: 103  of 300 sample #: 199 reconstruction error: 0.075383\n",
      "Epoch: 0 batch #: 104  of 300 sample #: 199 reconstruction error: 0.073188\n",
      "Epoch: 0 batch #: 105  of 300 sample #: 199 reconstruction error: 0.059241\n",
      "Epoch: 0 batch #: 106  of 300 sample #: 199 reconstruction error: 0.104661\n",
      "Epoch: 0 batch #: 107  of 300 sample #: 199 reconstruction error: 0.122176\n",
      "Epoch: 0 batch #: 108  of 300 sample #: 199 reconstruction error: 0.065821\n",
      "Epoch: 0 batch #: 109  of 300 sample #: 199 reconstruction error: 0.113226\n",
      "Epoch: 0 batch #: 110  of 300 sample #: 199 reconstruction error: 0.073527\n",
      "Epoch: 0 batch #: 111  of 300 sample #: 199 reconstruction error: 0.100192\n",
      "Epoch: 0 batch #: 112  of 300 sample #: 199 reconstruction error: 0.045398\n",
      "Epoch: 0 batch #: 113  of 300 sample #: 199 reconstruction error: 0.062524\n",
      "Epoch: 0 batch #: 114  of 300 sample #: 199 reconstruction error: 0.062369\n",
      "Epoch: 0 batch #: 115  of 300 sample #: 199 reconstruction error: 0.059751\n",
      "Epoch: 0 batch #: 116  of 300 sample #: 199 reconstruction error: 0.057478\n",
      "Epoch: 0 batch #: 117  of 300 sample #: 199 reconstruction error: 0.040627\n",
      "Epoch: 0 batch #: 118  of 300 sample #: 199 reconstruction error: 0.058339\n",
      "Epoch: 0 batch #: 119  of 300 sample #: 199 reconstruction error: 0.111253\n",
      "Epoch: 0 batch #: 120  of 300 sample #: 199 reconstruction error: 0.079878\n",
      "Epoch: 0 batch #: 121  of 300 sample #: 199 reconstruction error: 0.043268\n",
      "Epoch: 0 batch #: 122  of 300 sample #: 199 reconstruction error: 0.092739\n",
      "Epoch: 0 batch #: 123  of 300 sample #: 199 reconstruction error: 0.061347\n",
      "Epoch: 0 batch #: 124  of 300 sample #: 199 reconstruction error: 0.062269\n",
      "Epoch: 0 batch #: 125  of 300 sample #: 199 reconstruction error: 0.055240\n",
      "Epoch: 0 batch #: 126  of 300 sample #: 199 reconstruction error: 0.105660\n",
      "Epoch: 0 batch #: 127  of 300 sample #: 199 reconstruction error: 0.083712\n",
      "Epoch: 0 batch #: 128  of 300 sample #: 199 reconstruction error: 0.066186\n",
      "Epoch: 0 batch #: 129  of 300 sample #: 199 reconstruction error: 0.058553\n",
      "Epoch: 0 batch #: 130  of 300 sample #: 199 reconstruction error: 0.068906\n",
      "Epoch: 0 batch #: 131  of 300 sample #: 199 reconstruction error: 0.071225\n",
      "Epoch: 0 batch #: 132  of 300 sample #: 199 reconstruction error: 0.055564\n",
      "Epoch: 0 batch #: 133  of 300 sample #: 199 reconstruction error: 0.048497\n",
      "Epoch: 0 batch #: 134  of 300 sample #: 199 reconstruction error: 0.101334\n",
      "Epoch: 0 batch #: 135  of 300 sample #: 199 reconstruction error: 0.103817\n",
      "Epoch: 0 batch #: 136  of 300 sample #: 199 reconstruction error: 0.104580\n",
      "Epoch: 0 batch #: 137  of 300 sample #: 199 reconstruction error: 0.067200\n",
      "Epoch: 0 batch #: 138  of 300 sample #: 199 reconstruction error: 0.085012\n",
      "Epoch: 0 batch #: 139  of 300 sample #: 199 reconstruction error: 0.112756\n",
      "Epoch: 0 batch #: 140  of 300 sample #: 199 reconstruction error: 0.078887\n",
      "Epoch: 0 batch #: 141  of 300 sample #: 199 reconstruction error: 0.083015\n",
      "Epoch: 0 batch #: 142  of 300 sample #: 199 reconstruction error: 0.058970\n",
      "Epoch: 0 batch #: 143  of 300 sample #: 199 reconstruction error: 0.056521\n",
      "Epoch: 0 batch #: 144  of 300 sample #: 199 reconstruction error: 0.071364\n",
      "Epoch: 0 batch #: 145  of 300 sample #: 199 reconstruction error: 0.100970\n",
      "Epoch: 0 batch #: 146  of 300 sample #: 199 reconstruction error: 0.105525\n",
      "Epoch: 0 batch #: 147  of 300 sample #: 199 reconstruction error: 0.071061\n",
      "Epoch: 0 batch #: 148  of 300 sample #: 199 reconstruction error: 0.084433\n",
      "Epoch: 0 batch #: 149  of 300 sample #: 199 reconstruction error: 0.037645\n",
      "Epoch: 0 batch #: 150  of 300 sample #: 199 reconstruction error: 0.039163\n",
      "Epoch: 0 batch #: 151  of 300 sample #: 199 reconstruction error: 0.114090\n",
      "Epoch: 0 batch #: 152  of 300 sample #: 199 reconstruction error: 0.088291\n",
      "Epoch: 0 batch #: 153  of 300 sample #: 199 reconstruction error: 0.059447\n",
      "Epoch: 0 batch #: 154  of 300 sample #: 199 reconstruction error: 0.069195\n",
      "Epoch: 0 batch #: 155  of 300 sample #: 199 reconstruction error: 0.063483\n",
      "Epoch: 0 batch #: 156  of 300 sample #: 199 reconstruction error: 0.095085\n",
      "Epoch: 0 batch #: 157  of 300 sample #: 199 reconstruction error: 0.084696\n",
      "Epoch: 0 batch #: 158  of 300 sample #: 199 reconstruction error: 0.076097\n",
      "Epoch: 0 batch #: 159  of 300 sample #: 199 reconstruction error: 0.063868\n",
      "Epoch: 0 batch #: 160  of 300 sample #: 199 reconstruction error: 0.074400\n",
      "Epoch: 0 batch #: 161  of 300 sample #: 199 reconstruction error: 0.075957\n",
      "Epoch: 0 batch #: 162  of 300 sample #: 199 reconstruction error: 0.105200\n",
      "Epoch: 0 batch #: 163  of 300 sample #: 199 reconstruction error: 0.045189\n",
      "Epoch: 0 batch #: 164  of 300 sample #: 199 reconstruction error: 0.065850\n",
      "Epoch: 0 batch #: 165  of 300 sample #: 199 reconstruction error: 0.070336\n",
      "Epoch: 0 batch #: 166  of 300 sample #: 199 reconstruction error: 0.054843\n",
      "Epoch: 0 batch #: 167  of 300 sample #: 199 reconstruction error: 0.093702\n",
      "Epoch: 0 batch #: 168  of 300 sample #: 199 reconstruction error: 0.064788\n",
      "Epoch: 0 batch #: 169  of 300 sample #: 199 reconstruction error: 0.038467\n",
      "Epoch: 0 batch #: 170  of 300 sample #: 199 reconstruction error: 0.056673\n",
      "Epoch: 0 batch #: 171  of 300 sample #: 199 reconstruction error: 0.040325\n",
      "Epoch: 0 batch #: 172  of 300 sample #: 199 reconstruction error: 0.051607\n",
      "Epoch: 0 batch #: 173  of 300 sample #: 199 reconstruction error: 0.085424\n",
      "Epoch: 0 batch #: 174  of 300 sample #: 199 reconstruction error: 0.099250\n",
      "Epoch: 0 batch #: 175  of 300 sample #: 199 reconstruction error: 0.062464\n",
      "Epoch: 0 batch #: 176  of 300 sample #: 199 reconstruction error: 0.039614\n",
      "Epoch: 0 batch #: 177  of 300 sample #: 199 reconstruction error: 0.030195\n",
      "Epoch: 0 batch #: 178  of 300 sample #: 199 reconstruction error: 0.107336\n",
      "Epoch: 0 batch #: 179  of 300 sample #: 199 reconstruction error: 0.064200\n",
      "Epoch: 0 batch #: 180  of 300 sample #: 199 reconstruction error: 0.093320\n",
      "Epoch: 0 batch #: 181  of 300 sample #: 199 reconstruction error: 0.091766\n",
      "Epoch: 0 batch #: 182  of 300 sample #: 199 reconstruction error: 0.083754\n",
      "Epoch: 0 batch #: 183  of 300 sample #: 199 reconstruction error: 0.115266\n",
      "Epoch: 0 batch #: 184  of 300 sample #: 199 reconstruction error: 0.050003\n",
      "Epoch: 0 batch #: 185  of 300 sample #: 199 reconstruction error: 0.074494\n",
      "Epoch: 0 batch #: 186  of 300 sample #: 199 reconstruction error: 0.098742\n",
      "Epoch: 0 batch #: 187  of 300 sample #: 199 reconstruction error: 0.054907\n",
      "Epoch: 0 batch #: 188  of 300 sample #: 199 reconstruction error: 0.113506\n",
      "Epoch: 0 batch #: 189  of 300 sample #: 199 reconstruction error: 0.078627\n",
      "Epoch: 0 batch #: 190  of 300 sample #: 199 reconstruction error: 0.077054\n",
      "Epoch: 0 batch #: 191  of 300 sample #: 199 reconstruction error: 0.110220\n",
      "Epoch: 0 batch #: 192  of 300 sample #: 199 reconstruction error: 0.115707\n",
      "Epoch: 0 batch #: 193  of 300 sample #: 199 reconstruction error: 0.103304\n",
      "Epoch: 0 batch #: 194  of 300 sample #: 199 reconstruction error: 0.075467\n",
      "Epoch: 0 batch #: 195  of 300 sample #: 199 reconstruction error: 0.048144\n",
      "Epoch: 0 batch #: 196  of 300 sample #: 199 reconstruction error: 0.044932\n",
      "Epoch: 0 batch #: 197  of 300 sample #: 199 reconstruction error: 0.054735\n",
      "Epoch: 0 batch #: 198  of 300 sample #: 199 reconstruction error: 0.088088\n",
      "Epoch: 0 batch #: 199  of 300 sample #: 199 reconstruction error: 0.078353\n",
      "Epoch: 0 batch #: 200  of 300 sample #: 199 reconstruction error: 0.079717\n",
      "Epoch: 0 batch #: 201  of 300 sample #: 199 reconstruction error: 0.095514\n",
      "Epoch: 0 batch #: 202  of 300 sample #: 199 reconstruction error: 0.028943\n",
      "Epoch: 0 batch #: 203  of 300 sample #: 199 reconstruction error: 0.085585\n",
      "Epoch: 0 batch #: 204  of 300 sample #: 199 reconstruction error: 0.055651\n",
      "Epoch: 0 batch #: 205  of 300 sample #: 199 reconstruction error: 0.027573\n",
      "Epoch: 0 batch #: 206  of 300 sample #: 199 reconstruction error: 0.069175\n",
      "Epoch: 0 batch #: 207  of 300 sample #: 199 reconstruction error: 0.085785\n",
      "Epoch: 0 batch #: 208  of 300 sample #: 199 reconstruction error: 0.054955\n",
      "Epoch: 0 batch #: 209  of 300 sample #: 199 reconstruction error: 0.025939\n",
      "Epoch: 0 batch #: 210  of 300 sample #: 199 reconstruction error: 0.101838\n",
      "Epoch: 0 batch #: 211  of 300 sample #: 199 reconstruction error: 0.100673\n",
      "Epoch: 0 batch #: 212  of 300 sample #: 199 reconstruction error: 0.100253\n",
      "Epoch: 0 batch #: 213  of 300 sample #: 199 reconstruction error: 0.112938\n",
      "Epoch: 0 batch #: 214  of 300 sample #: 199 reconstruction error: 0.102289\n",
      "Epoch: 0 batch #: 215  of 300 sample #: 199 reconstruction error: 0.033184\n",
      "Epoch: 0 batch #: 216  of 300 sample #: 199 reconstruction error: 0.084161\n",
      "Epoch: 0 batch #: 217  of 300 sample #: 199 reconstruction error: 0.077074\n",
      "Epoch: 0 batch #: 218  of 300 sample #: 199 reconstruction error: 0.072798\n",
      "Epoch: 0 batch #: 219  of 300 sample #: 199 reconstruction error: 0.076438\n",
      "Epoch: 0 batch #: 220  of 300 sample #: 199 reconstruction error: 0.055659\n",
      "Epoch: 0 batch #: 221  of 300 sample #: 199 reconstruction error: 0.072547\n",
      "Epoch: 0 batch #: 222  of 300 sample #: 199 reconstruction error: 0.102237\n",
      "Epoch: 0 batch #: 223  of 300 sample #: 199 reconstruction error: 0.074264\n",
      "Epoch: 0 batch #: 224  of 300 sample #: 199 reconstruction error: 0.053362\n",
      "Epoch: 0 batch #: 225  of 300 sample #: 199 reconstruction error: 0.068592\n",
      "Epoch: 0 batch #: 226  of 300 sample #: 199 reconstruction error: 0.125601\n",
      "Epoch: 0 batch #: 227  of 300 sample #: 199 reconstruction error: 0.076546\n",
      "Epoch: 0 batch #: 228  of 300 sample #: 199 reconstruction error: 0.073018\n",
      "Epoch: 0 batch #: 229  of 300 sample #: 199 reconstruction error: 0.086014\n",
      "Epoch: 0 batch #: 230  of 300 sample #: 199 reconstruction error: 0.034243\n",
      "Epoch: 0 batch #: 231  of 300 sample #: 199 reconstruction error: 0.027580\n",
      "Epoch: 0 batch #: 232  of 300 sample #: 199 reconstruction error: 0.079763\n",
      "Epoch: 0 batch #: 233  of 300 sample #: 199 reconstruction error: 0.077273\n",
      "Epoch: 0 batch #: 234  of 300 sample #: 199 reconstruction error: 0.056068\n",
      "Epoch: 0 batch #: 235  of 300 sample #: 199 reconstruction error: 0.081465\n",
      "Epoch: 0 batch #: 236  of 300 sample #: 199 reconstruction error: 0.112386\n",
      "Epoch: 0 batch #: 237  of 300 sample #: 199 reconstruction error: 0.068715\n",
      "Epoch: 0 batch #: 238  of 300 sample #: 199 reconstruction error: 0.119462\n",
      "Epoch: 0 batch #: 239  of 300 sample #: 199 reconstruction error: 0.028255\n",
      "Epoch: 0 batch #: 240  of 300 sample #: 199 reconstruction error: 0.110907\n",
      "Epoch: 0 batch #: 241  of 300 sample #: 199 reconstruction error: 0.095811\n",
      "Epoch: 0 batch #: 242  of 300 sample #: 199 reconstruction error: 0.074702\n",
      "Epoch: 0 batch #: 243  of 300 sample #: 199 reconstruction error: 0.054964\n",
      "Epoch: 0 batch #: 244  of 300 sample #: 199 reconstruction error: 0.073835\n",
      "Epoch: 0 batch #: 245  of 300 sample #: 199 reconstruction error: 0.061818\n",
      "Epoch: 0 batch #: 246  of 300 sample #: 199 reconstruction error: 0.087640\n",
      "Epoch: 0 batch #: 247  of 300 sample #: 199 reconstruction error: 0.046690\n",
      "Epoch: 0 batch #: 248  of 300 sample #: 199 reconstruction error: 0.058253\n",
      "Epoch: 0 batch #: 249  of 300 sample #: 199 reconstruction error: 0.050928\n",
      "Epoch: 0 batch #: 250  of 300 sample #: 199 reconstruction error: 0.075136\n",
      "Epoch: 0 batch #: 251  of 300 sample #: 199 reconstruction error: 0.052253\n",
      "Epoch: 0 batch #: 252  of 300 sample #: 199 reconstruction error: 0.064400\n",
      "Epoch: 0 batch #: 253  of 300 sample #: 199 reconstruction error: 0.055200\n",
      "Epoch: 0 batch #: 254  of 300 sample #: 199 reconstruction error: 0.033494\n",
      "Epoch: 0 batch #: 255  of 300 sample #: 199 reconstruction error: 0.048235\n",
      "Epoch: 0 batch #: 256  of 300 sample #: 199 reconstruction error: 0.090220\n",
      "Epoch: 0 batch #: 257  of 300 sample #: 199 reconstruction error: 0.084081\n",
      "Epoch: 0 batch #: 258  of 300 sample #: 199 reconstruction error: 0.083206\n",
      "Epoch: 0 batch #: 259  of 300 sample #: 199 reconstruction error: 0.062578\n",
      "Epoch: 0 batch #: 260  of 300 sample #: 199 reconstruction error: 0.097043\n",
      "Epoch: 0 batch #: 261  of 300 sample #: 199 reconstruction error: 0.040529\n",
      "Epoch: 0 batch #: 262  of 300 sample #: 199 reconstruction error: 0.055284\n",
      "Epoch: 0 batch #: 263  of 300 sample #: 199 reconstruction error: 0.088061\n",
      "Epoch: 0 batch #: 264  of 300 sample #: 199 reconstruction error: 0.073144\n",
      "Epoch: 0 batch #: 265  of 300 sample #: 199 reconstruction error: 0.076661\n",
      "Epoch: 0 batch #: 266  of 300 sample #: 199 reconstruction error: 0.040636\n",
      "Epoch: 0 batch #: 267  of 300 sample #: 199 reconstruction error: 0.062094\n",
      "Epoch: 0 batch #: 268  of 300 sample #: 199 reconstruction error: 0.021989\n",
      "Epoch: 0 batch #: 269  of 300 sample #: 199 reconstruction error: 0.091279\n",
      "Epoch: 0 batch #: 270  of 300 sample #: 199 reconstruction error: 0.077324\n",
      "Epoch: 0 batch #: 271  of 300 sample #: 199 reconstruction error: 0.055822\n",
      "Epoch: 0 batch #: 272  of 300 sample #: 199 reconstruction error: 0.066178\n",
      "Epoch: 0 batch #: 273  of 300 sample #: 199 reconstruction error: 0.053312\n",
      "Epoch: 0 batch #: 274  of 300 sample #: 199 reconstruction error: 0.062240\n",
      "Epoch: 0 batch #: 275  of 300 sample #: 199 reconstruction error: 0.099966\n",
      "Epoch: 0 batch #: 276  of 300 sample #: 199 reconstruction error: 0.066303\n",
      "Epoch: 0 batch #: 277  of 300 sample #: 199 reconstruction error: 0.065411\n",
      "Epoch: 0 batch #: 278  of 300 sample #: 199 reconstruction error: 0.070374\n",
      "Epoch: 0 batch #: 279  of 300 sample #: 199 reconstruction error: 0.044483\n",
      "Epoch: 0 batch #: 280  of 300 sample #: 199 reconstruction error: 0.073952\n",
      "Epoch: 0 batch #: 281  of 300 sample #: 199 reconstruction error: 0.073589\n",
      "Epoch: 0 batch #: 282  of 300 sample #: 199 reconstruction error: 0.102530\n",
      "Epoch: 0 batch #: 283  of 300 sample #: 199 reconstruction error: 0.051163\n",
      "Epoch: 0 batch #: 284  of 300 sample #: 199 reconstruction error: 0.052343\n",
      "Epoch: 0 batch #: 285  of 300 sample #: 199 reconstruction error: 0.070948\n",
      "Epoch: 0 batch #: 286  of 300 sample #: 199 reconstruction error: 0.077581\n",
      "Epoch: 0 batch #: 287  of 300 sample #: 199 reconstruction error: 0.067553\n",
      "Epoch: 0 batch #: 288  of 300 sample #: 199 reconstruction error: 0.025917\n",
      "Epoch: 0 batch #: 289  of 300 sample #: 199 reconstruction error: 0.093835\n",
      "Epoch: 0 batch #: 290  of 300 sample #: 199 reconstruction error: 0.101600\n",
      "Epoch: 0 batch #: 291  of 300 sample #: 199 reconstruction error: 0.118982\n",
      "Epoch: 0 batch #: 292  of 300 sample #: 199 reconstruction error: 0.063309\n",
      "Epoch: 0 batch #: 293  of 300 sample #: 199 reconstruction error: 0.064593\n",
      "Epoch: 0 batch #: 294  of 300 sample #: 199 reconstruction error: 0.068290\n",
      "Epoch: 0 batch #: 295  of 300 sample #: 199 reconstruction error: 0.063983\n",
      "Epoch: 0 batch #: 296  of 300 sample #: 199 reconstruction error: 0.038268\n",
      "Epoch: 0 batch #: 297  of 300 sample #: 199 reconstruction error: 0.102471\n",
      "Epoch: 0 batch #: 298  of 300 sample #: 199 reconstruction error: 0.042233\n",
      "Epoch: 0 batch #: 299  of 300 sample #: 199 reconstruction error: 0.054947\n",
      "Epoch: 0 batch #: 300  of 300 sample #: 199 reconstruction error: 0.084275\n"
     ]
    }
   ],
   "source": [
    "#Parameters\n",
    "alpha = 0.01\n",
    "epochs = 1\n",
    "batchsize = 200\n",
    "weights = []\n",
    "errors = []\n",
    "batch_number = 0\n",
    "K = 1\n",
    "\n",
    "#creating datasets\n",
    "train_ds = \\\n",
    "    tf.data.Dataset.from_tensor_slices((trX, trY)).batch(batchsize)\n",
    "\n",
    "for epoch in range(epochs):\n",
    "    for batch_x, batch_y in train_ds:\n",
    "        batch_number += 1\n",
    "        for i_sample in range(batchsize):           \n",
    "            for k in range(K):\n",
    "                v0_state = batch_x[i_sample]\n",
    "                h0_state = hidden_layer(v0_state, W, hb)\n",
    "                v1_state = reconstructed_output(h0_state, W, vb)\n",
    "                h1_state = hidden_layer(v1_state, W, hb)\n",
    "\n",
    "                delta_W = tf.matmul(tf.transpose([v0_state]), h0_state) - tf.matmul(tf.transpose([v1_state]), h1_state)\n",
    "                W = W + alpha * delta_W\n",
    "\n",
    "                vb = vb + alpha * tf.reduce_mean(v0_state - v1_state, 0)\n",
    "                hb = hb + alpha * tf.reduce_mean(h0_state - h1_state, 0) \n",
    "\n",
    "                v0_state = v1_state\n",
    "\n",
    "            if i_sample == batchsize-1:\n",
    "                err = error(batch_x[i_sample], v1_state)\n",
    "                errors.append(err)\n",
    "                weights.append(W)\n",
    "                print ( 'Epoch: %d' % epoch, \n",
    "                       \"batch #: %i \" % batch_number, \"of %i\" % int(60e3/batchsize), \n",
    "                       \"sample #: %i\" % i_sample,\n",
    "                       'reconstruction error: %f' % err)\n",
    "\n"
   ]
  },
  {
   "cell_type": "markdown",
   "metadata": {},
   "source": [
    "Let's take a look at the errors at the end of each batch:\n"
   ]
  },
  {
   "cell_type": "code",
   "execution_count": 20,
   "metadata": {},
   "outputs": [
    {
     "data": {
      "image/png": "[encoded data removed]",
      "text/plain": [
       "<Figure size 640x480 with 1 Axes>"
      ]
     },
     "metadata": {},
     "output_type": "display_data"
    }
   ],
   "source": [
    "plt.plot(errors)\n",
    "plt.xlabel(\"Batch Number\")\n",
    "plt.ylabel(\"Error\")\n",
    "plt.show()"
   ]
  },
  {
   "cell_type": "markdown",
   "metadata": {},
   "source": [
    "What is the final weight matrix $W$ after training?\n"
   ]
  },
  {
   "cell_type": "code",
   "execution_count": 21,
   "metadata": {},
   "outputs": [
    {
     "name": "stdout",
     "output_type": "stream",
     "text": [
      "[[-0.18       -0.17       -0.29       ... -0.3799999  -0.19000001\n",
      "  -0.16      ]\n",
      " [-0.20000002 -0.20000002 -0.28       ... -0.3999999  -0.14999999\n",
      "  -0.13999999]\n",
      " [-0.17       -0.19000001 -0.35999992 ... -0.3899999  -0.20000002\n",
      "  -0.16      ]\n",
      " ...\n",
      " [-0.21000002 -0.22000003 -0.33999994 ... -0.34999993 -0.24000004\n",
      "  -0.18      ]\n",
      " [-0.24000004 -0.27       -0.32999995 ... -0.33999994 -0.14999999\n",
      "  -0.17      ]\n",
      " [-0.21000002 -0.20000002 -0.3799999  ... -0.36999992 -0.17\n",
      "  -0.20000002]]\n"
     ]
    }
   ],
   "source": [
    "print(W.numpy()) # a weight matrix of shape (50,784)"
   ]
  },
  {
   "cell_type": "markdown",
   "metadata": {},
   "source": [
    "<a id=\"ref5\"></a>\n",
    "<h3>Learned features</h3> \n"
   ]
  },
  {
   "cell_type": "markdown",
   "metadata": {},
   "source": [
    "We can take each hidden unit and visualize the connections between that hidden unit and each element in the input vector. In our case, we have 50 hidden units. Lets visualize those.\n"
   ]
  },
  {
   "cell_type": "markdown",
   "metadata": {},
   "source": [
    "Let's plot the current weights:\n",
    "<b>tile_raster_images</b> helps in generating an easy to grasp image from a set of samples or weights. It transforms the <b>uw</b> (with one flattened image per row of size 784), into an array (of size $28\\times28$) in which images are reshaped and laid out like tiles on a floor.\n"
   ]
  },
  {
   "cell_type": "code",
   "execution_count": 22,
   "metadata": {},
   "outputs": [
    {
     "data": {
      "image/png": "[encoded data removed]",
      "text/plain": [
       "<Figure size 1800x1800 with 1 Axes>"
      ]
     },
     "metadata": {},
     "output_type": "display_data"
    }
   ],
   "source": [
    "tile_raster_images(X=W.numpy().T, img_shape=(28, 28), tile_shape=(5, 10), tile_spacing=(1, 1))\n",
    "import matplotlib.pyplot as plt\n",
    "from PIL import Image\n",
    "%matplotlib inline\n",
    "image = Image.fromarray(tile_raster_images(X=W.numpy().T, img_shape=(28, 28) ,tile_shape=(5, 10), tile_spacing=(1, 1)))\n",
    "### Plot image\n",
    "plt.rcParams['figure.figsize'] = (18.0, 18.0)\n",
    "imgplot = plt.imshow(image)\n",
    "imgplot.set_cmap('gray')  "
   ]
  },
  {
   "cell_type": "markdown",
   "metadata": {},
   "source": [
    "Each tile in the above visualization corresponds to a vector of connections between a hidden unit and visible layer's units. \n"
   ]
  },
  {
   "cell_type": "markdown",
   "metadata": {},
   "source": [
    "Let's look at one of the learned weights corresponding to one of hidden units for example. In this particular square, the gray color represents weight = 0, and the whiter it is, the more positive the weights are (closer to 1). Conversely, the darker pixels are, the more negative the weights. The positive pixels will increase the probability of activation in hidden units (after multiplying by input/visible pixels), and negative pixels will decrease the probability of a unit hidden to be 1 (activated). So, why is this important?  So we can see that this specific square (hidden unit) can detect a feature (e.g. a \"/\" shape) and if it exists in the input.\n"
   ]
  },
  {
   "cell_type": "code",
   "execution_count": 23,
   "metadata": {},
   "outputs": [
    {
     "data": {
      "image/png": "[encoded data removed]",
      "text/plain": [
       "<Figure size 400x400 with 1 Axes>"
      ]
     },
     "metadata": {},
     "output_type": "display_data"
    }
   ],
   "source": [
    "from PIL import Image\n",
    "image = Image.fromarray(tile_raster_images(X =W.numpy().T[10:11], img_shape=(28, 28),tile_shape=(1, 1), tile_spacing=(1, 1)))\n",
    "### Plot image\n",
    "plt.rcParams['figure.figsize'] = (4.0, 4.0)\n",
    "imgplot = plt.imshow(image)\n",
    "imgplot.set_cmap('gray')  "
   ]
  },
  {
   "cell_type": "markdown",
   "metadata": {},
   "source": [
    "Let's look at the reconstruction of an image now. Imagine that we have a destructed image of figure 3. Lets see if our trained network can fix it:\n",
    "\n",
    "First we plot the image:\n"
   ]
  },
  {
   "cell_type": "code",
   "execution_count": 24,
   "metadata": {},
   "outputs": [
    {
     "name": "stdout",
     "output_type": "stream",
     "text": [
      "--2024-01-12 00:12:25--  https://ibm.box.com/shared/static/vvm1b63uvuxq88vbw9znpwu5ol380mco.jpg\n",
      "Resolving ibm.box.com (ibm.box.com)... 74.112.186.144, 74.112.186.144\n",
      "Connecting to ibm.box.com (ibm.box.com)|74.112.186.144|:443... connected.\n",
      "HTTP request sent, awaiting response... 301 Moved Permanently\n",
      "Location: /public/static/vvm1b63uvuxq88vbw9znpwu5ol380mco.jpg [following]\n",
      "--2024-01-12 00:12:25--  https://ibm.box.com/public/static/vvm1b63uvuxq88vbw9znpwu5ol380mco.jpg\n",
      "Reusing existing connection to ibm.box.com:443.\n",
      "HTTP request sent, awaiting response... 301 Moved Permanently\n",
      "Location: https://ibm.ent.box.com/public/static/vvm1b63uvuxq88vbw9znpwu5ol380mco.jpg [following]\n",
      "--2024-01-12 00:12:25--  https://ibm.ent.box.com/public/static/vvm1b63uvuxq88vbw9znpwu5ol380mco.jpg\n",
      "Resolving ibm.ent.box.com (ibm.ent.box.com)... 74.112.186.144, 74.112.186.144\n",
      "Connecting to ibm.ent.box.com (ibm.ent.box.com)|74.112.186.144|:443... connected.\n",
      "HTTP request sent, awaiting response... 302 Found\n",
      "Location: https://public.boxcloud.com/d/1/b1!zknx8qV9EKLO2N4iy9lFrxknF7btb0xh4qMVKWPpI85_g39dD19n2-47jJW9m_uAvSbrqie_0-kZVK-QJMSjb1zDsl3cZ6V7Fx5yGxcUC30aaJbbY4Fa4TYQvMiQr9ooI-CG6msEsmVJTYX437zkr8U9p8QtqEkPRZKX2jSh6K0VQ3av5v2t9KVtSDJhQxk6c9oOBIhaMvls8TbR1LmCUxSDsr8vBBut06VPdQu0P9WP2Cg1xirZ2OIvWESZjtfjLPZ_GOjiaGPI8eLYmY5Nob4ne5nZev7H5jPen5sLVMKxIwMu1iphx0USrXT8XxUTgI7yAVS3L3gxCV39AouGkDwMfyGIyDOhZhfo5DlGKr9cmYGrned3Wq1nbwvIdJzsAxDQxToiNBMLrUZINTC-C8tikdcMdfp3R5q12KF5f5a-wMevFR7JTlTYFG-0_Go9mYwS-40cWPfo2GGXQTnqfBR_AO7zir8jxbT4C8xk153KPzKYKTY8R4Srz7ycKNlO_7VVVO1UmHaI0iHG9aL4xDnTgHuvuDi1tx27W_Ruishn7YW7mrWOGPIEnbEOtrkoV8xirR2i86tJ2QlnWQOMaO1reXaLv-YHtshBaMVJSr7-f2jlCkaROL1bIPZhuXqbliKraO2uqY1yFFR84EnsIRhFAgLCD7r1fSsTroW9qXt9TGCHOsO-VKZJ-oNYj4_7fyonjbFobFHOMmPYObCgQBrO0FCuFMgYI8bcUaJ9k67xmgpTiDU5QK9Vf6-e2emR-jV2omFUTDWQK3mtT1zCNEDMg-Q9blynug30FoYY6cDc5bF-gu75ptLj4rHAQKUoW0JLTPp7xaIc4yJ8zewFXtqyCKwtGHUoJWCwVtrna095blyFyIbPTXgNODNm9bSsNYpnPBFyV07k07OkKrTvOLbLkRnfKhIDhEAIOT5ezPDD4Mrqd_YEdV7sJAtYqJ_BMvIWEUz2DtaO7Prhq3uid_4tNrJ2aIfjLnVLtiSnZmZ4-C-OdZ3ysw3pGeVHnd3lfpY6KZCs-U068nscwZz5NFZo8KMLaP2K9SrZh_nYip6H1gGaBq5A1lrA3l_4nWp48o-1jsGL20R8hHZUZRZaSXRPMEQCLS3by0R-MvVdd_v25w2vPzzxtnIlGNQlNwywIXCK_26OEjX7odnDMLopILhvaMbh4SLN-pvGhFfIX5xVh1waf3yTsIHKEaZIXirJ3IdUtVnue31i8gWf3eQp2D783ZCG01fw9Mc_05j3h_dFzPinxuOa-7mxs63tbfUwLdNKBrDoTdJBzS0WB_lox67RWMG5cu2K9A5NyRYfWawvzxHo1LY7dY13vU-auBo4kFSErBVYti52jBHpSwhcIVqOk3zahKLX3qwEGjCtzmXcS2WkIAMIUgVSr4w-xYGVDedXaWPI88Btfq3eNLwQc7E./download [following]\n",
      "--2024-01-12 00:12:27--  https://public.boxcloud.com/d/1/b1!zknx8qV9EKLO2N4iy9lFrxknF7btb0xh4qMVKWPpI85_g39dD19n2-47jJW9m_uAvSbrqie_0-kZVK-QJMSjb1zDsl3cZ6V7Fx5yGxcUC30aaJbbY4Fa4TYQvMiQr9ooI-CG6msEsmVJTYX437zkr8U9p8QtqEkPRZKX2jSh6K0VQ3av5v2t9KVtSDJhQxk6c9oOBIhaMvls8TbR1LmCUxSDsr8vBBut06VPdQu0P9WP2Cg1xirZ2OIvWESZjtfjLPZ_GOjiaGPI8eLYmY5Nob4ne5nZev7H5jPen5sLVMKxIwMu1iphx0USrXT8XxUTgI7yAVS3L3gxCV39AouGkDwMfyGIyDOhZhfo5DlGKr9cmYGrned3Wq1nbwvIdJzsAxDQxToiNBMLrUZINTC-C8tikdcMdfp3R5q12KF5f5a-wMevFR7JTlTYFG-0_Go9mYwS-40cWPfo2GGXQTnqfBR_AO7zir8jxbT4C8xk153KPzKYKTY8R4Srz7ycKNlO_7VVVO1UmHaI0iHG9aL4xDnTgHuvuDi1tx27W_Ruishn7YW7mrWOGPIEnbEOtrkoV8xirR2i86tJ2QlnWQOMaO1reXaLv-YHtshBaMVJSr7-f2jlCkaROL1bIPZhuXqbliKraO2uqY1yFFR84EnsIRhFAgLCD7r1fSsTroW9qXt9TGCHOsO-VKZJ-oNYj4_7fyonjbFobFHOMmPYObCgQBrO0FCuFMgYI8bcUaJ9k67xmgpTiDU5QK9Vf6-e2emR-jV2omFUTDWQK3mtT1zCNEDMg-Q9blynug30FoYY6cDc5bF-gu75ptLj4rHAQKUoW0JLTPp7xaIc4yJ8zewFXtqyCKwtGHUoJWCwVtrna095blyFyIbPTXgNODNm9bSsNYpnPBFyV07k07OkKrTvOLbLkRnfKhIDhEAIOT5ezPDD4Mrqd_YEdV7sJAtYqJ_BMvIWEUz2DtaO7Prhq3uid_4tNrJ2aIfjLnVLtiSnZmZ4-C-OdZ3ysw3pGeVHnd3lfpY6KZCs-U068nscwZz5NFZo8KMLaP2K9SrZh_nYip6H1gGaBq5A1lrA3l_4nWp48o-1jsGL20R8hHZUZRZaSXRPMEQCLS3by0R-MvVdd_v25w2vPzzxtnIlGNQlNwywIXCK_26OEjX7odnDMLopILhvaMbh4SLN-pvGhFfIX5xVh1waf3yTsIHKEaZIXirJ3IdUtVnue31i8gWf3eQp2D783ZCG01fw9Mc_05j3h_dFzPinxuOa-7mxs63tbfUwLdNKBrDoTdJBzS0WB_lox67RWMG5cu2K9A5NyRYfWawvzxHo1LY7dY13vU-auBo4kFSErBVYti52jBHpSwhcIVqOk3zahKLX3qwEGjCtzmXcS2WkIAMIUgVSr4w-xYGVDedXaWPI88Btfq3eNLwQc7E./download\n",
      "Resolving public.boxcloud.com (public.boxcloud.com)... 74.112.186.128, 74.112.186.128\n",
      "Connecting to public.boxcloud.com (public.boxcloud.com)|74.112.186.128|:443... connected.\n",
      "HTTP request sent, awaiting response... 200 OK\n",
      "Length: 24383 (24K) [image/jpeg]\n",
      "Saving to: ‘destructed3.jpg’\n",
      "\n",
      "destructed3.jpg     100%[===================>]  23.81K  --.-KB/s    in 0.003s  \n",
      "\n",
      "2024-01-12 00:12:27 (7.30 MB/s) - ‘destructed3.jpg’ saved [24383/24383]\n",
      "\n"
     ]
    },
    {
     "data": {
      "image/png": "[encoded data removed]",
      "text/plain": [
       "<PIL.JpegImagePlugin.JpegImageFile image mode=RGB size=181x181 at 0x7F064060FB90>"
      ]
     },
     "execution_count": 24,
     "metadata": {},
     "output_type": "execute_result"
    }
   ],
   "source": [
    "!wget -O destructed3.jpg  https://ibm.box.com/shared/static/vvm1b63uvuxq88vbw9znpwu5ol380mco.jpg\n",
    "img = Image.open('destructed3.jpg')\n",
    "img"
   ]
  },
  {
   "cell_type": "markdown",
   "metadata": {},
   "source": [
    "Now let's pass this image through the neural net:\n"
   ]
  },
  {
   "cell_type": "code",
   "execution_count": 25,
   "metadata": {},
   "outputs": [],
   "source": [
    "# convert the image to a 1d numpy array\n",
    "sample_case = np.array(img.convert('I').resize((28,28))).ravel().reshape((1, -1))/255.0\n",
    "\n",
    "sample_case = tf.cast(sample_case, dtype=tf.float32)"
   ]
  },
  {
   "cell_type": "markdown",
   "metadata": {},
   "source": [
    "Feed the sample case into the network and reconstruct the output:\n"
   ]
  },
  {
   "cell_type": "code",
   "execution_count": 26,
   "metadata": {},
   "outputs": [
    {
     "name": "stdout",
     "output_type": "stream",
     "text": [
      "Probability nodes in hidden layer: tf.Tensor(\n",
      "[[5.66908810e-03 3.29604186e-03 9.99041080e-01 9.50713019e-09\n",
      "  1.00000000e+00 3.79808480e-05 1.37674436e-01 3.56349796e-02\n",
      "  1.00000000e+00 2.02102680e-03 9.99986827e-01 9.15431857e-01\n",
      "  2.15629314e-07 1.43521643e-17 1.64407954e-08 8.88011515e-01\n",
      "  1.84472554e-13 6.06776774e-01 3.91790822e-09 4.86724616e-09\n",
      "  6.10800564e-01 4.38136262e-15 1.00000000e+00 1.00000000e+00\n",
      "  9.95937228e-01 1.71287522e-01 5.75009138e-12 9.95062828e-01\n",
      "  9.95480835e-01 9.08325359e-11 7.29603767e-01 8.25578633e-11\n",
      "  4.04074967e-01 1.00000000e+00 5.57245330e-05 5.53424051e-03\n",
      "  5.63271642e-01 5.55611308e-08 8.59148277e-05 2.75284456e-05\n",
      "  1.00136709e-14 1.08195866e-16 1.92333654e-01 9.99693930e-01\n",
      "  9.99641418e-01 1.82403237e-05 5.92490917e-11 3.47372595e-15\n",
      "  1.45875674e-05 2.95467714e-07]], shape=(1, 50), dtype=float32)\n",
      "activated nodes in hidden layer: tf.Tensor(\n",
      "[[0. 0. 1. 0. 1. 0. 0. 0. 1. 0. 1. 1. 0. 0. 0. 1. 0. 1. 0. 0. 1. 0. 1. 1.\n",
      "  1. 0. 0. 1. 1. 0. 1. 0. 0. 1. 0. 0. 1. 0. 0. 0. 0. 0. 0. 1. 1. 0. 0. 0.\n",
      "  0. 0.]], shape=(1, 50), dtype=float32)\n",
      "tf.Tensor(\n",
      "[[1.11930036e-04 7.96709646e-05 1.95936271e-04 9.63405255e-05\n",
      "  9.34935233e-05 1.01279526e-04 1.14190858e-04 1.36708099e-04\n",
      "  1.55684131e-04 1.57248593e-04 8.20970745e-05 9.63405255e-05\n",
      "  9.65448708e-05 9.02375323e-05 7.53856075e-05 1.29203239e-04\n",
      "  1.51083572e-04 1.09713765e-04 1.13054746e-04 1.05412284e-04\n",
      "  1.62036697e-04 8.71732773e-05 1.54135254e-04 8.80493244e-05\n",
      "  1.11930036e-04 1.48092571e-04 1.16497453e-04 1.22469588e-04\n",
      "  1.08622298e-04 1.36708230e-04 1.93986998e-04 1.24943370e-04\n",
      "  2.13319727e-04 1.22057332e-04 1.07129192e-04 1.12022295e-04\n",
      "  1.52344888e-04 1.35704147e-04 2.99066945e-04 2.73462123e-04\n",
      "  4.04733524e-04 1.25887775e-04 2.06895187e-04 2.59721244e-04\n",
      "  3.42916959e-04 2.73795042e-04 2.32774051e-04 1.82327320e-04\n",
      "  9.92782807e-05 2.88505747e-04 1.56946742e-04 1.20209814e-04\n",
      "  1.14190756e-04 6.45810578e-05 1.07541680e-04 8.80493244e-05\n",
      "  1.10816298e-04 1.40870994e-04 1.82706368e-04 1.29583626e-04\n",
      "  9.96526505e-05 1.82220087e-04 1.41236174e-04 1.56688795e-04\n",
      "  2.01475836e-04 2.17380832e-04 1.52315537e-04 1.20843993e-04\n",
      "  7.84933363e-05 1.46764403e-04 2.27702185e-04 1.39842887e-04\n",
      "  1.19065924e-04 9.02561223e-05 5.65891678e-05 3.75472191e-05\n",
      "  8.99727165e-05 1.65413643e-04 2.74020684e-04 1.20895296e-04\n",
      "  7.36241200e-05 1.10253037e-04 6.45811233e-05 1.36708099e-04\n",
      "  1.03325343e-04 1.28747954e-04 9.87811800e-05 7.59701579e-05\n",
      "  1.20956865e-04 1.86382269e-04 1.87195299e-04 1.65835954e-04\n",
      "  1.49434898e-04 1.34407965e-04 7.44436984e-05 3.81473546e-05\n",
      "  1.39942917e-04 1.33626017e-04 2.15753913e-04 6.96353090e-04\n",
      "  3.18082341e-04 4.22042533e-04 2.77746411e-04 2.73208570e-04\n",
      "  2.95317586e-04 1.41403667e-04 2.51199468e-04 2.15937063e-04\n",
      "  2.49148870e-04 1.80131537e-04 1.08086970e-04 1.55684131e-04\n",
      "  8.80492371e-05 1.43840516e-04 1.10374109e-04 1.64121448e-04\n",
      "  2.06570345e-04 5.70545148e-04 7.93996907e-04 4.61137039e-04\n",
      "  3.83935985e-04 6.51676208e-04 6.86111685e-04 1.14474155e-03\n",
      "  2.20180210e-03 6.12414489e-03 2.58831270e-02 4.62536849e-02\n",
      "  7.52433576e-03 7.47222360e-03 9.39954165e-03 6.75490918e-03\n",
      "  3.73349898e-03 3.42929922e-03 2.94872141e-03 3.46908951e-03\n",
      "  8.94153374e-04 4.91227605e-04 1.97959467e-04 8.35980245e-05\n",
      "  1.21251112e-04 1.68648417e-04 1.02542363e-04 3.04723391e-04\n",
      "  7.50048377e-04 9.39957390e-04 2.84630340e-03 3.79358907e-03\n",
      "  4.70834598e-03 6.31229114e-03 2.22410299e-02 3.71581316e-02\n",
      "  9.63246897e-02 4.85528320e-01 8.17498207e-01 7.13644803e-01\n",
      "  4.32953328e-01 1.33321211e-01 1.43690392e-01 1.84114769e-01\n",
      "  6.65594414e-02 2.22207401e-02 1.90851092e-02 8.28045513e-03\n",
      "  2.87470338e-03 1.08295830e-03 4.53139917e-04 2.10957471e-04\n",
      "  1.27467152e-04 1.11452682e-04 1.41607554e-04 4.15455143e-04\n",
      "  2.01758184e-03 2.54627480e-03 4.98610782e-03 1.18749058e-02\n",
      "  1.78954415e-02 6.97229281e-02 1.10112943e-01 4.35665220e-01\n",
      "  8.60468149e-01 9.50831413e-01 9.68367100e-01 8.87192190e-01\n",
      "  7.78379083e-01 5.73955655e-01 5.45894802e-01 5.67059100e-01\n",
      "  3.69309604e-01 1.97868377e-01 3.80947441e-02 4.01027575e-02\n",
      "  8.68842937e-03 2.57812766e-03 5.63832291e-04 1.86104720e-04\n",
      "  1.22503319e-04 1.50551612e-04 2.46621959e-04 1.05859106e-03\n",
      "  5.74469892e-03 1.34587511e-02 8.16119555e-03 3.23323496e-02\n",
      "  7.80334696e-02 2.58686602e-01 5.68331838e-01 8.95935893e-01\n",
      "  9.79328156e-01 9.72216368e-01 9.85765755e-01 9.50683892e-01\n",
      "  8.53231192e-01 6.39622509e-01 6.12553716e-01 8.28734219e-01\n",
      "  7.44300902e-01 3.15840125e-01 1.04247741e-01 4.94278483e-02\n",
      "  1.31174373e-02 8.57989304e-04 4.43058583e-04 1.90363062e-04\n",
      "  1.07436310e-04 2.05988166e-04 3.75728821e-04 8.84609763e-04\n",
      "  2.54131318e-03 1.22841829e-02 1.89924315e-02 2.73744557e-02\n",
      "  6.44890815e-02 3.79395545e-01 7.09365070e-01 8.72926533e-01\n",
      "  8.50776196e-01 9.08635020e-01 8.79988730e-01 7.25631714e-01\n",
      "  5.49634218e-01 5.01071095e-01 4.69556302e-01 8.91951084e-01\n",
      "  9.19757009e-01 4.88442153e-01 1.46251664e-01 2.77410913e-02\n",
      "  4.92524682e-03 9.38158133e-04 5.67134877e-04 1.36120041e-04\n",
      "  1.06117463e-04 1.50274529e-04 1.51636341e-04 1.24911510e-03\n",
      "  1.93236582e-03 6.69116108e-03 8.88232607e-03 1.34204989e-02\n",
      "  1.20217316e-01 3.56755465e-01 4.99325007e-01 6.09356821e-01\n",
      "  5.14194310e-01 3.21425021e-01 2.75286078e-01 2.44833365e-01\n",
      "  2.27498546e-01 2.86926061e-01 7.28635788e-01 9.23594236e-01\n",
      "  8.41754913e-01 3.61723125e-01 7.72261322e-02 7.93882832e-03\n",
      "  2.64684041e-03 3.45495704e-04 3.29630653e-04 1.97587025e-04\n",
      "  9.97660827e-05 1.99447692e-04 2.59263790e-04 4.88042482e-04\n",
      "  3.04073375e-03 2.75476789e-03 1.15002329e-02 1.14130210e-02\n",
      "  4.48310152e-02 1.09416775e-01 1.32262886e-01 1.30918652e-01\n",
      "  5.59241362e-02 2.91848853e-02 8.00060555e-02 1.35927245e-01\n",
      "  3.42083126e-01 5.64326406e-01 8.79029572e-01 9.21838284e-01\n",
      "  4.32110161e-01 1.83343813e-01 1.59273650e-02 5.42643853e-03\n",
      "  1.19945698e-03 3.38403392e-04 2.88427662e-04 1.98838548e-04\n",
      "  1.06171603e-04 2.58147425e-04 4.07711254e-04 3.86818661e-04\n",
      "  1.65169593e-03 2.48090387e-03 4.57759993e-03 1.25728967e-02\n",
      "  2.71883439e-02 3.34267952e-02 5.16037457e-02 2.31634527e-02\n",
      "  3.13239619e-02 9.93603170e-02 2.65797824e-01 6.45022690e-01\n",
      "  7.43637681e-01 8.35462749e-01 8.27898502e-01 7.21529603e-01\n",
      "  2.63939500e-01 2.30050739e-02 5.25700301e-03 1.30050885e-03\n",
      "  1.24600774e-03 5.73528116e-04 2.43604896e-04 1.24035490e-04\n",
      "  1.93584216e-04 1.26436717e-04 1.96136636e-04 5.93306555e-04\n",
      "  1.33516814e-03 4.41146828e-03 4.51865746e-03 1.55431749e-02\n",
      "  3.15559134e-02 3.38292196e-02 3.99608910e-02 7.27243274e-02\n",
      "  2.08238602e-01 6.33647203e-01 7.79476345e-01 9.47134614e-01\n",
      "  8.51787627e-01 7.12775767e-01 5.08268774e-01 3.03465843e-01\n",
      "  4.07038257e-02 1.04560973e-02 2.76966556e-03 5.21939190e-04\n",
      "  4.06042847e-04 2.08671481e-04 1.62667217e-04 1.48424078e-04\n",
      "  1.38260672e-04 1.37746552e-04 1.72920758e-04 4.53531247e-04\n",
      "  1.45495485e-03 4.42479085e-03 4.12649754e-03 1.91169996e-02\n",
      "  2.99250633e-02 4.99061793e-02 1.36558771e-01 3.19993913e-01\n",
      "  5.77996075e-01 8.42159450e-01 9.36723113e-01 9.36235607e-01\n",
      "  9.33145583e-01 7.59230316e-01 5.13516366e-01 3.04298550e-01\n",
      "  2.84029264e-02 3.82626825e-03 2.77118688e-03 3.79410805e-04\n",
      "  1.96771085e-04 5.20628644e-04 2.56543484e-04 1.02281228e-04\n",
      "  1.49885978e-04 9.02905595e-05 1.79110444e-04 7.71210645e-04\n",
      "  1.46376155e-03 4.93231183e-03 7.26145459e-03 1.06798280e-02\n",
      "  1.85855422e-02 1.32240281e-01 1.98807091e-01 6.44584656e-01\n",
      "  7.70911396e-01 8.48362386e-01 8.92170072e-01 8.74386549e-01\n",
      "  7.76184022e-01 7.44742036e-01 7.00658262e-01 2.23086014e-01\n",
      "  4.28986698e-02 8.56302958e-03 2.01511779e-03 8.06764525e-04\n",
      "  2.23530777e-04 4.73626511e-04 3.42043757e-04 1.29604014e-04\n",
      "  9.19483791e-05 1.46624952e-04 2.60465400e-04 1.06687273e-03\n",
      "  3.82255670e-03 7.19666621e-03 6.17212104e-03 7.74533115e-03\n",
      "  2.35991273e-02 6.19297475e-02 1.66461706e-01 4.29421037e-01\n",
      "  6.25202417e-01 5.63988209e-01 3.21285576e-01 1.71430290e-01\n",
      "  3.69763196e-01 7.62391031e-01 8.40666115e-01 4.51427668e-01\n",
      "  8.00820068e-02 1.20646758e-02 4.06678533e-03 1.09269843e-03\n",
      "  2.66045070e-04 4.82431991e-04 1.73341730e-04 1.72291227e-04\n",
      "  1.18524920e-04 1.20928373e-04 2.58593791e-04 1.77428068e-03\n",
      "  1.45594785e-02 2.05503199e-02 2.24282313e-02 2.20941082e-02\n",
      "  2.20670328e-02 2.39823852e-02 7.80855194e-02 1.81672841e-01\n",
      "  2.84803718e-01 9.58946869e-02 3.49388570e-02 1.42083466e-02\n",
      "  7.88059458e-02 5.26815832e-01 7.69217551e-01 5.98324597e-01\n",
      "  9.50197950e-02 2.42138170e-02 1.19567774e-02 1.99001632e-03\n",
      "  6.15023600e-04 3.40011291e-04 4.80618735e-04 7.89465194e-05\n",
      "  9.82865749e-05 1.68794009e-04 4.31133521e-04 5.02177887e-03\n",
      "  2.79990137e-02 2.63677035e-02 6.89329132e-02 3.35162915e-02\n",
      "  1.37484483e-02 1.66231450e-02 2.82940622e-02 7.44765252e-02\n",
      "  4.99232337e-02 2.16007400e-02 1.00892810e-02 5.08433115e-03\n",
      "  8.05377513e-02 4.34578478e-01 6.49436235e-01 4.78297651e-01\n",
      "  1.36307478e-01 3.52245197e-02 1.49666797e-02 1.98760605e-03\n",
      "  1.58486236e-03 8.48518452e-04 3.13461322e-04 1.61738310e-04\n",
      "  1.42739256e-04 1.58039853e-04 6.12658507e-04 9.36752930e-03\n",
      "  1.34745806e-01 1.46882862e-01 2.73751765e-01 5.84671907e-02\n",
      "  9.66214109e-03 1.40531706e-02 2.92489491e-02 6.04800619e-02\n",
      "  3.74554321e-02 1.81735251e-02 5.44597302e-03 6.28868630e-03\n",
      "  1.44195899e-01 6.97683215e-01 7.07213938e-01 6.11327767e-01\n",
      "  1.99395627e-01 8.86489376e-02 1.63936652e-02 9.80290398e-03\n",
      "  2.43038917e-03 7.99173838e-04 2.17867404e-04 1.37698225e-04\n",
      "  6.83327526e-05 1.44252714e-04 1.96166895e-03 5.30449711e-02\n",
      "  2.83925354e-01 4.92571473e-01 3.80883455e-01 2.04888791e-01\n",
      "  4.23383638e-02 4.81223874e-02 9.51190665e-02 1.68404132e-01\n",
      "  1.30992368e-01 4.84476089e-02 1.80766340e-02 6.99622259e-02\n",
      "  3.50944400e-01 7.35981047e-01 6.68327332e-01 3.38606715e-01\n",
      "  1.02692626e-01 3.17194536e-02 1.17557850e-02 1.15749137e-02\n",
      "  4.77325357e-03 1.23384676e-03 4.10919281e-04 1.02502185e-04\n",
      "  1.79075272e-04 1.32263376e-04 3.65657569e-03 8.85396004e-02\n",
      "  5.52816331e-01 6.69860542e-01 7.08524108e-01 3.48855108e-01\n",
      "  2.00932547e-01 2.11001784e-01 3.13424408e-01 2.49349982e-01\n",
      "  1.21899143e-01 4.75665927e-02 8.27859715e-02 2.06348121e-01\n",
      "  5.14201760e-01 6.44486070e-01 3.49869251e-01 9.39541459e-02\n",
      "  4.93384674e-02 1.74709298e-02 6.94711413e-03 5.33985114e-03\n",
      "  4.58943332e-03 7.06982799e-04 2.13931402e-04 1.35831913e-04\n",
      "  1.38260802e-04 9.82056372e-05 2.08532996e-03 1.14239350e-01\n",
      "  6.15053594e-01 7.63577819e-01 8.79101396e-01 7.64186978e-01\n",
      "  6.55927062e-01 3.99310350e-01 2.86694914e-01 2.19317392e-01\n",
      "  1.71406910e-01 1.08632594e-01 3.38324040e-01 5.45502901e-01\n",
      "  5.58210135e-01 2.07482651e-01 9.71687958e-02 3.24698798e-02\n",
      "  1.56807285e-02 6.90643489e-03 5.73781226e-03 5.15705114e-03\n",
      "  4.04262682e-03 5.92167082e-04 2.18217712e-04 1.47397455e-04\n",
      "  1.34127724e-04 1.16009804e-04 1.36028277e-03 6.88539222e-02\n",
      "  3.11817855e-01 6.85712397e-01 8.61981094e-01 9.16482985e-01\n",
      "  9.00729656e-01 7.20916331e-01 5.29713094e-01 3.41417789e-01\n",
      "  3.28155935e-01 4.52230811e-01 4.29749042e-01 4.90740150e-01\n",
      "  2.41019562e-01 4.32185344e-02 1.41826887e-02 1.91274434e-02\n",
      "  7.26355799e-03 5.00580994e-03 4.72801924e-03 5.16506191e-03\n",
      "  1.56892289e-03 4.63540957e-04 1.20516612e-04 1.35109571e-04\n",
      "  1.10816407e-04 1.39469470e-04 2.95373320e-04 5.70916524e-03\n",
      "  6.72008097e-02 3.76559317e-01 6.74759686e-01 8.22115481e-01\n",
      "  7.82710135e-01 7.87043691e-01 6.99845254e-01 5.37034512e-01\n",
      "  3.58440280e-01 4.68631804e-01 4.01383728e-01 9.09435749e-02\n",
      "  1.49413366e-02 3.70944082e-03 6.92946743e-03 6.21172180e-03\n",
      "  1.06043993e-02 5.55637619e-03 1.74276717e-03 1.76156114e-03\n",
      "  9.94662638e-04 2.42033610e-04 1.44773992e-04 1.08622298e-04\n",
      "  1.77293536e-04 1.06471707e-04 1.96136069e-04 7.40817632e-04\n",
      "  6.91952882e-03 6.11431040e-02 2.96648264e-01 4.55272496e-01\n",
      "  5.86216569e-01 6.44738793e-01 5.41814208e-01 5.97208619e-01\n",
      "  3.59128147e-01 3.01481843e-01 4.61290739e-02 1.13141593e-02\n",
      "  4.09828452e-03 2.21499614e-03 3.68642900e-03 4.43689805e-03\n",
      "  4.10997635e-03 1.68130489e-03 7.36564398e-04 5.46021678e-04\n",
      "  2.90846045e-04 1.39874610e-04 1.64830635e-04 8.98279177e-05\n",
      "  1.02297323e-04 1.63664808e-04 8.35653409e-05 1.77140799e-04\n",
      "  3.30639683e-04 2.16881046e-03 5.91606414e-03 1.63613092e-02\n",
      "  3.00489068e-02 1.32397693e-02 1.13984086e-02 1.21026495e-02\n",
      "  1.84316970e-02 8.11082963e-03 4.19317838e-03 1.12120959e-03\n",
      "  9.92797082e-04 8.16395332e-04 1.18859357e-03 1.25588453e-03\n",
      "  1.32490497e-03 4.12405963e-04 3.03258916e-04 2.57955777e-04\n",
      "  1.29843131e-04 1.13860100e-04 9.65939544e-05 1.57248593e-04\n",
      "  1.49580592e-04 9.73086935e-05 1.40870863e-04 1.20994700e-04\n",
      "  1.69158317e-04 4.21772420e-04 9.37011442e-04 4.38736985e-04\n",
      "  4.01447556e-04 3.32813943e-04 1.18191738e-03 4.09044820e-04\n",
      "  4.36990609e-04 4.39445022e-04 4.73428139e-04 3.99518234e-04\n",
      "  1.25815521e-03 2.55260355e-04 2.78504798e-04 3.32643598e-04\n",
      "  8.15594918e-04 2.95802834e-04 1.28093539e-04 1.36981878e-04\n",
      "  1.22344936e-04 1.63421384e-04 1.40870994e-04 1.22469588e-04\n",
      "  1.90146631e-04 1.27467021e-04 1.11929934e-04 1.43716155e-04\n",
      "  9.65827203e-05 2.24359916e-04 2.70986377e-04 1.96891197e-04\n",
      "  2.30494421e-04 4.37054783e-04 4.00441408e-04 3.48651432e-04\n",
      "  2.46806332e-04 1.08959961e-04 1.56247930e-04 2.40568537e-04\n",
      "  2.17313500e-04 2.69545708e-04 2.54630082e-04 1.53393965e-04\n",
      "  2.10874816e-04 1.06484302e-04 1.02389742e-04 7.40292817e-05\n",
      "  1.54135254e-04 1.04363593e-04 1.40870994e-04 1.10816407e-04]], shape=(1, 784), dtype=float32)\n"
     ]
    }
   ],
   "source": [
    "hh0_p = tf.nn.sigmoid(tf.matmul(sample_case, W) + hb)\n",
    "hh0_s = tf.round(hh0_p)\n",
    "\n",
    "print(\"Probability nodes in hidden layer:\" ,hh0_p)\n",
    "print(\"activated nodes in hidden layer:\" ,hh0_s)\n",
    "\n",
    "# reconstruct\n",
    "vv1_p = tf.nn.sigmoid(tf.matmul(hh0_s, tf.transpose(W)) + vb)\n",
    "\n",
    "print(vv1_p)\n",
    "#rec_prob = sess.run(vv1_p, feed_dict={ hh0_s: hh0_s_val, W: prv_w, vb: prv_vb})"
   ]
  },
  {
   "cell_type": "markdown",
   "metadata": {},
   "source": [
    "Here we plot the reconstructed image:\n"
   ]
  },
  {
   "cell_type": "code",
   "execution_count": 27,
   "metadata": {},
   "outputs": [
    {
     "data": {
      "image/png": "[encoded data removed]",
      "text/plain": [
       "<Figure size 400x400 with 1 Axes>"
      ]
     },
     "metadata": {},
     "output_type": "display_data"
    }
   ],
   "source": [
    "img = Image.fromarray(tile_raster_images(X=vv1_p.numpy(), img_shape=(28, 28),tile_shape=(1, 1), tile_spacing=(1, 1)))\n",
    "plt.rcParams['figure.figsize'] = (4.0, 4.0)\n",
    "imgplot = plt.imshow(img)\n",
    "imgplot.set_cmap('gray') "
   ]
  },
  {
   "cell_type": "markdown",
   "metadata": {},
   "source": [
    "<hr>\n",
    "\n",
    "## Want to learn more?\n",
    "\n",
    "Also, you can use __Watson Studio__ to run these notebooks faster with bigger datasets.__Watson Studio__ is IBM’s leading cloud solution for data scientists, built by data scientists. With Jupyter notebooks, RStudio, Apache Spark and popular libraries pre-packaged in the cloud, __Watson Studio__ enables data scientists to collaborate on their projects without having to install anything. Join the fast-growing community of __Watson Studio__ users today with a free account at [Watson Studio](https://cocl.us/ML0120EN_DSX).This is the end of this lesson. Thank you for reading this notebook, and good luck on your studies.\n"
   ]
  },
  {
   "cell_type": "markdown",
   "metadata": {},
   "source": [
    "### Thanks for completing this lesson!\n",
    "\n",
    "Notebook created by: <a href = \"https://ca.linkedin.com/in/saeedaghabozorgi\">Saeed Aghabozorgi</a>\n",
    "\n",
    "Updated to TF 2.X by  <a href=\"https://ca.linkedin.com/in/nilmeier\"> Jerome Nilmeier</a><br />\n"
   ]
  },
  {
   "cell_type": "markdown",
   "metadata": {},
   "source": [
    "### References:\n",
    "https://en.wikipedia.org/wiki/Restricted_Boltzmann_machine  \n",
    "http://deeplearning.net/tutorial/rbm.html  \n",
    "http://www.cs.utoronto.ca/~hinton/absps/netflixICML.pdf<br>\n",
    "http://imonad.com/rbm/restricted-boltzmann-machine/  \n"
   ]
  },
  {
   "cell_type": "markdown",
   "metadata": {},
   "source": [
    "<hr>\n",
    "\n",
    "Copyright &copy; 2018 [Cognitive Class](https://cocl.us/DX0108EN_CC). This notebook and its source code are released under the terms of the [MIT License](https://bigdatauniversity.com/mit-license/).\n"
   ]
  }
 ],
 "metadata": {
  "kernelspec": {
   "display_name": "Python",
   "language": "python",
   "name": "conda-env-python-py"
  },
  "language_info": {
   "codemirror_mode": {
    "name": "ipython",
    "version": 3
   },
   "file_extension": ".py",
   "mimetype": "text/x-python",
   "name": "python",
   "nbconvert_exporter": "python",
   "pygments_lexer": "ipython3",
   "version": "3.7.12"
  }
 },
 "nbformat": 4,
 "nbformat_minor": 4
}
