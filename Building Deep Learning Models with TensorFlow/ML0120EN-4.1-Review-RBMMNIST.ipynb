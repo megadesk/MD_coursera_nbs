{
 "cells": [
  {
   "cell_type": "markdown",
   "metadata": {},
   "source": [
    "<img src=\"https://cf-courses-data.s3.us.cloud-object-storage.appdomain.cloud/IBMDeveloperSkillsNetwork-DL0120EN-SkillsNetwork/images/IDSN-logo.png\" width=\"300\" alt=\"cognitiveclass.ai logo\">\n",
    "\n",
    "<h1 align=\"center\"><font size=\"5\">RESTRICTED BOLTZMANN MACHINES</font></h1>\n"
   ]
  },
  {
   "cell_type": "markdown",
   "metadata": {},
   "source": [
    "Estimated time needed: **25** minutes\n"
   ]
  },
  {
   "cell_type": "markdown",
   "metadata": {},
   "source": [
    "<h3>Introduction</h3>\n",
    "<b>Restricted Boltzmann Machine (RBM):</b>  RBMs are shallow neural nets that learn to reconstruct data by themselves in an unsupervised fashion.  \n",
    "\n",
    "\n",
    "<h4>Why are RBMs important?</h4>\n",
    "An RBM are a basic form of autoencoder.  It can automatically extract <b>meaningful</b> features from a given input.\n",
    "\n",
    "\n",
    "<h4>How does it work?</h4>\n",
    "RBM is a 2 layer neural network. Simply, RBM takes the inputs and translates those into a set of binary values that represents them in the hidden layer. Then, these numbers can be translated back to reconstruct the inputs. Through several forward and backward passes, the RBM will be trained, and a trained RBM can reveal which features are the most important ones when detecting patterns.   \n",
    "\n",
    "\n",
    "<h4>What are the applications of an RBM?</h4>\n",
    "RBM is useful for <a href='http://www.cs.utoronto.ca/~hinton/absps/netflixICML.pdf'>  Collaborative Filtering</a>, dimensionality reduction, classification, regression, feature learning, topic modeling and even <b>Deep Belief Networks</b>.\n",
    "\n",
    "<h4>Is RBM a generative or Discriminative model?</h4>\n",
    "RBM is a generative model. Let me explain it by first, see what is different between discriminative and generative models: \n",
    "\n",
    "<b>Discriminative:</b> Consider a classification problem where we want to learn to distinguish between Sedan cars (y = 1) and SUV cars (y = 0), based on some features of cars. Given a training set, an algorithm like logistic regression tries to find a straight line, or <i>decision boundary</i>, that separates the suv and sedan.  \n",
    "\n",
    "<b>Generative:</b> looking at cars, we can build a model of what Sedan cars look like. Then, looking at SUVs, we can build a separate model of what SUV cars look like. Finally, to classify a new car, we can match the new car against the Sedan model, and match it against the SUV model, to see whether the new car looks more like the SUV or Sedan. \n",
    "\n",
    "Generative Models specify a probability distribution over a dataset of input vectors. We can carry out both supervised and unsupervised tasks with generative models:\n",
    "<ul>\n",
    "    <li>In an unsupervised task, we try to form a model for $P(x)$, where $P$ is the probability given $x$ as an input vector.</li>\n",
    "    <li>In the supervised task, we first form a model for $P(x|y)$, where $P$ is the probability of $x$ given $y$(the label for $x$). For example, if $y = 0$ indicates that a car is an SUV, and $y = 1$ indicates that a car is a sedan, then $p(x|y = 0)$ models the distribution of SUV features, and $p(x|y = 1)$ models the distribution of sedan features. If we manage to find $P(x|y)$ and $P(y)$, then we can use <b>Bayes rule</b> to estimate $P(y|x)$, because:   \n",
    "        $$p(y|x) = \\frac{p(x|y)p(y)}{p(x)}$$</li>\n",
    "</ul>\n",
    "Now the question is, can we build a generative model, and then use it to create synthetic data by directly sampling from the modeled probability distributions? Lets see. \n"
   ]
  },
  {
   "cell_type": "markdown",
   "metadata": {},
   "source": [
    "<h2>Table of Contents</h2>\n",
    "<ol>\n",
    "    <li><a href=\"#ref1\">Initialization</a></li>\n",
    "    <li><a href=\"#ref2\">RBM layers</a></li>\n",
    "    <li><a href=\"#ref3\">What RBM can do after training?</a></li>\n",
    "    <li><a href=\"#ref4\">How to train the model?</a></li>\n",
    "    <li><a href=\"#ref5\">Learned features</a></li>\n",
    "</ol>\n",
    "<p></p>\n",
    "</div>\n",
    "<br>\n",
    "\n",
    "<hr>\n"
   ]
  },
  {
   "cell_type": "markdown",
   "metadata": {},
   "source": [
    "<a id=\"ref1\"></a>\n",
    "<h3>Initialization</h3>\n",
    "\n",
    "First, we have to load the utility file which contains different utility functions that are not connected\n",
    "in any way to the networks presented in the tutorials, but rather help in\n",
    "processing the outputs into a more understandable way.\n"
   ]
  },
  {
   "cell_type": "code",
   "execution_count": 1,
   "metadata": {},
   "outputs": [],
   "source": [
    "import urllib.request\n",
    "with urllib.request.urlopen(\"https://cf-courses-data.s3.us.cloud-object-storage.appdomain.cloud/IBMDeveloperSkillsNetwork-DL0120EN-SkillsNetwork/labs/Week4/data/utils.py\") as url:\n",
    "    response = url.read()\n",
    "target = open('utils.py', 'w')\n",
    "target.write(response.decode('utf-8'))\n",
    "target.close()"
   ]
  },
  {
   "cell_type": "markdown",
   "metadata": {},
   "source": [
    "<h2>Installing TensorFlow </h2>\n",
    "\n",
    "We will installing TensorFlow version 2.9.0 and its required prerequistes.  Also installing pillow...\n"
   ]
  },
  {
   "cell_type": "code",
   "execution_count": 2,
   "metadata": {},
   "outputs": [
    {
     "name": "stdout",
     "output_type": "stream",
     "text": [
      "Collecting grpcio==1.24.3\n",
      "  Downloading grpcio-1.24.3-cp37-cp37m-manylinux2010_x86_64.whl (2.2 MB)\n",
      "\u001b[2K     \u001b[90m━━━━━━━━━━━━━━━━━━━━━━━━━━━━━━━━━━━━━━━━\u001b[0m \u001b[32m2.2/2.2 MB\u001b[0m \u001b[31m36.9 MB/s\u001b[0m eta \u001b[36m0:00:00\u001b[0m00:01\u001b[0m\n",
      "\u001b[?25hRequirement already satisfied: six>=1.5.2 in /home/jupyterlab/conda/envs/python/lib/python3.7/site-packages (from grpcio==1.24.3) (1.16.0)\n",
      "Installing collected packages: grpcio\n",
      "  Attempting uninstall: grpcio\n",
      "    Found existing installation: grpcio 1.48.1\n",
      "    Uninstalling grpcio-1.48.1:\n",
      "      Successfully uninstalled grpcio-1.48.1\n",
      "Successfully installed grpcio-1.24.3\n",
      "Collecting tensorflow==2.9.0\n",
      "  Downloading tensorflow-2.9.0-cp37-cp37m-manylinux_2_17_x86_64.manylinux2014_x86_64.whl (511.7 MB)\n",
      "\u001b[2K     \u001b[90m━━━━━━━━━━━━━━━━━━━━━━━━━━━━━━━━━━━━━\u001b[0m \u001b[32m511.7/511.7 MB\u001b[0m \u001b[31m906.5 kB/s\u001b[0m eta \u001b[36m0:00:00\u001b[0m00:01\u001b[0m00:01\u001b[0m\n",
      "\u001b[?25hRequirement already satisfied: absl-py>=1.0.0 in /home/jupyterlab/conda/envs/python/lib/python3.7/site-packages (from tensorflow==2.9.0) (1.4.0)\n",
      "Collecting astunparse>=1.6.0 (from tensorflow==2.9.0)\n",
      "  Downloading astunparse-1.6.3-py2.py3-none-any.whl (12 kB)\n",
      "Collecting flatbuffers<2,>=1.12 (from tensorflow==2.9.0)\n",
      "  Downloading flatbuffers-1.12-py2.py3-none-any.whl (15 kB)\n",
      "Collecting gast<=0.4.0,>=0.2.1 (from tensorflow==2.9.0)\n",
      "  Downloading gast-0.4.0-py3-none-any.whl (9.8 kB)\n",
      "Requirement already satisfied: google-pasta>=0.1.1 in /home/jupyterlab/conda/envs/python/lib/python3.7/site-packages (from tensorflow==2.9.0) (0.2.0)\n",
      "Requirement already satisfied: grpcio<2.0,>=1.24.3 in /home/jupyterlab/conda/envs/python/lib/python3.7/site-packages (from tensorflow==2.9.0) (1.24.3)\n",
      "Collecting h5py>=2.9.0 (from tensorflow==2.9.0)\n",
      "  Downloading h5py-3.8.0-cp37-cp37m-manylinux_2_17_x86_64.manylinux2014_x86_64.whl (4.3 MB)\n",
      "\u001b[2K     \u001b[90m━━━━━━━━━━━━━━━━━━━━━━━━━━━━━━━━━━━━━━━━\u001b[0m \u001b[32m4.3/4.3 MB\u001b[0m \u001b[31m94.1 MB/s\u001b[0m eta \u001b[36m0:00:00\u001b[0m:00:01\u001b[0m\n",
      "\u001b[?25hCollecting keras<2.10.0,>=2.9.0rc0 (from tensorflow==2.9.0)\n",
      "  Downloading keras-2.9.0-py2.py3-none-any.whl (1.6 MB)\n",
      "\u001b[2K     \u001b[90m━━━━━━━━━━━━━━━━━━━━━━━━━━━━━━━━━━━━━━━━\u001b[0m \u001b[32m1.6/1.6 MB\u001b[0m \u001b[31m82.8 MB/s\u001b[0m eta \u001b[36m0:00:00\u001b[0m\n",
      "\u001b[?25hRequirement already satisfied: keras-preprocessing>=1.1.1 in /home/jupyterlab/conda/envs/python/lib/python3.7/site-packages (from tensorflow==2.9.0) (1.1.2)\n",
      "Collecting libclang>=13.0.0 (from tensorflow==2.9.0)\n",
      "  Downloading libclang-16.0.6-py2.py3-none-manylinux2010_x86_64.whl (22.9 MB)\n",
      "\u001b[2K     \u001b[90m━━━━━━━━━━━━━━━━━━━━━━━━━━━━━━━━━━━━━━━━\u001b[0m \u001b[32m22.9/22.9 MB\u001b[0m \u001b[31m47.2 MB/s\u001b[0m eta \u001b[36m0:00:00\u001b[0m00:01\u001b[0m00:01\u001b[0m\n",
      "\u001b[?25hRequirement already satisfied: numpy>=1.20 in /home/jupyterlab/conda/envs/python/lib/python3.7/site-packages (from tensorflow==2.9.0) (1.21.6)\n",
      "Collecting opt-einsum>=2.3.2 (from tensorflow==2.9.0)\n",
      "  Downloading opt_einsum-3.3.0-py3-none-any.whl (65 kB)\n",
      "\u001b[2K     \u001b[90m━━━━━━━━━━━━━━━━━━━━━━━━━━━━━━━━━━━━━━━━\u001b[0m \u001b[32m65.5/65.5 kB\u001b[0m \u001b[31m14.5 MB/s\u001b[0m eta \u001b[36m0:00:00\u001b[0m\n",
      "\u001b[?25hRequirement already satisfied: packaging in /home/jupyterlab/conda/envs/python/lib/python3.7/site-packages (from tensorflow==2.9.0) (23.1)\n",
      "Requirement already satisfied: protobuf>=3.9.2 in /home/jupyterlab/conda/envs/python/lib/python3.7/site-packages (from tensorflow==2.9.0) (4.21.8)\n",
      "Requirement already satisfied: setuptools in /home/jupyterlab/conda/envs/python/lib/python3.7/site-packages (from tensorflow==2.9.0) (67.7.2)\n",
      "Requirement already satisfied: six>=1.12.0 in /home/jupyterlab/conda/envs/python/lib/python3.7/site-packages (from tensorflow==2.9.0) (1.16.0)\n",
      "Collecting tensorboard<2.10,>=2.9 (from tensorflow==2.9.0)\n",
      "  Downloading tensorboard-2.9.1-py3-none-any.whl (5.8 MB)\n",
      "\u001b[2K     \u001b[90m━━━━━━━━━━━━━━━━━━━━━━━━━━━━━━━━━━━━━━━━\u001b[0m \u001b[32m5.8/5.8 MB\u001b[0m \u001b[31m86.8 MB/s\u001b[0m eta \u001b[36m0:00:00\u001b[0mta \u001b[36m0:00:01\u001b[0m\n",
      "\u001b[?25hCollecting tensorflow-io-gcs-filesystem>=0.23.1 (from tensorflow==2.9.0)\n",
      "  Downloading tensorflow_io_gcs_filesystem-0.34.0-cp37-cp37m-manylinux_2_12_x86_64.manylinux2010_x86_64.whl (2.4 MB)\n",
      "\u001b[2K     \u001b[90m━━━━━━━━━━━━━━━━━━━━━━━━━━━━━━━━━━━━━━━━\u001b[0m \u001b[32m2.4/2.4 MB\u001b[0m \u001b[31m83.4 MB/s\u001b[0m eta \u001b[36m0:00:00\u001b[0m\n",
      "\u001b[?25hCollecting tensorflow-estimator<2.10.0,>=2.9.0rc0 (from tensorflow==2.9.0)\n",
      "  Downloading tensorflow_estimator-2.9.0-py2.py3-none-any.whl (438 kB)\n",
      "\u001b[2K     \u001b[90m━━━━━━━━━━━━━━━━━━━━━━━━━━━━━━━━━━━━━━\u001b[0m \u001b[32m438.7/438.7 kB\u001b[0m \u001b[31m57.0 MB/s\u001b[0m eta \u001b[36m0:00:00\u001b[0m\n",
      "\u001b[?25hRequirement already satisfied: termcolor>=1.1.0 in /home/jupyterlab/conda/envs/python/lib/python3.7/site-packages (from tensorflow==2.9.0) (2.3.0)\n",
      "Requirement already satisfied: typing-extensions>=3.6.6 in /home/jupyterlab/conda/envs/python/lib/python3.7/site-packages (from tensorflow==2.9.0) (4.5.0)\n",
      "Requirement already satisfied: wrapt>=1.11.0 in /home/jupyterlab/conda/envs/python/lib/python3.7/site-packages (from tensorflow==2.9.0) (1.14.1)\n",
      "Requirement already satisfied: wheel<1.0,>=0.23.0 in /home/jupyterlab/conda/envs/python/lib/python3.7/site-packages (from astunparse>=1.6.0->tensorflow==2.9.0) (0.40.0)\n",
      "Collecting google-auth<3,>=1.6.3 (from tensorboard<2.10,>=2.9->tensorflow==2.9.0)\n",
      "  Downloading google_auth-2.26.2-py2.py3-none-any.whl (186 kB)\n",
      "\u001b[2K     \u001b[90m━━━━━━━━━━━━━━━━━━━━━━━━━━━━━━━━━━━━━━\u001b[0m \u001b[32m186.5/186.5 kB\u001b[0m \u001b[31m30.8 MB/s\u001b[0m eta \u001b[36m0:00:00\u001b[0m\n",
      "\u001b[?25hCollecting google-auth-oauthlib<0.5,>=0.4.1 (from tensorboard<2.10,>=2.9->tensorflow==2.9.0)\n",
      "  Downloading google_auth_oauthlib-0.4.6-py2.py3-none-any.whl (18 kB)\n",
      "Requirement already satisfied: markdown>=2.6.8 in /home/jupyterlab/conda/envs/python/lib/python3.7/site-packages (from tensorboard<2.10,>=2.9->tensorflow==2.9.0) (3.4.3)\n",
      "Collecting protobuf>=3.9.2 (from tensorflow==2.9.0)\n",
      "  Downloading protobuf-3.19.6-cp37-cp37m-manylinux_2_17_x86_64.manylinux2014_x86_64.whl (1.1 MB)\n",
      "\u001b[2K     \u001b[90m━━━━━━━━━━━━━━━━━━━━━━━━━━━━━━━━━━━━━━━━\u001b[0m \u001b[32m1.1/1.1 MB\u001b[0m \u001b[31m78.3 MB/s\u001b[0m eta \u001b[36m0:00:00\u001b[0m\n",
      "\u001b[?25hRequirement already satisfied: requests<3,>=2.21.0 in /home/jupyterlab/conda/envs/python/lib/python3.7/site-packages (from tensorboard<2.10,>=2.9->tensorflow==2.9.0) (2.29.0)\n",
      "Collecting tensorboard-data-server<0.7.0,>=0.6.0 (from tensorboard<2.10,>=2.9->tensorflow==2.9.0)\n",
      "  Downloading tensorboard_data_server-0.6.1-py3-none-manylinux2010_x86_64.whl (4.9 MB)\n",
      "\u001b[2K     \u001b[90m━━━━━━━━━━━━━━━━━━━━━━━━━━━━━━━━━━━━━━━━\u001b[0m \u001b[32m4.9/4.9 MB\u001b[0m \u001b[31m85.9 MB/s\u001b[0m eta \u001b[36m0:00:00\u001b[0m:00:01\u001b[0m\n",
      "\u001b[?25hCollecting tensorboard-plugin-wit>=1.6.0 (from tensorboard<2.10,>=2.9->tensorflow==2.9.0)\n",
      "  Downloading tensorboard_plugin_wit-1.8.1-py3-none-any.whl (781 kB)\n",
      "\u001b[2K     \u001b[90m━━━━━━━━━━━━━━━━━━━━━━━━━━━━━━━━━━━━━━\u001b[0m \u001b[32m781.3/781.3 kB\u001b[0m \u001b[31m53.9 MB/s\u001b[0m eta \u001b[36m0:00:00\u001b[0m\n",
      "\u001b[?25hRequirement already satisfied: werkzeug>=1.0.1 in /home/jupyterlab/conda/envs/python/lib/python3.7/site-packages (from tensorboard<2.10,>=2.9->tensorflow==2.9.0) (2.2.3)\n",
      "Collecting cachetools<6.0,>=2.0.0 (from google-auth<3,>=1.6.3->tensorboard<2.10,>=2.9->tensorflow==2.9.0)\n",
      "  Downloading cachetools-5.3.2-py3-none-any.whl (9.3 kB)\n",
      "Requirement already satisfied: pyasn1-modules>=0.2.1 in /home/jupyterlab/conda/envs/python/lib/python3.7/site-packages (from google-auth<3,>=1.6.3->tensorboard<2.10,>=2.9->tensorflow==2.9.0) (0.3.0)\n",
      "Collecting rsa<5,>=3.1.4 (from google-auth<3,>=1.6.3->tensorboard<2.10,>=2.9->tensorflow==2.9.0)\n",
      "  Downloading rsa-4.9-py3-none-any.whl (34 kB)\n",
      "Collecting requests-oauthlib>=0.7.0 (from google-auth-oauthlib<0.5,>=0.4.1->tensorboard<2.10,>=2.9->tensorflow==2.9.0)\n",
      "  Downloading requests_oauthlib-1.3.1-py2.py3-none-any.whl (23 kB)\n",
      "Requirement already satisfied: importlib-metadata>=4.4 in /home/jupyterlab/conda/envs/python/lib/python3.7/site-packages (from markdown>=2.6.8->tensorboard<2.10,>=2.9->tensorflow==2.9.0) (4.11.4)\n",
      "Requirement already satisfied: charset-normalizer<4,>=2 in /home/jupyterlab/conda/envs/python/lib/python3.7/site-packages (from requests<3,>=2.21.0->tensorboard<2.10,>=2.9->tensorflow==2.9.0) (3.1.0)\n",
      "Requirement already satisfied: idna<4,>=2.5 in /home/jupyterlab/conda/envs/python/lib/python3.7/site-packages (from requests<3,>=2.21.0->tensorboard<2.10,>=2.9->tensorflow==2.9.0) (3.4)\n",
      "Requirement already satisfied: urllib3<1.27,>=1.21.1 in /home/jupyterlab/conda/envs/python/lib/python3.7/site-packages (from requests<3,>=2.21.0->tensorboard<2.10,>=2.9->tensorflow==2.9.0) (1.26.15)\n",
      "Requirement already satisfied: certifi>=2017.4.17 in /home/jupyterlab/conda/envs/python/lib/python3.7/site-packages (from requests<3,>=2.21.0->tensorboard<2.10,>=2.9->tensorflow==2.9.0) (2023.5.7)\n",
      "Requirement already satisfied: MarkupSafe>=2.1.1 in /home/jupyterlab/conda/envs/python/lib/python3.7/site-packages (from werkzeug>=1.0.1->tensorboard<2.10,>=2.9->tensorflow==2.9.0) (2.1.1)\n",
      "Requirement already satisfied: zipp>=0.5 in /home/jupyterlab/conda/envs/python/lib/python3.7/site-packages (from importlib-metadata>=4.4->markdown>=2.6.8->tensorboard<2.10,>=2.9->tensorflow==2.9.0) (3.15.0)\n",
      "Requirement already satisfied: pyasn1<0.6.0,>=0.4.6 in /home/jupyterlab/conda/envs/python/lib/python3.7/site-packages (from pyasn1-modules>=0.2.1->google-auth<3,>=1.6.3->tensorboard<2.10,>=2.9->tensorflow==2.9.0) (0.5.0)\n",
      "Collecting oauthlib>=3.0.0 (from requests-oauthlib>=0.7.0->google-auth-oauthlib<0.5,>=0.4.1->tensorboard<2.10,>=2.9->tensorflow==2.9.0)\n",
      "  Downloading oauthlib-3.2.2-py3-none-any.whl (151 kB)\n",
      "\u001b[2K     \u001b[90m━━━━━━━━━━━━━━━━━━━━━━━━━━━━━━━━━━━━━━\u001b[0m \u001b[32m151.7/151.7 kB\u001b[0m \u001b[31m27.2 MB/s\u001b[0m eta \u001b[36m0:00:00\u001b[0m\n",
      "\u001b[?25hInstalling collected packages: tensorboard-plugin-wit, libclang, keras, flatbuffers, tensorflow-io-gcs-filesystem, tensorflow-estimator, tensorboard-data-server, rsa, protobuf, opt-einsum, oauthlib, h5py, gast, cachetools, astunparse, requests-oauthlib, google-auth, google-auth-oauthlib, tensorboard, tensorflow\n",
      "  Attempting uninstall: keras\n",
      "    Found existing installation: Keras 2.1.6\n",
      "    Uninstalling Keras-2.1.6:\n",
      "      Successfully uninstalled Keras-2.1.6\n",
      "  Attempting uninstall: tensorflow-estimator\n",
      "    Found existing installation: tensorflow-estimator 1.14.0\n",
      "    Uninstalling tensorflow-estimator-1.14.0:\n",
      "      Successfully uninstalled tensorflow-estimator-1.14.0\n",
      "  Attempting uninstall: protobuf\n",
      "    Found existing installation: protobuf 4.21.8\n",
      "    Uninstalling protobuf-4.21.8:\n",
      "      Successfully uninstalled protobuf-4.21.8\n",
      "  Attempting uninstall: h5py\n",
      "    Found existing installation: h5py 2.8.0\n",
      "    Uninstalling h5py-2.8.0:\n",
      "      Successfully uninstalled h5py-2.8.0\n",
      "  Attempting uninstall: gast\n",
      "    Found existing installation: gast 0.5.3\n",
      "    Uninstalling gast-0.5.3:\n",
      "      Successfully uninstalled gast-0.5.3\n",
      "  Attempting uninstall: tensorboard\n",
      "    Found existing installation: tensorboard 1.14.0\n",
      "    Uninstalling tensorboard-1.14.0:\n",
      "      Successfully uninstalled tensorboard-1.14.0\n",
      "  Attempting uninstall: tensorflow\n",
      "    Found existing installation: tensorflow 1.14.0\n",
      "    Uninstalling tensorflow-1.14.0:\n",
      "      Successfully uninstalled tensorflow-1.14.0\n",
      "Successfully installed astunparse-1.6.3 cachetools-5.3.2 flatbuffers-1.12 gast-0.4.0 google-auth-2.26.2 google-auth-oauthlib-0.4.6 h5py-3.8.0 keras-2.9.0 libclang-16.0.6 oauthlib-3.2.2 opt-einsum-3.3.0 protobuf-3.19.6 requests-oauthlib-1.3.1 rsa-4.9 tensorboard-2.9.1 tensorboard-data-server-0.6.1 tensorboard-plugin-wit-1.8.1 tensorflow-2.9.0 tensorflow-estimator-2.9.0 tensorflow-io-gcs-filesystem-0.34.0\n",
      "Requirement already satisfied: pillow==8.1.0 in /home/jupyterlab/conda/envs/python/lib/python3.7/site-packages (8.1.0)\n"
     ]
    }
   ],
   "source": [
    "!pip install grpcio==1.24.3\n",
    "!pip install tensorflow==2.9.0\n",
    "!pip install pillow==8.1.0"
   ]
  },
  {
   "cell_type": "markdown",
   "metadata": {},
   "source": [
    "**Restart kernel for latest version of TensorFlow to be activated, then continue to the next section.**\n"
   ]
  },
  {
   "cell_type": "markdown",
   "metadata": {},
   "source": [
    "<b>Notice:</b> This notebook has been created with TensorFlow version 2.9.0, and might not work with other versions. Therefore we check:\n"
   ]
  },
  {
   "cell_type": "code",
   "execution_count": 3,
   "metadata": {},
   "outputs": [
    {
     "name": "stderr",
     "output_type": "stream",
     "text": [
      "2024-01-12 19:13:33.546766: I tensorflow/core/util/util.cc:169] oneDNN custom operations are on. You may see slightly different numerical results due to floating-point round-off errors from different computation orders. To turn them off, set the environment variable `TF_ENABLE_ONEDNN_OPTS=0`.\n",
      "2024-01-12 19:13:33.551919: W tensorflow/stream_executor/platform/default/dso_loader.cc:64] Could not load dynamic library 'libcudart.so.11.0'; dlerror: libcudart.so.11.0: cannot open shared object file: No such file or directory\n",
      "2024-01-12 19:13:33.551949: I tensorflow/stream_executor/cuda/cudart_stub.cc:29] Ignore above cudart dlerror if you do not have a GPU set up on your machine.\n"
     ]
    }
   ],
   "source": [
    "import tensorflow as tf\n",
    "from IPython.display import Markdown, display\n",
    "\n",
    "def printmd(string):\n",
    "    display(Markdown('# <span style=\"color:red\">'+string+'</span>'))\n",
    "\n",
    "\n",
    "if not tf.__version__ == '2.9.0':\n",
    "    printmd('<<<<<!!!!! ERROR !!!! please upgrade to TensorFlow 2.9.0, or restart your Kernel (Kernel->Restart & Clear Output)>>>>>')"
   ]
  },
  {
   "cell_type": "markdown",
   "metadata": {},
   "source": [
    "Now, we load in all the packages that we use to create the net including the TensorFlow package:\n"
   ]
  },
  {
   "cell_type": "code",
   "execution_count": 4,
   "metadata": {},
   "outputs": [],
   "source": [
    "import tensorflow as tf\n",
    "import numpy as np\n",
    "\n",
    "from PIL import Image\n",
    "from utils import tile_raster_images\n",
    "import matplotlib.pyplot as plt\n",
    "%matplotlib inline"
   ]
  },
  {
   "cell_type": "markdown",
   "metadata": {},
   "source": [
    "<hr>\n"
   ]
  },
  {
   "cell_type": "markdown",
   "metadata": {},
   "source": [
    "<a id=\"ref2\"></a>\n",
    "<h3>RBM layers</h3>\n",
    "\n",
    "An RBM has two layers. The first layer of the RBM is called the <b>visible</b> (or input layer). Imagine that our toy example, has only vectors with 7 values, so the visible layer must have $V=7$ input nodes. \n",
    "The second layer is the <b>hidden</b> layer, which has $H$ neurons in our case. Each hidden node takes on values of either 0 or 1 (i.e., $h_i = 1$ or $h_i$ = 0), with a probability that is a logistic function of the inputs it receives from the other $V$ visible units, called for example, $p(h_i = 1)$. For our toy sample, we'll use 2 nodes in the hidden layer, so $H = 2$.\n",
    "\n",
    "<center><img src=\"https://ibm.box.com/shared/static/eu26opvcefgls6vnwuo29uwp0nudmokh.png\" alt=\"RBM Model\" style=\"width: 400px;\"></center>\n"
   ]
  },
  {
   "cell_type": "markdown",
   "metadata": {},
   "source": [
    "     \n",
    "\n",
    "Each node in the first layer also has a <b>bias</b>. We will denote the bias as $v_{bias}$, and this single value is shared among the $V$ visible units.\n",
    "\n",
    "The <b>bias</b> of the second is defined similarly as $h_{bias}$, and this single value among the $H$ hidden units.\n"
   ]
  },
  {
   "cell_type": "code",
   "execution_count": 5,
   "metadata": {},
   "outputs": [
    {
     "name": "stderr",
     "output_type": "stream",
     "text": [
      "2024-01-12 19:13:37.421543: W tensorflow/stream_executor/platform/default/dso_loader.cc:64] Could not load dynamic library 'libcuda.so.1'; dlerror: libcuda.so.1: cannot open shared object file: No such file or directory\n",
      "2024-01-12 19:13:37.421603: W tensorflow/stream_executor/cuda/cuda_driver.cc:269] failed call to cuInit: UNKNOWN ERROR (303)\n",
      "2024-01-12 19:13:37.421639: I tensorflow/stream_executor/cuda/cuda_diagnostics.cc:156] kernel driver does not appear to be running on this host (jupyterlab-benlewisbiol): /proc/driver/nvidia/version does not exist\n",
      "2024-01-12 19:13:37.422074: I tensorflow/core/platform/cpu_feature_guard.cc:193] This TensorFlow binary is optimized with oneAPI Deep Neural Network Library (oneDNN) to use the following CPU instructions in performance-critical operations:  AVX2 AVX512F AVX512_VNNI FMA\n",
      "To enable them in other operations, rebuild TensorFlow with the appropriate compiler flags.\n"
     ]
    }
   ],
   "source": [
    "v_bias = tf.Variable(tf.zeros([7]), tf.float32)\n",
    "h_bias = tf.Variable(tf.zeros([2]), tf.float32)"
   ]
  },
  {
   "cell_type": "markdown",
   "metadata": {},
   "source": [
    "We have to define weights among the input layer and hidden layer nodes. In the weight matrix, the number of rows are equal to the input nodes, and the number of columns are equal to the output nodes. We define a tensor $\\mathbf{W}$ of shape = (7,2), where the number of visible neurons = 7, and the number of hidden neurons = 2. \n"
   ]
  },
  {
   "cell_type": "code",
   "execution_count": 6,
   "metadata": {},
   "outputs": [],
   "source": [
    "W = tf.constant(np.random.normal(loc=0.0, scale=1.0, size=(7, 2)).astype(np.float32))"
   ]
  },
  {
   "cell_type": "markdown",
   "metadata": {},
   "source": [
    "<hr>\n"
   ]
  },
  {
   "cell_type": "markdown",
   "metadata": {},
   "source": [
    "<a id=\"ref3\"></a>\n",
    "<h3>What RBM can do after training?</h3>\n",
    "Think of RBM as a model that has been trained based on images of a dataset of many SUV and sedan cars. Also, imagine that the RBM network has only two hidden nodes, where one node encodes the weight and, and the other encodes the size.  \n",
    "In a sense, the different configurations represent different cars, where one is an SUV and the other is Sedan.  In a training process, through many forward and backward passes, the RBM adjust its weights to send a stronger signal to either the SUV node (0, 1) or the sedan node (1, 0) in the hidden layer, given the pixels of images. Now, given an SUV in hidden layer, which distribution of pixels should we expect? RBM can give you 2 things. First, it encodes your images in hidden layer. Second, it gives you the probability of observing a case, given some hidden values.\n",
    "\n",
    "\n",
    "<h3>The Inference Process</h3>\n",
    "\n",
    "RBM has two phases:\n",
    "<ul>\n",
    "    <li>Forward Pass</li>  \n",
    "    <li>Backward Pass or Reconstruction</li>\n",
    "</ul>\n",
    "\n",
    "<b>Phase 1) Forward pass:</b>  \n",
    "\n",
    "Input one training sample (one image) $\\mathbf{x}$ through all visible nodes, and pass it to all hidden nodes. Processing happens in each node in the hidden layer. This computation begins by making stochastic decisions about whether to transmit that input or not (i.e. to determine the state of each hidden layer).  First, the probability vector is computed using the input feature vector $\\mathbf{x}$, the weight matrix $\\mathbf{W}$, and the bias term $h_{bias}$, as \n",
    "\n",
    "\n",
    "$$p({h_j}|\\mathbf x)= \\sigma( \\sum_{i=1}^V W_{ij} x_i + h_{bias} )$$, \n",
    "\n",
    "where $\\sigma(z) = (1+e^{-z})^{-1}$ is the logistic function.\n",
    "\n",
    "\n",
    "So, what does $p({h_j})$ represent? It is the <b>probability distribution</b> of the hidden units. That is, RBM uses inputs $x_i$ to make predictions about hidden node activations. For example, imagine that the hidden node activation values are [0.51 0.84] for the first training item. It tells you that the conditional probability for each hidden neuron for Phase 1 is: \n",
    "\n",
    "$$p(h_{1} = 1|\\mathbf{v}) = 0.51$$\n",
    "$$p(h_{2} = 1|\\mathbf{v}) = 0.84$$\n",
    "\n",
    "As a result, for each row in the training set, vector of probabilities is generated.  In TensorFlow, this is referred to as a `tensor` with a shape of (1,2). \n",
    "\n",
    "We then turn unit $j$ with probability $p(h_{j}|\\mathbf{v})$, and turn it off with probability $1 - p(h_{j}|\\mathbf{v})$ by generating a uniform random number vector $\\mathbf{\\xi}$, and comparing it to the activation probability as \n",
    "\n",
    "<center>If $\\xi_j>p(h_{j}|\\mathbf{v})$, then $h_j=1$, else $h_j=0$.</center>\n",
    "\n",
    "\n",
    "Therefore, the conditional probability of a configuration of $\\mathbf{h}$ given $\\mathbf{v}$ (for a training sample) is:\n",
    "\n",
    "$$p(\\mathbf{h} \\mid \\mathbf{v}) = \\prod_{j=1}^H p(h_j \\mid \\mathbf{v})$$\n",
    "\n",
    "\n",
    "where $H$ is the number of hidden units.\n",
    "\n"
   ]
  },
  {
   "cell_type": "markdown",
   "metadata": {},
   "source": [
    "Before we go further, let's look at a toy example for one case out of all input. Assume that we have a trained RBM, and a very simple input vector, such as [1.0, 0.0, 0.0, 1.0, 0.0, 0.0, 0.0].   \n",
    "Let's see what the output of forward pass would look like:\n"
   ]
  },
  {
   "cell_type": "code",
   "execution_count": 7,
   "metadata": {},
   "outputs": [
    {
     "name": "stdout",
     "output_type": "stream",
     "text": [
      "Input:  tf.Tensor([[1. 0. 0. 1. 0. 0. 0.]], shape=(1, 7), dtype=float32)\n",
      "hb:  tf.Tensor([0.1 0.1], shape=(2,), dtype=float32)\n",
      "w:  tf.Tensor(\n",
      "[[-3.66821080e-01 -5.66114075e-02]\n",
      " [-2.95517445e-01  9.98519838e-01]\n",
      " [ 1.21499920e+00 -1.01156812e-03]\n",
      " [ 2.45059633e+00  6.38915971e-02]\n",
      " [-9.51220632e-01 -1.42764997e+00]\n",
      " [-2.43366435e-02 -8.00348341e-01]\n",
      " [ 8.01786602e-01  1.07483886e-01]], shape=(7, 2), dtype=float32)\n",
      "p(h|v):  tf.Tensor([[0.898783  0.5267944]], shape=(1, 2), dtype=float32)\n",
      "h0 states: tf.Tensor([[1. 1.]], shape=(1, 2), dtype=float32)\n"
     ]
    }
   ],
   "source": [
    "X = tf.constant([[1.0, 0.0, 0.0, 1.0, 0.0, 0.0, 0.0]], tf.float32)\n",
    "\n",
    "v_state = X\n",
    "print (\"Input: \", v_state)\n",
    "\n",
    "h_bias = tf.constant([0.1, 0.1])\n",
    "print (\"hb: \", h_bias)\n",
    "print (\"w: \", W)\n",
    "\n",
    "# Calculate the probabilities of turning the hidden units on:\n",
    "h_prob = tf.nn.sigmoid(tf.matmul(v_state, W) + h_bias)  #probabilities of the hidden units\n",
    "print (\"p(h|v): \", h_prob)\n",
    "\n",
    "# Draw samples from the distribution:\n",
    "h_state = tf.nn.relu(tf.sign(h_prob - tf.random.uniform(tf.shape(h_prob)))) #states\n",
    "print (\"h0 states:\", h_state)"
   ]
  },
  {
   "cell_type": "markdown",
   "metadata": {},
   "source": [
    "<b>Phase 2) Backward Pass (Reconstruction):</b>\n",
    "The RBM reconstructs data by making several forward and backward passes between the visible and hidden layers.\n",
    "\n",
    "So, in the second phase (i.e. reconstruction phase), the samples from the hidden layer (i.e. $\\mathbf h$) becomes the input in the backward pass. The same weight matrix and visible layer biases are used to passed to the sigmoid function. The reproduced output is a reconstruction which is an approximation of the original input.\n"
   ]
  },
  {
   "cell_type": "code",
   "execution_count": 8,
   "metadata": {},
   "outputs": [
    {
     "name": "stdout",
     "output_type": "stream",
     "text": [
      "b:  tf.Tensor([0.1 0.2 0.1 0.1 0.1 0.2 0.1], shape=(7,), dtype=float32)\n",
      "p(vi∣h):  tf.Tensor(\n",
      "[[0.41983947 0.7115661  0.7881797  0.9317882  0.09288807 0.34871668\n",
      "  0.7328774 ]], shape=(1, 7), dtype=float32)\n",
      "v probability states:  tf.Tensor([[0. 1. 1. 1. 0. 0. 1.]], shape=(1, 7), dtype=float32)\n"
     ]
    }
   ],
   "source": [
    "vb = tf.constant([0.1, 0.2, 0.1, 0.1, 0.1, 0.2, 0.1])\n",
    "print (\"b: \", vb)\n",
    "v_prob = tf.nn.sigmoid(tf.matmul(h_state, tf.transpose(W)) + vb)\n",
    "print (\"p(vi∣h): \", v_prob)\n",
    "v_state = tf.nn.relu(tf.sign(v_prob - tf.random.uniform(tf.shape(v_prob))))\n",
    "print (\"v probability states: \", v_state)"
   ]
  },
  {
   "cell_type": "markdown",
   "metadata": {},
   "source": [
    "RBM learns a probability distribution over the input, and then, after being trained, the RBM can generate new samples from the learned probability distribution. As you know, <b>probability distribution</b>, is a mathematical function that provides the probabilities of occurrence of different possible outcomes in an experiment.\n",
    "\n",
    "The (conditional) probability distribution over the visible units v is given by\n",
    "\n",
    "$$p(\\mathbf{v} \\mid \\mathbf{h}) = \\prod_{i=1}^V p(v_i \\mid \\mathbf{h}),$$\n",
    "\n",
    "\n",
    "where,\n",
    "\n",
    "$$p(v_i \\mid \\mathbf{h}) = \\sigma\\left(\\sum_{j=1}^H W_{ji} h_j + v_{bias} \\right)$$\n",
    "\n",
    "so, given current state of hidden units and weights, what is the probability of generating [1. 0. 0. 1. 0. 0. 0.] in reconstruction phase, based on the above <b>probability distribution</b> function?\n"
   ]
  },
  {
   "cell_type": "code",
   "execution_count": 9,
   "metadata": {},
   "outputs": [
    {
     "name": "stdout",
     "output_type": "stream",
     "text": [
      "input X: [[1. 0. 0. 1. 0. 0. 0.]]\n",
      "probablity vector: [0.41983947 0.7115661  0.7881797  0.9317882  0.09288807 0.34871668\n",
      " 0.7328774 ]\n",
      "probability of generating X:  0.003771863\n"
     ]
    }
   ],
   "source": [
    "inp = X\n",
    "print(\"input X:\" , inp.numpy())\n",
    "\n",
    "print(\"probablity vector:\" , v_prob[0].numpy())\n",
    "v_probability = 1\n",
    "\n",
    "for elm, p in zip(inp[0],v_prob[0]) :\n",
    "    if elm ==1:\n",
    "        v_probability *= p\n",
    "    else:\n",
    "        v_probability *= (1-p)\n",
    "\n",
    "print(\"probability of generating X: \" , v_probability.numpy())"
   ]
  },
  {
   "cell_type": "markdown",
   "metadata": {},
   "source": [
    "How similar are vectors $\\mathbf{x}$ and $\\mathbf{v}$? Of course, the reconstructed values most likely will not look anything like the input vector, because our network has not been trained yet. Our objective is to train the model in such a way that the input vector and reconstructed vector to be same. Therefore, based on how different the input values look to the ones that we just reconstructed, the weights are adjusted. \n"
   ]
  },
  {
   "cell_type": "markdown",
   "metadata": {},
   "source": [
    "<hr>\n"
   ]
  },
  {
   "cell_type": "markdown",
   "metadata": {},
   "source": [
    "\n",
    "<h2>MNIST</h2>\n"
   ]
  },
  {
   "cell_type": "markdown",
   "metadata": {},
   "source": [
    "We will be using the MNIST dataset to practice the usage of RBMs. The following cell loads the MNIST dataset.\n"
   ]
  },
  {
   "cell_type": "code",
   "execution_count": 10,
   "metadata": {},
   "outputs": [
    {
     "name": "stdout",
     "output_type": "stream",
     "text": [
      "Downloading data from https://storage.googleapis.com/tensorflow/tf-keras-datasets/mnist.npz\n",
      "11490434/11490434 [==============================] - 0s 0us/step\n"
     ]
    }
   ],
   "source": [
    "#loading training and test data\n",
    "mnist = tf.keras.datasets.mnist\n",
    "(trX, trY), (teX, teY) = mnist.load_data()\n",
    "\n",
    "# showing an example of the Flatten class and operation\n",
    "from tensorflow.keras.layers import Flatten\n",
    "flatten = Flatten(dtype='float32')\n",
    "trX = flatten(trX/255.0)\n",
    "trY = flatten(trY/255.0)"
   ]
  },
  {
   "cell_type": "markdown",
   "metadata": {},
   "source": [
    "Lets look at the dimension of the images.\n"
   ]
  },
  {
   "cell_type": "markdown",
   "metadata": {},
   "source": [
    "MNIST images have 784 pixels, so the visible layer must have 784 input nodes.  For our case, we'll use 50 nodes in the hidden layer, so i = 50.\n"
   ]
  },
  {
   "cell_type": "code",
   "execution_count": 11,
   "metadata": {},
   "outputs": [],
   "source": [
    "vb = tf.Variable(tf.zeros([784]), tf.float32)\n",
    "hb = tf.Variable(tf.zeros([50]), tf.float32)"
   ]
  },
  {
   "cell_type": "markdown",
   "metadata": {},
   "source": [
    "Let $\\mathbf W$ be the Tensor of 784x50 (784 - number of visible neurons, 50 - number of hidden neurons) that represents weights between the neurons. \n"
   ]
  },
  {
   "cell_type": "code",
   "execution_count": 12,
   "metadata": {},
   "outputs": [],
   "source": [
    "W = tf.Variable(tf.zeros([784,50]), tf.float32)"
   ]
  },
  {
   "cell_type": "markdown",
   "metadata": {},
   "source": [
    "Lets define the visible layer:\n"
   ]
  },
  {
   "cell_type": "code",
   "execution_count": 13,
   "metadata": {},
   "outputs": [
    {
     "data": {
      "text/plain": [
       "<tf.Tensor: shape=(1, 50), dtype=float32, numpy=\n",
       "array([[0., 0., 0., 0., 0., 0., 0., 0., 0., 0., 0., 0., 0., 0., 0., 0.,\n",
       "        0., 0., 0., 0., 0., 0., 0., 0., 0., 0., 0., 0., 0., 0., 0., 0.,\n",
       "        0., 0., 0., 0., 0., 0., 0., 0., 0., 0., 0., 0., 0., 0., 0., 0.,\n",
       "        0., 0.]], dtype=float32)>"
      ]
     },
     "execution_count": 13,
     "metadata": {},
     "output_type": "execute_result"
    }
   ],
   "source": [
    "v0_state = tf.Variable(tf.zeros([784]), tf.float32)\n",
    "\n",
    "#testing to see if the matrix product works\n",
    "tf.matmul( [v0_state], W)"
   ]
  },
  {
   "cell_type": "markdown",
   "metadata": {},
   "source": [
    "Now, we can define hidden layer:\n"
   ]
  },
  {
   "cell_type": "code",
   "execution_count": 14,
   "metadata": {},
   "outputs": [
    {
     "name": "stdout",
     "output_type": "stream",
     "text": [
      "h0_state shape:  tf.Tensor([ 1 50], shape=(2,), dtype=int32)\n",
      "first 15 hidden states:  tf.Tensor([1. 1. 0. 1. 1. 1. 0. 1. 0. 1. 0. 0. 0. 1. 1.], shape=(15,), dtype=float32)\n"
     ]
    }
   ],
   "source": [
    "#computing the hidden nodes probability vector and checking shape\n",
    "h0_prob = tf.nn.sigmoid(tf.matmul([v0_state], W) + hb)  #probabilities of the hidden units\n",
    "print(\"h0_state shape: \" , tf.shape(h0_prob))\n",
    "\n",
    "#defining a function to return only the generated hidden states \n",
    "def hidden_layer(v0_state, W, hb):\n",
    "    h0_prob = tf.nn.sigmoid(tf.matmul([v0_state], W) + hb)  #probabilities of the hidden units\n",
    "    h0_state = tf.nn.relu(tf.sign(h0_prob - tf.random.uniform(tf.shape(h0_prob)))) #sample_h_given_X\n",
    "    return h0_state\n",
    "\n",
    "\n",
    "h0_state = hidden_layer(v0_state, W, hb)\n",
    "print(\"first 15 hidden states: \", h0_state[0][0:15])"
   ]
  },
  {
   "cell_type": "markdown",
   "metadata": {},
   "source": [
    "Now, we define reconstruction part:\n"
   ]
  },
  {
   "cell_type": "code",
   "execution_count": 15,
   "metadata": {},
   "outputs": [
    {
     "name": "stdout",
     "output_type": "stream",
     "text": [
      "hidden state shape:  (1, 50)\n",
      "v0 state shape:   (784,)\n",
      "v1 state shape:   (784,)\n"
     ]
    }
   ],
   "source": [
    "def reconstructed_output(h0_state, W, vb):\n",
    "    v1_prob = tf.nn.sigmoid(tf.matmul(h0_state, tf.transpose(W)) + vb) \n",
    "    v1_state = tf.nn.relu(tf.sign(v1_prob - tf.random.uniform(tf.shape(v1_prob)))) #sample_v_given_h\n",
    "    return v1_state[0]\n",
    "\n",
    "v1_state = reconstructed_output(h0_state, W, vb)\n",
    "print(\"hidden state shape: \", h0_state.shape)\n",
    "print(\"v0 state shape:  \", v0_state.shape)\n",
    "print(\"v1 state shape:  \", v1_state.shape)"
   ]
  },
  {
   "cell_type": "markdown",
   "metadata": {},
   "source": [
    "<h3>What is the objective function?</h3>\n",
    "\n",
    "<b>Goal</b>: Maximize the likelihood of our data being drawn from that distribution\n",
    "\n",
    "<b>Calculate error:</b>  \n",
    "In each epoch, we compute the \"error\" as a sum of the squared difference between step 1 and step n,\n",
    "e.g the error shows the difference between the data and its reconstruction.\n",
    "\n",
    "<b>Note:</b> tf.reduce_mean computes the mean of elements across dimensions of a tensor.\n"
   ]
  },
  {
   "cell_type": "code",
   "execution_count": 16,
   "metadata": {},
   "outputs": [
    {
     "name": "stdout",
     "output_type": "stream",
     "text": [
      "error 0.49362245\n"
     ]
    }
   ],
   "source": [
    "def error(v0_state, v1_state):\n",
    "    return tf.reduce_mean(tf.square(v0_state - v1_state))\n",
    "\n",
    "err = tf.reduce_mean(tf.square(v0_state - v1_state))\n",
    "print(\"error\" , err.numpy())"
   ]
  },
  {
   "cell_type": "markdown",
   "metadata": {},
   "source": [
    "<a id=\"ref4\"></a>\n",
    "<h3>Training the Model</h3>\n",
    "<b>Warning...</b> The following part is math-heavy, but you can skip it if you just want to run the cells in the next section.\n",
    "\n",
    "As mentioned, we want to give a high probability to the input data we train on. So, in order to train an RBM, we have to maximize the product of probabilities assigned to all rows $\\mathbf{v}$ (images) in the training set $\\mathbf{V}$ (a matrix, where each row of it is treated as a visible vector $\\mathbf{v}$)\n",
    "\n",
    "$$\\arg \\max_W \\prod_{\\mathbf{v}\\in\\mathbf{V}_T} p(\\mathbf{v})$$\n",
    "\n",
    "\n",
    "which is equivalent to maximizing the expectation of the log probability, given as\n",
    "\n",
    "$$\\arg\\max_W\\left[ \\mathbb{E} \\left(\\prod_{\\mathbf v\\in \\mathbf V}\\text{log} \\left(p(\\mathbf v)\\right) \\right) \\right].$$\n",
    "\n",
    "\n",
    "So, we have to update the weights $W_{ij}$  to increase $p(\\mathbf{v})$ for all $\\mathbf{v}$ in our training data during training. So we have to calculate the derivative:\n",
    "\n",
    "\n",
    "$$\\frac{\\partial \\log p(\\mathbf v)}{\\partial W_{ij}}$$\n",
    "\n",
    "This cannot be easily done by typical <b>gradient descent (SGD)</b>, so we can use another approach, which has 2 steps:\n",
    "<ol>\n",
    "    <li>Gibbs Sampling</li>\n",
    "    <li>Contrastive Divergence</li>\n",
    "</ol>    \n",
    "    \n",
    "<h3>Gibbs Sampling</h3>   \n",
    "\n",
    "<h4>Gibbs Sampling Step 1</h4> \n",
    "Given an input vector $\\mathbf{v}$, we are using $p(\\mathbf{h}|\\mathbf{v})$ to predict the hidden values $\\mathbf{h}$. \n",
    "  $$p({h_j}|\\mathbf v)= \\sigma\\left(\\sum_{i=1}^V W_{ij} v_i + h_{bias} \\right)$$\n",
    "The samples are generated from this distribution by generating the uniform random variate vector $\\mathbf{\\xi} \\sim U[0,1]$ of length $H$ and comparing to the computed probabilities as\n",
    "\n",
    "\n",
    "<center>If $\\xi_j>p(h_{j}|\\mathbf{v})$, then $h_j=1$, else $h_j=0$.</center>\n",
    "\n",
    "\n",
    "<h4>Gibbs Sampling Step 2</h4> \n",
    "Then, knowing the hidden values, we use $p(\\mathbf v| \\mathbf h)$ for reconstructing of new input values v. \n",
    "\n",
    "   $$p({v_i}|\\mathbf h)= \\sigma\\left(\\sum_{j=1}^H W^{T}_{ij} h_j + v_{bias} \\right)$$\n",
    "\n",
    "\n",
    "The samples are generated from this distribution by generating a uniform random variate vector $\\mathbf{\\xi} \\sim U[0,1]$ of length $V$ and comparing to the computed probabilities as\n",
    "\n",
    "<center>If $\\xi_i>p(v_{i}|\\mathbf{h})$, then $v_i=1$, else $v_i=0$.</center>\n",
    "\n",
    "Let vectors $\\mathbf v_k$ and $\\mathbf h_k$ be for the $k$th iteration.  In general, the $kth$ state is generrated as: \n",
    "\n",
    "\n",
    "    \n",
    "<b>Iteration</b> $k$: \n",
    "\n",
    "$$\\mathbf v_{k-1} \\Rightarrow p(\\mathbf h_{k-1}|\\mathbf v_{k-1})\\Rightarrow \\mathbf h_{k-1}\\Rightarrow p(\\mathbf v_{k}|\\mathbf h_{k-1})\\Rightarrow \\mathbf v_k$$       \n",
    "    \n",
    "<h3>Contrastive Divergence (CD-k)</h3>\n",
    "The update of the weight matrix is done during the Contrastive Divergence step. \n",
    "\n",
    "Vectors v0 and vk are used to calculate the activation probabilities for hidden values h0 and hk. The difference between the outer products of those probabilities with input vectors v0 and vk results in the update matrix:\n",
    "\n",
    "\n",
    "$$\\Delta \\mathbf W_k =\\mathbf v_k \\otimes \\mathbf h_k - \\mathbf v_{k-1} \\otimes \\mathbf h_{k-1}$$\n",
    "\n",
    "Contrastive Divergence is actually matrix of values that is computed and used to adjust values of the $\\mathbf W$ matrix. Changing $\\mathbf W$ incrementally leads to training of the  $\\mathbf W$ values. Then, on each step (epoch), $\\mathbf W$ is updated using the following:\n",
    "\n",
    "$$\\mathbf W_k = \\mathbf W_{k-1} + \\alpha * \\Delta \\mathbf W_k$$\n",
    "\n",
    "\n",
    "\n",
    "Reconstruction steps:\n",
    "<ul>\n",
    "    <li> Get one data point from data set, like <i>x</i>, and pass it through the following steps:</li>\n",
    "    \n",
    "<b>Iteration</b> $k=1$: \n",
    "    \n",
    "Sampling (starting with input image)\n",
    "    $$\\mathbf x = \\mathbf v_0 \\Rightarrow p(\\mathbf h_0|\\mathbf v_0)\\Rightarrow \\mathbf h_0 \\Rightarrow p(\\mathbf v_1|\\mathbf h_0)\\Rightarrow \\mathbf v_1$$   \n",
    "    followed by the CD-k step\n",
    "$$\\Delta \\mathbf W_1 =\\mathbf v_1 \\otimes \\mathbf h_1 - \\mathbf v_{0} \\otimes \\mathbf h_{0}$$     \n",
    "$$\\mathbf W_1 = \\mathbf W_{0} + \\alpha * \\Delta \\mathbf W_1$$ \n",
    " \n",
    "<li> $\\mathbf v_1$ is the reconstruction of $\\mathbf x$ sent to the next iteration).</li>\n",
    "\n",
    "<b>Iteration</b> $k=2$: \n",
    "\n",
    "Sampling (starting with $\\mathbf v_1$)\n",
    "\n",
    "$$\\mathbf v_1 \\Rightarrow p(\\mathbf h_1|\\mathbf v_1)\\Rightarrow \\mathbf h_1\\Rightarrow p(\\mathbf v_2|\\mathbf h_1)\\Rightarrow \\mathbf v_2$$   \n",
    "\n",
    "followed by the CD-k step\n",
    "$$\\Delta \\mathbf W_2 =\\mathbf v_2 \\otimes \\mathbf h_2 - \\mathbf v_{1} \\otimes \\mathbf h_{1}$$     \n",
    "$$\\mathbf W_2 = \\mathbf W_{1} + \\alpha * \\Delta \\mathbf W_2$$ \n",
    "\n",
    "<li> $\\mathbf v_2$ is the reconstruction of $\\mathbf v_1$ sent to the next iteration).</li>    \n",
    "      \n",
    "<b>Iteration</b> $k=K$:\n",
    "    \n",
    "Sampling (starting with $\\mathbf v_{K-1}$)\n",
    "\n",
    "$$\\mathbf v_{K-1} \\Rightarrow p(\\mathbf h_{K-1}|\\mathbf v_{K-1})\\Rightarrow \\mathbf h_{K-1}\\Rightarrow p(\\mathbf v_K|\\mathbf h_{K-1})\\Rightarrow \\mathbf v_K$$   \n",
    "\n",
    "followed by the CD-k step\n",
    "$$\\Delta \\mathbf W_K =\\mathbf v_K \\otimes \\mathbf h_K - \\mathbf v_{K-1} \\otimes \\mathbf h_{K-1}$$     \n",
    "$$\\mathbf W_K = \\mathbf W_{K-1} + \\alpha * \\Delta \\mathbf W_K$$ \n",
    "    \n",
    "<b>What is $\\alpha$?</b>  \n",
    "Here, alpha is some small step size, and is also known as the \"learning rate\".\n"
   ]
  },
  {
   "cell_type": "markdown",
   "metadata": {},
   "source": [
    "$K$ is adjustable, and good performance can be achieved with $K=1$, so that we just take one set of sampling steps per image.\n"
   ]
  },
  {
   "cell_type": "code",
   "execution_count": 17,
   "metadata": {},
   "outputs": [],
   "source": [
    "h1_prob = tf.nn.sigmoid(tf.matmul([v1_state], W) + hb)\n",
    "h1_state = tf.nn.relu(tf.sign(h1_prob - tf.random.uniform(tf.shape(h1_prob)))) #sample_h_given_X"
   ]
  },
  {
   "cell_type": "markdown",
   "metadata": {},
   "source": [
    "Lets look at the error of the first run:\n"
   ]
  },
  {
   "cell_type": "code",
   "execution_count": 18,
   "metadata": {},
   "outputs": [
    {
     "name": "stdout",
     "output_type": "stream",
     "text": [
      "error:  tf.Tensor(0.49362245, shape=(), dtype=float32)\n"
     ]
    }
   ],
   "source": [
    "print(\"error: \", error(v0_state, v1_state))"
   ]
  },
  {
   "cell_type": "code",
   "execution_count": 19,
   "metadata": {},
   "outputs": [
    {
     "name": "stdout",
     "output_type": "stream",
     "text": [
      "Epoch: 0 batch #: 1  of 300 sample #: 199 reconstruction error: 0.185202\n",
      "Epoch: 0 batch #: 2  of 300 sample #: 199 reconstruction error: 0.216394\n",
      "Epoch: 0 batch #: 3  of 300 sample #: 199 reconstruction error: 0.104688\n",
      "Epoch: 0 batch #: 4  of 300 sample #: 199 reconstruction error: 0.121880\n",
      "Epoch: 0 batch #: 5  of 300 sample #: 199 reconstruction error: 0.104795\n",
      "Epoch: 0 batch #: 6  of 300 sample #: 199 reconstruction error: 0.192756\n",
      "Epoch: 0 batch #: 7  of 300 sample #: 199 reconstruction error: 0.113809\n",
      "Epoch: 0 batch #: 8  of 300 sample #: 199 reconstruction error: 0.133839\n",
      "Epoch: 0 batch #: 9  of 300 sample #: 199 reconstruction error: 0.100993\n",
      "Epoch: 0 batch #: 10  of 300 sample #: 199 reconstruction error: 0.177036\n",
      "Epoch: 0 batch #: 11  of 300 sample #: 199 reconstruction error: 0.102215\n",
      "Epoch: 0 batch #: 12  of 300 sample #: 199 reconstruction error: 0.142108\n",
      "Epoch: 0 batch #: 13  of 300 sample #: 199 reconstruction error: 0.056936\n",
      "Epoch: 0 batch #: 14  of 300 sample #: 199 reconstruction error: 0.091113\n",
      "Epoch: 0 batch #: 15  of 300 sample #: 199 reconstruction error: 0.117813\n",
      "Epoch: 0 batch #: 16  of 300 sample #: 199 reconstruction error: 0.098594\n",
      "Epoch: 0 batch #: 17  of 300 sample #: 199 reconstruction error: 0.062908\n",
      "Epoch: 0 batch #: 18  of 300 sample #: 199 reconstruction error: 0.146405\n",
      "Epoch: 0 batch #: 19  of 300 sample #: 199 reconstruction error: 0.131852\n",
      "Epoch: 0 batch #: 20  of 300 sample #: 199 reconstruction error: 0.088711\n",
      "Epoch: 0 batch #: 21  of 300 sample #: 199 reconstruction error: 0.089763\n",
      "Epoch: 0 batch #: 22  of 300 sample #: 199 reconstruction error: 0.072587\n",
      "Epoch: 0 batch #: 23  of 300 sample #: 199 reconstruction error: 0.121299\n",
      "Epoch: 0 batch #: 24  of 300 sample #: 199 reconstruction error: 0.130171\n",
      "Epoch: 0 batch #: 25  of 300 sample #: 199 reconstruction error: 0.085144\n",
      "Epoch: 0 batch #: 26  of 300 sample #: 199 reconstruction error: 0.080714\n",
      "Epoch: 0 batch #: 27  of 300 sample #: 199 reconstruction error: 0.109318\n",
      "Epoch: 0 batch #: 28  of 300 sample #: 199 reconstruction error: 0.090518\n",
      "Epoch: 0 batch #: 29  of 300 sample #: 199 reconstruction error: 0.103747\n",
      "Epoch: 0 batch #: 30  of 300 sample #: 199 reconstruction error: 0.088023\n",
      "Epoch: 0 batch #: 31  of 300 sample #: 199 reconstruction error: 0.100632\n",
      "Epoch: 0 batch #: 32  of 300 sample #: 199 reconstruction error: 0.133054\n",
      "Epoch: 0 batch #: 33  of 300 sample #: 199 reconstruction error: 0.062944\n",
      "Epoch: 0 batch #: 34  of 300 sample #: 199 reconstruction error: 0.065016\n",
      "Epoch: 0 batch #: 35  of 300 sample #: 199 reconstruction error: 0.081163\n",
      "Epoch: 0 batch #: 36  of 300 sample #: 199 reconstruction error: 0.080442\n",
      "Epoch: 0 batch #: 37  of 300 sample #: 199 reconstruction error: 0.078650\n",
      "Epoch: 0 batch #: 38  of 300 sample #: 199 reconstruction error: 0.081062\n",
      "Epoch: 0 batch #: 39  of 300 sample #: 199 reconstruction error: 0.081723\n",
      "Epoch: 0 batch #: 40  of 300 sample #: 199 reconstruction error: 0.122253\n",
      "Epoch: 0 batch #: 41  of 300 sample #: 199 reconstruction error: 0.078933\n",
      "Epoch: 0 batch #: 42  of 300 sample #: 199 reconstruction error: 0.072282\n",
      "Epoch: 0 batch #: 43  of 300 sample #: 199 reconstruction error: 0.122943\n",
      "Epoch: 0 batch #: 44  of 300 sample #: 199 reconstruction error: 0.067869\n",
      "Epoch: 0 batch #: 45  of 300 sample #: 199 reconstruction error: 0.052143\n",
      "Epoch: 0 batch #: 46  of 300 sample #: 199 reconstruction error: 0.032557\n",
      "Epoch: 0 batch #: 47  of 300 sample #: 199 reconstruction error: 0.042606\n",
      "Epoch: 0 batch #: 48  of 300 sample #: 199 reconstruction error: 0.041777\n",
      "Epoch: 0 batch #: 49  of 300 sample #: 199 reconstruction error: 0.131331\n",
      "Epoch: 0 batch #: 50  of 300 sample #: 199 reconstruction error: 0.052639\n",
      "Epoch: 0 batch #: 51  of 300 sample #: 199 reconstruction error: 0.055538\n",
      "Epoch: 0 batch #: 52  of 300 sample #: 199 reconstruction error: 0.048956\n",
      "Epoch: 0 batch #: 53  of 300 sample #: 199 reconstruction error: 0.119037\n",
      "Epoch: 0 batch #: 54  of 300 sample #: 199 reconstruction error: 0.060207\n",
      "Epoch: 0 batch #: 55  of 300 sample #: 199 reconstruction error: 0.103142\n",
      "Epoch: 0 batch #: 56  of 300 sample #: 199 reconstruction error: 0.068956\n",
      "Epoch: 0 batch #: 57  of 300 sample #: 199 reconstruction error: 0.039286\n",
      "Epoch: 0 batch #: 58  of 300 sample #: 199 reconstruction error: 0.061097\n",
      "Epoch: 0 batch #: 59  of 300 sample #: 199 reconstruction error: 0.051969\n",
      "Epoch: 0 batch #: 60  of 300 sample #: 199 reconstruction error: 0.091383\n",
      "Epoch: 0 batch #: 61  of 300 sample #: 199 reconstruction error: 0.085004\n",
      "Epoch: 0 batch #: 62  of 300 sample #: 199 reconstruction error: 0.083324\n",
      "Epoch: 0 batch #: 63  of 300 sample #: 199 reconstruction error: 0.062664\n",
      "Epoch: 0 batch #: 64  of 300 sample #: 199 reconstruction error: 0.087253\n",
      "Epoch: 0 batch #: 65  of 300 sample #: 199 reconstruction error: 0.096789\n",
      "Epoch: 0 batch #: 66  of 300 sample #: 199 reconstruction error: 0.061601\n",
      "Epoch: 0 batch #: 67  of 300 sample #: 199 reconstruction error: 0.040881\n",
      "Epoch: 0 batch #: 68  of 300 sample #: 199 reconstruction error: 0.063694\n",
      "Epoch: 0 batch #: 69  of 300 sample #: 199 reconstruction error: 0.075969\n",
      "Epoch: 0 batch #: 70  of 300 sample #: 199 reconstruction error: 0.085614\n",
      "Epoch: 0 batch #: 71  of 300 sample #: 199 reconstruction error: 0.067537\n",
      "Epoch: 0 batch #: 72  of 300 sample #: 199 reconstruction error: 0.061415\n",
      "Epoch: 0 batch #: 73  of 300 sample #: 199 reconstruction error: 0.083912\n",
      "Epoch: 0 batch #: 74  of 300 sample #: 199 reconstruction error: 0.083735\n",
      "Epoch: 0 batch #: 75  of 300 sample #: 199 reconstruction error: 0.045952\n",
      "Epoch: 0 batch #: 76  of 300 sample #: 199 reconstruction error: 0.068082\n",
      "Epoch: 0 batch #: 77  of 300 sample #: 199 reconstruction error: 0.108352\n",
      "Epoch: 0 batch #: 78  of 300 sample #: 199 reconstruction error: 0.091614\n",
      "Epoch: 0 batch #: 79  of 300 sample #: 199 reconstruction error: 0.110578\n",
      "Epoch: 0 batch #: 80  of 300 sample #: 199 reconstruction error: 0.025979\n",
      "Epoch: 0 batch #: 81  of 300 sample #: 199 reconstruction error: 0.050529\n",
      "Epoch: 0 batch #: 82  of 300 sample #: 199 reconstruction error: 0.049909\n",
      "Epoch: 0 batch #: 83  of 300 sample #: 199 reconstruction error: 0.069247\n",
      "Epoch: 0 batch #: 84  of 300 sample #: 199 reconstruction error: 0.087056\n",
      "Epoch: 0 batch #: 85  of 300 sample #: 199 reconstruction error: 0.042312\n",
      "Epoch: 0 batch #: 86  of 300 sample #: 199 reconstruction error: 0.070978\n",
      "Epoch: 0 batch #: 87  of 300 sample #: 199 reconstruction error: 0.075685\n",
      "Epoch: 0 batch #: 88  of 300 sample #: 199 reconstruction error: 0.024770\n",
      "Epoch: 0 batch #: 89  of 300 sample #: 199 reconstruction error: 0.058433\n",
      "Epoch: 0 batch #: 90  of 300 sample #: 199 reconstruction error: 0.059198\n",
      "Epoch: 0 batch #: 91  of 300 sample #: 199 reconstruction error: 0.063462\n",
      "Epoch: 0 batch #: 92  of 300 sample #: 199 reconstruction error: 0.072676\n",
      "Epoch: 0 batch #: 93  of 300 sample #: 199 reconstruction error: 0.121240\n",
      "Epoch: 0 batch #: 94  of 300 sample #: 199 reconstruction error: 0.118737\n",
      "Epoch: 0 batch #: 95  of 300 sample #: 199 reconstruction error: 0.062044\n",
      "Epoch: 0 batch #: 96  of 300 sample #: 199 reconstruction error: 0.060403\n",
      "Epoch: 0 batch #: 97  of 300 sample #: 199 reconstruction error: 0.114299\n",
      "Epoch: 0 batch #: 98  of 300 sample #: 199 reconstruction error: 0.088329\n",
      "Epoch: 0 batch #: 99  of 300 sample #: 199 reconstruction error: 0.065374\n",
      "Epoch: 0 batch #: 100  of 300 sample #: 199 reconstruction error: 0.107972\n",
      "Epoch: 0 batch #: 101  of 300 sample #: 199 reconstruction error: 0.086472\n",
      "Epoch: 0 batch #: 102  of 300 sample #: 199 reconstruction error: 0.079621\n",
      "Epoch: 0 batch #: 103  of 300 sample #: 199 reconstruction error: 0.077324\n",
      "Epoch: 0 batch #: 104  of 300 sample #: 199 reconstruction error: 0.066391\n",
      "Epoch: 0 batch #: 105  of 300 sample #: 199 reconstruction error: 0.070490\n",
      "Epoch: 0 batch #: 106  of 300 sample #: 199 reconstruction error: 0.109353\n",
      "Epoch: 0 batch #: 107  of 300 sample #: 199 reconstruction error: 0.138218\n",
      "Epoch: 0 batch #: 108  of 300 sample #: 199 reconstruction error: 0.056267\n",
      "Epoch: 0 batch #: 109  of 300 sample #: 199 reconstruction error: 0.106894\n",
      "Epoch: 0 batch #: 110  of 300 sample #: 199 reconstruction error: 0.063663\n",
      "Epoch: 0 batch #: 111  of 300 sample #: 199 reconstruction error: 0.100012\n",
      "Epoch: 0 batch #: 112  of 300 sample #: 199 reconstruction error: 0.056502\n",
      "Epoch: 0 batch #: 113  of 300 sample #: 199 reconstruction error: 0.084828\n",
      "Epoch: 0 batch #: 114  of 300 sample #: 199 reconstruction error: 0.069062\n",
      "Epoch: 0 batch #: 115  of 300 sample #: 199 reconstruction error: 0.071245\n",
      "Epoch: 0 batch #: 116  of 300 sample #: 199 reconstruction error: 0.040731\n",
      "Epoch: 0 batch #: 117  of 300 sample #: 199 reconstruction error: 0.048220\n",
      "Epoch: 0 batch #: 118  of 300 sample #: 199 reconstruction error: 0.079623\n",
      "Epoch: 0 batch #: 119  of 300 sample #: 199 reconstruction error: 0.112434\n",
      "Epoch: 0 batch #: 120  of 300 sample #: 199 reconstruction error: 0.078582\n",
      "Epoch: 0 batch #: 121  of 300 sample #: 199 reconstruction error: 0.041422\n",
      "Epoch: 0 batch #: 122  of 300 sample #: 199 reconstruction error: 0.083465\n",
      "Epoch: 0 batch #: 123  of 300 sample #: 199 reconstruction error: 0.072286\n",
      "Epoch: 0 batch #: 124  of 300 sample #: 199 reconstruction error: 0.070913\n",
      "Epoch: 0 batch #: 125  of 300 sample #: 199 reconstruction error: 0.056496\n",
      "Epoch: 0 batch #: 126  of 300 sample #: 199 reconstruction error: 0.090189\n",
      "Epoch: 0 batch #: 127  of 300 sample #: 199 reconstruction error: 0.093006\n",
      "Epoch: 0 batch #: 128  of 300 sample #: 199 reconstruction error: 0.075054\n",
      "Epoch: 0 batch #: 129  of 300 sample #: 199 reconstruction error: 0.062210\n",
      "Epoch: 0 batch #: 130  of 300 sample #: 199 reconstruction error: 0.075754\n",
      "Epoch: 0 batch #: 131  of 300 sample #: 199 reconstruction error: 0.044014\n",
      "Epoch: 0 batch #: 132  of 300 sample #: 199 reconstruction error: 0.045300\n",
      "Epoch: 0 batch #: 133  of 300 sample #: 199 reconstruction error: 0.059456\n",
      "Epoch: 0 batch #: 134  of 300 sample #: 199 reconstruction error: 0.084182\n",
      "Epoch: 0 batch #: 135  of 300 sample #: 199 reconstruction error: 0.092678\n",
      "Epoch: 0 batch #: 136  of 300 sample #: 199 reconstruction error: 0.110823\n",
      "Epoch: 0 batch #: 137  of 300 sample #: 199 reconstruction error: 0.059942\n",
      "Epoch: 0 batch #: 138  of 300 sample #: 199 reconstruction error: 0.082446\n",
      "Epoch: 0 batch #: 139  of 300 sample #: 199 reconstruction error: 0.098285\n",
      "Epoch: 0 batch #: 140  of 300 sample #: 199 reconstruction error: 0.070694\n",
      "Epoch: 0 batch #: 141  of 300 sample #: 199 reconstruction error: 0.096711\n",
      "Epoch: 0 batch #: 142  of 300 sample #: 199 reconstruction error: 0.059645\n",
      "Epoch: 0 batch #: 143  of 300 sample #: 199 reconstruction error: 0.062479\n",
      "Epoch: 0 batch #: 144  of 300 sample #: 199 reconstruction error: 0.051271\n",
      "Epoch: 0 batch #: 145  of 300 sample #: 199 reconstruction error: 0.085323\n",
      "Epoch: 0 batch #: 146  of 300 sample #: 199 reconstruction error: 0.117595\n",
      "Epoch: 0 batch #: 147  of 300 sample #: 199 reconstruction error: 0.075607\n",
      "Epoch: 0 batch #: 148  of 300 sample #: 199 reconstruction error: 0.085213\n",
      "Epoch: 0 batch #: 149  of 300 sample #: 199 reconstruction error: 0.045508\n",
      "Epoch: 0 batch #: 150  of 300 sample #: 199 reconstruction error: 0.038182\n",
      "Epoch: 0 batch #: 151  of 300 sample #: 199 reconstruction error: 0.101540\n",
      "Epoch: 0 batch #: 152  of 300 sample #: 199 reconstruction error: 0.088456\n",
      "Epoch: 0 batch #: 153  of 300 sample #: 199 reconstruction error: 0.063979\n",
      "Epoch: 0 batch #: 154  of 300 sample #: 199 reconstruction error: 0.075523\n",
      "Epoch: 0 batch #: 155  of 300 sample #: 199 reconstruction error: 0.046181\n",
      "Epoch: 0 batch #: 156  of 300 sample #: 199 reconstruction error: 0.097791\n",
      "Epoch: 0 batch #: 157  of 300 sample #: 199 reconstruction error: 0.089382\n",
      "Epoch: 0 batch #: 158  of 300 sample #: 199 reconstruction error: 0.075116\n",
      "Epoch: 0 batch #: 159  of 300 sample #: 199 reconstruction error: 0.068940\n",
      "Epoch: 0 batch #: 160  of 300 sample #: 199 reconstruction error: 0.066882\n",
      "Epoch: 0 batch #: 161  of 300 sample #: 199 reconstruction error: 0.090798\n",
      "Epoch: 0 batch #: 162  of 300 sample #: 199 reconstruction error: 0.121497\n",
      "Epoch: 0 batch #: 163  of 300 sample #: 199 reconstruction error: 0.040857\n",
      "Epoch: 0 batch #: 164  of 300 sample #: 199 reconstruction error: 0.047008\n",
      "Epoch: 0 batch #: 165  of 300 sample #: 199 reconstruction error: 0.090134\n",
      "Epoch: 0 batch #: 166  of 300 sample #: 199 reconstruction error: 0.052347\n",
      "Epoch: 0 batch #: 167  of 300 sample #: 199 reconstruction error: 0.097589\n",
      "Epoch: 0 batch #: 168  of 300 sample #: 199 reconstruction error: 0.060611\n",
      "Epoch: 0 batch #: 169  of 300 sample #: 199 reconstruction error: 0.037861\n",
      "Epoch: 0 batch #: 170  of 300 sample #: 199 reconstruction error: 0.057053\n",
      "Epoch: 0 batch #: 171  of 300 sample #: 199 reconstruction error: 0.029225\n",
      "Epoch: 0 batch #: 172  of 300 sample #: 199 reconstruction error: 0.048466\n",
      "Epoch: 0 batch #: 173  of 300 sample #: 199 reconstruction error: 0.072084\n",
      "Epoch: 0 batch #: 174  of 300 sample #: 199 reconstruction error: 0.105572\n",
      "Epoch: 0 batch #: 175  of 300 sample #: 199 reconstruction error: 0.064465\n",
      "Epoch: 0 batch #: 176  of 300 sample #: 199 reconstruction error: 0.057001\n",
      "Epoch: 0 batch #: 177  of 300 sample #: 199 reconstruction error: 0.034842\n",
      "Epoch: 0 batch #: 178  of 300 sample #: 199 reconstruction error: 0.111673\n",
      "Epoch: 0 batch #: 179  of 300 sample #: 199 reconstruction error: 0.060884\n",
      "Epoch: 0 batch #: 180  of 300 sample #: 199 reconstruction error: 0.086602\n",
      "Epoch: 0 batch #: 181  of 300 sample #: 199 reconstruction error: 0.111749\n",
      "Epoch: 0 batch #: 182  of 300 sample #: 199 reconstruction error: 0.069423\n",
      "Epoch: 0 batch #: 183  of 300 sample #: 199 reconstruction error: 0.108239\n",
      "Epoch: 0 batch #: 184  of 300 sample #: 199 reconstruction error: 0.062733\n",
      "Epoch: 0 batch #: 185  of 300 sample #: 199 reconstruction error: 0.081677\n",
      "Epoch: 0 batch #: 186  of 300 sample #: 199 reconstruction error: 0.105500\n",
      "Epoch: 0 batch #: 187  of 300 sample #: 199 reconstruction error: 0.069078\n",
      "Epoch: 0 batch #: 188  of 300 sample #: 199 reconstruction error: 0.103377\n",
      "Epoch: 0 batch #: 189  of 300 sample #: 199 reconstruction error: 0.083334\n",
      "Epoch: 0 batch #: 190  of 300 sample #: 199 reconstruction error: 0.064344\n",
      "Epoch: 0 batch #: 191  of 300 sample #: 199 reconstruction error: 0.091457\n",
      "Epoch: 0 batch #: 192  of 300 sample #: 199 reconstruction error: 0.117963\n",
      "Epoch: 0 batch #: 193  of 300 sample #: 199 reconstruction error: 0.107210\n",
      "Epoch: 0 batch #: 194  of 300 sample #: 199 reconstruction error: 0.092504\n",
      "Epoch: 0 batch #: 195  of 300 sample #: 199 reconstruction error: 0.056322\n",
      "Epoch: 0 batch #: 196  of 300 sample #: 199 reconstruction error: 0.046713\n",
      "Epoch: 0 batch #: 197  of 300 sample #: 199 reconstruction error: 0.057551\n",
      "Epoch: 0 batch #: 198  of 300 sample #: 199 reconstruction error: 0.081726\n",
      "Epoch: 0 batch #: 199  of 300 sample #: 199 reconstruction error: 0.060796\n",
      "Epoch: 0 batch #: 200  of 300 sample #: 199 reconstruction error: 0.097584\n",
      "Epoch: 0 batch #: 201  of 300 sample #: 199 reconstruction error: 0.100676\n",
      "Epoch: 0 batch #: 202  of 300 sample #: 199 reconstruction error: 0.029384\n",
      "Epoch: 0 batch #: 203  of 300 sample #: 199 reconstruction error: 0.086500\n",
      "Epoch: 0 batch #: 204  of 300 sample #: 199 reconstruction error: 0.041271\n",
      "Epoch: 0 batch #: 205  of 300 sample #: 199 reconstruction error: 0.019635\n",
      "Epoch: 0 batch #: 206  of 300 sample #: 199 reconstruction error: 0.057585\n",
      "Epoch: 0 batch #: 207  of 300 sample #: 199 reconstruction error: 0.080677\n",
      "Epoch: 0 batch #: 208  of 300 sample #: 199 reconstruction error: 0.049208\n",
      "Epoch: 0 batch #: 209  of 300 sample #: 199 reconstruction error: 0.023338\n",
      "Epoch: 0 batch #: 210  of 300 sample #: 199 reconstruction error: 0.080930\n",
      "Epoch: 0 batch #: 211  of 300 sample #: 199 reconstruction error: 0.093670\n",
      "Epoch: 0 batch #: 212  of 300 sample #: 199 reconstruction error: 0.086678\n",
      "Epoch: 0 batch #: 213  of 300 sample #: 199 reconstruction error: 0.099777\n",
      "Epoch: 0 batch #: 214  of 300 sample #: 199 reconstruction error: 0.100628\n",
      "Epoch: 0 batch #: 215  of 300 sample #: 199 reconstruction error: 0.025601\n",
      "Epoch: 0 batch #: 216  of 300 sample #: 199 reconstruction error: 0.094935\n",
      "Epoch: 0 batch #: 217  of 300 sample #: 199 reconstruction error: 0.082572\n",
      "Epoch: 0 batch #: 218  of 300 sample #: 199 reconstruction error: 0.086599\n",
      "Epoch: 0 batch #: 219  of 300 sample #: 199 reconstruction error: 0.086767\n",
      "Epoch: 0 batch #: 220  of 300 sample #: 199 reconstruction error: 0.058295\n",
      "Epoch: 0 batch #: 221  of 300 sample #: 199 reconstruction error: 0.086142\n",
      "Epoch: 0 batch #: 222  of 300 sample #: 199 reconstruction error: 0.085411\n",
      "Epoch: 0 batch #: 223  of 300 sample #: 199 reconstruction error: 0.069207\n",
      "Epoch: 0 batch #: 224  of 300 sample #: 199 reconstruction error: 0.070659\n",
      "Epoch: 0 batch #: 225  of 300 sample #: 199 reconstruction error: 0.079357\n",
      "Epoch: 0 batch #: 226  of 300 sample #: 199 reconstruction error: 0.126147\n",
      "Epoch: 0 batch #: 227  of 300 sample #: 199 reconstruction error: 0.075971\n",
      "Epoch: 0 batch #: 228  of 300 sample #: 199 reconstruction error: 0.074564\n",
      "Epoch: 0 batch #: 229  of 300 sample #: 199 reconstruction error: 0.071948\n",
      "Epoch: 0 batch #: 230  of 300 sample #: 199 reconstruction error: 0.035504\n",
      "Epoch: 0 batch #: 231  of 300 sample #: 199 reconstruction error: 0.021438\n",
      "Epoch: 0 batch #: 232  of 300 sample #: 199 reconstruction error: 0.073110\n",
      "Epoch: 0 batch #: 233  of 300 sample #: 199 reconstruction error: 0.093114\n",
      "Epoch: 0 batch #: 234  of 300 sample #: 199 reconstruction error: 0.059890\n",
      "Epoch: 0 batch #: 235  of 300 sample #: 199 reconstruction error: 0.075657\n",
      "Epoch: 0 batch #: 236  of 300 sample #: 199 reconstruction error: 0.088632\n",
      "Epoch: 0 batch #: 237  of 300 sample #: 199 reconstruction error: 0.080715\n",
      "Epoch: 0 batch #: 238  of 300 sample #: 199 reconstruction error: 0.107082\n",
      "Epoch: 0 batch #: 239  of 300 sample #: 199 reconstruction error: 0.027210\n",
      "Epoch: 0 batch #: 240  of 300 sample #: 199 reconstruction error: 0.094525\n",
      "Epoch: 0 batch #: 241  of 300 sample #: 199 reconstruction error: 0.072281\n",
      "Epoch: 0 batch #: 242  of 300 sample #: 199 reconstruction error: 0.083125\n",
      "Epoch: 0 batch #: 243  of 300 sample #: 199 reconstruction error: 0.059781\n",
      "Epoch: 0 batch #: 244  of 300 sample #: 199 reconstruction error: 0.093263\n",
      "Epoch: 0 batch #: 245  of 300 sample #: 199 reconstruction error: 0.060717\n",
      "Epoch: 0 batch #: 246  of 300 sample #: 199 reconstruction error: 0.091856\n",
      "Epoch: 0 batch #: 247  of 300 sample #: 199 reconstruction error: 0.051787\n",
      "Epoch: 0 batch #: 248  of 300 sample #: 199 reconstruction error: 0.064276\n",
      "Epoch: 0 batch #: 249  of 300 sample #: 199 reconstruction error: 0.043855\n",
      "Epoch: 0 batch #: 250  of 300 sample #: 199 reconstruction error: 0.079628\n",
      "Epoch: 0 batch #: 251  of 300 sample #: 199 reconstruction error: 0.054829\n",
      "Epoch: 0 batch #: 252  of 300 sample #: 199 reconstruction error: 0.072173\n",
      "Epoch: 0 batch #: 253  of 300 sample #: 199 reconstruction error: 0.056720\n",
      "Epoch: 0 batch #: 254  of 300 sample #: 199 reconstruction error: 0.037871\n",
      "Epoch: 0 batch #: 255  of 300 sample #: 199 reconstruction error: 0.053507\n",
      "Epoch: 0 batch #: 256  of 300 sample #: 199 reconstruction error: 0.092801\n",
      "Epoch: 0 batch #: 257  of 300 sample #: 199 reconstruction error: 0.089508\n",
      "Epoch: 0 batch #: 258  of 300 sample #: 199 reconstruction error: 0.072252\n",
      "Epoch: 0 batch #: 259  of 300 sample #: 199 reconstruction error: 0.078495\n",
      "Epoch: 0 batch #: 260  of 300 sample #: 199 reconstruction error: 0.091135\n",
      "Epoch: 0 batch #: 261  of 300 sample #: 199 reconstruction error: 0.032251\n",
      "Epoch: 0 batch #: 262  of 300 sample #: 199 reconstruction error: 0.042168\n",
      "Epoch: 0 batch #: 263  of 300 sample #: 199 reconstruction error: 0.073250\n",
      "Epoch: 0 batch #: 264  of 300 sample #: 199 reconstruction error: 0.069848\n",
      "Epoch: 0 batch #: 265  of 300 sample #: 199 reconstruction error: 0.067097\n",
      "Epoch: 0 batch #: 266  of 300 sample #: 199 reconstruction error: 0.026855\n",
      "Epoch: 0 batch #: 267  of 300 sample #: 199 reconstruction error: 0.065365\n",
      "Epoch: 0 batch #: 268  of 300 sample #: 199 reconstruction error: 0.021449\n",
      "Epoch: 0 batch #: 269  of 300 sample #: 199 reconstruction error: 0.081705\n",
      "Epoch: 0 batch #: 270  of 300 sample #: 199 reconstruction error: 0.067391\n",
      "Epoch: 0 batch #: 271  of 300 sample #: 199 reconstruction error: 0.052591\n",
      "Epoch: 0 batch #: 272  of 300 sample #: 199 reconstruction error: 0.049341\n",
      "Epoch: 0 batch #: 273  of 300 sample #: 199 reconstruction error: 0.052281\n",
      "Epoch: 0 batch #: 274  of 300 sample #: 199 reconstruction error: 0.050640\n",
      "Epoch: 0 batch #: 275  of 300 sample #: 199 reconstruction error: 0.101432\n",
      "Epoch: 0 batch #: 276  of 300 sample #: 199 reconstruction error: 0.063662\n",
      "Epoch: 0 batch #: 277  of 300 sample #: 199 reconstruction error: 0.078931\n",
      "Epoch: 0 batch #: 278  of 300 sample #: 199 reconstruction error: 0.065302\n",
      "Epoch: 0 batch #: 279  of 300 sample #: 199 reconstruction error: 0.044948\n",
      "Epoch: 0 batch #: 280  of 300 sample #: 199 reconstruction error: 0.076994\n",
      "Epoch: 0 batch #: 281  of 300 sample #: 199 reconstruction error: 0.066346\n",
      "Epoch: 0 batch #: 282  of 300 sample #: 199 reconstruction error: 0.089684\n",
      "Epoch: 0 batch #: 283  of 300 sample #: 199 reconstruction error: 0.055815\n",
      "Epoch: 0 batch #: 284  of 300 sample #: 199 reconstruction error: 0.049547\n",
      "Epoch: 0 batch #: 285  of 300 sample #: 199 reconstruction error: 0.065226\n",
      "Epoch: 0 batch #: 286  of 300 sample #: 199 reconstruction error: 0.091482\n",
      "Epoch: 0 batch #: 287  of 300 sample #: 199 reconstruction error: 0.064722\n",
      "Epoch: 0 batch #: 288  of 300 sample #: 199 reconstruction error: 0.032289\n",
      "Epoch: 0 batch #: 289  of 300 sample #: 199 reconstruction error: 0.086327\n",
      "Epoch: 0 batch #: 290  of 300 sample #: 199 reconstruction error: 0.091731\n",
      "Epoch: 0 batch #: 291  of 300 sample #: 199 reconstruction error: 0.095013\n",
      "Epoch: 0 batch #: 292  of 300 sample #: 199 reconstruction error: 0.070207\n",
      "Epoch: 0 batch #: 293  of 300 sample #: 199 reconstruction error: 0.069550\n",
      "Epoch: 0 batch #: 294  of 300 sample #: 199 reconstruction error: 0.084697\n",
      "Epoch: 0 batch #: 295  of 300 sample #: 199 reconstruction error: 0.073321\n",
      "Epoch: 0 batch #: 296  of 300 sample #: 199 reconstruction error: 0.030770\n",
      "Epoch: 0 batch #: 297  of 300 sample #: 199 reconstruction error: 0.105367\n",
      "Epoch: 0 batch #: 298  of 300 sample #: 199 reconstruction error: 0.043329\n",
      "Epoch: 0 batch #: 299  of 300 sample #: 199 reconstruction error: 0.055182\n",
      "Epoch: 0 batch #: 300  of 300 sample #: 199 reconstruction error: 0.081584\n"
     ]
    }
   ],
   "source": [
    "#Parameters\n",
    "alpha = 0.01\n",
    "epochs = 1\n",
    "batchsize = 200\n",
    "weights = []\n",
    "errors = []\n",
    "batch_number = 0\n",
    "K = 1\n",
    "\n",
    "#creating datasets\n",
    "train_ds = \\\n",
    "    tf.data.Dataset.from_tensor_slices((trX, trY)).batch(batchsize)\n",
    "\n",
    "for epoch in range(epochs):\n",
    "    for batch_x, batch_y in train_ds:\n",
    "        batch_number += 1\n",
    "        for i_sample in range(batchsize):           \n",
    "            for k in range(K):\n",
    "                v0_state = batch_x[i_sample]\n",
    "                h0_state = hidden_layer(v0_state, W, hb)\n",
    "                v1_state = reconstructed_output(h0_state, W, vb)\n",
    "                h1_state = hidden_layer(v1_state, W, hb)\n",
    "\n",
    "                delta_W = tf.matmul(tf.transpose([v0_state]), h0_state) - tf.matmul(tf.transpose([v1_state]), h1_state)\n",
    "                W = W + alpha * delta_W\n",
    "\n",
    "                vb = vb + alpha * tf.reduce_mean(v0_state - v1_state, 0)\n",
    "                hb = hb + alpha * tf.reduce_mean(h0_state - h1_state, 0) \n",
    "\n",
    "                v0_state = v1_state\n",
    "\n",
    "            if i_sample == batchsize-1:\n",
    "                err = error(batch_x[i_sample], v1_state)\n",
    "                errors.append(err)\n",
    "                weights.append(W)\n",
    "                print ( 'Epoch: %d' % epoch, \n",
    "                       \"batch #: %i \" % batch_number, \"of %i\" % int(60e3/batchsize), \n",
    "                       \"sample #: %i\" % i_sample,\n",
    "                       'reconstruction error: %f' % err)\n",
    "\n"
   ]
  },
  {
   "cell_type": "markdown",
   "metadata": {},
   "source": [
    "Let's take a look at the errors at the end of each batch:\n"
   ]
  },
  {
   "cell_type": "code",
   "execution_count": 20,
   "metadata": {},
   "outputs": [
    {
     "data": {
      "image/png": "[encoded data removed]",
      "text/plain": [
       "<Figure size 640x480 with 1 Axes>"
      ]
     },
     "metadata": {},
     "output_type": "display_data"
    }
   ],
   "source": [
    "plt.plot(errors)\n",
    "plt.xlabel(\"Batch Number\")\n",
    "plt.ylabel(\"Error\")\n",
    "plt.show()"
   ]
  },
  {
   "cell_type": "markdown",
   "metadata": {},
   "source": [
    "What is the final weight matrix $W$ after training?\n"
   ]
  },
  {
   "cell_type": "code",
   "execution_count": 21,
   "metadata": {},
   "outputs": [
    {
     "name": "stdout",
     "output_type": "stream",
     "text": [
      "[[-0.42999986 -0.3799999  -0.36999992 ... -0.35999992 -0.29\n",
      "  -0.28      ]\n",
      " [-0.42999986 -0.31999996 -0.36999992 ... -0.41999987 -0.29\n",
      "  -0.24000004]\n",
      " [-0.32999995 -0.3999999  -0.3799999  ... -0.42999986 -0.23000003\n",
      "  -0.28      ]\n",
      " ...\n",
      " [-0.46999982 -0.34999993 -0.4899998  ... -0.43999985 -0.30999997\n",
      "  -0.34999993]\n",
      " [-0.42999986 -0.34999993 -0.35999992 ... -0.42999986 -0.23000003\n",
      "  -0.28      ]\n",
      " [-0.3899999  -0.40999988 -0.41999987 ... -0.44999984 -0.28\n",
      "  -0.28      ]]\n"
     ]
    }
   ],
   "source": [
    "print(W.numpy()) # a weight matrix of shape (50,784)"
   ]
  },
  {
   "cell_type": "markdown",
   "metadata": {},
   "source": [
    "<a id=\"ref5\"></a>\n",
    "<h3>Learned features</h3> \n"
   ]
  },
  {
   "cell_type": "markdown",
   "metadata": {},
   "source": [
    "We can take each hidden unit and visualize the connections between that hidden unit and each element in the input vector. In our case, we have 50 hidden units. Lets visualize those.\n"
   ]
  },
  {
   "cell_type": "markdown",
   "metadata": {},
   "source": [
    "Let's plot the current weights:\n",
    "<b>tile_raster_images</b> helps in generating an easy to grasp image from a set of samples or weights. It transforms the <b>uw</b> (with one flattened image per row of size 784), into an array (of size $28\\times28$) in which images are reshaped and laid out like tiles on a floor.\n"
   ]
  },
  {
   "cell_type": "code",
   "execution_count": 22,
   "metadata": {},
   "outputs": [
    {
     "data": {
      "image/png": "[encoded data removed]",
      "text/plain": [
       "<Figure size 1800x1800 with 1 Axes>"
      ]
     },
     "metadata": {},
     "output_type": "display_data"
    }
   ],
   "source": [
    "tile_raster_images(X=W.numpy().T, img_shape=(28, 28), tile_shape=(5, 10), tile_spacing=(1, 1))\n",
    "import matplotlib.pyplot as plt\n",
    "from PIL import Image\n",
    "%matplotlib inline\n",
    "image = Image.fromarray(tile_raster_images(X=W.numpy().T, img_shape=(28, 28) ,tile_shape=(5, 10), tile_spacing=(1, 1)))\n",
    "### Plot image\n",
    "plt.rcParams['figure.figsize'] = (18.0, 18.0)\n",
    "imgplot = plt.imshow(image)\n",
    "imgplot.set_cmap('gray')  "
   ]
  },
  {
   "cell_type": "markdown",
   "metadata": {},
   "source": [
    "Each tile in the above visualization corresponds to a vector of connections between a hidden unit and visible layer's units. \n"
   ]
  },
  {
   "cell_type": "markdown",
   "metadata": {},
   "source": [
    "Let's look at one of the learned weights corresponding to one of hidden units for example. In this particular square, the gray color represents weight = 0, and the whiter it is, the more positive the weights are (closer to 1). Conversely, the darker pixels are, the more negative the weights. The positive pixels will increase the probability of activation in hidden units (after multiplying by input/visible pixels), and negative pixels will decrease the probability of a unit hidden to be 1 (activated). So, why is this important?  So we can see that this specific square (hidden unit) can detect a feature (e.g. a \"/\" shape) and if it exists in the input.\n"
   ]
  },
  {
   "cell_type": "code",
   "execution_count": 23,
   "metadata": {},
   "outputs": [
    {
     "data": {
      "image/png": "[encoded data removed]",
      "text/plain": [
       "<Figure size 400x400 with 1 Axes>"
      ]
     },
     "metadata": {},
     "output_type": "display_data"
    }
   ],
   "source": [
    "from PIL import Image\n",
    "image = Image.fromarray(tile_raster_images(X =W.numpy().T[10:11], img_shape=(28, 28),tile_shape=(1, 1), tile_spacing=(1, 1)))\n",
    "### Plot image\n",
    "plt.rcParams['figure.figsize'] = (4.0, 4.0)\n",
    "imgplot = plt.imshow(image)\n",
    "imgplot.set_cmap('gray')  "
   ]
  },
  {
   "cell_type": "markdown",
   "metadata": {},
   "source": [
    "Let's look at the reconstruction of an image now. Imagine that we have a destructed image of figure 3. Lets see if our trained network can fix it:\n",
    "\n",
    "First we plot the image:\n"
   ]
  },
  {
   "cell_type": "code",
   "execution_count": 24,
   "metadata": {},
   "outputs": [
    {
     "name": "stdout",
     "output_type": "stream",
     "text": [
      "--2024-01-12 19:16:48--  https://ibm.box.com/shared/static/vvm1b63uvuxq88vbw9znpwu5ol380mco.jpg\n",
      "Resolving ibm.box.com (ibm.box.com)... 74.112.186.144, 74.112.186.144\n",
      "Connecting to ibm.box.com (ibm.box.com)|74.112.186.144|:443... connected.\n",
      "HTTP request sent, awaiting response... 301 Moved Permanently\n",
      "Location: /public/static/vvm1b63uvuxq88vbw9znpwu5ol380mco.jpg [following]\n",
      "--2024-01-12 19:16:48--  https://ibm.box.com/public/static/vvm1b63uvuxq88vbw9znpwu5ol380mco.jpg\n",
      "Reusing existing connection to ibm.box.com:443.\n",
      "HTTP request sent, awaiting response... 301 Moved Permanently\n",
      "Location: https://ibm.ent.box.com/public/static/vvm1b63uvuxq88vbw9znpwu5ol380mco.jpg [following]\n",
      "--2024-01-12 19:16:48--  https://ibm.ent.box.com/public/static/vvm1b63uvuxq88vbw9znpwu5ol380mco.jpg\n",
      "Resolving ibm.ent.box.com (ibm.ent.box.com)... 74.112.186.144, 74.112.186.144\n",
      "Connecting to ibm.ent.box.com (ibm.ent.box.com)|74.112.186.144|:443... connected.\n",
      "HTTP request sent, awaiting response... 302 Found\n",
      "Location: https://public.boxcloud.com/d/1/b1!A79THN4cZ5T8XDxICWztfyJ9R_RKrIkrBoNkGmnqSi6Bx2vWJdO-dD6kKDPu-cafHyt8qM3JYjFadF8RA-h2AU7Txle-gKwBGRIpvY255Mm9zjFuhmiC0fT4fKZWhT-scAqjkQigyRersEtTB4RtsATcJJPLQyGsESsZkkd_jwcL6yYln-tYrpgWBjWKwmRF99pYdgWySu8Afq0GAdASD-e4_Dg4BhV3nykiVC7vvC9C7UR-ll888WvUlvdhRocfFRQL-cZ0gpsngVdojMtvLNaQ19chTG3kZc2UaTKssU0fW2g2OBJntEkhU9eddk88W1P_7RDYyvDkSsoi8ZWYCWVDswHzgB0dkxy7iEvg2tPeii9yaBKlyAe3iIDxWKrgZNiZsb-Ss0lPA3O1Qrz8PeW8xMVsaoKkGbJevNLr0Q8aGdVaiXIryIkVHh1RuqS2r3jE85nv9SrQjdGqElIisxlBDjprFy88WIKhVhrZ1mxHcmyi0q3NqHFy1gk7Sjgh2Bmc4qXRaYV4mGj2UIAdGBdO9C9qTx4ihY1p_bg_ssQHfm_TP64ZFdZ1JXcZl3DN9LHY1zF-U0OVZUDYfIhzBQvm9uZ178nC_7UXAdS5Vh-0OCjMaS3ceQkvdJiSvjK9b68ivJsQClD5Hs8f2bSFLuUej-h-L1Tng5KTScBzWEeI-LMUx-so4Mn-ZeQJQ1Oc5bRX2wket9u0tkTmO1D8JPseLI69NJmD3V9lZM_FBJEZjavInm1pLxlvsBvZUrRX94NrH9qADMpkhykPSUP5H4dlblp1qHaZiixyOkeemCJGdbaeonISaODV7TNmCd-qEsgQH0Fwkss1tLBsUvfWamf6x43I5NwG1uMlC8mvzGejln9gNUlJnyWHCPmhjXbS_XXKzH1-nk6uOPfxeZG1GApihPd8XEpTsW-NAHaCJ6wZcG8KjRYnq5K57ikoU8pVYIl9C7mmKCgUMOVX4cF4Vgr3x-gRFeFyh5A8Uo-Q9yGqxtfOLKAy9-VWyqTF8VH4wkSmLtcpBkh8fSN4jNvHkaFW6LojJMqYFGiRjFKwI8o7y0LDuJTswHhimQkwxLCwX78nrqN5pmrIZGsh-JWlHJtbL9Uw6HpAoEcVvJvIvt8AoZ2i4_LMU_bjeSIDBOEJA56lpTrn9eea8U6u3htJCL4RUH0qZzBzI5JsmaDmoh4CrUZSf2Cp_1o8Hs1MRlncjdM9NPWz1W5NrYGY1qLla-U_HMrXUTIgmTIE8Bxsf2JydwLS0IPkoks4hXnmn4QPFLKItALjh5qOJmi6uX-Kf0htW3ONqsQFBVyBOgzE5kFlOJ1j3AoULA8oVqIvojKX2FBbBDJdXtwH38eRTQRPcbzxc1JedkV6XPmQz2r31JQP5hjAdEoTddXRwYqhVG3l36LEfSMUAqPxFTgqJWWhrzs./download [following]\n",
      "--2024-01-12 19:16:49--  https://public.boxcloud.com/d/1/b1!A79THN4cZ5T8XDxICWztfyJ9R_RKrIkrBoNkGmnqSi6Bx2vWJdO-dD6kKDPu-cafHyt8qM3JYjFadF8RA-h2AU7Txle-gKwBGRIpvY255Mm9zjFuhmiC0fT4fKZWhT-scAqjkQigyRersEtTB4RtsATcJJPLQyGsESsZkkd_jwcL6yYln-tYrpgWBjWKwmRF99pYdgWySu8Afq0GAdASD-e4_Dg4BhV3nykiVC7vvC9C7UR-ll888WvUlvdhRocfFRQL-cZ0gpsngVdojMtvLNaQ19chTG3kZc2UaTKssU0fW2g2OBJntEkhU9eddk88W1P_7RDYyvDkSsoi8ZWYCWVDswHzgB0dkxy7iEvg2tPeii9yaBKlyAe3iIDxWKrgZNiZsb-Ss0lPA3O1Qrz8PeW8xMVsaoKkGbJevNLr0Q8aGdVaiXIryIkVHh1RuqS2r3jE85nv9SrQjdGqElIisxlBDjprFy88WIKhVhrZ1mxHcmyi0q3NqHFy1gk7Sjgh2Bmc4qXRaYV4mGj2UIAdGBdO9C9qTx4ihY1p_bg_ssQHfm_TP64ZFdZ1JXcZl3DN9LHY1zF-U0OVZUDYfIhzBQvm9uZ178nC_7UXAdS5Vh-0OCjMaS3ceQkvdJiSvjK9b68ivJsQClD5Hs8f2bSFLuUej-h-L1Tng5KTScBzWEeI-LMUx-so4Mn-ZeQJQ1Oc5bRX2wket9u0tkTmO1D8JPseLI69NJmD3V9lZM_FBJEZjavInm1pLxlvsBvZUrRX94NrH9qADMpkhykPSUP5H4dlblp1qHaZiixyOkeemCJGdbaeonISaODV7TNmCd-qEsgQH0Fwkss1tLBsUvfWamf6x43I5NwG1uMlC8mvzGejln9gNUlJnyWHCPmhjXbS_XXKzH1-nk6uOPfxeZG1GApihPd8XEpTsW-NAHaCJ6wZcG8KjRYnq5K57ikoU8pVYIl9C7mmKCgUMOVX4cF4Vgr3x-gRFeFyh5A8Uo-Q9yGqxtfOLKAy9-VWyqTF8VH4wkSmLtcpBkh8fSN4jNvHkaFW6LojJMqYFGiRjFKwI8o7y0LDuJTswHhimQkwxLCwX78nrqN5pmrIZGsh-JWlHJtbL9Uw6HpAoEcVvJvIvt8AoZ2i4_LMU_bjeSIDBOEJA56lpTrn9eea8U6u3htJCL4RUH0qZzBzI5JsmaDmoh4CrUZSf2Cp_1o8Hs1MRlncjdM9NPWz1W5NrYGY1qLla-U_HMrXUTIgmTIE8Bxsf2JydwLS0IPkoks4hXnmn4QPFLKItALjh5qOJmi6uX-Kf0htW3ONqsQFBVyBOgzE5kFlOJ1j3AoULA8oVqIvojKX2FBbBDJdXtwH38eRTQRPcbzxc1JedkV6XPmQz2r31JQP5hjAdEoTddXRwYqhVG3l36LEfSMUAqPxFTgqJWWhrzs./download\n",
      "Resolving public.boxcloud.com (public.boxcloud.com)... 74.112.186.128, 74.112.186.128\n",
      "Connecting to public.boxcloud.com (public.boxcloud.com)|74.112.186.128|:443... connected.\n",
      "HTTP request sent, awaiting response... 200 OK\n",
      "Length: 24383 (24K) [image/jpeg]\n",
      "Saving to: ‘destructed3.jpg’\n",
      "\n",
      "destructed3.jpg     100%[===================>]  23.81K  --.-KB/s    in 0.001s  \n",
      "\n",
      "2024-01-12 19:16:49 (18.1 MB/s) - ‘destructed3.jpg’ saved [24383/24383]\n",
      "\n"
     ]
    },
    {
     "data": {
      "image/png": "[encoded data removed]",
      "text/plain": [
       "<PIL.JpegImagePlugin.JpegImageFile image mode=RGB size=181x181 at 0x7F47918CB610>"
      ]
     },
     "execution_count": 24,
     "metadata": {},
     "output_type": "execute_result"
    }
   ],
   "source": [
    "!wget -O destructed3.jpg  https://ibm.box.com/shared/static/vvm1b63uvuxq88vbw9znpwu5ol380mco.jpg\n",
    "img = Image.open('destructed3.jpg')\n",
    "img"
   ]
  },
  {
   "cell_type": "markdown",
   "metadata": {},
   "source": [
    "Now let's pass this image through the neural net:\n"
   ]
  },
  {
   "cell_type": "code",
   "execution_count": 25,
   "metadata": {},
   "outputs": [],
   "source": [
    "# convert the image to a 1d numpy array\n",
    "sample_case = np.array(img.convert('I').resize((28,28))).ravel().reshape((1, -1))/255.0\n",
    "\n",
    "sample_case = tf.cast(sample_case, dtype=tf.float32)"
   ]
  },
  {
   "cell_type": "markdown",
   "metadata": {},
   "source": [
    "Feed the sample case into the network and reconstruct the output:\n"
   ]
  },
  {
   "cell_type": "code",
   "execution_count": 26,
   "metadata": {},
   "outputs": [
    {
     "name": "stdout",
     "output_type": "stream",
     "text": [
      "Probability nodes in hidden layer: tf.Tensor(\n",
      "[[9.9777800e-01 5.4655931e-07 2.2579755e-01 2.9081613e-01 2.4696107e-03\n",
      "  8.7974507e-01 1.7968107e-16 1.0000000e+00 9.9934065e-01 3.3776164e-02\n",
      "  9.9999887e-01 1.3727474e-08 3.4034780e-05 9.5260865e-04 1.0000000e+00\n",
      "  4.4604318e-04 2.4871480e-07 1.0000000e+00 4.5412159e-07 1.4138077e-01\n",
      "  6.7206865e-06 3.0860504e-15 1.9760278e-09 3.0930087e-03 1.6525748e-05\n",
      "  1.9641718e-17 4.9765152e-09 2.4182187e-20 1.1553852e-04 1.1623631e-06\n",
      "  9.9964762e-01 3.5653214e-10 4.0707931e-05 1.3567032e-11 1.2232299e-10\n",
      "  1.0000000e+00 2.8935409e-07 5.7170325e-08 1.0000000e+00 5.5643398e-01\n",
      "  9.4238037e-01 9.9999911e-01 9.7851485e-01 1.1372642e-08 9.9999529e-01\n",
      "  6.6266084e-01 9.9999988e-01 2.0364013e-10 9.9889338e-01 2.1073969e-10]], shape=(1, 50), dtype=float32)\n",
      "activated nodes in hidden layer: tf.Tensor(\n",
      "[[1. 0. 0. 0. 0. 1. 0. 1. 1. 0. 1. 0. 0. 0. 1. 0. 0. 1. 0. 0. 0. 0. 0. 0.\n",
      "  0. 0. 0. 0. 0. 0. 1. 0. 0. 0. 0. 1. 0. 0. 1. 1. 1. 1. 1. 0. 1. 1. 1. 0.\n",
      "  1. 0.]], shape=(1, 50), dtype=float32)\n",
      "tf.Tensor(\n",
      "[[1.67423175e-04 1.37078707e-04 1.81364827e-04 2.06538243e-04\n",
      "  1.70804866e-04 1.69105566e-04 1.03605351e-04 2.47260905e-04\n",
      "  2.49745382e-04 2.30548496e-04 1.86887119e-04 1.79560491e-04\n",
      "  1.60928990e-04 1.51119588e-04 2.30033809e-04 2.09203397e-04\n",
      "  2.14965388e-04 2.23736133e-04 2.52254773e-04 1.98441368e-04\n",
      "  1.65757519e-04 2.52254773e-04 2.10709593e-04 2.65184528e-04\n",
      "  1.76005502e-04 1.69105566e-04 2.21510345e-04 1.59259129e-04\n",
      "  1.34364789e-04 1.16813033e-04 1.98441368e-04 2.19307141e-04\n",
      "  3.03317909e-04 3.03246488e-04 1.86236401e-04 1.40012184e-04\n",
      "  3.12454329e-04 2.53126695e-04 2.82319263e-04 3.17542377e-04\n",
      "  6.15135592e-04 4.12275462e-04 4.33676731e-04 2.65632436e-04\n",
      "  7.41690048e-04 5.60879416e-04 5.36558160e-04 3.26824695e-04\n",
      "  3.41400650e-04 2.35860178e-04 2.64571863e-04 2.01965886e-04\n",
      "  1.47016661e-04 2.28254969e-04 2.62546528e-04 1.69105566e-04\n",
      "  2.00435374e-04 1.96467212e-04 2.31726648e-04 1.40435397e-04\n",
      "  1.73770328e-04 1.48255465e-04 2.85222748e-04 2.27282057e-04\n",
      "  1.83655124e-04 2.01388611e-04 1.15606068e-04 1.08780878e-04\n",
      "  1.00832774e-04 3.16388934e-04 5.34171297e-04 1.76494592e-03\n",
      "  8.64431902e-04 6.33736025e-04 4.59329342e-04 2.00561553e-04\n",
      "  2.42499969e-04 4.62235330e-04 4.87889454e-04 3.10074975e-04\n",
      "  2.39974062e-04 2.98844068e-04 1.57674687e-04 1.67423175e-04\n",
      "  2.12826853e-04 1.59259129e-04 2.27085809e-04 2.24650590e-04\n",
      "  2.54879298e-04 3.59151862e-04 1.92517327e-04 1.78725386e-04\n",
      "  1.81600859e-04 6.60001388e-05 7.49738101e-05 1.41898563e-04\n",
      "  1.86678051e-04 6.46441709e-04 3.48502677e-03 6.94340374e-03\n",
      "  3.67884105e-03 3.92791163e-03 2.78377626e-03 1.00179354e-03\n",
      "  6.33613730e-04 6.70374196e-04 4.36165778e-04 4.03529848e-04\n",
      "  3.70390509e-04 2.14015236e-04 2.15886015e-04 1.51493121e-04\n",
      "  1.90661856e-04 1.77662951e-04 1.86397199e-04 1.82120377e-04\n",
      "  3.18401784e-04 3.90903006e-04 2.86063732e-04 2.99325970e-04\n",
      "  2.19222682e-04 2.03892632e-04 1.61892764e-04 2.40702298e-04\n",
      "  7.08559470e-04 4.24348656e-03 2.99342126e-02 1.45383671e-01\n",
      "  1.12764701e-01 8.47882330e-02 5.08894287e-02 2.54799109e-02\n",
      "  2.06532180e-02 5.88037167e-03 4.47728951e-03 2.63317255e-03\n",
      "  1.61953550e-03 8.57542676e-04 2.81799148e-04 1.62126031e-04\n",
      "  1.26540923e-04 1.27812571e-04 2.11686856e-04 1.87797952e-04\n",
      "  7.33423629e-04 3.59703554e-04 4.22869518e-04 5.82234294e-04\n",
      "  8.36187566e-04 9.14244330e-04 8.81326385e-04 7.91786239e-03\n",
      "  6.18101433e-02 3.83342266e-01 7.65248299e-01 8.73777986e-01\n",
      "  9.02310729e-01 7.91824877e-01 4.76168871e-01 4.67892855e-01\n",
      "  2.17064694e-01 1.15077786e-01 1.82475876e-02 7.40558654e-03\n",
      "  1.96730089e-03 2.03908887e-03 5.25116164e-04 2.47416086e-04\n",
      "  1.48493724e-04 2.36304957e-04 2.68943753e-04 6.38644909e-04\n",
      "  1.01852324e-03 6.89961598e-04 8.36509047e-04 8.07092059e-04\n",
      "  6.01534906e-04 1.72148424e-03 1.28449304e-02 9.09720212e-02\n",
      "  6.52567625e-01 9.26047027e-01 9.66593146e-01 9.49668169e-01\n",
      "  8.62135351e-01 8.59981835e-01 8.35988581e-01 8.59470189e-01\n",
      "  7.48301566e-01 4.13620532e-01 4.27536629e-02 9.61801503e-03\n",
      "  3.19727557e-03 1.81333791e-03 1.85409514e-03 1.92170337e-04\n",
      "  2.28918390e-04 1.89120867e-04 6.29721675e-04 6.07230933e-04\n",
      "  1.51443097e-03 1.66032021e-03 1.34410686e-03 1.09133823e-03\n",
      "  1.59459224e-03 1.66169424e-02 1.73394233e-01 5.83573461e-01\n",
      "  9.44447696e-01 9.83187973e-01 9.54239786e-01 8.11416030e-01\n",
      "  3.96300077e-01 3.64963651e-01 6.14822626e-01 8.58411252e-01\n",
      "  8.97756159e-01 5.40276825e-01 7.35303313e-02 1.44195799e-02\n",
      "  3.03434394e-03 8.38314067e-04 1.68908807e-03 2.21736889e-04\n",
      "  1.91997256e-04 2.67786207e-04 4.32776695e-04 6.09285256e-04\n",
      "  1.41878542e-03 1.58865843e-03 2.19789823e-03 1.54692831e-03\n",
      "  8.20276141e-03 4.43490855e-02 6.17739618e-01 9.56458747e-01\n",
      "  9.92779791e-01 9.27103460e-01 5.99681556e-01 7.37341344e-02\n",
      "  2.24720854e-02 3.81143019e-02 2.28549495e-01 7.63824224e-01\n",
      "  7.83917665e-01 4.38102245e-01 1.20829903e-01 7.48635735e-03\n",
      "  3.47921578e-03 5.07017889e-04 5.46964991e-04 3.29875882e-04\n",
      "  3.16200196e-04 1.76655507e-04 3.24590539e-04 1.11046201e-03\n",
      "  1.13305345e-03 3.63310310e-03 2.98115192e-03 5.25290333e-03\n",
      "  1.58756021e-02 1.62911162e-01 7.05312788e-01 9.65390146e-01\n",
      "  9.22235548e-01 4.10313696e-01 4.09017205e-02 2.92708562e-03\n",
      "  1.21472019e-03 2.27347966e-02 4.38025326e-01 8.13157320e-01\n",
      "  6.99522018e-01 5.05607128e-01 9.89354104e-02 1.05622234e-02\n",
      "  1.66066247e-03 6.89822889e-04 5.98184590e-04 2.32828403e-04\n",
      "  1.63460034e-04 2.49951205e-04 4.77147201e-04 1.00595294e-03\n",
      "  2.10783142e-03 3.53071187e-03 1.57460850e-03 4.11512051e-03\n",
      "  2.93054469e-02 1.91767231e-01 5.22108376e-01 5.15460432e-01\n",
      "  2.84431040e-01 2.14600097e-02 2.82690278e-03 1.64744421e-03\n",
      "  9.20308940e-03 2.14559004e-01 8.76639366e-01 9.54009533e-01\n",
      "  6.20738685e-01 2.66086787e-01 4.74849939e-02 6.93500880e-03\n",
      "  1.04033924e-03 5.27096679e-04 5.33142185e-04 2.92905257e-04\n",
      "  2.64333357e-04 4.82676493e-04 7.23376928e-04 5.70388569e-04\n",
      "  8.53697013e-04 2.14354717e-03 3.08588450e-03 2.13552406e-03\n",
      "  1.12346616e-02 2.98218112e-02 2.52190232e-01 1.25114709e-01\n",
      "  5.13359196e-02 1.94758251e-02 2.15898938e-02 7.26805478e-02\n",
      "  2.43207902e-01 8.91850114e-01 9.32056785e-01 8.41495454e-01\n",
      "  4.03276563e-01 7.77460784e-02 2.73036174e-02 4.27564373e-03\n",
      "  1.03887788e-03 8.42985290e-04 3.93207883e-04 1.39973621e-04\n",
      "  3.16410675e-04 3.24806606e-04 4.49337327e-04 4.14968352e-04\n",
      "  4.41746612e-04 1.28552027e-03 1.18395232e-03 1.38943398e-03\n",
      "  1.08572794e-02 1.85928456e-02 3.93127240e-02 8.33733752e-02\n",
      "  8.50693658e-02 1.77742496e-01 5.42629361e-01 7.92406082e-01\n",
      "  8.89516711e-01 9.52532530e-01 8.91535640e-01 4.28724378e-01\n",
      "  8.60049948e-02 2.52493657e-02 1.25993090e-02 2.09466671e-03\n",
      "  6.59865851e-04 6.38220808e-04 2.04267417e-04 2.46110314e-04\n",
      "  1.31055407e-04 1.39776224e-04 3.85575899e-04 3.46484740e-04\n",
      "  8.00594222e-04 1.20813481e-03 2.01904750e-03 3.99418455e-03\n",
      "  5.73762506e-03 1.26963221e-02 3.67930681e-02 1.97053805e-01\n",
      "  5.64495325e-01 8.40882003e-01 9.06046987e-01 9.14341390e-01\n",
      "  9.64194179e-01 8.80610287e-01 6.46759510e-01 3.06820303e-01\n",
      "  2.05525979e-02 1.04798796e-02 8.24246462e-03 2.39703315e-03\n",
      "  4.03484853e-04 6.37322722e-04 2.31799553e-04 2.75679922e-04\n",
      "  1.62087686e-04 3.01385444e-04 2.20686925e-04 4.04401100e-04\n",
      "  7.76064466e-04 2.00532121e-03 2.58209649e-03 4.94030071e-03\n",
      "  2.83697504e-03 7.29241455e-03 6.48128092e-02 3.77239853e-01\n",
      "  7.91254997e-01 9.30506527e-01 9.52616870e-01 9.34483528e-01\n",
      "  7.93446898e-01 7.06732869e-01 5.22344291e-01 1.09220713e-01\n",
      "  2.52686795e-02 6.21706620e-03 5.69340913e-03 2.81275739e-03\n",
      "  7.44777033e-04 4.65728866e-04 2.98282772e-04 2.18920439e-04\n",
      "  3.40745464e-04 2.58999178e-04 3.25023488e-04 7.78100919e-04\n",
      "  4.00194246e-03 2.98163365e-03 4.76759858e-03 4.50995332e-03\n",
      "  2.34458758e-03 8.83580465e-03 4.52397466e-02 2.79848486e-01\n",
      "  6.16198182e-01 7.88471401e-01 5.40464401e-01 5.69232643e-01\n",
      "  2.93200165e-01 5.36571860e-01 3.35980356e-01 1.34291947e-01\n",
      "  3.46962959e-02 4.59747110e-03 8.28847382e-03 4.14361618e-03\n",
      "  6.18695747e-04 2.60467408e-04 3.46592657e-04 2.17969835e-04\n",
      "  1.57829476e-04 2.08458310e-04 5.59297914e-04 1.98872690e-03\n",
      "  4.83455556e-03 9.03307460e-03 1.22935241e-02 1.08281439e-02\n",
      "  2.99856300e-03 1.21965231e-02 4.63563725e-02 1.10115327e-01\n",
      "  2.27234647e-01 1.24212444e-01 1.25326112e-01 8.58119652e-02\n",
      "  1.87158495e-01 3.45601320e-01 2.55897552e-01 1.52054906e-01\n",
      "  5.48235215e-02 9.78337694e-03 1.13039231e-02 4.98961471e-03\n",
      "  6.74380048e-04 2.49306438e-04 3.50486895e-04 2.21146329e-04\n",
      "  1.72521221e-04 1.72068772e-04 5.75441518e-04 7.89622031e-03\n",
      "  2.41887011e-02 4.43651564e-02 8.13975558e-02 2.22858023e-02\n",
      "  7.06139719e-03 1.36879589e-02 3.56723405e-02 5.48206419e-02\n",
      "  4.40743901e-02 3.61060426e-02 3.80408317e-02 4.04605642e-02\n",
      "  1.79054990e-01 3.51601005e-01 3.65077913e-01 2.24849612e-01\n",
      "  8.02519619e-02 2.57590581e-02 2.87028439e-02 7.22897099e-03\n",
      "  1.29749835e-03 3.80384852e-04 2.43681556e-04 3.39332386e-04\n",
      "  2.47173943e-04 2.49070756e-04 1.36503589e-03 1.50413020e-02\n",
      "  2.09814236e-02 9.84614268e-02 1.11163609e-01 6.13614172e-02\n",
      "  2.39776261e-02 3.67470533e-02 7.00463876e-02 4.42924649e-02\n",
      "  1.40361357e-02 2.04304848e-02 2.17142124e-02 3.57370079e-02\n",
      "  1.61952615e-01 4.81909096e-01 6.74604535e-01 3.84299397e-01\n",
      "  6.52374551e-02 1.96636487e-02 2.14805752e-02 5.33158099e-03\n",
      "  2.07097456e-03 4.72774438e-04 3.04115936e-04 1.83719589e-04\n",
      "  2.56141677e-04 2.98399391e-04 1.85104681e-03 2.92010866e-02\n",
      "  8.22872967e-02 1.43007860e-01 1.66162059e-01 1.97580472e-01\n",
      "  1.05460830e-01 1.08888388e-01 4.89632376e-02 2.53920145e-02\n",
      "  8.18222295e-03 1.75406989e-02 3.82060371e-02 4.19916175e-02\n",
      "  1.91011891e-01 8.74344707e-01 8.99560809e-01 2.44651958e-01\n",
      "  3.55297700e-02 1.12321200e-02 5.28804166e-03 6.05451409e-03\n",
      "  4.28152131e-03 5.99595893e-04 5.14258863e-04 2.08817975e-04\n",
      "  2.14965388e-04 1.99189977e-04 6.27346570e-03 2.49770861e-02\n",
      "  1.43478259e-01 3.28758329e-01 4.61969942e-01 3.91757548e-01\n",
      "  3.08148861e-01 5.35658412e-02 4.12237048e-02 1.99881010e-02\n",
      "  1.79297663e-02 3.15932631e-02 7.06187114e-02 2.80578911e-01\n",
      "  7.83159256e-01 9.23523784e-01 7.61671424e-01 1.22443415e-01\n",
      "  8.84904433e-03 4.67837928e-03 3.32187978e-03 2.39162729e-03\n",
      "  2.08053598e-03 8.35259678e-04 3.20029387e-04 1.50817577e-04\n",
      "  1.95254062e-04 2.23964511e-04 2.28501973e-03 5.11074401e-02\n",
      "  1.84885293e-01 4.85035896e-01 6.84051931e-01 7.99147308e-01\n",
      "  4.79626983e-01 1.32379144e-01 5.57039045e-02 4.29498069e-02\n",
      "  4.91741560e-02 2.38271102e-01 3.04664969e-01 6.40184999e-01\n",
      "  8.64623010e-01 8.08363736e-01 4.75806713e-01 2.30070744e-02\n",
      "  2.61105550e-03 1.72306504e-03 2.28746911e-03 1.62980147e-03\n",
      "  1.33841275e-03 1.08789199e-03 3.08740448e-04 1.91380939e-04\n",
      "  2.31327082e-04 1.25267252e-04 2.85417726e-03 3.21561769e-02\n",
      "  1.02962904e-01 3.91577721e-01 7.33620524e-01 8.70200336e-01\n",
      "  7.63131618e-01 5.64019918e-01 3.33410829e-01 3.14523548e-01\n",
      "  5.01957655e-01 7.60750413e-01 8.26366663e-01 7.70001829e-01\n",
      "  7.39786565e-01 3.84978980e-01 2.46237274e-02 2.49013607e-03\n",
      "  6.83040358e-04 5.78692125e-04 1.10356533e-03 6.30588911e-04\n",
      "  7.12714565e-04 4.69797786e-04 2.49823963e-04 2.22712159e-04\n",
      "  2.23736133e-04 1.98441368e-04 5.35151456e-04 9.66657698e-03\n",
      "  6.37886375e-02 1.38329849e-01 6.11636043e-01 7.62370348e-01\n",
      "  8.91900957e-01 8.96333575e-01 8.49675119e-01 8.57598007e-01\n",
      "  6.85531199e-01 6.97284937e-01 7.06400335e-01 5.14045715e-01\n",
      "  1.17117815e-01 6.85674846e-02 5.03589166e-03 7.44879246e-04\n",
      "  6.91515510e-04 2.12012674e-04 3.22309876e-04 7.77401263e-04\n",
      "  7.01299054e-04 4.04495542e-04 1.77676848e-04 2.93066172e-04\n",
      "  1.70804691e-04 1.48493869e-04 3.08039249e-04 1.10195857e-03\n",
      "  1.64542086e-02 2.64564268e-02 2.41668329e-01 3.17657411e-01\n",
      "  7.08456516e-01 6.54794753e-01 6.90557659e-01 7.36141026e-01\n",
      "  4.21974778e-01 2.42852837e-01 6.95970878e-02 2.92755421e-02\n",
      "  1.72585007e-02 7.71288294e-03 2.91164662e-03 4.58870927e-04\n",
      "  1.49841129e-04 3.76408891e-04 1.96900204e-04 3.49938287e-04\n",
      "  3.52540461e-04 1.56959170e-04 1.61238480e-04 1.59259289e-04\n",
      "  2.08613405e-04 2.39955101e-04 1.52955501e-04 2.09474441e-04\n",
      "  3.61468556e-04 8.74953170e-04 2.57279095e-03 5.58088301e-03\n",
      "  2.79805325e-02 4.73152921e-02 2.33706832e-02 1.16936713e-02\n",
      "  4.24132776e-03 3.18439631e-03 9.70120193e-04 9.63149534e-04\n",
      "  1.97611446e-03 2.17012013e-03 1.31241954e-03 2.71884404e-04\n",
      "  2.37886692e-04 1.25479579e-04 1.97131463e-04 2.48077005e-04\n",
      "  2.25621698e-04 1.99541464e-04 2.56503379e-04 2.96010432e-04\n",
      "  1.70804691e-04 2.02449228e-04 1.85028068e-04 2.27772340e-04\n",
      "  2.73708894e-04 9.01964027e-04 1.12357992e-03 4.18331823e-04\n",
      "  6.13141921e-04 3.43082414e-04 8.14612722e-04 4.58255032e-04\n",
      "  2.05266260e-04 2.61328561e-04 1.08148524e-04 1.48043167e-04\n",
      "  4.64747718e-04 2.80019216e-04 1.78579430e-04 1.64103127e-04\n",
      "  1.78599512e-04 1.27332663e-04 2.10486920e-04 1.39584692e-04\n",
      "  1.88092949e-04 2.05754390e-04 1.64108453e-04 2.44801166e-04\n",
      "  1.47016661e-04 2.57349253e-04 2.30548496e-04 3.17467027e-04\n",
      "  2.30413119e-04 1.46884398e-04 2.76480889e-04 4.80901741e-04\n",
      "  3.68464214e-04 7.61808886e-04 7.01242825e-04 5.01755567e-04\n",
      "  1.75227877e-04 4.42312070e-04 1.89336643e-04 3.10172531e-04\n",
      "  3.08511255e-04 3.87000095e-04 3.19077342e-04 1.99182003e-04\n",
      "  1.11081965e-04 1.97788904e-04 1.66115424e-04 2.34394916e-04\n",
      "  1.74254499e-04 1.39847412e-04 1.81364827e-04 1.77774113e-04]], shape=(1, 784), dtype=float32)\n"
     ]
    }
   ],
   "source": [
    "hh0_p = tf.nn.sigmoid(tf.matmul(sample_case, W) + hb)\n",
    "hh0_s = tf.round(hh0_p)\n",
    "\n",
    "print(\"Probability nodes in hidden layer:\" ,hh0_p)\n",
    "print(\"activated nodes in hidden layer:\" ,hh0_s)\n",
    "\n",
    "# reconstruct\n",
    "vv1_p = tf.nn.sigmoid(tf.matmul(hh0_s, tf.transpose(W)) + vb)\n",
    "\n",
    "print(vv1_p)\n",
    "#rec_prob = sess.run(vv1_p, feed_dict={ hh0_s: hh0_s_val, W: prv_w, vb: prv_vb})"
   ]
  },
  {
   "cell_type": "markdown",
   "metadata": {},
   "source": [
    "Here we plot the reconstructed image:\n"
   ]
  },
  {
   "cell_type": "code",
   "execution_count": 27,
   "metadata": {},
   "outputs": [
    {
     "data": {
      "image/png": "[encoded data removed]",
      "text/plain": [
       "<Figure size 400x400 with 1 Axes>"
      ]
     },
     "metadata": {},
     "output_type": "display_data"
    }
   ],
   "source": [
    "img = Image.fromarray(tile_raster_images(X=vv1_p.numpy(), img_shape=(28, 28),tile_shape=(1, 1), tile_spacing=(1, 1)))\n",
    "plt.rcParams['figure.figsize'] = (4.0, 4.0)\n",
    "imgplot = plt.imshow(img)\n",
    "imgplot.set_cmap('gray') "
   ]
  },
  {
   "cell_type": "markdown",
   "metadata": {},
   "source": [
    "<hr>\n",
    "\n",
    "## Want to learn more?\n",
    "\n",
    "Also, you can use __Watson Studio__ to run these notebooks faster with bigger datasets.__Watson Studio__ is IBM’s leading cloud solution for data scientists, built by data scientists. With Jupyter notebooks, RStudio, Apache Spark and popular libraries pre-packaged in the cloud, __Watson Studio__ enables data scientists to collaborate on their projects without having to install anything. Join the fast-growing community of __Watson Studio__ users today with a free account at [Watson Studio](https://cocl.us/ML0120EN_DSX).This is the end of this lesson. Thank you for reading this notebook, and good luck on your studies.\n"
   ]
  },
  {
   "cell_type": "markdown",
   "metadata": {},
   "source": [
    "### Thanks for completing this lesson!\n",
    "\n",
    "Notebook created by: <a href = \"https://ca.linkedin.com/in/saeedaghabozorgi\">Saeed Aghabozorgi</a>\n",
    "\n",
    "Updated to TF 2.X by  <a href=\"https://ca.linkedin.com/in/nilmeier\"> Jerome Nilmeier</a><br />\n"
   ]
  },
  {
   "cell_type": "markdown",
   "metadata": {},
   "source": [
    "### References:\n",
    "https://en.wikipedia.org/wiki/Restricted_Boltzmann_machine  \n",
    "http://deeplearning.net/tutorial/rbm.html  \n",
    "http://www.cs.utoronto.ca/~hinton/absps/netflixICML.pdf<br>\n",
    "http://imonad.com/rbm/restricted-boltzmann-machine/  \n"
   ]
  },
  {
   "cell_type": "markdown",
   "metadata": {},
   "source": [
    "<hr>\n",
    "\n",
    "Copyright &copy; 2018 [Cognitive Class](https://cocl.us/DX0108EN_CC). This notebook and its source code are released under the terms of the [MIT License](https://bigdatauniversity.com/mit-license/).\n"
   ]
  }
 ],
 "metadata": {
  "kernelspec": {
   "display_name": "Python",
   "language": "python",
   "name": "conda-env-python-py"
  },
  "language_info": {
   "codemirror_mode": {
    "name": "ipython",
    "version": 3
   },
   "file_extension": ".py",
   "mimetype": "text/x-python",
   "name": "python",
   "nbconvert_exporter": "python",
   "pygments_lexer": "ipython3",
   "version": "3.7.12"
  }
 },
 "nbformat": 4,
 "nbformat_minor": 4
}
