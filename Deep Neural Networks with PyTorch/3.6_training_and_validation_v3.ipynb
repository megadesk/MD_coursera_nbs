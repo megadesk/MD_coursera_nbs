{
 "cells": [
  {
   "cell_type": "markdown",
   "metadata": {},
   "source": [
    "<p style=\"text-align:center\">\n",
    "    <a href=\"https://skills.network/?utm_medium=Exinfluencer&utm_source=Exinfluencer&utm_content=000026UJ&utm_term=10006555&utm_id=NA-SkillsNetwork-Channel-SkillsNetworkCoursesIBMDeveloperSkillsNetworkDL0110ENSkillsNetwork952-2023-01-01\">\n",
    "    <img src=\"https://cf-courses-data.s3.us.cloud-object-storage.appdomain.cloud/assets/logos/SN_web_lightmode.png\" width=\"200\" alt=\"Skills Network Logo\"  />\n",
    "    </a>\n",
    "</p>\n"
   ]
  },
  {
   "cell_type": "markdown",
   "metadata": {},
   "source": [
    "<h1>Linear regression: Training and Validation Data</h1> \n"
   ]
  },
  {
   "cell_type": "markdown",
   "metadata": {},
   "source": [
    "<h2>Objective</h2><ul><li> How to use learning rate hyperparameter to improve your model result.  .</li></ul> \n"
   ]
  },
  {
   "cell_type": "markdown",
   "metadata": {},
   "source": [
    "<h2>Table of Contents</h2>\n",
    "<p>In this lab, you will learn to select the best learning rate by using validation data.</p>\n",
    "\n",
    "<ul>\n",
    "    <li><a href=\"#Makeup_Data\">Make Some Data</a></li>\n",
    "    <li><a href=\"#LR_Loader_Cost\">Create a Linear Regression Object, Data Loader and Criterion Function</a></li>\n",
    "    <li><a href=\"#LR_Hyper\">Different learning rates and Data Structures to Store results for Different Hyperparameters</a></li>\n",
    "    <li><a href=\"#Model\">Train different modules for different Hyperparameters</a></li>\n",
    "    <li><a href=\"#Result\">View Results</a></li>\n",
    "</ul>\n",
    "\n",
    "<p>Estimated Time Needed: <strong>30 min</strong></p>\n",
    "\n",
    "<hr>\n"
   ]
  },
  {
   "cell_type": "markdown",
   "metadata": {},
   "source": [
    "<h2>Preparation</h2>\n"
   ]
  },
  {
   "cell_type": "markdown",
   "metadata": {},
   "source": [
    "We'll need the following libraries and set the random seed.\n"
   ]
  },
  {
   "cell_type": "code",
   "execution_count": 1,
   "metadata": {
    "tags": []
   },
   "outputs": [],
   "source": [
    "# Import libraries we need for this lab, and set the random seed\n",
    "\n",
    "from torch import nn\n",
    "import torch\n",
    "import numpy as np\n",
    "import matplotlib.pyplot as plt\n",
    "from torch import nn,optim"
   ]
  },
  {
   "cell_type": "markdown",
   "metadata": {},
   "source": [
    "<!--Empty Space for separating topics-->\n"
   ]
  },
  {
   "cell_type": "markdown",
   "metadata": {},
   "source": [
    "<h2 id=\"Makeup_Data\">Make Some Data</h2>\n"
   ]
  },
  {
   "cell_type": "markdown",
   "metadata": {},
   "source": [
    "First, we'll create some artificial data in a dataset class. The class will include the option to produce training data or validation data. The training data will include outliers.\n"
   ]
  },
  {
   "cell_type": "code",
   "execution_count": 2,
   "metadata": {},
   "outputs": [],
   "source": [
    "# Create Data class\n",
    "\n",
    "from torch.utils.data import Dataset, DataLoader\n",
    "\n",
    "class Data(Dataset):\n",
    "    \n",
    "    # Constructor\n",
    "    def __init__(self, train = True):\n",
    "            self.x = torch.arange(-3, 3, 0.1).view(-1, 1)\n",
    "            self.f = -3 * self.x + 1\n",
    "            self.y = self.f + 0.1 * torch.randn(self.x.size())\n",
    "            self.len = self.x.shape[0]\n",
    "            \n",
    "            #outliers \n",
    "            if train == True:\n",
    "                self.y[0] = 0\n",
    "                self.y[50:55] = 20\n",
    "            else:\n",
    "                pass\n",
    "      \n",
    "    # Getter\n",
    "    def __getitem__(self, index):    \n",
    "        return self.x[index], self.y[index]\n",
    "    \n",
    "    # Get Length\n",
    "    def __len__(self):\n",
    "        return self.len"
   ]
  },
  {
   "cell_type": "markdown",
   "metadata": {},
   "source": [
    "Create two objects: one that contains training data and a second that contains validation data. Assume that the training data has the outliers. \n"
   ]
  },
  {
   "cell_type": "code",
   "execution_count": 3,
   "metadata": {},
   "outputs": [],
   "source": [
    "# Create training dataset and validation dataset\n",
    "\n",
    "train_data = Data()\n",
    "val_data = Data(train = False)\n"
   ]
  },
  {
   "cell_type": "code",
   "execution_count": 18,
   "metadata": {
    "tags": []
   },
   "outputs": [
    {
     "data": {
      "text/plain": [
       "(tensor([[2.0000],\n",
       "         [2.1000],\n",
       "         [2.2000],\n",
       "         [2.3000],\n",
       "         [2.4000]]),\n",
       " tensor([[20.],\n",
       "         [20.],\n",
       "         [20.],\n",
       "         [20.],\n",
       "         [20.]]))"
      ]
     },
     "execution_count": 18,
     "metadata": {},
     "output_type": "execute_result"
    }
   ],
   "source": [
    "train_data[50:55]"
   ]
  },
  {
   "cell_type": "code",
   "execution_count": 17,
   "metadata": {},
   "outputs": [
    {
     "data": {
      "text/plain": [
       "(tensor([[2.0000],\n",
       "         [2.1000],\n",
       "         [2.2000],\n",
       "         [2.3000],\n",
       "         [2.4000]]),\n",
       " tensor([[-4.8357],\n",
       "         [-5.2966],\n",
       "         [-5.5303],\n",
       "         [-5.7259],\n",
       "         [-6.2100]]))"
      ]
     },
     "execution_count": 17,
     "metadata": {},
     "output_type": "execute_result"
    }
   ],
   "source": [
    "val_data[50:55]"
   ]
  },
  {
   "cell_type": "markdown",
   "metadata": {},
   "source": [
    "Overlay the training points in red over the function that generated the data. Notice the outliers at x=-3 and around x=2:\n"
   ]
  },
  {
   "cell_type": "code",
   "execution_count": 5,
   "metadata": {},
   "outputs": [
    {
     "data": {
      "image/png": "[encoded data removed]",
      "text/plain": [
       "<Figure size 640x480 with 1 Axes>"
      ]
     },
     "metadata": {},
     "output_type": "display_data"
    }
   ],
   "source": [
    "# Plot out training points\n",
    "\n",
    "plt.plot(train_data.x.numpy(), train_data.y.numpy(), 'xr',label=\"training data \")\n",
    "plt.plot(train_data.x.numpy(), train_data.f.numpy(),label=\"true function  \")\n",
    "plt.xlabel('x')\n",
    "plt.ylabel('y')\n",
    "plt.legend()\n",
    "plt.show()"
   ]
  },
  {
   "cell_type": "markdown",
   "metadata": {},
   "source": [
    "<!--Empty Space for separating topics-->\n"
   ]
  },
  {
   "cell_type": "markdown",
   "metadata": {},
   "source": [
    "<h2 id=\"LR_Loader_Cost\">Create a Linear Regression Object,  Data Loader, and Criterion Function</h2>\n"
   ]
  },
  {
   "cell_type": "code",
   "execution_count": 6,
   "metadata": {},
   "outputs": [],
   "source": [
    "# Create Linear Regression Class\n",
    "\n",
    "from torch import nn\n",
    "\n",
    "class linear_regression(nn.Module):\n",
    "    \n",
    "    # Constructor\n",
    "    def __init__(self, input_size, output_size):\n",
    "        super(linear_regression, self).__init__()\n",
    "        self.linear = nn.Linear(input_size, output_size)\n",
    "    \n",
    "    # Prediction function\n",
    "    def forward(self, x):\n",
    "        yhat = self.linear(x)\n",
    "        return yhat"
   ]
  },
  {
   "cell_type": "markdown",
   "metadata": {},
   "source": [
    "Create the criterion function and a <code>DataLoader</code> object: \n"
   ]
  },
  {
   "cell_type": "code",
   "execution_count": 7,
   "metadata": {},
   "outputs": [],
   "source": [
    "# Create MSELoss function and DataLoader\n",
    "\n",
    "criterion = nn.MSELoss()\n",
    "trainloader = DataLoader(dataset = train_data, batch_size = 1)"
   ]
  },
  {
   "cell_type": "markdown",
   "metadata": {},
   "source": [
    "<!--Empty Space for separating topics-->\n"
   ]
  },
  {
   "cell_type": "markdown",
   "metadata": {},
   "source": [
    "<h2 id=\"LR_Hyper\">Different learning rates and Data Structures to Store results for different Hyperparameters</h2>\n"
   ]
  },
  {
   "cell_type": "markdown",
   "metadata": {},
   "source": [
    "Create a list with different learning rates and a tensor (can be a list) for the training and validating cost/total loss. Include the list MODELS, which stores the training model for every value of the learning rate. \n"
   ]
  },
  {
   "cell_type": "code",
   "execution_count": 8,
   "metadata": {},
   "outputs": [],
   "source": [
    "# Create Learning Rate list, the error lists and the MODELS list\n",
    "\n",
    "learning_rates=[0.0001, 0.001, 0.01, 0.1]\n",
    "\n",
    "train_error=torch.zeros(len(learning_rates))\n",
    "validation_error=torch.zeros(len(learning_rates))\n",
    "\n",
    "MODELS=[]"
   ]
  },
  {
   "cell_type": "markdown",
   "metadata": {},
   "source": [
    "<!--Empty Space for separating topics-->\n"
   ]
  },
  {
   "cell_type": "markdown",
   "metadata": {},
   "source": [
    "<h2 id=\"Model\">Train different models  for different Hyperparameters</h2>\n"
   ]
  },
  {
   "cell_type": "markdown",
   "metadata": {},
   "source": [
    "Try different values of learning rates, perform stochastic gradient descent, and save the results on the training data and validation data. Finally, save each model in a list.\n"
   ]
  },
  {
   "cell_type": "code",
   "execution_count": 9,
   "metadata": {},
   "outputs": [],
   "source": [
    "# Define the train model function and train the model\n",
    "\n",
    "def train_model_with_lr (iter, lr_list):\n",
    "    \n",
    "    # iterate through different learning rates \n",
    "    for i, lr in enumerate(lr_list):\n",
    "        model = linear_regression(1, 1)\n",
    "        optimizer = optim.SGD(model.parameters(), lr = lr)\n",
    "        for epoch in range(iter):\n",
    "            for x, y in trainloader:\n",
    "                yhat = model(x)\n",
    "                loss = criterion(yhat, y)\n",
    "                optimizer.zero_grad()\n",
    "                loss.backward()\n",
    "                optimizer.step()\n",
    "                \n",
    "        # train data\n",
    "        Yhat = model(train_data.x)\n",
    "        train_loss = criterion(Yhat, train_data.y)\n",
    "        train_error[i] = train_loss.item()\n",
    "    \n",
    "        # validation data\n",
    "        Yhat = model(val_data.x)\n",
    "        val_loss = criterion(Yhat, val_data.y)\n",
    "        validation_error[i] = val_loss.item()\n",
    "        MODELS.append(model)\n",
    "\n",
    "train_model_with_lr(10, learning_rates)"
   ]
  },
  {
   "cell_type": "markdown",
   "metadata": {},
   "source": [
    "<!--Empty Space for separating topics-->\n"
   ]
  },
  {
   "cell_type": "markdown",
   "metadata": {},
   "source": [
    "<h2 id=\"Result\">View the Results</h2>\n"
   ]
  },
  {
   "cell_type": "markdown",
   "metadata": {},
   "source": [
    "Plot the training loss and validation loss for each learning rate:  \n"
   ]
  },
  {
   "cell_type": "code",
   "execution_count": 10,
   "metadata": {},
   "outputs": [
    {
     "data": {
      "image/png": "[encoded data removed]",
      "text/plain": [
       "<Figure size 640x480 with 1 Axes>"
      ]
     },
     "metadata": {},
     "output_type": "display_data"
    }
   ],
   "source": [
    "# Plot the training loss and validation loss\n",
    "\n",
    "plt.semilogx(np.array(learning_rates), train_error.numpy(), label = 'training loss/total Loss')\n",
    "plt.semilogx(np.array(learning_rates), validation_error.numpy(), label = 'validation cost/total Loss')\n",
    "plt.ylabel('Cost\\ Total Loss')\n",
    "plt.xlabel('learning rate')\n",
    "plt.legend()\n",
    "plt.show()"
   ]
  },
  {
   "cell_type": "markdown",
   "metadata": {},
   "source": [
    "Produce a prediction by using the validation data for each model:  \n"
   ]
  },
  {
   "cell_type": "code",
   "execution_count": 11,
   "metadata": {},
   "outputs": [
    {
     "name": "stdout",
     "output_type": "stream",
     "text": [
      "0 [[3.1229773]\n",
      " [3.0570056]\n",
      " [2.991034 ]]\n",
      "1 [[5.4910555]\n",
      " [5.3730106]\n",
      " [5.2549653]]\n",
      "2 [[6.6619234]\n",
      " [6.525728 ]\n",
      " [6.389532 ]]\n",
      "3 [[14.567351]\n",
      " [14.12967 ]\n",
      " [13.691987]]\n"
     ]
    },
    {
     "data": {
      "image/png": "[encoded data removed]",
      "text/plain": [
       "<Figure size 640x480 with 1 Axes>"
      ]
     },
     "metadata": {},
     "output_type": "display_data"
    }
   ],
   "source": [
    "# Plot the predictions\n",
    "\n",
    "i = 0\n",
    "for model, learning_rate in zip(MODELS, learning_rates):\n",
    "    yhat = model(val_data.x)\n",
    "    plt.plot(val_data.x.numpy(), yhat.detach().numpy(), label = 'lr:' + str(learning_rate))\n",
    "    print(i, yhat.detach().numpy()[0:3])\n",
    "    i+=1\n",
    "plt.plot(val_data.x.numpy(), val_data.f.numpy(), 'or', label = 'validation data')\n",
    "plt.xlabel('x')\n",
    "plt.ylabel('y')\n",
    "plt.legend()\n",
    "plt.show()"
   ]
  },
  {
   "cell_type": "markdown",
   "metadata": {},
   "source": [
    "<!--Empty Space for separating topics-->\n"
   ]
  },
  {
   "cell_type": "markdown",
   "metadata": {},
   "source": [
    "<h3>Practice</h3>\n"
   ]
  },
  {
   "cell_type": "markdown",
   "metadata": {},
   "source": [
    "The object <code>good_model</code> is the best performing model. Use the train loader to get the data samples x and y. Produce an estimate for <code>yhat</code> and print it out for every sample in a for a loop. Compare it to the actual prediction <code>y</code>.\n"
   ]
  },
  {
   "cell_type": "code",
   "execution_count": 13,
   "metadata": {},
   "outputs": [
    {
     "name": "stdout",
     "output_type": "stream",
     "text": [
      "yhat=  tensor([[14.5674]], grad_fn=<AddmmBackward>) y tensor([[0.]])\n",
      "yhat=  tensor([[14.1297]], grad_fn=<AddmmBackward>) y tensor([[9.6779]])\n",
      "yhat=  tensor([[13.6920]], grad_fn=<AddmmBackward>) y tensor([[9.3657]])\n",
      "yhat=  tensor([[13.2543]], grad_fn=<AddmmBackward>) y tensor([[9.1477]])\n",
      "yhat=  tensor([[12.8166]], grad_fn=<AddmmBackward>) y tensor([[8.8017]])\n",
      "yhat=  tensor([[12.3789]], grad_fn=<AddmmBackward>) y tensor([[8.5822]])\n",
      "yhat=  tensor([[11.9413]], grad_fn=<AddmmBackward>) y tensor([[8.3206]])\n",
      "yhat=  tensor([[11.5036]], grad_fn=<AddmmBackward>) y tensor([[8.0298]])\n",
      "yhat=  tensor([[11.0659]], grad_fn=<AddmmBackward>) y tensor([[7.6319]])\n",
      "yhat=  tensor([[10.6282]], grad_fn=<AddmmBackward>) y tensor([[7.3022]])\n",
      "yhat=  tensor([[10.1905]], grad_fn=<AddmmBackward>) y tensor([[6.9913]])\n",
      "yhat=  tensor([[9.7528]], grad_fn=<AddmmBackward>) y tensor([[6.6211]])\n",
      "yhat=  tensor([[9.3152]], grad_fn=<AddmmBackward>) y tensor([[6.4728]])\n",
      "yhat=  tensor([[8.8775]], grad_fn=<AddmmBackward>) y tensor([[6.0162]])\n",
      "yhat=  tensor([[8.4398]], grad_fn=<AddmmBackward>) y tensor([[6.0024]])\n",
      "yhat=  tensor([[8.0021]], grad_fn=<AddmmBackward>) y tensor([[5.5165]])\n",
      "yhat=  tensor([[7.5644]], grad_fn=<AddmmBackward>) y tensor([[5.1996]])\n",
      "yhat=  tensor([[7.1268]], grad_fn=<AddmmBackward>) y tensor([[4.7291]])\n",
      "yhat=  tensor([[6.6891]], grad_fn=<AddmmBackward>) y tensor([[4.6868]])\n",
      "yhat=  tensor([[6.2514]], grad_fn=<AddmmBackward>) y tensor([[4.1565]])\n",
      "yhat=  tensor([[5.8137]], grad_fn=<AddmmBackward>) y tensor([[4.0221]])\n",
      "yhat=  tensor([[5.3760]], grad_fn=<AddmmBackward>) y tensor([[3.9747]])\n",
      "yhat=  tensor([[4.9383]], grad_fn=<AddmmBackward>) y tensor([[3.4863]])\n",
      "yhat=  tensor([[4.5007]], grad_fn=<AddmmBackward>) y tensor([[3.2144]])\n",
      "yhat=  tensor([[4.0630]], grad_fn=<AddmmBackward>) y tensor([[2.8845]])\n",
      "yhat=  tensor([[3.6253]], grad_fn=<AddmmBackward>) y tensor([[2.5688]])\n",
      "yhat=  tensor([[3.1876]], grad_fn=<AddmmBackward>) y tensor([[2.1602]])\n",
      "yhat=  tensor([[2.7499]], grad_fn=<AddmmBackward>) y tensor([[2.0945]])\n",
      "yhat=  tensor([[2.3122]], grad_fn=<AddmmBackward>) y tensor([[1.5588]])\n",
      "yhat=  tensor([[1.8746]], grad_fn=<AddmmBackward>) y tensor([[1.0532]])\n",
      "yhat=  tensor([[1.4369]], grad_fn=<AddmmBackward>) y tensor([[1.0876]])\n",
      "yhat=  tensor([[0.9992]], grad_fn=<AddmmBackward>) y tensor([[0.7724]])\n",
      "yhat=  tensor([[0.5615]], grad_fn=<AddmmBackward>) y tensor([[0.5153]])\n",
      "yhat=  tensor([[0.1238]], grad_fn=<AddmmBackward>) y tensor([[-0.0041]])\n",
      "yhat=  tensor([[-0.3138]], grad_fn=<AddmmBackward>) y tensor([[-0.2705]])\n",
      "yhat=  tensor([[-0.7515]], grad_fn=<AddmmBackward>) y tensor([[-0.4840]])\n",
      "yhat=  tensor([[-1.1892]], grad_fn=<AddmmBackward>) y tensor([[-0.8347]])\n",
      "yhat=  tensor([[-1.6269]], grad_fn=<AddmmBackward>) y tensor([[-1.1293]])\n",
      "yhat=  tensor([[-2.0646]], grad_fn=<AddmmBackward>) y tensor([[-1.5506]])\n",
      "yhat=  tensor([[-2.5023]], grad_fn=<AddmmBackward>) y tensor([[-1.7852]])\n",
      "yhat=  tensor([[-2.9399]], grad_fn=<AddmmBackward>) y tensor([[-1.9407]])\n",
      "yhat=  tensor([[-3.3776]], grad_fn=<AddmmBackward>) y tensor([[-2.3669]])\n",
      "yhat=  tensor([[-3.8153]], grad_fn=<AddmmBackward>) y tensor([[-2.5063]])\n",
      "yhat=  tensor([[-4.2530]], grad_fn=<AddmmBackward>) y tensor([[-2.8242]])\n",
      "yhat=  tensor([[-4.6907]], grad_fn=<AddmmBackward>) y tensor([[-3.2419]])\n",
      "yhat=  tensor([[-5.1284]], grad_fn=<AddmmBackward>) y tensor([[-3.3304]])\n",
      "yhat=  tensor([[-5.5660]], grad_fn=<AddmmBackward>) y tensor([[-3.8264]])\n",
      "yhat=  tensor([[-6.0037]], grad_fn=<AddmmBackward>) y tensor([[-4.2241]])\n",
      "yhat=  tensor([[-6.4414]], grad_fn=<AddmmBackward>) y tensor([[-4.2985]])\n",
      "yhat=  tensor([[-6.8791]], grad_fn=<AddmmBackward>) y tensor([[-4.8538]])\n",
      "yhat=  tensor([[-7.3168]], grad_fn=<AddmmBackward>) y tensor([[20.]])\n",
      "yhat=  tensor([[-7.7544]], grad_fn=<AddmmBackward>) y tensor([[20.]])\n",
      "yhat=  tensor([[-8.1921]], grad_fn=<AddmmBackward>) y tensor([[20.]])\n",
      "yhat=  tensor([[-8.6298]], grad_fn=<AddmmBackward>) y tensor([[20.]])\n",
      "yhat=  tensor([[-9.0675]], grad_fn=<AddmmBackward>) y tensor([[20.]])\n",
      "yhat=  tensor([[-9.5052]], grad_fn=<AddmmBackward>) y tensor([[-6.5525]])\n",
      "yhat=  tensor([[-9.9429]], grad_fn=<AddmmBackward>) y tensor([[-7.0055]])\n",
      "yhat=  tensor([[-10.3805]], grad_fn=<AddmmBackward>) y tensor([[-7.1164]])\n",
      "yhat=  tensor([[-10.8182]], grad_fn=<AddmmBackward>) y tensor([[-7.3572]])\n",
      "yhat=  tensor([[-11.2559]], grad_fn=<AddmmBackward>) y tensor([[-7.8151]])\n"
     ]
    }
   ],
   "source": [
    "good_model = MODELS[np.argmin(validation_error)]\n",
    "\n",
    "#Type your code here: \n",
    "for x, y in trainloader:\n",
    "    print(\"yhat= \", model(x),\"y\", y)"
   ]
  },
  {
   "cell_type": "code",
   "execution_count": 19,
   "metadata": {
    "tags": []
   },
   "outputs": [
    {
     "name": "stdout",
     "output_type": "stream",
     "text": [
      "yhat=  tensor([[14.5674],\n",
      "        [14.1297],\n",
      "        [13.6920],\n",
      "        [13.2543],\n",
      "        [12.8166],\n",
      "        [12.3789],\n",
      "        [11.9413]], grad_fn=<AddmmBackward>) y tensor([[0.0000],\n",
      "        [9.6779],\n",
      "        [9.3657],\n",
      "        [9.1477],\n",
      "        [8.8017],\n",
      "        [8.5822],\n",
      "        [8.3206]])\n",
      "yhat=  tensor([[11.5036],\n",
      "        [11.0659],\n",
      "        [10.6282],\n",
      "        [10.1905],\n",
      "        [ 9.7528],\n",
      "        [ 9.3152],\n",
      "        [ 8.8775]], grad_fn=<AddmmBackward>) y tensor([[8.0298],\n",
      "        [7.6319],\n",
      "        [7.3022],\n",
      "        [6.9913],\n",
      "        [6.6211],\n",
      "        [6.4728],\n",
      "        [6.0162]])\n",
      "yhat=  tensor([[8.4398],\n",
      "        [8.0021],\n",
      "        [7.5644],\n",
      "        [7.1268],\n",
      "        [6.6891],\n",
      "        [6.2514],\n",
      "        [5.8137]], grad_fn=<AddmmBackward>) y tensor([[6.0024],\n",
      "        [5.5165],\n",
      "        [5.1996],\n",
      "        [4.7291],\n",
      "        [4.6868],\n",
      "        [4.1565],\n",
      "        [4.0221]])\n",
      "yhat=  tensor([[5.3760],\n",
      "        [4.9383],\n",
      "        [4.5007],\n",
      "        [4.0630],\n",
      "        [3.6253],\n",
      "        [3.1876],\n",
      "        [2.7499]], grad_fn=<AddmmBackward>) y tensor([[3.9747],\n",
      "        [3.4863],\n",
      "        [3.2144],\n",
      "        [2.8845],\n",
      "        [2.5688],\n",
      "        [2.1602],\n",
      "        [2.0945]])\n",
      "yhat=  tensor([[ 2.3122],\n",
      "        [ 1.8746],\n",
      "        [ 1.4369],\n",
      "        [ 0.9992],\n",
      "        [ 0.5615],\n",
      "        [ 0.1238],\n",
      "        [-0.3138]], grad_fn=<AddmmBackward>) y tensor([[ 1.5588],\n",
      "        [ 1.0532],\n",
      "        [ 1.0876],\n",
      "        [ 0.7724],\n",
      "        [ 0.5153],\n",
      "        [-0.0041],\n",
      "        [-0.2705]])\n",
      "yhat=  tensor([[-0.7515],\n",
      "        [-1.1892],\n",
      "        [-1.6269],\n",
      "        [-2.0646],\n",
      "        [-2.5023],\n",
      "        [-2.9399],\n",
      "        [-3.3776]], grad_fn=<AddmmBackward>) y tensor([[-0.4840],\n",
      "        [-0.8347],\n",
      "        [-1.1293],\n",
      "        [-1.5506],\n",
      "        [-1.7852],\n",
      "        [-1.9407],\n",
      "        [-2.3669]])\n",
      "yhat=  tensor([[-3.8153],\n",
      "        [-4.2530],\n",
      "        [-4.6907],\n",
      "        [-5.1284],\n",
      "        [-5.5660],\n",
      "        [-6.0037],\n",
      "        [-6.4414]], grad_fn=<AddmmBackward>) y tensor([[-2.5063],\n",
      "        [-2.8242],\n",
      "        [-3.2419],\n",
      "        [-3.3304],\n",
      "        [-3.8264],\n",
      "        [-4.2241],\n",
      "        [-4.2985]])\n",
      "yhat=  tensor([[-6.8791],\n",
      "        [-7.3168],\n",
      "        [-7.7544],\n",
      "        [-8.1921],\n",
      "        [-8.6298],\n",
      "        [-9.0675],\n",
      "        [-9.5052]], grad_fn=<AddmmBackward>) y tensor([[-4.8538],\n",
      "        [20.0000],\n",
      "        [20.0000],\n",
      "        [20.0000],\n",
      "        [20.0000],\n",
      "        [20.0000],\n",
      "        [-6.5525]])\n",
      "yhat=  tensor([[ -9.9429],\n",
      "        [-10.3805],\n",
      "        [-10.8182],\n",
      "        [-11.2559]], grad_fn=<AddmmBackward>) y tensor([[-7.0055],\n",
      "        [-7.1164],\n",
      "        [-7.3572],\n",
      "        [-7.8151]])\n"
     ]
    }
   ],
   "source": [
    "trainloader = DataLoader(dataset = train_data, batch_size = 7)\n",
    "\n",
    "good_model = MODELS[np.argmin(validation_error)]\n",
    "\n",
    "#Type your code here: \n",
    "for x, y in trainloader:\n",
    "    print(\"yhat= \", model(x),\"y\", y)"
   ]
  },
  {
   "cell_type": "markdown",
   "metadata": {},
   "source": [
    "Double-click <b>here</b> for the solution.\n",
    "\n",
    "<!-- \n",
    "for x, y in trainloader:\n",
    "    print(\"yhat= \", model(x),\"y\", y)\n",
    "-->\n"
   ]
  },
  {
   "cell_type": "markdown",
   "metadata": {},
   "source": [
    "\n",
    "\n",
    "<a href=\"https://dataplatform.cloud.ibm.com/registration/stepone?utm_medium=Exinfluencer&utm_source=Exinfluencer&utm_content=000026UJ&utm_term=10006555&utm_id=NA-SkillsNetwork-Channel-SkillsNetworkCoursesIBMDeveloperSkillsNetworkDL0110ENSkillsNetwork952-2023-01-01&context=cpdaas&apps=data_science_experience%2Cwatson_machine_learning\"><img src=\"https://cf-courses-data.s3.us.cloud-object-storage.appdomain.cloud/IBMDeveloperSkillsNetwork-DL0110EN-SkillsNetwork/Template/module%201/images/Watson_Studio.png\"></a>\n"
   ]
  },
  {
   "cell_type": "markdown",
   "metadata": {},
   "source": [
    "<!--Empty Space for separating topics-->\n"
   ]
  },
  {
   "cell_type": "markdown",
   "metadata": {},
   "source": [
    "<h2>About the Authors:</h2> \n",
    "\n",
    "<a href=\"https://www.linkedin.com/in/joseph-s-50398b136/?utm_medium=Exinfluencer&utm_source=Exinfluencer&utm_content=000026UJ&utm_term=10006555&utm_id=NA-SkillsNetwork-Channel-SkillsNetworkCoursesIBMDeveloperSkillsNetworkDL0110ENSkillsNetwork952-2023-01-01\">Joseph Santarcangelo</a> has a PhD in Electrical Engineering, his research focused on using machine learning, signal processing, and computer vision to determine how videos impact human cognition. Joseph has been working for IBM since he completed his PhD. \n"
   ]
  },
  {
   "cell_type": "markdown",
   "metadata": {},
   "source": [
    "Other contributors: <a href=\"https://www.linkedin.com/in/michelleccarey/?utm_medium=Exinfluencer&utm_source=Exinfluencer&utm_content=000026UJ&utm_term=10006555&utm_id=NA-SkillsNetwork-Channel-SkillsNetworkCoursesIBMDeveloperSkillsNetworkDL0110ENSkillsNetwork952-2023-01-01\">Michelle Carey</a>, <a href=\"www.linkedin.com/in/jiahui-mavis-zhou-a4537814a\">Mavis Zhou</a>\n"
   ]
  },
  {
   "cell_type": "markdown",
   "metadata": {},
   "source": [
    "\n",
    "## Change Log\n",
    "\n",
    "|  Date (YYYY-MM-DD) |  Version | Changed By  |  Change Description |\n",
    "|---|---|---|---|\n",
    "| 2020-09-23  | 2.0  | Shubham  |  Migrated Lab to Markdown and added to course repo in GitLab |\n",
    "\n"
   ]
  },
  {
   "cell_type": "markdown",
   "metadata": {},
   "source": [
    "<hr>\n"
   ]
  },
  {
   "cell_type": "markdown",
   "metadata": {},
   "source": [
    "\n",
    "\n",
    "\n",
    "## <h3 align=\"center\"> © IBM Corporation 2020. All rights reserved. <h3/>\n"
   ]
  }
 ],
 "metadata": {
  "kernelspec": {
   "display_name": "Python",
   "language": "python",
   "name": "conda-env-python-py"
  },
  "language_info": {
   "codemirror_mode": {
    "name": "ipython",
    "version": 3
   },
   "file_extension": ".py",
   "mimetype": "text/x-python",
   "name": "python",
   "nbconvert_exporter": "python",
   "pygments_lexer": "ipython3",
   "version": "3.7.12"
  }
 },
 "nbformat": 4,
 "nbformat_minor": 4
}
